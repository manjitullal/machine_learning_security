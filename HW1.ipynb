{
  "nbformat": 4,
  "nbformat_minor": 0,
  "metadata": {
    "colab": {
      "name": "HW1.ipynb",
      "provenance": [],
      "collapsed_sections": [],
      "toc_visible": true
    },
    "kernelspec": {
      "name": "python3",
      "display_name": "Python 3"
    },
    "language_info": {
      "name": "python"
    }
  },
  "cells": [
    {
      "cell_type": "markdown",
      "metadata": {
        "id": "VjrgdxHUC3sf"
      },
      "source": [
        "# **Problem 1 [Logistic regression] - 15 points**\n",
        "\n",
        "Use an existing package of your choice to train and test a logistic regression model on the UCI Adult dataset.\n",
        "\n",
        "(a) Split the original data into 75% for training and the remaining 25% for testing, selected at random.\n",
        "Train a logistic regression model on the training set and output the following metrics on the testing\n",
        "set:\n",
        "1. Accuracy, Error;\n",
        "2. Precision, Recall, F1 score;\n",
        "3. Plot a ROC curve of the classifier and report the AUC metric.\n",
        "\n",
        "(b) Use L1 and L2 regularization with 3 different λ parameters (0.1, 0.01, and 0.001). Write down some\n",
        "observations comparing the two regularization methods in terms of the coefficients of the models and\n",
        "accuracy metrics.\n"
      ]
    },
    {
      "cell_type": "code",
      "metadata": {
        "id": "C8hVL3-CDYDh"
      },
      "source": [
        "# imports libraries \n",
        "\n",
        "import pandas as pd\n",
        "import numpy as np\n",
        "import matplotlib.pyplot as plt\n",
        "\n",
        "from sklearn.metrics import accuracy_score"
      ],
      "execution_count": 2,
      "outputs": []
    },
    {
      "cell_type": "code",
      "metadata": {
        "id": "vKUF7wphGaUA"
      },
      "source": [
        "# define column names \n",
        "\n",
        "columns = [\n",
        "           'age', 'workclass', 'fnlwgt', 'education', 'education-num', 'marital-status', 'occupation', 'relationship', 'race', \n",
        "           'sex', 'capital-gain', 'capital-loss', 'hours-per-week', 'native-country', 'Income'\n",
        "           ]"
      ],
      "execution_count": 3,
      "outputs": []
    },
    {
      "cell_type": "code",
      "metadata": {
        "colab": {
          "base_uri": "https://localhost:8080/"
        },
        "id": "K3gucvJODse7",
        "outputId": "1eed8d0c-0f0a-4cc7-b429-d021f16dfc03"
      },
      "source": [
        "# import data from UCI repo \n",
        "\n",
        "trainset = pd.read_csv('https://archive.ics.uci.edu/ml/machine-learning-databases/adult/adult.data', names= columns)\n",
        "testset = pd.read_csv('https://archive.ics.uci.edu/ml/machine-learning-databases/adult/adult.test', names= columns)\n",
        "\n",
        "print(trainset.shape)\n",
        "print(testset.shape)"
      ],
      "execution_count": 4,
      "outputs": [
        {
          "output_type": "stream",
          "name": "stdout",
          "text": [
            "(32561, 15)\n",
            "(16282, 15)\n"
          ]
        }
      ]
    },
    {
      "cell_type": "code",
      "metadata": {
        "colab": {
          "base_uri": "https://localhost:8080/",
          "height": 310
        },
        "id": "n17v4wpIFWEH",
        "outputId": "c75fb934-0965-414b-ccd5-62f4d1f4f800"
      },
      "source": [
        "trainset.head()"
      ],
      "execution_count": 5,
      "outputs": [
        {
          "output_type": "execute_result",
          "data": {
            "text/html": [
              "<div>\n",
              "<style scoped>\n",
              "    .dataframe tbody tr th:only-of-type {\n",
              "        vertical-align: middle;\n",
              "    }\n",
              "\n",
              "    .dataframe tbody tr th {\n",
              "        vertical-align: top;\n",
              "    }\n",
              "\n",
              "    .dataframe thead th {\n",
              "        text-align: right;\n",
              "    }\n",
              "</style>\n",
              "<table border=\"1\" class=\"dataframe\">\n",
              "  <thead>\n",
              "    <tr style=\"text-align: right;\">\n",
              "      <th></th>\n",
              "      <th>age</th>\n",
              "      <th>workclass</th>\n",
              "      <th>fnlwgt</th>\n",
              "      <th>education</th>\n",
              "      <th>education-num</th>\n",
              "      <th>marital-status</th>\n",
              "      <th>occupation</th>\n",
              "      <th>relationship</th>\n",
              "      <th>race</th>\n",
              "      <th>sex</th>\n",
              "      <th>capital-gain</th>\n",
              "      <th>capital-loss</th>\n",
              "      <th>hours-per-week</th>\n",
              "      <th>native-country</th>\n",
              "      <th>Income</th>\n",
              "    </tr>\n",
              "  </thead>\n",
              "  <tbody>\n",
              "    <tr>\n",
              "      <th>0</th>\n",
              "      <td>39</td>\n",
              "      <td>State-gov</td>\n",
              "      <td>77516</td>\n",
              "      <td>Bachelors</td>\n",
              "      <td>13</td>\n",
              "      <td>Never-married</td>\n",
              "      <td>Adm-clerical</td>\n",
              "      <td>Not-in-family</td>\n",
              "      <td>White</td>\n",
              "      <td>Male</td>\n",
              "      <td>2174</td>\n",
              "      <td>0</td>\n",
              "      <td>40</td>\n",
              "      <td>United-States</td>\n",
              "      <td>&lt;=50K</td>\n",
              "    </tr>\n",
              "    <tr>\n",
              "      <th>1</th>\n",
              "      <td>50</td>\n",
              "      <td>Self-emp-not-inc</td>\n",
              "      <td>83311</td>\n",
              "      <td>Bachelors</td>\n",
              "      <td>13</td>\n",
              "      <td>Married-civ-spouse</td>\n",
              "      <td>Exec-managerial</td>\n",
              "      <td>Husband</td>\n",
              "      <td>White</td>\n",
              "      <td>Male</td>\n",
              "      <td>0</td>\n",
              "      <td>0</td>\n",
              "      <td>13</td>\n",
              "      <td>United-States</td>\n",
              "      <td>&lt;=50K</td>\n",
              "    </tr>\n",
              "    <tr>\n",
              "      <th>2</th>\n",
              "      <td>38</td>\n",
              "      <td>Private</td>\n",
              "      <td>215646</td>\n",
              "      <td>HS-grad</td>\n",
              "      <td>9</td>\n",
              "      <td>Divorced</td>\n",
              "      <td>Handlers-cleaners</td>\n",
              "      <td>Not-in-family</td>\n",
              "      <td>White</td>\n",
              "      <td>Male</td>\n",
              "      <td>0</td>\n",
              "      <td>0</td>\n",
              "      <td>40</td>\n",
              "      <td>United-States</td>\n",
              "      <td>&lt;=50K</td>\n",
              "    </tr>\n",
              "    <tr>\n",
              "      <th>3</th>\n",
              "      <td>53</td>\n",
              "      <td>Private</td>\n",
              "      <td>234721</td>\n",
              "      <td>11th</td>\n",
              "      <td>7</td>\n",
              "      <td>Married-civ-spouse</td>\n",
              "      <td>Handlers-cleaners</td>\n",
              "      <td>Husband</td>\n",
              "      <td>Black</td>\n",
              "      <td>Male</td>\n",
              "      <td>0</td>\n",
              "      <td>0</td>\n",
              "      <td>40</td>\n",
              "      <td>United-States</td>\n",
              "      <td>&lt;=50K</td>\n",
              "    </tr>\n",
              "    <tr>\n",
              "      <th>4</th>\n",
              "      <td>28</td>\n",
              "      <td>Private</td>\n",
              "      <td>338409</td>\n",
              "      <td>Bachelors</td>\n",
              "      <td>13</td>\n",
              "      <td>Married-civ-spouse</td>\n",
              "      <td>Prof-specialty</td>\n",
              "      <td>Wife</td>\n",
              "      <td>Black</td>\n",
              "      <td>Female</td>\n",
              "      <td>0</td>\n",
              "      <td>0</td>\n",
              "      <td>40</td>\n",
              "      <td>Cuba</td>\n",
              "      <td>&lt;=50K</td>\n",
              "    </tr>\n",
              "  </tbody>\n",
              "</table>\n",
              "</div>"
            ],
            "text/plain": [
              "   age          workclass  fnlwgt  ... hours-per-week  native-country  Income\n",
              "0   39          State-gov   77516  ...             40   United-States   <=50K\n",
              "1   50   Self-emp-not-inc   83311  ...             13   United-States   <=50K\n",
              "2   38            Private  215646  ...             40   United-States   <=50K\n",
              "3   53            Private  234721  ...             40   United-States   <=50K\n",
              "4   28            Private  338409  ...             40            Cuba   <=50K\n",
              "\n",
              "[5 rows x 15 columns]"
            ]
          },
          "metadata": {},
          "execution_count": 5
        }
      ]
    },
    {
      "cell_type": "code",
      "metadata": {
        "colab": {
          "base_uri": "https://localhost:8080/",
          "height": 300
        },
        "id": "MVDJ6kZn9jkN",
        "outputId": "5205cff8-5a69-4d96-d36f-2b62cd866cd0"
      },
      "source": [
        "trainset.describe()"
      ],
      "execution_count": 6,
      "outputs": [
        {
          "output_type": "execute_result",
          "data": {
            "text/html": [
              "<div>\n",
              "<style scoped>\n",
              "    .dataframe tbody tr th:only-of-type {\n",
              "        vertical-align: middle;\n",
              "    }\n",
              "\n",
              "    .dataframe tbody tr th {\n",
              "        vertical-align: top;\n",
              "    }\n",
              "\n",
              "    .dataframe thead th {\n",
              "        text-align: right;\n",
              "    }\n",
              "</style>\n",
              "<table border=\"1\" class=\"dataframe\">\n",
              "  <thead>\n",
              "    <tr style=\"text-align: right;\">\n",
              "      <th></th>\n",
              "      <th>age</th>\n",
              "      <th>fnlwgt</th>\n",
              "      <th>education-num</th>\n",
              "      <th>capital-gain</th>\n",
              "      <th>capital-loss</th>\n",
              "      <th>hours-per-week</th>\n",
              "    </tr>\n",
              "  </thead>\n",
              "  <tbody>\n",
              "    <tr>\n",
              "      <th>count</th>\n",
              "      <td>32561.000000</td>\n",
              "      <td>3.256100e+04</td>\n",
              "      <td>32561.000000</td>\n",
              "      <td>32561.000000</td>\n",
              "      <td>32561.000000</td>\n",
              "      <td>32561.000000</td>\n",
              "    </tr>\n",
              "    <tr>\n",
              "      <th>mean</th>\n",
              "      <td>38.581647</td>\n",
              "      <td>1.897784e+05</td>\n",
              "      <td>10.080679</td>\n",
              "      <td>1077.648844</td>\n",
              "      <td>87.303830</td>\n",
              "      <td>40.437456</td>\n",
              "    </tr>\n",
              "    <tr>\n",
              "      <th>std</th>\n",
              "      <td>13.640433</td>\n",
              "      <td>1.055500e+05</td>\n",
              "      <td>2.572720</td>\n",
              "      <td>7385.292085</td>\n",
              "      <td>402.960219</td>\n",
              "      <td>12.347429</td>\n",
              "    </tr>\n",
              "    <tr>\n",
              "      <th>min</th>\n",
              "      <td>17.000000</td>\n",
              "      <td>1.228500e+04</td>\n",
              "      <td>1.000000</td>\n",
              "      <td>0.000000</td>\n",
              "      <td>0.000000</td>\n",
              "      <td>1.000000</td>\n",
              "    </tr>\n",
              "    <tr>\n",
              "      <th>25%</th>\n",
              "      <td>28.000000</td>\n",
              "      <td>1.178270e+05</td>\n",
              "      <td>9.000000</td>\n",
              "      <td>0.000000</td>\n",
              "      <td>0.000000</td>\n",
              "      <td>40.000000</td>\n",
              "    </tr>\n",
              "    <tr>\n",
              "      <th>50%</th>\n",
              "      <td>37.000000</td>\n",
              "      <td>1.783560e+05</td>\n",
              "      <td>10.000000</td>\n",
              "      <td>0.000000</td>\n",
              "      <td>0.000000</td>\n",
              "      <td>40.000000</td>\n",
              "    </tr>\n",
              "    <tr>\n",
              "      <th>75%</th>\n",
              "      <td>48.000000</td>\n",
              "      <td>2.370510e+05</td>\n",
              "      <td>12.000000</td>\n",
              "      <td>0.000000</td>\n",
              "      <td>0.000000</td>\n",
              "      <td>45.000000</td>\n",
              "    </tr>\n",
              "    <tr>\n",
              "      <th>max</th>\n",
              "      <td>90.000000</td>\n",
              "      <td>1.484705e+06</td>\n",
              "      <td>16.000000</td>\n",
              "      <td>99999.000000</td>\n",
              "      <td>4356.000000</td>\n",
              "      <td>99.000000</td>\n",
              "    </tr>\n",
              "  </tbody>\n",
              "</table>\n",
              "</div>"
            ],
            "text/plain": [
              "                age        fnlwgt  ...  capital-loss  hours-per-week\n",
              "count  32561.000000  3.256100e+04  ...  32561.000000    32561.000000\n",
              "mean      38.581647  1.897784e+05  ...     87.303830       40.437456\n",
              "std       13.640433  1.055500e+05  ...    402.960219       12.347429\n",
              "min       17.000000  1.228500e+04  ...      0.000000        1.000000\n",
              "25%       28.000000  1.178270e+05  ...      0.000000       40.000000\n",
              "50%       37.000000  1.783560e+05  ...      0.000000       40.000000\n",
              "75%       48.000000  2.370510e+05  ...      0.000000       45.000000\n",
              "max       90.000000  1.484705e+06  ...   4356.000000       99.000000\n",
              "\n",
              "[8 rows x 6 columns]"
            ]
          },
          "metadata": {},
          "execution_count": 6
        }
      ]
    },
    {
      "cell_type": "code",
      "metadata": {
        "id": "wuPHk86dKW99"
      },
      "source": [
        "# # there is a slight difference in the data of trainset and the testset\n",
        "\n",
        "# for column in categorical_columns:\n",
        "#   print(f'For the column: {column}, There are {trainset[column].value_counts().count()} unique values')"
      ],
      "execution_count": 7,
      "outputs": []
    },
    {
      "cell_type": "code",
      "metadata": {
        "id": "4bTviSzcerMZ"
      },
      "source": [
        "# # testset\n",
        "# for column in categorical_columns:\n",
        "#   print(f'For the column: {column}, There are {testset[column].value_counts().count()} unique values')"
      ],
      "execution_count": null,
      "outputs": []
    },
    {
      "cell_type": "markdown",
      "metadata": {
        "id": "3uT-ZnWzYriJ"
      },
      "source": [
        "We see that the native country has lesser unique values that means the test data does not have all the different countries. this will be resolved through binning."
      ]
    },
    {
      "cell_type": "markdown",
      "metadata": {
        "id": "M9Ue5I-5ZLQk"
      },
      "source": [
        "## Bin categorical features\n",
        "\n",
        "There are more categorical columns than numeric columns. Since the categorical values have more variety binning them into a smaller bins is beneficial not only for analysis standpoint but also computationally since the categorical variables anyway has to one hot encoded."
      ]
    },
    {
      "cell_type": "code",
      "metadata": {
        "id": "SSPtXBAjZS6G"
      },
      "source": [
        "def preprocess(data):\n",
        "  # replace workclass having ? with nan\n",
        "  data = data.replace({\"workclass\": ' ?'}, np.nan)\n",
        "\n",
        "  # workclass\n",
        "  unemployed_list = [\" Without-pay\", \" Never-worked\"]\n",
        "  gov_list = [\" Local-gov\", \" State-gov\", \" Federal-gov\"]\n",
        "\n",
        "  data.loc[(data.workclass.isin(unemployed_list)), 'workclass'] = \" Unemployed\"\n",
        "  data.loc[(data.workclass.isin(gov_list)), 'workclass'] = \" Gov\"\n",
        "\n",
        "  # education\n",
        "  hs_grad_list = [' HS-grad',' 11th',' 10th',' 9th',' 12th']\n",
        "  elementary_list = [' 1st-4th',' 5th-6th',' 7th-8th']\n",
        "\n",
        "  data.loc[(data.education.isin(hs_grad_list)), 'education'] = \" HS-grad\"\n",
        "  data.loc[(data.education.isin(elementary_list)), 'education'] = \" elementary_school\"  \n",
        "\n",
        "  # martial status \n",
        "  married_list = [\" Married-AF-spouse\", \" Married-civ-spouse\", \" Married-spouse-absent\"]\n",
        "  not_married_list = [\" Never-married\", \" Divorced\", \" Separated\"]\n",
        "\n",
        "  data.loc[(data['marital-status'].isin(married_list)), 'marital-status'] = \" Married\"\n",
        "  data.loc[(data['marital-status'].isin(not_married_list)), 'marital-status']  = \" Not-Married\"\n",
        "\n",
        "  # native country \n",
        "  data = data.replace({'native-country': ' ?'}, np.nan)\n",
        "\n",
        "  north_america_list = [\" Canada\", \" Cuba\", \" Dominican-Republic\", \" El-Salvador\", \" Guatemala\", \" Haiti\", \" Honduras\", \n",
        "                        \" Jamaica\", \" Mexico\", \" Nicaragua\", \" Outlying-US(Guam-USVI-etc)\", \" Puerto-Rico\", \" Trinadad&Tobago\", \" United-States\"]\n",
        "  asia_list = [\" Cambodia\", \" China\", \" Hong\", \" India\", \" Iran\", \" Japan\", \" Laos\", \" Philippines\", \" Taiwan\", \" Thailand\", \" Vietnam\"]\n",
        "  south_america_list = [\" Columbia\", \" Ecuador\", \" Peru\"]\n",
        "  europe_list = [\" England\", \" France\", \" Germany\", \" Greece\", \" Holand-Netherlands\", \" Hungary\", \" Ireland\", \" Italy\", \" Poland\", \" Portugal\", \" Scotland\", \" Yugoslavia\"]\n",
        "  other = [' South']\n",
        "\n",
        "  data.loc[(data['native-country'].isin(north_america_list)), 'native-country'] = ' North-America'\n",
        "  data.loc[(data['native-country'].isin(asia_list)), 'native-country'] = ' Asia'\n",
        "  data.loc[(data['native-country'].isin(south_america_list)), 'native-country'] = ' South-America'\n",
        "  data.loc[(data['native-country'].isin(europe_list)), 'native-country'] = ' Europe'\n",
        "  data.loc[(data['native-country'].isin(other)), 'native-country'] = ' Other'\n",
        "\n",
        "  # change the income to 0/1\n",
        "  data = data.replace({'Income': ' <=50K'}, 0)\n",
        "  data = data.replace({'Income': ' >50K'}, 1)\n",
        "  data = data.replace({'Income': ' <=50K.'}, 0)\n",
        "  data = data.replace({'Income': ' >50K.'}, 1)\n",
        "\n",
        "\n",
        "  # occupation\n",
        "  data = data.replace({'occupation': ' ?'}, np.nan)\n",
        "\n",
        "  return data "
      ],
      "execution_count": 8,
      "outputs": []
    },
    {
      "cell_type": "code",
      "metadata": {
        "id": "DQ7oZqQjYNTf"
      },
      "source": [
        "# trainset and testset \n",
        "\n",
        "trainset = preprocess(trainset)\n",
        "testset = preprocess(testset)"
      ],
      "execution_count": 9,
      "outputs": []
    },
    {
      "cell_type": "code",
      "metadata": {
        "colab": {
          "base_uri": "https://localhost:8080/"
        },
        "id": "qyI39W2mB_KG",
        "outputId": "407c5727-84c3-4020-af81-e50c66c91500"
      },
      "source": [
        "# categorical and the numeric columns \n",
        "# capital gain and capital loss values are mostly absent for majority values\n",
        "\n",
        "categorical_columns = list(trainset.select_dtypes(include=['object']).columns)\n",
        "exclude_columns = ['capital-gain', 'capital-loss', 'Income']\n",
        "numeric_columns = list(trainset.select_dtypes(include=['int64']).columns)\n",
        "\n",
        "print('Number of categorical columns', len(categorical_columns))\n",
        "print('Number of excluded columns', len(exclude_columns))\n",
        "print('Number of numeric columns', len(numeric_columns))"
      ],
      "execution_count": 10,
      "outputs": [
        {
          "output_type": "stream",
          "name": "stdout",
          "text": [
            "Number of categorical columns 8\n",
            "Number of excluded columns 3\n",
            "Number of numeric columns 7\n"
          ]
        }
      ]
    },
    {
      "cell_type": "code",
      "metadata": {
        "id": "42Y6_WvFVAdG"
      },
      "source": [
        "# \n",
        "trainset = trainset.dropna()\n",
        "testset = testset.dropna()\n",
        "\n",
        "X_train = trainset.drop(['Income'] + exclude_columns, axis=1)\n",
        "y_train = trainset['Income']\n",
        "X_test = testset.drop(['Income'] + exclude_columns, axis=1)\n",
        "y_test = testset['Income']"
      ],
      "execution_count": 11,
      "outputs": []
    },
    {
      "cell_type": "code",
      "metadata": {
        "id": "PiyhayqvlKvN"
      },
      "source": [
        "# scale data \n",
        "\n",
        "from sklearn.preprocessing import MinMaxScaler\n",
        "scaler = MinMaxScaler()\n",
        "\n",
        "def scale_data(data):\n",
        "  # scale the numerical values \n",
        "  for column in list(set(numeric_columns) - set(exclude_columns)):\n",
        "    data[column + '_s'] = scaler.fit_transform(data[column].values.reshape(-1,1))\n",
        "  return data "
      ],
      "execution_count": 12,
      "outputs": []
    },
    {
      "cell_type": "code",
      "metadata": {
        "id": "0G0vVpLKjwlV"
      },
      "source": [
        "X_train = scale_data(X_train)\n",
        "X_test = scale_data(X_test)\n",
        "\n",
        "# convert the categorical columns to one hot encoding \n",
        "temp1 = pd.get_dummies(X_train[categorical_columns])\n",
        "# after convertion drop the original columns \n",
        "X_train_processed = X_train.drop(categorical_columns, axis=1)\n",
        "# also drop the numeric columns because we have the scaled columns\n",
        "X_train_processed = X_train_processed.drop(list(set(numeric_columns) - set(exclude_columns)), axis=1)\n",
        "# finally we have scaled numeric columns and one hot coded categorical columns \n",
        "X_train_processed = pd.concat([X_train_processed, temp1], axis=1)\n",
        "\n",
        "temp2 = pd.get_dummies(X_test[categorical_columns])\n",
        "X_test_processed = X_test.drop(categorical_columns, axis=1)\n",
        "X_test_processed = X_test_processed.drop(list(set(numeric_columns) - set(exclude_columns)), axis=1)\n",
        "X_test_processed = pd.concat([X_test_processed, temp2], axis=1)"
      ],
      "execution_count": 13,
      "outputs": []
    },
    {
      "cell_type": "code",
      "metadata": {
        "colab": {
          "base_uri": "https://localhost:8080/",
          "height": 278
        },
        "id": "9rKWFmxYdjXc",
        "outputId": "c902ad0d-3bd1-4a60-a727-a895b006f6df"
      },
      "source": [
        "X_train_processed.head()"
      ],
      "execution_count": 14,
      "outputs": [
        {
          "output_type": "execute_result",
          "data": {
            "text/html": [
              "<div>\n",
              "<style scoped>\n",
              "    .dataframe tbody tr th:only-of-type {\n",
              "        vertical-align: middle;\n",
              "    }\n",
              "\n",
              "    .dataframe tbody tr th {\n",
              "        vertical-align: top;\n",
              "    }\n",
              "\n",
              "    .dataframe thead th {\n",
              "        text-align: right;\n",
              "    }\n",
              "</style>\n",
              "<table border=\"1\" class=\"dataframe\">\n",
              "  <thead>\n",
              "    <tr style=\"text-align: right;\">\n",
              "      <th></th>\n",
              "      <th>age_s</th>\n",
              "      <th>fnlwgt_s</th>\n",
              "      <th>hours-per-week_s</th>\n",
              "      <th>education-num_s</th>\n",
              "      <th>workclass_ Gov</th>\n",
              "      <th>workclass_ Private</th>\n",
              "      <th>workclass_ Self-emp-inc</th>\n",
              "      <th>workclass_ Self-emp-not-inc</th>\n",
              "      <th>workclass_ Unemployed</th>\n",
              "      <th>education_ Assoc-acdm</th>\n",
              "      <th>education_ Assoc-voc</th>\n",
              "      <th>education_ Bachelors</th>\n",
              "      <th>education_ Doctorate</th>\n",
              "      <th>education_ HS-grad</th>\n",
              "      <th>education_ Masters</th>\n",
              "      <th>education_ Preschool</th>\n",
              "      <th>education_ Prof-school</th>\n",
              "      <th>education_ Some-college</th>\n",
              "      <th>education_ elementary_school</th>\n",
              "      <th>marital-status_ Married</th>\n",
              "      <th>marital-status_ Not-Married</th>\n",
              "      <th>marital-status_ Widowed</th>\n",
              "      <th>occupation_ Adm-clerical</th>\n",
              "      <th>occupation_ Armed-Forces</th>\n",
              "      <th>occupation_ Craft-repair</th>\n",
              "      <th>occupation_ Exec-managerial</th>\n",
              "      <th>occupation_ Farming-fishing</th>\n",
              "      <th>occupation_ Handlers-cleaners</th>\n",
              "      <th>occupation_ Machine-op-inspct</th>\n",
              "      <th>occupation_ Other-service</th>\n",
              "      <th>occupation_ Priv-house-serv</th>\n",
              "      <th>occupation_ Prof-specialty</th>\n",
              "      <th>occupation_ Protective-serv</th>\n",
              "      <th>occupation_ Sales</th>\n",
              "      <th>occupation_ Tech-support</th>\n",
              "      <th>occupation_ Transport-moving</th>\n",
              "      <th>relationship_ Husband</th>\n",
              "      <th>relationship_ Not-in-family</th>\n",
              "      <th>relationship_ Other-relative</th>\n",
              "      <th>relationship_ Own-child</th>\n",
              "      <th>relationship_ Unmarried</th>\n",
              "      <th>relationship_ Wife</th>\n",
              "      <th>race_ Amer-Indian-Eskimo</th>\n",
              "      <th>race_ Asian-Pac-Islander</th>\n",
              "      <th>race_ Black</th>\n",
              "      <th>race_ Other</th>\n",
              "      <th>race_ White</th>\n",
              "      <th>sex_ Female</th>\n",
              "      <th>sex_ Male</th>\n",
              "      <th>native-country_ Asia</th>\n",
              "      <th>native-country_ Europe</th>\n",
              "      <th>native-country_ North-America</th>\n",
              "      <th>native-country_ Other</th>\n",
              "      <th>native-country_ South-America</th>\n",
              "    </tr>\n",
              "  </thead>\n",
              "  <tbody>\n",
              "    <tr>\n",
              "      <th>0</th>\n",
              "      <td>0.301370</td>\n",
              "      <td>0.043338</td>\n",
              "      <td>0.397959</td>\n",
              "      <td>0.800000</td>\n",
              "      <td>1</td>\n",
              "      <td>0</td>\n",
              "      <td>0</td>\n",
              "      <td>0</td>\n",
              "      <td>0</td>\n",
              "      <td>0</td>\n",
              "      <td>0</td>\n",
              "      <td>1</td>\n",
              "      <td>0</td>\n",
              "      <td>0</td>\n",
              "      <td>0</td>\n",
              "      <td>0</td>\n",
              "      <td>0</td>\n",
              "      <td>0</td>\n",
              "      <td>0</td>\n",
              "      <td>0</td>\n",
              "      <td>1</td>\n",
              "      <td>0</td>\n",
              "      <td>1</td>\n",
              "      <td>0</td>\n",
              "      <td>0</td>\n",
              "      <td>0</td>\n",
              "      <td>0</td>\n",
              "      <td>0</td>\n",
              "      <td>0</td>\n",
              "      <td>0</td>\n",
              "      <td>0</td>\n",
              "      <td>0</td>\n",
              "      <td>0</td>\n",
              "      <td>0</td>\n",
              "      <td>0</td>\n",
              "      <td>0</td>\n",
              "      <td>0</td>\n",
              "      <td>1</td>\n",
              "      <td>0</td>\n",
              "      <td>0</td>\n",
              "      <td>0</td>\n",
              "      <td>0</td>\n",
              "      <td>0</td>\n",
              "      <td>0</td>\n",
              "      <td>0</td>\n",
              "      <td>0</td>\n",
              "      <td>1</td>\n",
              "      <td>0</td>\n",
              "      <td>1</td>\n",
              "      <td>0</td>\n",
              "      <td>0</td>\n",
              "      <td>1</td>\n",
              "      <td>0</td>\n",
              "      <td>0</td>\n",
              "    </tr>\n",
              "    <tr>\n",
              "      <th>1</th>\n",
              "      <td>0.452055</td>\n",
              "      <td>0.047277</td>\n",
              "      <td>0.122449</td>\n",
              "      <td>0.800000</td>\n",
              "      <td>0</td>\n",
              "      <td>0</td>\n",
              "      <td>0</td>\n",
              "      <td>1</td>\n",
              "      <td>0</td>\n",
              "      <td>0</td>\n",
              "      <td>0</td>\n",
              "      <td>1</td>\n",
              "      <td>0</td>\n",
              "      <td>0</td>\n",
              "      <td>0</td>\n",
              "      <td>0</td>\n",
              "      <td>0</td>\n",
              "      <td>0</td>\n",
              "      <td>0</td>\n",
              "      <td>1</td>\n",
              "      <td>0</td>\n",
              "      <td>0</td>\n",
              "      <td>0</td>\n",
              "      <td>0</td>\n",
              "      <td>0</td>\n",
              "      <td>1</td>\n",
              "      <td>0</td>\n",
              "      <td>0</td>\n",
              "      <td>0</td>\n",
              "      <td>0</td>\n",
              "      <td>0</td>\n",
              "      <td>0</td>\n",
              "      <td>0</td>\n",
              "      <td>0</td>\n",
              "      <td>0</td>\n",
              "      <td>0</td>\n",
              "      <td>1</td>\n",
              "      <td>0</td>\n",
              "      <td>0</td>\n",
              "      <td>0</td>\n",
              "      <td>0</td>\n",
              "      <td>0</td>\n",
              "      <td>0</td>\n",
              "      <td>0</td>\n",
              "      <td>0</td>\n",
              "      <td>0</td>\n",
              "      <td>1</td>\n",
              "      <td>0</td>\n",
              "      <td>1</td>\n",
              "      <td>0</td>\n",
              "      <td>0</td>\n",
              "      <td>1</td>\n",
              "      <td>0</td>\n",
              "      <td>0</td>\n",
              "    </tr>\n",
              "    <tr>\n",
              "      <th>2</th>\n",
              "      <td>0.287671</td>\n",
              "      <td>0.137244</td>\n",
              "      <td>0.397959</td>\n",
              "      <td>0.533333</td>\n",
              "      <td>0</td>\n",
              "      <td>1</td>\n",
              "      <td>0</td>\n",
              "      <td>0</td>\n",
              "      <td>0</td>\n",
              "      <td>0</td>\n",
              "      <td>0</td>\n",
              "      <td>0</td>\n",
              "      <td>0</td>\n",
              "      <td>1</td>\n",
              "      <td>0</td>\n",
              "      <td>0</td>\n",
              "      <td>0</td>\n",
              "      <td>0</td>\n",
              "      <td>0</td>\n",
              "      <td>0</td>\n",
              "      <td>1</td>\n",
              "      <td>0</td>\n",
              "      <td>0</td>\n",
              "      <td>0</td>\n",
              "      <td>0</td>\n",
              "      <td>0</td>\n",
              "      <td>0</td>\n",
              "      <td>1</td>\n",
              "      <td>0</td>\n",
              "      <td>0</td>\n",
              "      <td>0</td>\n",
              "      <td>0</td>\n",
              "      <td>0</td>\n",
              "      <td>0</td>\n",
              "      <td>0</td>\n",
              "      <td>0</td>\n",
              "      <td>0</td>\n",
              "      <td>1</td>\n",
              "      <td>0</td>\n",
              "      <td>0</td>\n",
              "      <td>0</td>\n",
              "      <td>0</td>\n",
              "      <td>0</td>\n",
              "      <td>0</td>\n",
              "      <td>0</td>\n",
              "      <td>0</td>\n",
              "      <td>1</td>\n",
              "      <td>0</td>\n",
              "      <td>1</td>\n",
              "      <td>0</td>\n",
              "      <td>0</td>\n",
              "      <td>1</td>\n",
              "      <td>0</td>\n",
              "      <td>0</td>\n",
              "    </tr>\n",
              "    <tr>\n",
              "      <th>3</th>\n",
              "      <td>0.493151</td>\n",
              "      <td>0.150212</td>\n",
              "      <td>0.397959</td>\n",
              "      <td>0.400000</td>\n",
              "      <td>0</td>\n",
              "      <td>1</td>\n",
              "      <td>0</td>\n",
              "      <td>0</td>\n",
              "      <td>0</td>\n",
              "      <td>0</td>\n",
              "      <td>0</td>\n",
              "      <td>0</td>\n",
              "      <td>0</td>\n",
              "      <td>1</td>\n",
              "      <td>0</td>\n",
              "      <td>0</td>\n",
              "      <td>0</td>\n",
              "      <td>0</td>\n",
              "      <td>0</td>\n",
              "      <td>1</td>\n",
              "      <td>0</td>\n",
              "      <td>0</td>\n",
              "      <td>0</td>\n",
              "      <td>0</td>\n",
              "      <td>0</td>\n",
              "      <td>0</td>\n",
              "      <td>0</td>\n",
              "      <td>1</td>\n",
              "      <td>0</td>\n",
              "      <td>0</td>\n",
              "      <td>0</td>\n",
              "      <td>0</td>\n",
              "      <td>0</td>\n",
              "      <td>0</td>\n",
              "      <td>0</td>\n",
              "      <td>0</td>\n",
              "      <td>1</td>\n",
              "      <td>0</td>\n",
              "      <td>0</td>\n",
              "      <td>0</td>\n",
              "      <td>0</td>\n",
              "      <td>0</td>\n",
              "      <td>0</td>\n",
              "      <td>0</td>\n",
              "      <td>1</td>\n",
              "      <td>0</td>\n",
              "      <td>0</td>\n",
              "      <td>0</td>\n",
              "      <td>1</td>\n",
              "      <td>0</td>\n",
              "      <td>0</td>\n",
              "      <td>1</td>\n",
              "      <td>0</td>\n",
              "      <td>0</td>\n",
              "    </tr>\n",
              "    <tr>\n",
              "      <th>4</th>\n",
              "      <td>0.150685</td>\n",
              "      <td>0.220703</td>\n",
              "      <td>0.397959</td>\n",
              "      <td>0.800000</td>\n",
              "      <td>0</td>\n",
              "      <td>1</td>\n",
              "      <td>0</td>\n",
              "      <td>0</td>\n",
              "      <td>0</td>\n",
              "      <td>0</td>\n",
              "      <td>0</td>\n",
              "      <td>1</td>\n",
              "      <td>0</td>\n",
              "      <td>0</td>\n",
              "      <td>0</td>\n",
              "      <td>0</td>\n",
              "      <td>0</td>\n",
              "      <td>0</td>\n",
              "      <td>0</td>\n",
              "      <td>1</td>\n",
              "      <td>0</td>\n",
              "      <td>0</td>\n",
              "      <td>0</td>\n",
              "      <td>0</td>\n",
              "      <td>0</td>\n",
              "      <td>0</td>\n",
              "      <td>0</td>\n",
              "      <td>0</td>\n",
              "      <td>0</td>\n",
              "      <td>0</td>\n",
              "      <td>0</td>\n",
              "      <td>1</td>\n",
              "      <td>0</td>\n",
              "      <td>0</td>\n",
              "      <td>0</td>\n",
              "      <td>0</td>\n",
              "      <td>0</td>\n",
              "      <td>0</td>\n",
              "      <td>0</td>\n",
              "      <td>0</td>\n",
              "      <td>0</td>\n",
              "      <td>1</td>\n",
              "      <td>0</td>\n",
              "      <td>0</td>\n",
              "      <td>1</td>\n",
              "      <td>0</td>\n",
              "      <td>0</td>\n",
              "      <td>1</td>\n",
              "      <td>0</td>\n",
              "      <td>0</td>\n",
              "      <td>0</td>\n",
              "      <td>1</td>\n",
              "      <td>0</td>\n",
              "      <td>0</td>\n",
              "    </tr>\n",
              "  </tbody>\n",
              "</table>\n",
              "</div>"
            ],
            "text/plain": [
              "      age_s  fnlwgt_s  ...  native-country_ Other  native-country_ South-America\n",
              "0  0.301370  0.043338  ...                      0                              0\n",
              "1  0.452055  0.047277  ...                      0                              0\n",
              "2  0.287671  0.137244  ...                      0                              0\n",
              "3  0.493151  0.150212  ...                      0                              0\n",
              "4  0.150685  0.220703  ...                      0                              0\n",
              "\n",
              "[5 rows x 54 columns]"
            ]
          },
          "metadata": {},
          "execution_count": 14
        }
      ]
    },
    {
      "cell_type": "markdown",
      "metadata": {
        "id": "Q3uagAHtV2xM"
      },
      "source": [
        "## Logistic Regression"
      ]
    },
    {
      "cell_type": "code",
      "metadata": {
        "id": "27mqDvKuT8ew",
        "colab": {
          "base_uri": "https://localhost:8080/"
        },
        "outputId": "7b8ca16f-0272-43b0-80b5-63d307eb2ac4"
      },
      "source": [
        "from sklearn.linear_model import LogisticRegression\n",
        "\n",
        "\n",
        "# C value determines the regularization and if the value of C is very high the lambda will be close to 0 making the loss function close to standard without regularization\n",
        "# default max iteration is 100 and the algorithm does not converge within limit \n",
        "\n",
        "# fit the model on train set \n",
        "model = LogisticRegression(C=1e42, max_iter=1000)\n",
        "model.fit(X_train_processed, y_train)\n",
        "\n",
        "# test the model on test set \n",
        "y_pred = model.predict(X_test_processed)\n",
        "accuracy_score(y_pred, y_test)"
      ],
      "execution_count": 13,
      "outputs": [
        {
          "output_type": "execute_result",
          "data": {
            "text/plain": [
              "0.8302788844621514"
            ]
          },
          "metadata": {},
          "execution_count": 13
        }
      ]
    },
    {
      "cell_type": "code",
      "metadata": {
        "colab": {
          "base_uri": "https://localhost:8080/"
        },
        "id": "yDbIBeARMrHl",
        "outputId": "fad99a0f-c486-41db-e5b4-774beaaf467e"
      },
      "source": [
        "# log likelihood \n",
        "from sklearn.metrics import log_loss\n",
        "log_loss(y_test, y_pred)"
      ],
      "execution_count": 14,
      "outputs": [
        {
          "output_type": "execute_result",
          "data": {
            "text/plain": [
              "5.862009992281244"
            ]
          },
          "metadata": {},
          "execution_count": 14
        }
      ]
    },
    {
      "cell_type": "code",
      "metadata": {
        "colab": {
          "base_uri": "https://localhost:8080/"
        },
        "id": "PwMGaNfeKdD8",
        "outputId": "a4aec898-c0cc-46b1-d19e-6b7409f5fa82"
      },
      "source": [
        "from sklearn.metrics import classification_report\n",
        "\n",
        "print(classification_report(y_test, y_pred))"
      ],
      "execution_count": 15,
      "outputs": [
        {
          "output_type": "stream",
          "name": "stdout",
          "text": [
            "              precision    recall  f1-score   support\n",
            "\n",
            "         0.0       0.87      0.92      0.89     11360\n",
            "         1.0       0.69      0.57      0.62      3700\n",
            "\n",
            "    accuracy                           0.83     15060\n",
            "   macro avg       0.78      0.74      0.76     15060\n",
            "weighted avg       0.82      0.83      0.82     15060\n",
            "\n"
          ]
        }
      ]
    },
    {
      "cell_type": "code",
      "metadata": {
        "colab": {
          "base_uri": "https://localhost:8080/",
          "height": 295
        },
        "id": "8V2LgUFFNC1P",
        "outputId": "31325856-adf7-4d79-836e-29201a2c2065"
      },
      "source": [
        "from sklearn import metrics\n",
        "from sklearn.metrics import roc_curve\n",
        "from sklearn.metrics import roc_auc_score\n",
        "\n",
        "probs = model.predict_proba(X_test_processed)[:,1]\n",
        "fpr, tpr, _ = metrics.roc_curve(y_test,  probs)\n",
        "roc_auc = metrics.auc(fpr, tpr)\n",
        "\n",
        "# method I: plt\n",
        "import matplotlib.pyplot as plt\n",
        "plt.title('Receiver Operating Characteristic')\n",
        "plt.plot(fpr, tpr, 'b', label = 'AUC = %0.2f' % roc_auc)\n",
        "plt.legend(loc = 'lower right')\n",
        "plt.plot([0, 1], [0, 1],'r--')\n",
        "plt.xlim([0, 1])\n",
        "plt.ylim([0, 1])\n",
        "plt.ylabel('True Positive Rate')\n",
        "plt.xlabel('False Positive Rate')\n",
        "plt.show()"
      ],
      "execution_count": 27,
      "outputs": [
        {
          "output_type": "display_data",
          "data": {
            "image/png": "[encoded data removed]",
            "text/plain": [
              "<Figure size 432x288 with 1 Axes>"
            ]
          },
          "metadata": {
            "needs_background": "light"
          }
        }
      ]
    },
    {
      "cell_type": "markdown",
      "metadata": {
        "id": "Eb1PrkGOREXR"
      },
      "source": [
        "Testing various regularization parameters"
      ]
    },
    {
      "cell_type": "code",
      "metadata": {
        "colab": {
          "base_uri": "https://localhost:8080/"
        },
        "id": "X9OAxU5lRInZ",
        "outputId": "541795c5-8725-4c6b-95ae-e8ec8114c979"
      },
      "source": [
        "# L1 penalty\n",
        "C = [.1, .01, .001]\n",
        "\n",
        "for c in C:\n",
        "    clf = LogisticRegression(penalty='l1', C=c, solver='liblinear')\n",
        "    clf.fit(X_train_processed, y_train)\n",
        "    print('C:', c)\n",
        "    print('Coefficient of each feature:', clf.coef_)\n",
        "    print('Training accuracy:', clf.score(X_train_processed, y_train))\n",
        "    print('Test accuracy:', clf.score(X_test_processed, y_test))\n",
        "    print('')"
      ],
      "execution_count": 28,
      "outputs": [
        {
          "output_type": "stream",
          "name": "stdout",
          "text": [
            "C: 0.1\n",
            "Coefficient of each feature: [[ 2.63768498  0.34301998  2.01379179  3.86529239 -0.01925367  0.\n",
            "   0.22764566 -0.40489026  0.         -0.26800028 -0.03657819  0.\n",
            "   0.04091308 -0.12077208  0.08271258  0.          0.44560539 -0.00779559\n",
            "   0.          0.         -0.97681853 -0.47793205  0.          0.\n",
            "   0.          0.77694832 -0.88940293 -0.65883768 -0.31329719 -0.92469077\n",
            "   0.          0.46099355  0.27704242  0.24511009  0.490495   -0.11863697\n",
            "   0.81917018  0.         -0.19805841 -1.08240455 -0.05143497  2.04841667\n",
            "   0.          0.          0.         -0.00954276  0.12529613 -0.83557379\n",
            "   0.          0.          0.          0.          0.         -0.10590709]]\n",
            "Training accuracy: 0.8299847490219482\n",
            "Test accuracy: 0.8308100929614873\n",
            "\n",
            "C: 0.01\n",
            "Coefficient of each feature: [[ 0.12655866  0.          0.37795227  1.36388542  0.         -0.06552743\n",
            "   0.0715443  -0.08687328  0.          0.          0.          0.\n",
            "   0.         -0.73329656  0.08083476  0.          0.         -0.32213261\n",
            "  -0.44837823  0.12779682 -1.72436978 -0.22220963  0.          0.\n",
            "   0.          0.80614667 -0.06378761 -0.00603251  0.         -0.52207218\n",
            "   0.          0.55336842  0.          0.14061047  0.          0.\n",
            "   0.01372514  0.          0.         -0.75195692  0.          0.52985167\n",
            "   0.          0.          0.          0.          0.         -0.64333714\n",
            "   0.          0.          0.          0.          0.          0.        ]]\n",
            "Training accuracy: 0.8201379218884689\n",
            "Test accuracy: 0.8256972111553785\n",
            "\n",
            "C: 0.001\n",
            "Coefficient of each feature: [[ 0.          0.          0.          0.          0.         -0.08741588\n",
            "   0.          0.          0.          0.          0.          0.\n",
            "   0.         -0.52700016  0.          0.          0.          0.\n",
            "   0.          0.         -1.56997679  0.          0.          0.\n",
            "   0.          0.          0.          0.          0.          0.\n",
            "   0.          0.          0.          0.          0.          0.\n",
            "   0.          0.          0.          0.          0.          0.\n",
            "   0.          0.          0.          0.          0.          0.\n",
            "   0.          0.          0.          0.          0.          0.        ]]\n",
            "Training accuracy: 0.7510775147536636\n",
            "Test accuracy: 0.7543160690571049\n",
            "\n"
          ]
        }
      ]
    },
    {
      "cell_type": "code",
      "metadata": {
        "colab": {
          "base_uri": "https://localhost:8080/"
        },
        "id": "jtPc-PdvRlLP",
        "outputId": "dd0b11e5-f5b6-474c-c511-6e8782d6b387"
      },
      "source": [
        "# L2 penalty\n",
        "C = [.1, .01, .001]\n",
        "\n",
        "for c in C:\n",
        "    clf = LogisticRegression(penalty='l2', C=c, solver='liblinear')\n",
        "    clf.fit(X_train_processed, y_train)\n",
        "    print('C:', c)\n",
        "    print('Coefficient of each feature:', clf.coef_)\n",
        "    print('Training accuracy:', clf.score(X_train_processed, y_train))\n",
        "    print('Test accuracy:', clf.score(X_test_processed, y_test))\n",
        "    print('')"
      ],
      "execution_count": 31,
      "outputs": [
        {
          "output_type": "stream",
          "name": "stdout",
          "text": [
            "C: 0.1\n",
            "Coefficient of each feature: [[ 2.2453329   0.51149765  1.80840194  1.60771498 -0.37372248 -0.32925038\n",
            "  -0.01906782 -0.72145144 -0.25596595 -0.43335439 -0.34351959  0.03596874\n",
            "   0.62515503 -0.72620601  0.30561489 -0.30254188  0.82082841 -0.43175135\n",
            "  -1.24965192  0.01602806 -1.09260841 -0.62287772 -0.0539683  -0.03497716\n",
            "  -0.05473197  0.74168881 -0.91938138 -0.77943173 -0.4196648  -0.99522344\n",
            "  -0.42895319  0.41654503  0.32426443  0.22121816  0.48665768 -0.2035002\n",
            "   0.24580284 -0.46993751 -0.78443998 -1.53149977 -0.55209029  1.39270664\n",
            "  -0.4722138  -0.19159622 -0.29375615 -0.56679438 -0.17509752 -1.24657421\n",
            "  -0.45288386 -0.30843536 -0.03698996 -0.16205136 -0.55354549 -0.63843589]]\n",
            "Training accuracy: 0.8298189775213846\n",
            "Test accuracy: 0.8304780876494023\n",
            "\n",
            "C: 0.01\n",
            "Coefficient of each feature: [[ 0.69303993  0.02548344  0.7655999   0.64046507 -0.21059986 -0.28175858\n",
            "   0.16352673 -0.45442099 -0.02949818 -0.1947265  -0.20260703  0.18207933\n",
            "   0.4302155  -0.76265535  0.42170496 -0.06387249  0.56850674 -0.39255865\n",
            "  -0.79883739  0.43679188 -0.9841325  -0.26541026 -0.10180622 -0.0059639\n",
            "  -0.1149845   0.69418103 -0.51932489 -0.48922896 -0.36171931 -0.71174787\n",
            "  -0.07931708  0.44941124  0.14326344  0.1850845   0.2572594  -0.15785776\n",
            "   0.22976992 -0.23921394 -0.33549398 -0.9004771  -0.33193126  0.76459548\n",
            "  -0.15211236 -0.19139523 -0.20584368 -0.1713521  -0.09204751 -0.68189162\n",
            "  -0.13085927 -0.19074629 -0.08488564 -0.29677993 -0.0965723  -0.14376672]]\n",
            "Training accuracy: 0.8263709303096611\n",
            "Test accuracy: 0.8293492695883135\n",
            "\n",
            "C: 0.001\n",
            "Coefficient of each feature: [[ 0.04153928 -0.03423104  0.12114771  0.14288159 -0.04869185 -0.2658576\n",
            "   0.10208358 -0.1329224  -0.00359853 -0.02799338 -0.03934122  0.20203238\n",
            "   0.10186547 -0.52532683  0.2115861  -0.00989383  0.14440721 -0.20675473\n",
            "  -0.19956794  0.39070613 -0.67497064 -0.06472227 -0.11609185 -0.00105066\n",
            "  -0.12287242  0.34541784 -0.14066419 -0.14391784 -0.14788042 -0.27316244\n",
            "  -0.0154562   0.26378982  0.00820903  0.03735045  0.03664764 -0.07930556\n",
            "   0.2836993  -0.21401418 -0.08967824 -0.35123557 -0.17556305  0.19780495\n",
            "  -0.03004524 -0.05034179 -0.13043991 -0.0316336  -0.10652624 -0.31566068\n",
            "  -0.03332611 -0.03634114 -0.01552233 -0.26554504 -0.01164106 -0.01993721]]\n",
            "Training accuracy: 0.8150653139712221\n",
            "Test accuracy: 0.8152722443559097\n",
            "\n"
          ]
        }
      ]
    },
    {
      "cell_type": "markdown",
      "metadata": {
        "id": "jh2i6ReAUVaQ"
      },
      "source": [
        "# Problem 2 [Comparing classifiers] - 30 points\n",
        "\n",
        "In this problem, you will use existing packages of your choice for training and testing various classifiers, and then compare them. You will use the same UCI Adult dataset. You can use the same training and testing data as in Problem 1.\n",
        "\n",
        "(a) Train a linear SVM model and report the accuracy, precision, recall, and F1 score metrics.\n",
        "\n",
        "(b) Select a kernel function for non-linear SVM and report the same metrics as in part (a).\n",
        "\n",
        "(c) Train a random forest classifier, and vary the number of trees in the model. Select three values for the number of trees and report the same metrics as in part (a).\n",
        "\n",
        "(d) Write down some observations on comparing the following models: logistic regression, linear SVM, kernel SVM, and random forest."
      ]
    },
    {
      "cell_type": "markdown",
      "metadata": {
        "id": "awbAmM2xWDAb"
      },
      "source": [
        "## SVM"
      ]
    },
    {
      "cell_type": "code",
      "metadata": {
        "colab": {
          "base_uri": "https://localhost:8080/"
        },
        "id": "jQDqgeugUkIB",
        "outputId": "7a125248-0ffc-4e59-c89d-9a94548400ff"
      },
      "source": [
        "from sklearn.metrics import classification_report\n",
        "from sklearn.svm import LinearSVC\n",
        "\n",
        "# fit the model on train set \n",
        "model = LinearSVC()\n",
        "model.fit(X_train_processed, y_train)\n",
        "\n",
        "# test the model on test set \n",
        "y_pred = model.predict(X_test_processed)\n",
        "accuracy_score(y_pred, y_test)"
      ],
      "execution_count": 16,
      "outputs": [
        {
          "output_type": "execute_result",
          "data": {
            "text/plain": [
              "0.8306772908366534"
            ]
          },
          "metadata": {},
          "execution_count": 16
        }
      ]
    },
    {
      "cell_type": "code",
      "metadata": {
        "colab": {
          "base_uri": "https://localhost:8080/"
        },
        "id": "GExvXtCwWPug",
        "outputId": "3dd773a5-2274-4f11-b3d8-3e11490f49e9"
      },
      "source": [
        "print(classification_report(y_test, y_pred))"
      ],
      "execution_count": 17,
      "outputs": [
        {
          "output_type": "stream",
          "name": "stdout",
          "text": [
            "              precision    recall  f1-score   support\n",
            "\n",
            "         0.0       0.86      0.92      0.89     11360\n",
            "         1.0       0.69      0.56      0.62      3700\n",
            "\n",
            "    accuracy                           0.83     15060\n",
            "   macro avg       0.78      0.74      0.75     15060\n",
            "weighted avg       0.82      0.83      0.82     15060\n",
            "\n"
          ]
        }
      ]
    },
    {
      "cell_type": "markdown",
      "metadata": {
        "id": "iFZi1GtxWXYJ"
      },
      "source": [
        "## SVM - Non Linear "
      ]
    },
    {
      "cell_type": "code",
      "metadata": {
        "colab": {
          "base_uri": "https://localhost:8080/"
        },
        "id": "C6sKCjrOWWg3",
        "outputId": "2f198cf3-ccee-4c08-c5ff-30a9ed67dd10"
      },
      "source": [
        "from sklearn.svm import SVC\n",
        "\n",
        "# fit the model on train set \n",
        "model = SVC(kernel = 'rbf', random_state = 0)\n",
        "model.fit(X_train_processed, y_train)\n",
        "\n",
        "# test the model on test set \n",
        "y_pred = model.predict(X_test_processed)\n",
        "accuracy_score(y_pred, y_test)\n"
      ],
      "execution_count": 19,
      "outputs": [
        {
          "output_type": "execute_result",
          "data": {
            "text/plain": [
              "0.8291500664010624"
            ]
          },
          "metadata": {},
          "execution_count": 19
        }
      ]
    },
    {
      "cell_type": "code",
      "metadata": {
        "colab": {
          "base_uri": "https://localhost:8080/"
        },
        "id": "Rbf9aIKLUUQR",
        "outputId": "bbcf04a2-9189-404f-edf4-6ff4aedf3972"
      },
      "source": [
        "print(classification_report(y_test, y_pred))"
      ],
      "execution_count": 20,
      "outputs": [
        {
          "output_type": "stream",
          "name": "stdout",
          "text": [
            "              precision    recall  f1-score   support\n",
            "\n",
            "         0.0       0.86      0.92      0.89     11360\n",
            "         1.0       0.69      0.55      0.61      3700\n",
            "\n",
            "    accuracy                           0.83     15060\n",
            "   macro avg       0.78      0.73      0.75     15060\n",
            "weighted avg       0.82      0.83      0.82     15060\n",
            "\n"
          ]
        }
      ]
    },
    {
      "cell_type": "markdown",
      "metadata": {
        "id": "nEWYBGdlYIhx"
      },
      "source": [
        "## Random Forest"
      ]
    },
    {
      "cell_type": "code",
      "metadata": {
        "colab": {
          "base_uri": "https://localhost:8080/"
        },
        "id": "YKlh8HESYM4l",
        "outputId": "f8aef3de-13c9-4735-db3b-d54634a6a91a"
      },
      "source": [
        "from sklearn.ensemble import RandomForestClassifier\n",
        "\n",
        "# fit the model on train set \n",
        "base_model = RandomForestClassifier(random_state=0)\n",
        "base_model.fit(X_train_processed, y_train)\n",
        "\n",
        "# test the model on test set \n",
        "y_pred = base_model.predict(X_test_processed)\n",
        "accuracy_score(y_pred, y_test)\n"
      ],
      "execution_count": 31,
      "outputs": [
        {
          "output_type": "execute_result",
          "data": {
            "text/plain": [
              "0.8164674634794157"
            ]
          },
          "metadata": {},
          "execution_count": 31
        }
      ]
    },
    {
      "cell_type": "code",
      "metadata": {
        "colab": {
          "base_uri": "https://localhost:8080/"
        },
        "id": "n8nW_5syYG2A",
        "outputId": "d76becd3-6a92-4951-d372-f681f6a24e3e"
      },
      "source": [
        "print(classification_report(y_test, y_pred))"
      ],
      "execution_count": 32,
      "outputs": [
        {
          "output_type": "stream",
          "name": "stdout",
          "text": [
            "              precision    recall  f1-score   support\n",
            "\n",
            "         0.0       0.86      0.90      0.88     11360\n",
            "         1.0       0.65      0.56      0.60      3700\n",
            "\n",
            "    accuracy                           0.82     15060\n",
            "   macro avg       0.75      0.73      0.74     15060\n",
            "weighted avg       0.81      0.82      0.81     15060\n",
            "\n"
          ]
        }
      ]
    },
    {
      "cell_type": "code",
      "metadata": {
        "colab": {
          "base_uri": "https://localhost:8080/"
        },
        "id": "td97jA-OjaRQ",
        "outputId": "d5b945a1-b574-4e6e-a686-87bd720fdb9c"
      },
      "source": [
        "from sklearn.model_selection import RandomizedSearchCV\n",
        "\n",
        "n_estimators = [int(x) for x in np.linspace(start = 10, stop = 500, num = 10)]\n",
        "max_features = ['auto', 'sqrt']\n",
        "max_depth = [int(x) for x in np.linspace(10, 110, num = 11)]\n",
        "max_depth.append(None)\n",
        "min_samples_split = [2, 5, 10]\n",
        "min_samples_leaf = [1, 2, 4]\n",
        "bootstrap = [True, False]\n",
        "random_grid = {'n_estimators': n_estimators,\n",
        "               'max_features': max_features,\n",
        "               'max_depth': max_depth,\n",
        "               'min_samples_split': min_samples_split,\n",
        "               'min_samples_leaf': min_samples_leaf,\n",
        "               'bootstrap': bootstrap}\n",
        "\n",
        "model = RandomForestClassifier(random_state=0)\n",
        "rf_random = RandomizedSearchCV(estimator = model, param_distributions = random_grid, n_iter = 20, cv = 3, verbose=2, random_state=42, n_jobs = -1)\n",
        "rf_random.fit(X_train_processed, y_train)"
      ],
      "execution_count": 29,
      "outputs": [
        {
          "output_type": "stream",
          "name": "stdout",
          "text": [
            "Fitting 3 folds for each of 20 candidates, totalling 60 fits\n"
          ]
        },
        {
          "output_type": "stream",
          "name": "stderr",
          "text": [
            "[Parallel(n_jobs=-1)]: Using backend LokyBackend with 2 concurrent workers.\n",
            "[Parallel(n_jobs=-1)]: Done  37 tasks      | elapsed:  2.8min\n",
            "[Parallel(n_jobs=-1)]: Done  60 out of  60 | elapsed:  5.2min finished\n"
          ]
        },
        {
          "output_type": "execute_result",
          "data": {
            "text/plain": [
              "RandomizedSearchCV(cv=3, error_score=nan,\n",
              "                   estimator=RandomForestClassifier(bootstrap=True,\n",
              "                                                    ccp_alpha=0.0,\n",
              "                                                    class_weight=None,\n",
              "                                                    criterion='gini',\n",
              "                                                    max_depth=None,\n",
              "                                                    max_features='auto',\n",
              "                                                    max_leaf_nodes=None,\n",
              "                                                    max_samples=None,\n",
              "                                                    min_impurity_decrease=0.0,\n",
              "                                                    min_impurity_split=None,\n",
              "                                                    min_samples_leaf=1,\n",
              "                                                    min_samples_split=2,\n",
              "                                                    min_weight_fraction_leaf=0.0,\n",
              "                                                    n_estimators=100,\n",
              "                                                    n_jobs...\n",
              "                   iid='deprecated', n_iter=20, n_jobs=-1,\n",
              "                   param_distributions={'bootstrap': [True, False],\n",
              "                                        'max_depth': [10, 20, 30, 40, 50, 60,\n",
              "                                                      70, 80, 90, 100, 110,\n",
              "                                                      None],\n",
              "                                        'max_features': ['auto', 'sqrt'],\n",
              "                                        'min_samples_leaf': [1, 2, 4],\n",
              "                                        'min_samples_split': [2, 5, 10],\n",
              "                                        'n_estimators': [10, 64, 118, 173, 227,\n",
              "                                                         282, 336, 391, 445,\n",
              "                                                         500]},\n",
              "                   pre_dispatch='2*n_jobs', random_state=42, refit=True,\n",
              "                   return_train_score=False, scoring=None, verbose=2)"
            ]
          },
          "metadata": {},
          "execution_count": 29
        }
      ]
    },
    {
      "cell_type": "code",
      "metadata": {
        "colab": {
          "base_uri": "https://localhost:8080/"
        },
        "id": "sYHAOQlrtxiS",
        "outputId": "aa27c62a-2b50-4dbb-f292-e0a369c231fa"
      },
      "source": [
        "y_pred = base_model.predict(X_test_processed)\n",
        "print(classification_report(y_test, y_pred))"
      ],
      "execution_count": 33,
      "outputs": [
        {
          "output_type": "stream",
          "name": "stdout",
          "text": [
            "              precision    recall  f1-score   support\n",
            "\n",
            "         0.0       0.86      0.90      0.88     11360\n",
            "         1.0       0.65      0.56      0.60      3700\n",
            "\n",
            "    accuracy                           0.82     15060\n",
            "   macro avg       0.75      0.73      0.74     15060\n",
            "weighted avg       0.81      0.82      0.81     15060\n",
            "\n"
          ]
        }
      ]
    },
    {
      "cell_type": "code",
      "metadata": {
        "colab": {
          "base_uri": "https://localhost:8080/"
        },
        "id": "BzEDuwa-uclO",
        "outputId": "230cce52-e5ac-4f5d-b902-3f25daf1c361"
      },
      "source": [
        "best_random = rf_random.best_estimator_\n",
        "y_pred = best_random.predict(X_test_processed)\n",
        "print(classification_report(y_test, y_pred))"
      ],
      "execution_count": 34,
      "outputs": [
        {
          "output_type": "stream",
          "name": "stdout",
          "text": [
            "              precision    recall  f1-score   support\n",
            "\n",
            "         0.0       0.87      0.92      0.90     11360\n",
            "         1.0       0.71      0.57      0.63      3700\n",
            "\n",
            "    accuracy                           0.84     15060\n",
            "   macro avg       0.79      0.75      0.76     15060\n",
            "weighted avg       0.83      0.84      0.83     15060\n",
            "\n"
          ]
        }
      ]
    },
    {
      "cell_type": "code",
      "metadata": {
        "colab": {
          "base_uri": "https://localhost:8080/"
        },
        "id": "YzBHQaabvAHO",
        "outputId": "382e5fad-7e9b-4527-e4c9-50ea4f037d7b"
      },
      "source": [
        "base_model.get_params"
      ],
      "execution_count": 39,
      "outputs": [
        {
          "output_type": "execute_result",
          "data": {
            "text/plain": [
              "<bound method BaseEstimator.get_params of RandomForestClassifier(bootstrap=True, ccp_alpha=0.0, class_weight=None,\n",
              "                       criterion='gini', max_depth=None, max_features='auto',\n",
              "                       max_leaf_nodes=None, max_samples=None,\n",
              "                       min_impurity_decrease=0.0, min_impurity_split=None,\n",
              "                       min_samples_leaf=1, min_samples_split=2,\n",
              "                       min_weight_fraction_leaf=0.0, n_estimators=100,\n",
              "                       n_jobs=None, oob_score=False, random_state=0, verbose=0,\n",
              "                       warm_start=False)>"
            ]
          },
          "metadata": {},
          "execution_count": 39
        }
      ]
    },
    {
      "cell_type": "code",
      "metadata": {
        "colab": {
          "base_uri": "https://localhost:8080/"
        },
        "id": "1y_MBy9tuqa-",
        "outputId": "5d5e8071-b075-49ef-94c6-17c635700b87"
      },
      "source": [
        "best_random.get_params"
      ],
      "execution_count": 38,
      "outputs": [
        {
          "output_type": "execute_result",
          "data": {
            "text/plain": [
              "<bound method BaseEstimator.get_params of RandomForestClassifier(bootstrap=True, ccp_alpha=0.0, class_weight=None,\n",
              "                       criterion='gini', max_depth=None, max_features='auto',\n",
              "                       max_leaf_nodes=None, max_samples=None,\n",
              "                       min_impurity_decrease=0.0, min_impurity_split=None,\n",
              "                       min_samples_leaf=4, min_samples_split=2,\n",
              "                       min_weight_fraction_leaf=0.0, n_estimators=391,\n",
              "                       n_jobs=None, oob_score=False, random_state=0, verbose=0,\n",
              "                       warm_start=False)>"
            ]
          },
          "metadata": {},
          "execution_count": 38
        }
      ]
    },
    {
      "cell_type": "markdown",
      "metadata": {
        "id": "LSXigjDZS7fy"
      },
      "source": [
        "#Problem 3 [Gradient computation] 25 points\n",
        "\n",
        "In this problem, you will derive the gradient descent update rules for a logistic regression model and for a\n",
        "simple neural network model with one hidden layer.\n",
        "\n",
        "(a) Consider a logistic regression model hθ(x) = g(θT x), where g(z) = 1\n",
        "1+e−z is the sigmoid function.\n",
        "Consider the cross-entropy objective for training data (xi, yi), i = 1, . . . ,\n",
        "\n",
        "![image.png](data:image/png;base64,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)\n",
        "\n",
        "Write down the gradient update rule for the model parameter θ if it is trained with gradient descent.\n",
        "\n",
        "(b) Consider a feed-forward neural network with one hidden layer and the sigmoid activation function.\n",
        "We will use the same cross-entropy objective as in part (a). Write down the update rules for model\n",
        "parameters during backpropagation."
      ]
    },
    {
      "cell_type": "markdown",
      "metadata": {
        "id": "bHxC_uFrTd3z"
      },
      "source": [
        "# Problem 4 [Backpropagation implementation] 30 points\n",
        "\n",
        "In this problem, you will implement your own backpropagation procedure for a neural network with one\n",
        "hidden layer.\n",
        "\n",
        "(a) Implement the backpropagation algorithm you derived in Problem 3, part (b), for a neural network with a single hidden layer, sigmoid activation, and cross-entropy objective.\n",
        "\n",
        "(b) Train the network for 20 epochs using mini-batch SGD with batches of size 128 and plot a graph on how the accuracy and cross-entropy loss function (computed on the testing set) vary with the number of epochs. You can select and fix the number of neurons in the hidden layer and the learning rate.\n",
        "\n",
        "(c) Vary the learning rate and report results for different learning rates (at least 3 different values). Discuss\n",
        "how the metrics change as a function of learning rate and number of epochs."
      ]
    },
    {
      "cell_type": "code",
      "metadata": {
        "colab": {
          "base_uri": "https://localhost:8080/"
        },
        "id": "h9DP61NLcX7k",
        "outputId": "6ed69cfa-87df-404f-c566-eb9085b01692"
      },
      "source": [
        "# data for NN training \n",
        "\n",
        "NN_X_train = X_train_processed.transpose()\n",
        "NN_y_train = y_train.values.reshape(-1,1).transpose()\n",
        "NN_X_test = X_test_processed.transpose()\n",
        "NN_y_test = y_test.values.reshape(-1,1).transpose()\n",
        "\n",
        "\n",
        "n_x = NN_X_train.shape[0]\n",
        "n_y = NN_y_train.shape[0]\n",
        "n_h = 4\n",
        "m = NN_y_train.shape[1]  \n",
        "\n",
        "# #test\n",
        "# n_x = 2\n",
        "# n_y = 1\n",
        "# n_h = 4\n",
        "# m = 400\n",
        "\n",
        "print ('The size of input is: ' + str(n_x))\n",
        "print ('The size of hidden layer is: ' + str(n_h))\n",
        "print ('The size of output is: ' + str(n_y))\n",
        "print ('training examples!', m)"
      ],
      "execution_count": 15,
      "outputs": [
        {
          "output_type": "stream",
          "name": "stdout",
          "text": [
            "The size of input is: 54\n",
            "The size of hidden layer is: 4\n",
            "The size of output is: 1\n",
            "training examples! 30162\n"
          ]
        }
      ]
    },
    {
      "cell_type": "code",
      "metadata": {
        "id": "3zSJC1a4vJhN"
      },
      "source": [
        "def sigmoid(z):\n",
        "    return 1/(1 + np.exp(-z))"
      ],
      "execution_count": 16,
      "outputs": []
    },
    {
      "cell_type": "code",
      "metadata": {
        "id": "dZhDk8dAkRRk"
      },
      "source": [
        "def initialize_parameters(n_x, n_h, n_y):\n",
        "  np.random.seed(2)\n",
        "\n",
        "  W1 = np.random.randn(n_h, n_x)*0.01\n",
        "  b1 = np.zeros(shape=(n_h, 1))\n",
        "  W2 = np.random.randn(n_y, n_h)*0.01\n",
        "  b2 = np.zeros(shape=(n_y, 1))\n",
        "\n",
        "  parameters = {\"W1\": W1,\n",
        "                \"b1\": b1,\n",
        "                \"W2\": W2,\n",
        "                \"b2\": b2}\n",
        "  \n",
        "  return parameters"
      ],
      "execution_count": 17,
      "outputs": []
    },
    {
      "cell_type": "code",
      "metadata": {
        "id": "mhVLSSQAnXsZ"
      },
      "source": [
        "def forward_propogation(X, parameters):\n",
        "  # get the parameters from the parameters dictionary\n",
        "  W1 = parameters['W1']\n",
        "  b1 = parameters['b1']\n",
        "  W2 = parameters['W2']\n",
        "  b2 = parameters['b2']\n",
        "\n",
        "  # forward propogation\n",
        "  Z1 = np.dot(W1, X) + b1\n",
        "  A1 = np.tanh(Z1)\n",
        "  Z2 = np.dot(W2, A1) + b2\n",
        "  A2 = sigmoid(Z2)\n",
        "\n",
        "  assert(A2.shape == (1, X.shape[1]))\n",
        "    \n",
        "  cache = {\"Z1\": Z1,\n",
        "            \"A1\": A1,\n",
        "            \"Z2\": Z2,\n",
        "            \"A2\": A2}\n",
        "  \n",
        "  return A2, cache"
      ],
      "execution_count": 18,
      "outputs": []
    },
    {
      "cell_type": "code",
      "metadata": {
        "id": "YLNyuV3b3c-_"
      },
      "source": [
        "# # test \n",
        "# X = np.random.randn(2,400)\n",
        "# parameters = initialize_parameters(n_x, n_h, n_y)\n",
        "# A2, cache = forward_propogation(X, parameters)"
      ],
      "execution_count": 91,
      "outputs": []
    },
    {
      "cell_type": "code",
      "metadata": {
        "id": "-pGmrJXyo9sr"
      },
      "source": [
        "def compute_loss(A2, Y, parameters):\n",
        "  m = Y.shape[1]\n",
        "\n",
        "  # logistic regression loss function \n",
        "\n",
        "  logprobs = np.log(A2)*Y + (1 - Y)*np.log(1 - A2)\n",
        "  cost = - np.sum(logprobs) / m\n",
        "\n",
        "  return np.squeeze(cost)"
      ],
      "execution_count": 19,
      "outputs": []
    },
    {
      "cell_type": "code",
      "metadata": {
        "id": "Gt5CKw1n3-cZ"
      },
      "source": [
        "# # test \n",
        "# Y = np.random.choice([0, 1], size=m, p=[.5, .5]).reshape(-1,1).transpose()\n",
        "# compute_loss(A2, Y, parameters)"
      ],
      "execution_count": 93,
      "outputs": []
    },
    {
      "cell_type": "code",
      "metadata": {
        "id": "P6pWoQklp94P"
      },
      "source": [
        "def backward_propogation(parameters, cache, X, Y):\n",
        "  # get the parameters from the dictionary\n",
        "\n",
        "  m = Y.shape[1]\n",
        "\n",
        "  W1 = parameters['W1']\n",
        "  W2 = parameters['W2']\n",
        "\n",
        "  A1 = cache['A1']\n",
        "  A2 = cache['A2']\n",
        "\n",
        "  # back propogation \n",
        "\n",
        "  dZ2= A2 - Y\n",
        "  dW2 = (1 / m) * np.dot(dZ2, A1.T)\n",
        "  db2 = (1 / m) * np.sum(dZ2, axis=1, keepdims=True)\n",
        "  dZ1 = np.dot(W2.T, dZ2)* (1 - np.power(A1, 2))\n",
        "  dW1 = (1 / m) * np.dot(dZ1, X.T)\n",
        "  db1 = (1 / m) * np.sum(dZ1, axis=1, keepdims=True)\n",
        "  \n",
        "  grads = {\"dW1\": dW1,\n",
        "            \"db1\": db1,\n",
        "            \"dW2\": dW2,\n",
        "            \"db2\": db2}\n",
        "  \n",
        "  return grads\n"
      ],
      "execution_count": 20,
      "outputs": []
    },
    {
      "cell_type": "code",
      "metadata": {
        "id": "x1SM8Rtd7Kr5"
      },
      "source": [
        "# # test\n",
        "# grads = backward_propogation(parameters, cache, X, Y)\n",
        "# grads"
      ],
      "execution_count": 73,
      "outputs": []
    },
    {
      "cell_type": "code",
      "metadata": {
        "id": "4e-GqApUmYmo"
      },
      "source": [
        "def parameters_update(parameters, grads, learning_rate=2):\n",
        "  W1 = parameters['W1']\n",
        "  b1 = parameters['b1']\n",
        "  W2 = parameters['W2']\n",
        "  b2 = parameters['b2']\n",
        "\n",
        "  dW1 = grads['dW1']\n",
        "  db1 = grads['db1']\n",
        "  dW2 = grads['dW2']\n",
        "  db2 = grads['db2']\n",
        "\n",
        "  W1 = W1 - learning_rate * dW1\n",
        "  b1 = b1 - learning_rate * db1\n",
        "  W2 = W2 - learning_rate * dW2\n",
        "  b2 = b2 - learning_rate * db2\n",
        "      \n",
        "  parameters = {\"W1\": W1,\n",
        "                \"b1\": b1,\n",
        "                \"W2\": W2,\n",
        "                \"b2\": b2}\n",
        "  \n",
        "  return parameters"
      ],
      "execution_count": 43,
      "outputs": []
    },
    {
      "cell_type": "code",
      "metadata": {
        "id": "8IDVwdUUtT2L"
      },
      "source": [
        "# with mini batch SGD \n",
        "\n",
        "parameters = initialize_parameters(n_x, n_h, n_y)\n",
        "W1 = parameters['W1']\n",
        "b1 = parameters['b1']\n",
        "W2 = parameters['W2']\n",
        "b2 = parameters['b2']\n",
        "\n",
        "def nn(parameters, X, Y):     \n",
        "  A2, cache = forward_propogation(X, parameters)\n",
        "  cost = compute_loss(A2, Y, parameters)  \n",
        "  grads = backward_propogation(parameters, cache, X, Y)\n",
        "  parameters = parameters_update(parameters, grads)\n",
        "  return parameters, cost"
      ],
      "execution_count": 44,
      "outputs": []
    },
    {
      "cell_type": "code",
      "metadata": {
        "id": "5k8x6j5LuRo9"
      },
      "source": [
        "#parameters = nn(NN_X_train, NN_y_train, num_iterations=1000)"
      ],
      "execution_count": 85,
      "outputs": []
    },
    {
      "cell_type": "code",
      "metadata": {
        "id": "czAuUh5rEalp"
      },
      "source": [
        "def predict(parameters, X):\n",
        "  A2, cache = forward_propogation(X, parameters)\n",
        "  predictions = np.where(A2 >= 0.5, 1, 0)\n",
        "  return predictions"
      ],
      "execution_count": 25,
      "outputs": []
    },
    {
      "cell_type": "code",
      "metadata": {
        "id": "_ZL-De2B9WqJ"
      },
      "source": [
        "n_iter = 20\n",
        "import sklearn \n",
        "\n",
        "def mini_batch(parameters, X_train, y_train, minibatch_size):\n",
        "    overall_loss = []\n",
        "    overall_accuracy = []\n",
        "    for iter in range(n_iter):        \n",
        "        X_train, y_train = sklearn.utils.shuffle(X_train, y_train)\n",
        "        for i in range(0, X_train.shape[0], minibatch_size):\n",
        "            X_train_mini = X_train[i:i + minibatch_size]\n",
        "            y_train_mini = y_train[i:i + minibatch_size]\n",
        "            parameters, cost = nn(parameters, X_train_mini.transpose(), y_train_mini.transpose())\n",
        "            overall_loss.append(cost)\n",
        "\n",
        "            # get the accuracy \n",
        "            NN_y_pred = predict(parameters, NN_X_test)\n",
        "            accuracy = accuracy_score(NN_y_pred.squeeze(), y_test)\n",
        "            overall_accuracy.append(accuracy)\n",
        "\n",
        "            if i% 100 == 0:\n",
        "              print (\"Cost after iteration %i: %f\" % (iter, cost))\n",
        "    return parameters, overall_loss, overall_accuracy"
      ],
      "execution_count": 26,
      "outputs": []
    },
    {
      "cell_type": "code",
      "metadata": {
        "colab": {
          "base_uri": "https://localhost:8080/"
        },
        "id": "Dmvwv0S5AMne",
        "outputId": "81e3522c-06a0-42d2-e39a-30b97ba280d2"
      },
      "source": [
        "minibatch_size = 128\n",
        "parameters, overall_loss, overall_accuracy = mini_batch(parameters, NN_X_train.transpose(), NN_y_train.transpose(), minibatch_size)"
      ],
      "execution_count": 50,
      "outputs": [
        {
          "output_type": "stream",
          "name": "stdout",
          "text": [
            "Cost after iteration 0: 0.374554\n",
            "Cost after iteration 0: 0.335027\n",
            "Cost after iteration 0: 0.279698\n",
            "Cost after iteration 0: 0.408980\n",
            "Cost after iteration 0: 0.296503\n",
            "Cost after iteration 0: 0.347480\n",
            "Cost after iteration 0: 0.447948\n",
            "Cost after iteration 0: 0.334307\n",
            "Cost after iteration 0: 0.441465\n",
            "Cost after iteration 0: 0.294498\n",
            "Cost after iteration 1: 0.315114\n",
            "Cost after iteration 1: 0.385763\n",
            "Cost after iteration 1: 0.340121\n",
            "Cost after iteration 1: 0.450981\n",
            "Cost after iteration 1: 0.446085\n",
            "Cost after iteration 1: 0.423553\n",
            "Cost after iteration 1: 0.368974\n",
            "Cost after iteration 1: 0.415269\n",
            "Cost after iteration 1: 0.411988\n",
            "Cost after iteration 1: 0.363651\n",
            "Cost after iteration 2: 0.298310\n",
            "Cost after iteration 2: 0.282289\n",
            "Cost after iteration 2: 0.371326\n",
            "Cost after iteration 2: 0.396219\n",
            "Cost after iteration 2: 0.354530\n",
            "Cost after iteration 2: 0.350590\n",
            "Cost after iteration 2: 0.324588\n",
            "Cost after iteration 2: 0.290415\n",
            "Cost after iteration 2: 0.373151\n",
            "Cost after iteration 2: 0.357294\n",
            "Cost after iteration 3: 0.344251\n",
            "Cost after iteration 3: 0.380974\n",
            "Cost after iteration 3: 0.363351\n",
            "Cost after iteration 3: 0.317950\n",
            "Cost after iteration 3: 0.360143\n",
            "Cost after iteration 3: 0.402870\n",
            "Cost after iteration 3: 0.280219\n",
            "Cost after iteration 3: 0.458359\n",
            "Cost after iteration 3: 0.354183\n",
            "Cost after iteration 3: 0.352386\n",
            "Cost after iteration 4: 0.322553\n",
            "Cost after iteration 4: 0.336030\n",
            "Cost after iteration 4: 0.368062\n",
            "Cost after iteration 4: 0.417772\n",
            "Cost after iteration 4: 0.415500\n",
            "Cost after iteration 4: 0.343051\n",
            "Cost after iteration 4: 0.361255\n",
            "Cost after iteration 4: 0.316469\n",
            "Cost after iteration 4: 0.282076\n",
            "Cost after iteration 4: 0.384584\n",
            "Cost after iteration 5: 0.292061\n",
            "Cost after iteration 5: 0.323235\n",
            "Cost after iteration 5: 0.351137\n",
            "Cost after iteration 5: 0.390743\n",
            "Cost after iteration 5: 0.253994\n",
            "Cost after iteration 5: 0.360420\n",
            "Cost after iteration 5: 0.303395\n",
            "Cost after iteration 5: 0.358383\n",
            "Cost after iteration 5: 0.337169\n",
            "Cost after iteration 5: 0.344437\n",
            "Cost after iteration 6: 0.337960\n",
            "Cost after iteration 6: 0.397386\n",
            "Cost after iteration 6: 0.372468\n",
            "Cost after iteration 6: 0.362677\n",
            "Cost after iteration 6: 0.319516\n",
            "Cost after iteration 6: 0.289346\n",
            "Cost after iteration 6: 0.413103\n",
            "Cost after iteration 6: 0.450926\n",
            "Cost after iteration 6: 0.315368\n",
            "Cost after iteration 6: 0.290326\n",
            "Cost after iteration 7: 0.272053\n",
            "Cost after iteration 7: 0.314527\n",
            "Cost after iteration 7: 0.297504\n",
            "Cost after iteration 7: 0.340085\n",
            "Cost after iteration 7: 0.362944\n",
            "Cost after iteration 7: 0.427353\n",
            "Cost after iteration 7: 0.374870\n",
            "Cost after iteration 7: 0.309253\n",
            "Cost after iteration 7: 0.394220\n",
            "Cost after iteration 7: 0.310761\n",
            "Cost after iteration 8: 0.344406\n",
            "Cost after iteration 8: 0.350410\n",
            "Cost after iteration 8: 0.358345\n",
            "Cost after iteration 8: 0.445278\n",
            "Cost after iteration 8: 0.340689\n",
            "Cost after iteration 8: 0.422715\n",
            "Cost after iteration 8: 0.400877\n",
            "Cost after iteration 8: 0.387188\n",
            "Cost after iteration 8: 0.311135\n",
            "Cost after iteration 8: 0.366018\n",
            "Cost after iteration 9: 0.404208\n",
            "Cost after iteration 9: 0.364257\n",
            "Cost after iteration 9: 0.287145\n",
            "Cost after iteration 9: 0.317646\n",
            "Cost after iteration 9: 0.338503\n",
            "Cost after iteration 9: 0.295350\n",
            "Cost after iteration 9: 0.517783\n",
            "Cost after iteration 9: 0.289036\n",
            "Cost after iteration 9: 0.305209\n",
            "Cost after iteration 9: 0.386534\n",
            "Cost after iteration 10: 0.381697\n",
            "Cost after iteration 10: 0.324266\n",
            "Cost after iteration 10: 0.386073\n",
            "Cost after iteration 10: 0.419663\n",
            "Cost after iteration 10: 0.425630\n",
            "Cost after iteration 10: 0.234540\n",
            "Cost after iteration 10: 0.316391\n",
            "Cost after iteration 10: 0.293790\n",
            "Cost after iteration 10: 0.308362\n",
            "Cost after iteration 10: 0.289367\n",
            "Cost after iteration 11: 0.307445\n",
            "Cost after iteration 11: 0.292326\n",
            "Cost after iteration 11: 0.303295\n",
            "Cost after iteration 11: 0.365346\n",
            "Cost after iteration 11: 0.277699\n",
            "Cost after iteration 11: 0.341183\n",
            "Cost after iteration 11: 0.423650\n",
            "Cost after iteration 11: 0.389103\n",
            "Cost after iteration 11: 0.263557\n",
            "Cost after iteration 11: 0.326520\n",
            "Cost after iteration 12: 0.293232\n",
            "Cost after iteration 12: 0.447989\n",
            "Cost after iteration 12: 0.398598\n",
            "Cost after iteration 12: 0.473817\n",
            "Cost after iteration 12: 0.374955\n",
            "Cost after iteration 12: 0.347923\n",
            "Cost after iteration 12: 0.311691\n",
            "Cost after iteration 12: 0.395249\n",
            "Cost after iteration 12: 0.343934\n",
            "Cost after iteration 12: 0.369348\n",
            "Cost after iteration 13: 0.385863\n",
            "Cost after iteration 13: 0.361454\n",
            "Cost after iteration 13: 0.421369\n",
            "Cost after iteration 13: 0.307916\n",
            "Cost after iteration 13: 0.335499\n",
            "Cost after iteration 13: 0.382397\n",
            "Cost after iteration 13: 0.376689\n",
            "Cost after iteration 13: 0.380955\n",
            "Cost after iteration 13: 0.460274\n",
            "Cost after iteration 13: 0.397285\n",
            "Cost after iteration 14: 0.290469\n",
            "Cost after iteration 14: 0.320132\n",
            "Cost after iteration 14: 0.362705\n",
            "Cost after iteration 14: 0.361386\n",
            "Cost after iteration 14: 0.384469\n",
            "Cost after iteration 14: 0.340902\n",
            "Cost after iteration 14: 0.265140\n",
            "Cost after iteration 14: 0.293662\n",
            "Cost after iteration 14: 0.316692\n",
            "Cost after iteration 14: 0.413182\n",
            "Cost after iteration 15: 0.249824\n",
            "Cost after iteration 15: 0.335105\n",
            "Cost after iteration 15: 0.402399\n",
            "Cost after iteration 15: 0.339792\n",
            "Cost after iteration 15: 0.364161\n",
            "Cost after iteration 15: 0.447288\n",
            "Cost after iteration 15: 0.384653\n",
            "Cost after iteration 15: 0.368646\n",
            "Cost after iteration 15: 0.388154\n",
            "Cost after iteration 15: 0.305555\n",
            "Cost after iteration 16: 0.311075\n",
            "Cost after iteration 16: 0.394703\n",
            "Cost after iteration 16: 0.412154\n",
            "Cost after iteration 16: 0.415103\n",
            "Cost after iteration 16: 0.343219\n",
            "Cost after iteration 16: 0.301681\n",
            "Cost after iteration 16: 0.300013\n",
            "Cost after iteration 16: 0.342260\n",
            "Cost after iteration 16: 0.333126\n",
            "Cost after iteration 16: 0.295727\n",
            "Cost after iteration 17: 0.308218\n",
            "Cost after iteration 17: 0.414281\n",
            "Cost after iteration 17: 0.431183\n",
            "Cost after iteration 17: 0.372413\n",
            "Cost after iteration 17: 0.380454\n",
            "Cost after iteration 17: 0.254308\n",
            "Cost after iteration 17: 0.396027\n",
            "Cost after iteration 17: 0.267199\n",
            "Cost after iteration 17: 0.531785\n",
            "Cost after iteration 17: 0.297781\n",
            "Cost after iteration 18: 0.367232\n",
            "Cost after iteration 18: 0.367016\n",
            "Cost after iteration 18: 0.290234\n",
            "Cost after iteration 18: 0.277518\n",
            "Cost after iteration 18: 0.326636\n",
            "Cost after iteration 18: 0.338608\n",
            "Cost after iteration 18: 0.364579\n",
            "Cost after iteration 18: 0.414038\n",
            "Cost after iteration 18: 0.442431\n",
            "Cost after iteration 18: 0.239140\n",
            "Cost after iteration 19: 0.369619\n",
            "Cost after iteration 19: 0.421969\n",
            "Cost after iteration 19: 0.338899\n",
            "Cost after iteration 19: 0.421220\n",
            "Cost after iteration 19: 0.335026\n",
            "Cost after iteration 19: 0.362893\n",
            "Cost after iteration 19: 0.339991\n",
            "Cost after iteration 19: 0.372312\n",
            "Cost after iteration 19: 0.318613\n",
            "Cost after iteration 19: 0.365750\n"
          ]
        }
      ]
    },
    {
      "cell_type": "code",
      "metadata": {
        "colab": {
          "base_uri": "https://localhost:8080/",
          "height": 295
        },
        "id": "0GXjhMjXDulA",
        "outputId": "cf077f79-1ef9-4ea4-e224-878a488d6c4b"
      },
      "source": [
        "import matplotlib.pyplot as plt\n",
        "plt.plot(overall_loss, color='blue')\n",
        "plt.plot(overall_accuracy, color='green')\n",
        "plt.xlabel('number of iterations')\n",
        "plt.title('Mini Batch Gradient descent of NN')\n",
        "plt.show()"
      ],
      "execution_count": 51,
      "outputs": [
        {
          "output_type": "display_data",
          "data": {
            "image/png": "[encoded data removed]",
            "text/plain": [
              "<Figure size 432x288 with 1 Axes>"
            ]
          },
          "metadata": {
            "needs_background": "light"
          }
        }
      ]
    },
    {
      "cell_type": "code",
      "metadata": {
        "id": "XFwCtZrj9Hen"
      },
      "source": [
        "NN_y_pred = predict(parameters, NN_X_test)"
      ],
      "execution_count": 47,
      "outputs": []
    },
    {
      "cell_type": "code",
      "metadata": {
        "colab": {
          "base_uri": "https://localhost:8080/"
        },
        "id": "WTG-onbh9owY",
        "outputId": "347eabe9-f261-481e-8cf4-0dd61c9cbb39"
      },
      "source": [
        "np.unique(NN_y_pred, return_counts=True)"
      ],
      "execution_count": 48,
      "outputs": [
        {
          "output_type": "execute_result",
          "data": {
            "text/plain": [
              "(array([0, 1]), array([11373,  3687]))"
            ]
          },
          "metadata": {},
          "execution_count": 48
        }
      ]
    },
    {
      "cell_type": "code",
      "metadata": {
        "colab": {
          "base_uri": "https://localhost:8080/"
        },
        "id": "3tRQYdPN25wg",
        "outputId": "b8216aa4-209c-4b13-c234-5191358c6e7e"
      },
      "source": [
        "from sklearn.metrics import classification_report\n",
        "print(classification_report(y_test, NN_y_pred.squeeze()))"
      ],
      "execution_count": 49,
      "outputs": [
        {
          "output_type": "stream",
          "name": "stdout",
          "text": [
            "              precision    recall  f1-score   support\n",
            "\n",
            "         0.0       0.88      0.89      0.89     11360\n",
            "         1.0       0.65      0.65      0.65      3700\n",
            "\n",
            "    accuracy                           0.83     15060\n",
            "   macro avg       0.77      0.77      0.77     15060\n",
            "weighted avg       0.83      0.83      0.83     15060\n",
            "\n"
          ]
        }
      ]
    },
    {
      "cell_type": "markdown",
      "metadata": {
        "id": "PkQYnrevKimI"
      },
      "source": [
        "# **References** \n",
        "\n",
        "https://stackoverflow.com/questions/25427650/sklearn-logisticregression-without-regularization\n",
        "\n",
        "https://stackoverflow.com/questions/48185090/how-to-get-the-log-likelihood-for-a-logistic-regression-model-in-sklearn\n",
        "\n",
        "https://stackoverflow.com/questions/25009284/how-to-plot-roc-curve-in-python\n",
        "\n",
        "https://towardsdatascience.com/hyperparameter-tuning-the-random-forest-in-python-using-scikit-learn-28d2aa77dd74"
      ]
    }
  ]
}