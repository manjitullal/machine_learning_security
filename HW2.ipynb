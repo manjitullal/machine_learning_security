{
  "nbformat": 4,
  "nbformat_minor": 0,
  "metadata": {
    "colab": {
      "name": "HW2.ipynb",
      "provenance": [],
      "collapsed_sections": [],
      "toc_visible": true,
      "machine_shape": "hm"
    },
    "kernelspec": {
      "name": "python3",
      "display_name": "Python 3"
    },
    "language_info": {
      "name": "python"
    },
    "accelerator": "GPU",
    "widgets": {
      "application/vnd.jupyter.widget-state+json": {
        "9477e375001a487c93fbab18fe2b7c6c": {
          "model_module": "@jupyter-widgets/controls",
          "model_name": "HBoxModel",
          "model_module_version": "1.5.0",
          "state": {
            "_view_name": "HBoxView",
            "_dom_classes": [],
            "_model_name": "HBoxModel",
            "_view_module": "@jupyter-widgets/controls",
            "_model_module_version": "1.5.0",
            "_view_count": null,
            "_view_module_version": "1.5.0",
            "box_style": "",
            "layout": "IPY_MODEL_38230c33d8b94d498652d01ceebfd9b6",
            "_model_module": "@jupyter-widgets/controls",
            "children": [
              "IPY_MODEL_1ad867c23951477b8211d0f2ffbde800",
              "IPY_MODEL_bf4ec0e42c9a45ddbfaf1f5b11a8358b",
              "IPY_MODEL_b76474e8ad604206a3b16cb83c901eb1"
            ]
          }
        },
        "38230c33d8b94d498652d01ceebfd9b6": {
          "model_module": "@jupyter-widgets/base",
          "model_name": "LayoutModel",
          "model_module_version": "1.2.0",
          "state": {
            "_view_name": "LayoutView",
            "grid_template_rows": null,
            "right": null,
            "justify_content": null,
            "_view_module": "@jupyter-widgets/base",
            "overflow": null,
            "_model_module_version": "1.2.0",
            "_view_count": null,
            "flex_flow": null,
            "width": null,
            "min_width": null,
            "border": null,
            "align_items": null,
            "bottom": null,
            "_model_module": "@jupyter-widgets/base",
            "top": null,
            "grid_column": null,
            "overflow_y": null,
            "overflow_x": null,
            "grid_auto_flow": null,
            "grid_area": null,
            "grid_template_columns": null,
            "flex": null,
            "_model_name": "LayoutModel",
            "justify_items": null,
            "grid_row": null,
            "max_height": null,
            "align_content": null,
            "visibility": null,
            "align_self": null,
            "height": null,
            "min_height": null,
            "padding": null,
            "grid_auto_rows": null,
            "grid_gap": null,
            "max_width": null,
            "order": null,
            "_view_module_version": "1.2.0",
            "grid_template_areas": null,
            "object_position": null,
            "object_fit": null,
            "grid_auto_columns": null,
            "margin": null,
            "display": null,
            "left": null
          }
        },
        "1ad867c23951477b8211d0f2ffbde800": {
          "model_module": "@jupyter-widgets/controls",
          "model_name": "HTMLModel",
          "model_module_version": "1.5.0",
          "state": {
            "_view_name": "HTMLView",
            "style": "IPY_MODEL_6394cb9ba0a6454eb5d6c850bf48c348",
            "_dom_classes": [],
            "description": "",
            "_model_name": "HTMLModel",
            "placeholder": "​",
            "_view_module": "@jupyter-widgets/controls",
            "_model_module_version": "1.5.0",
            "value": "",
            "_view_count": null,
            "_view_module_version": "1.5.0",
            "description_tooltip": null,
            "_model_module": "@jupyter-widgets/controls",
            "layout": "IPY_MODEL_167bd2c8654a4cf08ae9d90b89538479"
          }
        },
        "bf4ec0e42c9a45ddbfaf1f5b11a8358b": {
          "model_module": "@jupyter-widgets/controls",
          "model_name": "FloatProgressModel",
          "model_module_version": "1.5.0",
          "state": {
            "_view_name": "ProgressView",
            "style": "IPY_MODEL_7f5a39c2d22c49ae8acc474422e6cfc6",
            "_dom_classes": [],
            "description": "",
            "_model_name": "FloatProgressModel",
            "bar_style": "success",
            "max": 9912422,
            "_view_module": "@jupyter-widgets/controls",
            "_model_module_version": "1.5.0",
            "value": 9912422,
            "_view_count": null,
            "_view_module_version": "1.5.0",
            "orientation": "horizontal",
            "min": 0,
            "description_tooltip": null,
            "_model_module": "@jupyter-widgets/controls",
            "layout": "IPY_MODEL_083bcdda753a44018ab4225fce3c2182"
          }
        },
        "b76474e8ad604206a3b16cb83c901eb1": {
          "model_module": "@jupyter-widgets/controls",
          "model_name": "HTMLModel",
          "model_module_version": "1.5.0",
          "state": {
            "_view_name": "HTMLView",
            "style": "IPY_MODEL_c77ffbe15a884ff8b5fc98524ef9dc54",
            "_dom_classes": [],
            "description": "",
            "_model_name": "HTMLModel",
            "placeholder": "​",
            "_view_module": "@jupyter-widgets/controls",
            "_model_module_version": "1.5.0",
            "value": " 9913344/? [00:00&lt;00:00, 35225376.76it/s]",
            "_view_count": null,
            "_view_module_version": "1.5.0",
            "description_tooltip": null,
            "_model_module": "@jupyter-widgets/controls",
            "layout": "IPY_MODEL_ddce587a386a426e80fd319d38bec80a"
          }
        },
        "6394cb9ba0a6454eb5d6c850bf48c348": {
          "model_module": "@jupyter-widgets/controls",
          "model_name": "DescriptionStyleModel",
          "model_module_version": "1.5.0",
          "state": {
            "_view_name": "StyleView",
            "_model_name": "DescriptionStyleModel",
            "description_width": "",
            "_view_module": "@jupyter-widgets/base",
            "_model_module_version": "1.5.0",
            "_view_count": null,
            "_view_module_version": "1.2.0",
            "_model_module": "@jupyter-widgets/controls"
          }
        },
        "167bd2c8654a4cf08ae9d90b89538479": {
          "model_module": "@jupyter-widgets/base",
          "model_name": "LayoutModel",
          "model_module_version": "1.2.0",
          "state": {
            "_view_name": "LayoutView",
            "grid_template_rows": null,
            "right": null,
            "justify_content": null,
            "_view_module": "@jupyter-widgets/base",
            "overflow": null,
            "_model_module_version": "1.2.0",
            "_view_count": null,
            "flex_flow": null,
            "width": null,
            "min_width": null,
            "border": null,
            "align_items": null,
            "bottom": null,
            "_model_module": "@jupyter-widgets/base",
            "top": null,
            "grid_column": null,
            "overflow_y": null,
            "overflow_x": null,
            "grid_auto_flow": null,
            "grid_area": null,
            "grid_template_columns": null,
            "flex": null,
            "_model_name": "LayoutModel",
            "justify_items": null,
            "grid_row": null,
            "max_height": null,
            "align_content": null,
            "visibility": null,
            "align_self": null,
            "height": null,
            "min_height": null,
            "padding": null,
            "grid_auto_rows": null,
            "grid_gap": null,
            "max_width": null,
            "order": null,
            "_view_module_version": "1.2.0",
            "grid_template_areas": null,
            "object_position": null,
            "object_fit": null,
            "grid_auto_columns": null,
            "margin": null,
            "display": null,
            "left": null
          }
        },
        "7f5a39c2d22c49ae8acc474422e6cfc6": {
          "model_module": "@jupyter-widgets/controls",
          "model_name": "ProgressStyleModel",
          "model_module_version": "1.5.0",
          "state": {
            "_view_name": "StyleView",
            "_model_name": "ProgressStyleModel",
            "description_width": "",
            "_view_module": "@jupyter-widgets/base",
            "_model_module_version": "1.5.0",
            "_view_count": null,
            "_view_module_version": "1.2.0",
            "bar_color": null,
            "_model_module": "@jupyter-widgets/controls"
          }
        },
        "083bcdda753a44018ab4225fce3c2182": {
          "model_module": "@jupyter-widgets/base",
          "model_name": "LayoutModel",
          "model_module_version": "1.2.0",
          "state": {
            "_view_name": "LayoutView",
            "grid_template_rows": null,
            "right": null,
            "justify_content": null,
            "_view_module": "@jupyter-widgets/base",
            "overflow": null,
            "_model_module_version": "1.2.0",
            "_view_count": null,
            "flex_flow": null,
            "width": null,
            "min_width": null,
            "border": null,
            "align_items": null,
            "bottom": null,
            "_model_module": "@jupyter-widgets/base",
            "top": null,
            "grid_column": null,
            "overflow_y": null,
            "overflow_x": null,
            "grid_auto_flow": null,
            "grid_area": null,
            "grid_template_columns": null,
            "flex": null,
            "_model_name": "LayoutModel",
            "justify_items": null,
            "grid_row": null,
            "max_height": null,
            "align_content": null,
            "visibility": null,
            "align_self": null,
            "height": null,
            "min_height": null,
            "padding": null,
            "grid_auto_rows": null,
            "grid_gap": null,
            "max_width": null,
            "order": null,
            "_view_module_version": "1.2.0",
            "grid_template_areas": null,
            "object_position": null,
            "object_fit": null,
            "grid_auto_columns": null,
            "margin": null,
            "display": null,
            "left": null
          }
        },
        "c77ffbe15a884ff8b5fc98524ef9dc54": {
          "model_module": "@jupyter-widgets/controls",
          "model_name": "DescriptionStyleModel",
          "model_module_version": "1.5.0",
          "state": {
            "_view_name": "StyleView",
            "_model_name": "DescriptionStyleModel",
            "description_width": "",
            "_view_module": "@jupyter-widgets/base",
            "_model_module_version": "1.5.0",
            "_view_count": null,
            "_view_module_version": "1.2.0",
            "_model_module": "@jupyter-widgets/controls"
          }
        },
        "ddce587a386a426e80fd319d38bec80a": {
          "model_module": "@jupyter-widgets/base",
          "model_name": "LayoutModel",
          "model_module_version": "1.2.0",
          "state": {
            "_view_name": "LayoutView",
            "grid_template_rows": null,
            "right": null,
            "justify_content": null,
            "_view_module": "@jupyter-widgets/base",
            "overflow": null,
            "_model_module_version": "1.2.0",
            "_view_count": null,
            "flex_flow": null,
            "width": null,
            "min_width": null,
            "border": null,
            "align_items": null,
            "bottom": null,
            "_model_module": "@jupyter-widgets/base",
            "top": null,
            "grid_column": null,
            "overflow_y": null,
            "overflow_x": null,
            "grid_auto_flow": null,
            "grid_area": null,
            "grid_template_columns": null,
            "flex": null,
            "_model_name": "LayoutModel",
            "justify_items": null,
            "grid_row": null,
            "max_height": null,
            "align_content": null,
            "visibility": null,
            "align_self": null,
            "height": null,
            "min_height": null,
            "padding": null,
            "grid_auto_rows": null,
            "grid_gap": null,
            "max_width": null,
            "order": null,
            "_view_module_version": "1.2.0",
            "grid_template_areas": null,
            "object_position": null,
            "object_fit": null,
            "grid_auto_columns": null,
            "margin": null,
            "display": null,
            "left": null
          }
        },
        "b44a19f28a3b41bd84365c8c41c7f267": {
          "model_module": "@jupyter-widgets/controls",
          "model_name": "HBoxModel",
          "model_module_version": "1.5.0",
          "state": {
            "_view_name": "HBoxView",
            "_dom_classes": [],
            "_model_name": "HBoxModel",
            "_view_module": "@jupyter-widgets/controls",
            "_model_module_version": "1.5.0",
            "_view_count": null,
            "_view_module_version": "1.5.0",
            "box_style": "",
            "layout": "IPY_MODEL_882723b300404879a77b637812ab3494",
            "_model_module": "@jupyter-widgets/controls",
            "children": [
              "IPY_MODEL_3ad37207d23149b985073239e7ad3606",
              "IPY_MODEL_edab6724252d419ebe2d8ee90644c5a9",
              "IPY_MODEL_ea4b893d9171407783175a6bae21e67d"
            ]
          }
        },
        "882723b300404879a77b637812ab3494": {
          "model_module": "@jupyter-widgets/base",
          "model_name": "LayoutModel",
          "model_module_version": "1.2.0",
          "state": {
            "_view_name": "LayoutView",
            "grid_template_rows": null,
            "right": null,
            "justify_content": null,
            "_view_module": "@jupyter-widgets/base",
            "overflow": null,
            "_model_module_version": "1.2.0",
            "_view_count": null,
            "flex_flow": null,
            "width": null,
            "min_width": null,
            "border": null,
            "align_items": null,
            "bottom": null,
            "_model_module": "@jupyter-widgets/base",
            "top": null,
            "grid_column": null,
            "overflow_y": null,
            "overflow_x": null,
            "grid_auto_flow": null,
            "grid_area": null,
            "grid_template_columns": null,
            "flex": null,
            "_model_name": "LayoutModel",
            "justify_items": null,
            "grid_row": null,
            "max_height": null,
            "align_content": null,
            "visibility": null,
            "align_self": null,
            "height": null,
            "min_height": null,
            "padding": null,
            "grid_auto_rows": null,
            "grid_gap": null,
            "max_width": null,
            "order": null,
            "_view_module_version": "1.2.0",
            "grid_template_areas": null,
            "object_position": null,
            "object_fit": null,
            "grid_auto_columns": null,
            "margin": null,
            "display": null,
            "left": null
          }
        },
        "3ad37207d23149b985073239e7ad3606": {
          "model_module": "@jupyter-widgets/controls",
          "model_name": "HTMLModel",
          "model_module_version": "1.5.0",
          "state": {
            "_view_name": "HTMLView",
            "style": "IPY_MODEL_d181ed43f059411cb3376ea36a0a5870",
            "_dom_classes": [],
            "description": "",
            "_model_name": "HTMLModel",
            "placeholder": "​",
            "_view_module": "@jupyter-widgets/controls",
            "_model_module_version": "1.5.0",
            "value": "",
            "_view_count": null,
            "_view_module_version": "1.5.0",
            "description_tooltip": null,
            "_model_module": "@jupyter-widgets/controls",
            "layout": "IPY_MODEL_c4ed5001d4424ce8ad0f16cb34e5b910"
          }
        },
        "edab6724252d419ebe2d8ee90644c5a9": {
          "model_module": "@jupyter-widgets/controls",
          "model_name": "FloatProgressModel",
          "model_module_version": "1.5.0",
          "state": {
            "_view_name": "ProgressView",
            "style": "IPY_MODEL_e5ecc6cb7a5441a9bdd36f5776d586ee",
            "_dom_classes": [],
            "description": "",
            "_model_name": "FloatProgressModel",
            "bar_style": "success",
            "max": 28881,
            "_view_module": "@jupyter-widgets/controls",
            "_model_module_version": "1.5.0",
            "value": 28881,
            "_view_count": null,
            "_view_module_version": "1.5.0",
            "orientation": "horizontal",
            "min": 0,
            "description_tooltip": null,
            "_model_module": "@jupyter-widgets/controls",
            "layout": "IPY_MODEL_887742c2ee6548818d359fe6a05a3589"
          }
        },
        "ea4b893d9171407783175a6bae21e67d": {
          "model_module": "@jupyter-widgets/controls",
          "model_name": "HTMLModel",
          "model_module_version": "1.5.0",
          "state": {
            "_view_name": "HTMLView",
            "style": "IPY_MODEL_19baa0c372f44b829057de9564b89d6a",
            "_dom_classes": [],
            "description": "",
            "_model_name": "HTMLModel",
            "placeholder": "​",
            "_view_module": "@jupyter-widgets/controls",
            "_model_module_version": "1.5.0",
            "value": " 29696/? [00:00&lt;00:00, 922199.08it/s]",
            "_view_count": null,
            "_view_module_version": "1.5.0",
            "description_tooltip": null,
            "_model_module": "@jupyter-widgets/controls",
            "layout": "IPY_MODEL_67de6be8c932442aa6a72fb79de49c1d"
          }
        },
        "d181ed43f059411cb3376ea36a0a5870": {
          "model_module": "@jupyter-widgets/controls",
          "model_name": "DescriptionStyleModel",
          "model_module_version": "1.5.0",
          "state": {
            "_view_name": "StyleView",
            "_model_name": "DescriptionStyleModel",
            "description_width": "",
            "_view_module": "@jupyter-widgets/base",
            "_model_module_version": "1.5.0",
            "_view_count": null,
            "_view_module_version": "1.2.0",
            "_model_module": "@jupyter-widgets/controls"
          }
        },
        "c4ed5001d4424ce8ad0f16cb34e5b910": {
          "model_module": "@jupyter-widgets/base",
          "model_name": "LayoutModel",
          "model_module_version": "1.2.0",
          "state": {
            "_view_name": "LayoutView",
            "grid_template_rows": null,
            "right": null,
            "justify_content": null,
            "_view_module": "@jupyter-widgets/base",
            "overflow": null,
            "_model_module_version": "1.2.0",
            "_view_count": null,
            "flex_flow": null,
            "width": null,
            "min_width": null,
            "border": null,
            "align_items": null,
            "bottom": null,
            "_model_module": "@jupyter-widgets/base",
            "top": null,
            "grid_column": null,
            "overflow_y": null,
            "overflow_x": null,
            "grid_auto_flow": null,
            "grid_area": null,
            "grid_template_columns": null,
            "flex": null,
            "_model_name": "LayoutModel",
            "justify_items": null,
            "grid_row": null,
            "max_height": null,
            "align_content": null,
            "visibility": null,
            "align_self": null,
            "height": null,
            "min_height": null,
            "padding": null,
            "grid_auto_rows": null,
            "grid_gap": null,
            "max_width": null,
            "order": null,
            "_view_module_version": "1.2.0",
            "grid_template_areas": null,
            "object_position": null,
            "object_fit": null,
            "grid_auto_columns": null,
            "margin": null,
            "display": null,
            "left": null
          }
        },
        "e5ecc6cb7a5441a9bdd36f5776d586ee": {
          "model_module": "@jupyter-widgets/controls",
          "model_name": "ProgressStyleModel",
          "model_module_version": "1.5.0",
          "state": {
            "_view_name": "StyleView",
            "_model_name": "ProgressStyleModel",
            "description_width": "",
            "_view_module": "@jupyter-widgets/base",
            "_model_module_version": "1.5.0",
            "_view_count": null,
            "_view_module_version": "1.2.0",
            "bar_color": null,
            "_model_module": "@jupyter-widgets/controls"
          }
        },
        "887742c2ee6548818d359fe6a05a3589": {
          "model_module": "@jupyter-widgets/base",
          "model_name": "LayoutModel",
          "model_module_version": "1.2.0",
          "state": {
            "_view_name": "LayoutView",
            "grid_template_rows": null,
            "right": null,
            "justify_content": null,
            "_view_module": "@jupyter-widgets/base",
            "overflow": null,
            "_model_module_version": "1.2.0",
            "_view_count": null,
            "flex_flow": null,
            "width": null,
            "min_width": null,
            "border": null,
            "align_items": null,
            "bottom": null,
            "_model_module": "@jupyter-widgets/base",
            "top": null,
            "grid_column": null,
            "overflow_y": null,
            "overflow_x": null,
            "grid_auto_flow": null,
            "grid_area": null,
            "grid_template_columns": null,
            "flex": null,
            "_model_name": "LayoutModel",
            "justify_items": null,
            "grid_row": null,
            "max_height": null,
            "align_content": null,
            "visibility": null,
            "align_self": null,
            "height": null,
            "min_height": null,
            "padding": null,
            "grid_auto_rows": null,
            "grid_gap": null,
            "max_width": null,
            "order": null,
            "_view_module_version": "1.2.0",
            "grid_template_areas": null,
            "object_position": null,
            "object_fit": null,
            "grid_auto_columns": null,
            "margin": null,
            "display": null,
            "left": null
          }
        },
        "19baa0c372f44b829057de9564b89d6a": {
          "model_module": "@jupyter-widgets/controls",
          "model_name": "DescriptionStyleModel",
          "model_module_version": "1.5.0",
          "state": {
            "_view_name": "StyleView",
            "_model_name": "DescriptionStyleModel",
            "description_width": "",
            "_view_module": "@jupyter-widgets/base",
            "_model_module_version": "1.5.0",
            "_view_count": null,
            "_view_module_version": "1.2.0",
            "_model_module": "@jupyter-widgets/controls"
          }
        },
        "67de6be8c932442aa6a72fb79de49c1d": {
          "model_module": "@jupyter-widgets/base",
          "model_name": "LayoutModel",
          "model_module_version": "1.2.0",
          "state": {
            "_view_name": "LayoutView",
            "grid_template_rows": null,
            "right": null,
            "justify_content": null,
            "_view_module": "@jupyter-widgets/base",
            "overflow": null,
            "_model_module_version": "1.2.0",
            "_view_count": null,
            "flex_flow": null,
            "width": null,
            "min_width": null,
            "border": null,
            "align_items": null,
            "bottom": null,
            "_model_module": "@jupyter-widgets/base",
            "top": null,
            "grid_column": null,
            "overflow_y": null,
            "overflow_x": null,
            "grid_auto_flow": null,
            "grid_area": null,
            "grid_template_columns": null,
            "flex": null,
            "_model_name": "LayoutModel",
            "justify_items": null,
            "grid_row": null,
            "max_height": null,
            "align_content": null,
            "visibility": null,
            "align_self": null,
            "height": null,
            "min_height": null,
            "padding": null,
            "grid_auto_rows": null,
            "grid_gap": null,
            "max_width": null,
            "order": null,
            "_view_module_version": "1.2.0",
            "grid_template_areas": null,
            "object_position": null,
            "object_fit": null,
            "grid_auto_columns": null,
            "margin": null,
            "display": null,
            "left": null
          }
        },
        "3a3e69545fbe4641a37c44a5fd1cf953": {
          "model_module": "@jupyter-widgets/controls",
          "model_name": "HBoxModel",
          "model_module_version": "1.5.0",
          "state": {
            "_view_name": "HBoxView",
            "_dom_classes": [],
            "_model_name": "HBoxModel",
            "_view_module": "@jupyter-widgets/controls",
            "_model_module_version": "1.5.0",
            "_view_count": null,
            "_view_module_version": "1.5.0",
            "box_style": "",
            "layout": "IPY_MODEL_36ee28d5f742413e9e4890b4bbff1c07",
            "_model_module": "@jupyter-widgets/controls",
            "children": [
              "IPY_MODEL_8fb4c50dc7724b1ba2837258d2857afc",
              "IPY_MODEL_be19cf464f794c8a8c21ccae588c6928",
              "IPY_MODEL_dd3f37073bc64359b297403488c10e71"
            ]
          }
        },
        "36ee28d5f742413e9e4890b4bbff1c07": {
          "model_module": "@jupyter-widgets/base",
          "model_name": "LayoutModel",
          "model_module_version": "1.2.0",
          "state": {
            "_view_name": "LayoutView",
            "grid_template_rows": null,
            "right": null,
            "justify_content": null,
            "_view_module": "@jupyter-widgets/base",
            "overflow": null,
            "_model_module_version": "1.2.0",
            "_view_count": null,
            "flex_flow": null,
            "width": null,
            "min_width": null,
            "border": null,
            "align_items": null,
            "bottom": null,
            "_model_module": "@jupyter-widgets/base",
            "top": null,
            "grid_column": null,
            "overflow_y": null,
            "overflow_x": null,
            "grid_auto_flow": null,
            "grid_area": null,
            "grid_template_columns": null,
            "flex": null,
            "_model_name": "LayoutModel",
            "justify_items": null,
            "grid_row": null,
            "max_height": null,
            "align_content": null,
            "visibility": null,
            "align_self": null,
            "height": null,
            "min_height": null,
            "padding": null,
            "grid_auto_rows": null,
            "grid_gap": null,
            "max_width": null,
            "order": null,
            "_view_module_version": "1.2.0",
            "grid_template_areas": null,
            "object_position": null,
            "object_fit": null,
            "grid_auto_columns": null,
            "margin": null,
            "display": null,
            "left": null
          }
        },
        "8fb4c50dc7724b1ba2837258d2857afc": {
          "model_module": "@jupyter-widgets/controls",
          "model_name": "HTMLModel",
          "model_module_version": "1.5.0",
          "state": {
            "_view_name": "HTMLView",
            "style": "IPY_MODEL_fd7705aa558a474c8a32b3f67283088d",
            "_dom_classes": [],
            "description": "",
            "_model_name": "HTMLModel",
            "placeholder": "​",
            "_view_module": "@jupyter-widgets/controls",
            "_model_module_version": "1.5.0",
            "value": "",
            "_view_count": null,
            "_view_module_version": "1.5.0",
            "description_tooltip": null,
            "_model_module": "@jupyter-widgets/controls",
            "layout": "IPY_MODEL_132f859f925b46df9b08ecdd7acbd6ef"
          }
        },
        "be19cf464f794c8a8c21ccae588c6928": {
          "model_module": "@jupyter-widgets/controls",
          "model_name": "FloatProgressModel",
          "model_module_version": "1.5.0",
          "state": {
            "_view_name": "ProgressView",
            "style": "IPY_MODEL_1b68e986a45f41d3b2d73bf015e4b865",
            "_dom_classes": [],
            "description": "",
            "_model_name": "FloatProgressModel",
            "bar_style": "success",
            "max": 1648877,
            "_view_module": "@jupyter-widgets/controls",
            "_model_module_version": "1.5.0",
            "value": 1648877,
            "_view_count": null,
            "_view_module_version": "1.5.0",
            "orientation": "horizontal",
            "min": 0,
            "description_tooltip": null,
            "_model_module": "@jupyter-widgets/controls",
            "layout": "IPY_MODEL_aff11c3f5ce6474498fa08fa3216a1d2"
          }
        },
        "dd3f37073bc64359b297403488c10e71": {
          "model_module": "@jupyter-widgets/controls",
          "model_name": "HTMLModel",
          "model_module_version": "1.5.0",
          "state": {
            "_view_name": "HTMLView",
            "style": "IPY_MODEL_04e8f3456f6044d49f3018290a32d085",
            "_dom_classes": [],
            "description": "",
            "_model_name": "HTMLModel",
            "placeholder": "​",
            "_view_module": "@jupyter-widgets/controls",
            "_model_module_version": "1.5.0",
            "value": " 1649664/? [00:00&lt;00:00, 4146946.89it/s]",
            "_view_count": null,
            "_view_module_version": "1.5.0",
            "description_tooltip": null,
            "_model_module": "@jupyter-widgets/controls",
            "layout": "IPY_MODEL_d050a90d9f0f46a2b61511d9ddd01c29"
          }
        },
        "fd7705aa558a474c8a32b3f67283088d": {
          "model_module": "@jupyter-widgets/controls",
          "model_name": "DescriptionStyleModel",
          "model_module_version": "1.5.0",
          "state": {
            "_view_name": "StyleView",
            "_model_name": "DescriptionStyleModel",
            "description_width": "",
            "_view_module": "@jupyter-widgets/base",
            "_model_module_version": "1.5.0",
            "_view_count": null,
            "_view_module_version": "1.2.0",
            "_model_module": "@jupyter-widgets/controls"
          }
        },
        "132f859f925b46df9b08ecdd7acbd6ef": {
          "model_module": "@jupyter-widgets/base",
          "model_name": "LayoutModel",
          "model_module_version": "1.2.0",
          "state": {
            "_view_name": "LayoutView",
            "grid_template_rows": null,
            "right": null,
            "justify_content": null,
            "_view_module": "@jupyter-widgets/base",
            "overflow": null,
            "_model_module_version": "1.2.0",
            "_view_count": null,
            "flex_flow": null,
            "width": null,
            "min_width": null,
            "border": null,
            "align_items": null,
            "bottom": null,
            "_model_module": "@jupyter-widgets/base",
            "top": null,
            "grid_column": null,
            "overflow_y": null,
            "overflow_x": null,
            "grid_auto_flow": null,
            "grid_area": null,
            "grid_template_columns": null,
            "flex": null,
            "_model_name": "LayoutModel",
            "justify_items": null,
            "grid_row": null,
            "max_height": null,
            "align_content": null,
            "visibility": null,
            "align_self": null,
            "height": null,
            "min_height": null,
            "padding": null,
            "grid_auto_rows": null,
            "grid_gap": null,
            "max_width": null,
            "order": null,
            "_view_module_version": "1.2.0",
            "grid_template_areas": null,
            "object_position": null,
            "object_fit": null,
            "grid_auto_columns": null,
            "margin": null,
            "display": null,
            "left": null
          }
        },
        "1b68e986a45f41d3b2d73bf015e4b865": {
          "model_module": "@jupyter-widgets/controls",
          "model_name": "ProgressStyleModel",
          "model_module_version": "1.5.0",
          "state": {
            "_view_name": "StyleView",
            "_model_name": "ProgressStyleModel",
            "description_width": "",
            "_view_module": "@jupyter-widgets/base",
            "_model_module_version": "1.5.0",
            "_view_count": null,
            "_view_module_version": "1.2.0",
            "bar_color": null,
            "_model_module": "@jupyter-widgets/controls"
          }
        },
        "aff11c3f5ce6474498fa08fa3216a1d2": {
          "model_module": "@jupyter-widgets/base",
          "model_name": "LayoutModel",
          "model_module_version": "1.2.0",
          "state": {
            "_view_name": "LayoutView",
            "grid_template_rows": null,
            "right": null,
            "justify_content": null,
            "_view_module": "@jupyter-widgets/base",
            "overflow": null,
            "_model_module_version": "1.2.0",
            "_view_count": null,
            "flex_flow": null,
            "width": null,
            "min_width": null,
            "border": null,
            "align_items": null,
            "bottom": null,
            "_model_module": "@jupyter-widgets/base",
            "top": null,
            "grid_column": null,
            "overflow_y": null,
            "overflow_x": null,
            "grid_auto_flow": null,
            "grid_area": null,
            "grid_template_columns": null,
            "flex": null,
            "_model_name": "LayoutModel",
            "justify_items": null,
            "grid_row": null,
            "max_height": null,
            "align_content": null,
            "visibility": null,
            "align_self": null,
            "height": null,
            "min_height": null,
            "padding": null,
            "grid_auto_rows": null,
            "grid_gap": null,
            "max_width": null,
            "order": null,
            "_view_module_version": "1.2.0",
            "grid_template_areas": null,
            "object_position": null,
            "object_fit": null,
            "grid_auto_columns": null,
            "margin": null,
            "display": null,
            "left": null
          }
        },
        "04e8f3456f6044d49f3018290a32d085": {
          "model_module": "@jupyter-widgets/controls",
          "model_name": "DescriptionStyleModel",
          "model_module_version": "1.5.0",
          "state": {
            "_view_name": "StyleView",
            "_model_name": "DescriptionStyleModel",
            "description_width": "",
            "_view_module": "@jupyter-widgets/base",
            "_model_module_version": "1.5.0",
            "_view_count": null,
            "_view_module_version": "1.2.0",
            "_model_module": "@jupyter-widgets/controls"
          }
        },
        "d050a90d9f0f46a2b61511d9ddd01c29": {
          "model_module": "@jupyter-widgets/base",
          "model_name": "LayoutModel",
          "model_module_version": "1.2.0",
          "state": {
            "_view_name": "LayoutView",
            "grid_template_rows": null,
            "right": null,
            "justify_content": null,
            "_view_module": "@jupyter-widgets/base",
            "overflow": null,
            "_model_module_version": "1.2.0",
            "_view_count": null,
            "flex_flow": null,
            "width": null,
            "min_width": null,
            "border": null,
            "align_items": null,
            "bottom": null,
            "_model_module": "@jupyter-widgets/base",
            "top": null,
            "grid_column": null,
            "overflow_y": null,
            "overflow_x": null,
            "grid_auto_flow": null,
            "grid_area": null,
            "grid_template_columns": null,
            "flex": null,
            "_model_name": "LayoutModel",
            "justify_items": null,
            "grid_row": null,
            "max_height": null,
            "align_content": null,
            "visibility": null,
            "align_self": null,
            "height": null,
            "min_height": null,
            "padding": null,
            "grid_auto_rows": null,
            "grid_gap": null,
            "max_width": null,
            "order": null,
            "_view_module_version": "1.2.0",
            "grid_template_areas": null,
            "object_position": null,
            "object_fit": null,
            "grid_auto_columns": null,
            "margin": null,
            "display": null,
            "left": null
          }
        },
        "73852439f5764bd8a367a03173e3fd24": {
          "model_module": "@jupyter-widgets/controls",
          "model_name": "HBoxModel",
          "model_module_version": "1.5.0",
          "state": {
            "_view_name": "HBoxView",
            "_dom_classes": [],
            "_model_name": "HBoxModel",
            "_view_module": "@jupyter-widgets/controls",
            "_model_module_version": "1.5.0",
            "_view_count": null,
            "_view_module_version": "1.5.0",
            "box_style": "",
            "layout": "IPY_MODEL_38eb56954e9a41b6bf70e80641b490fc",
            "_model_module": "@jupyter-widgets/controls",
            "children": [
              "IPY_MODEL_45496dcd13b84295a8559183e07a77a4",
              "IPY_MODEL_892c828a54ff424a920fb4e385b56493",
              "IPY_MODEL_1fb3a31e148046c6b9c291845718aed1"
            ]
          }
        },
        "38eb56954e9a41b6bf70e80641b490fc": {
          "model_module": "@jupyter-widgets/base",
          "model_name": "LayoutModel",
          "model_module_version": "1.2.0",
          "state": {
            "_view_name": "LayoutView",
            "grid_template_rows": null,
            "right": null,
            "justify_content": null,
            "_view_module": "@jupyter-widgets/base",
            "overflow": null,
            "_model_module_version": "1.2.0",
            "_view_count": null,
            "flex_flow": null,
            "width": null,
            "min_width": null,
            "border": null,
            "align_items": null,
            "bottom": null,
            "_model_module": "@jupyter-widgets/base",
            "top": null,
            "grid_column": null,
            "overflow_y": null,
            "overflow_x": null,
            "grid_auto_flow": null,
            "grid_area": null,
            "grid_template_columns": null,
            "flex": null,
            "_model_name": "LayoutModel",
            "justify_items": null,
            "grid_row": null,
            "max_height": null,
            "align_content": null,
            "visibility": null,
            "align_self": null,
            "height": null,
            "min_height": null,
            "padding": null,
            "grid_auto_rows": null,
            "grid_gap": null,
            "max_width": null,
            "order": null,
            "_view_module_version": "1.2.0",
            "grid_template_areas": null,
            "object_position": null,
            "object_fit": null,
            "grid_auto_columns": null,
            "margin": null,
            "display": null,
            "left": null
          }
        },
        "45496dcd13b84295a8559183e07a77a4": {
          "model_module": "@jupyter-widgets/controls",
          "model_name": "HTMLModel",
          "model_module_version": "1.5.0",
          "state": {
            "_view_name": "HTMLView",
            "style": "IPY_MODEL_b7a9c22d0cc145688e9abe59cdf9e630",
            "_dom_classes": [],
            "description": "",
            "_model_name": "HTMLModel",
            "placeholder": "​",
            "_view_module": "@jupyter-widgets/controls",
            "_model_module_version": "1.5.0",
            "value": "",
            "_view_count": null,
            "_view_module_version": "1.5.0",
            "description_tooltip": null,
            "_model_module": "@jupyter-widgets/controls",
            "layout": "IPY_MODEL_5360eff096f74eebb3e8be3219d62a9d"
          }
        },
        "892c828a54ff424a920fb4e385b56493": {
          "model_module": "@jupyter-widgets/controls",
          "model_name": "FloatProgressModel",
          "model_module_version": "1.5.0",
          "state": {
            "_view_name": "ProgressView",
            "style": "IPY_MODEL_0a76f25deb2a4e51921ad0f0176f6483",
            "_dom_classes": [],
            "description": "",
            "_model_name": "FloatProgressModel",
            "bar_style": "success",
            "max": 4542,
            "_view_module": "@jupyter-widgets/controls",
            "_model_module_version": "1.5.0",
            "value": 4542,
            "_view_count": null,
            "_view_module_version": "1.5.0",
            "orientation": "horizontal",
            "min": 0,
            "description_tooltip": null,
            "_model_module": "@jupyter-widgets/controls",
            "layout": "IPY_MODEL_ea48fc2c6d414bcc858ece8261c23cf5"
          }
        },
        "1fb3a31e148046c6b9c291845718aed1": {
          "model_module": "@jupyter-widgets/controls",
          "model_name": "HTMLModel",
          "model_module_version": "1.5.0",
          "state": {
            "_view_name": "HTMLView",
            "style": "IPY_MODEL_3b0e120dec454d1aaf9a888481e3d6a5",
            "_dom_classes": [],
            "description": "",
            "_model_name": "HTMLModel",
            "placeholder": "​",
            "_view_module": "@jupyter-widgets/controls",
            "_model_module_version": "1.5.0",
            "value": " 5120/? [00:00&lt;00:00, 176645.85it/s]",
            "_view_count": null,
            "_view_module_version": "1.5.0",
            "description_tooltip": null,
            "_model_module": "@jupyter-widgets/controls",
            "layout": "IPY_MODEL_839a384c80dc4d68a15a216fdfd00c1f"
          }
        },
        "b7a9c22d0cc145688e9abe59cdf9e630": {
          "model_module": "@jupyter-widgets/controls",
          "model_name": "DescriptionStyleModel",
          "model_module_version": "1.5.0",
          "state": {
            "_view_name": "StyleView",
            "_model_name": "DescriptionStyleModel",
            "description_width": "",
            "_view_module": "@jupyter-widgets/base",
            "_model_module_version": "1.5.0",
            "_view_count": null,
            "_view_module_version": "1.2.0",
            "_model_module": "@jupyter-widgets/controls"
          }
        },
        "5360eff096f74eebb3e8be3219d62a9d": {
          "model_module": "@jupyter-widgets/base",
          "model_name": "LayoutModel",
          "model_module_version": "1.2.0",
          "state": {
            "_view_name": "LayoutView",
            "grid_template_rows": null,
            "right": null,
            "justify_content": null,
            "_view_module": "@jupyter-widgets/base",
            "overflow": null,
            "_model_module_version": "1.2.0",
            "_view_count": null,
            "flex_flow": null,
            "width": null,
            "min_width": null,
            "border": null,
            "align_items": null,
            "bottom": null,
            "_model_module": "@jupyter-widgets/base",
            "top": null,
            "grid_column": null,
            "overflow_y": null,
            "overflow_x": null,
            "grid_auto_flow": null,
            "grid_area": null,
            "grid_template_columns": null,
            "flex": null,
            "_model_name": "LayoutModel",
            "justify_items": null,
            "grid_row": null,
            "max_height": null,
            "align_content": null,
            "visibility": null,
            "align_self": null,
            "height": null,
            "min_height": null,
            "padding": null,
            "grid_auto_rows": null,
            "grid_gap": null,
            "max_width": null,
            "order": null,
            "_view_module_version": "1.2.0",
            "grid_template_areas": null,
            "object_position": null,
            "object_fit": null,
            "grid_auto_columns": null,
            "margin": null,
            "display": null,
            "left": null
          }
        },
        "0a76f25deb2a4e51921ad0f0176f6483": {
          "model_module": "@jupyter-widgets/controls",
          "model_name": "ProgressStyleModel",
          "model_module_version": "1.5.0",
          "state": {
            "_view_name": "StyleView",
            "_model_name": "ProgressStyleModel",
            "description_width": "",
            "_view_module": "@jupyter-widgets/base",
            "_model_module_version": "1.5.0",
            "_view_count": null,
            "_view_module_version": "1.2.0",
            "bar_color": null,
            "_model_module": "@jupyter-widgets/controls"
          }
        },
        "ea48fc2c6d414bcc858ece8261c23cf5": {
          "model_module": "@jupyter-widgets/base",
          "model_name": "LayoutModel",
          "model_module_version": "1.2.0",
          "state": {
            "_view_name": "LayoutView",
            "grid_template_rows": null,
            "right": null,
            "justify_content": null,
            "_view_module": "@jupyter-widgets/base",
            "overflow": null,
            "_model_module_version": "1.2.0",
            "_view_count": null,
            "flex_flow": null,
            "width": null,
            "min_width": null,
            "border": null,
            "align_items": null,
            "bottom": null,
            "_model_module": "@jupyter-widgets/base",
            "top": null,
            "grid_column": null,
            "overflow_y": null,
            "overflow_x": null,
            "grid_auto_flow": null,
            "grid_area": null,
            "grid_template_columns": null,
            "flex": null,
            "_model_name": "LayoutModel",
            "justify_items": null,
            "grid_row": null,
            "max_height": null,
            "align_content": null,
            "visibility": null,
            "align_self": null,
            "height": null,
            "min_height": null,
            "padding": null,
            "grid_auto_rows": null,
            "grid_gap": null,
            "max_width": null,
            "order": null,
            "_view_module_version": "1.2.0",
            "grid_template_areas": null,
            "object_position": null,
            "object_fit": null,
            "grid_auto_columns": null,
            "margin": null,
            "display": null,
            "left": null
          }
        },
        "3b0e120dec454d1aaf9a888481e3d6a5": {
          "model_module": "@jupyter-widgets/controls",
          "model_name": "DescriptionStyleModel",
          "model_module_version": "1.5.0",
          "state": {
            "_view_name": "StyleView",
            "_model_name": "DescriptionStyleModel",
            "description_width": "",
            "_view_module": "@jupyter-widgets/base",
            "_model_module_version": "1.5.0",
            "_view_count": null,
            "_view_module_version": "1.2.0",
            "_model_module": "@jupyter-widgets/controls"
          }
        },
        "839a384c80dc4d68a15a216fdfd00c1f": {
          "model_module": "@jupyter-widgets/base",
          "model_name": "LayoutModel",
          "model_module_version": "1.2.0",
          "state": {
            "_view_name": "LayoutView",
            "grid_template_rows": null,
            "right": null,
            "justify_content": null,
            "_view_module": "@jupyter-widgets/base",
            "overflow": null,
            "_model_module_version": "1.2.0",
            "_view_count": null,
            "flex_flow": null,
            "width": null,
            "min_width": null,
            "border": null,
            "align_items": null,
            "bottom": null,
            "_model_module": "@jupyter-widgets/base",
            "top": null,
            "grid_column": null,
            "overflow_y": null,
            "overflow_x": null,
            "grid_auto_flow": null,
            "grid_area": null,
            "grid_template_columns": null,
            "flex": null,
            "_model_name": "LayoutModel",
            "justify_items": null,
            "grid_row": null,
            "max_height": null,
            "align_content": null,
            "visibility": null,
            "align_self": null,
            "height": null,
            "min_height": null,
            "padding": null,
            "grid_auto_rows": null,
            "grid_gap": null,
            "max_width": null,
            "order": null,
            "_view_module_version": "1.2.0",
            "grid_template_areas": null,
            "object_position": null,
            "object_fit": null,
            "grid_auto_columns": null,
            "margin": null,
            "display": null,
            "left": null
          }
        },
        "97133a2a50de4bb496dc9cd35c95c60e": {
          "model_module": "@jupyter-widgets/controls",
          "model_name": "HBoxModel",
          "model_module_version": "1.5.0",
          "state": {
            "_view_name": "HBoxView",
            "_dom_classes": [],
            "_model_name": "HBoxModel",
            "_view_module": "@jupyter-widgets/controls",
            "_model_module_version": "1.5.0",
            "_view_count": null,
            "_view_module_version": "1.5.0",
            "box_style": "",
            "layout": "IPY_MODEL_f5a502b3edb04707860896a4d8ce24e6",
            "_model_module": "@jupyter-widgets/controls",
            "children": [
              "IPY_MODEL_1b6ba76c74894ef4b092066ea5b1ec4b",
              "IPY_MODEL_94e2b28aa77e4f1c970ece0215c23888",
              "IPY_MODEL_79e1ba39ea5f4233a13d0c188594ca0b"
            ]
          }
        },
        "f5a502b3edb04707860896a4d8ce24e6": {
          "model_module": "@jupyter-widgets/base",
          "model_name": "LayoutModel",
          "model_module_version": "1.2.0",
          "state": {
            "_view_name": "LayoutView",
            "grid_template_rows": null,
            "right": null,
            "justify_content": null,
            "_view_module": "@jupyter-widgets/base",
            "overflow": null,
            "_model_module_version": "1.2.0",
            "_view_count": null,
            "flex_flow": null,
            "width": null,
            "min_width": null,
            "border": null,
            "align_items": null,
            "bottom": null,
            "_model_module": "@jupyter-widgets/base",
            "top": null,
            "grid_column": null,
            "overflow_y": null,
            "overflow_x": null,
            "grid_auto_flow": null,
            "grid_area": null,
            "grid_template_columns": null,
            "flex": null,
            "_model_name": "LayoutModel",
            "justify_items": null,
            "grid_row": null,
            "max_height": null,
            "align_content": null,
            "visibility": null,
            "align_self": null,
            "height": null,
            "min_height": null,
            "padding": null,
            "grid_auto_rows": null,
            "grid_gap": null,
            "max_width": null,
            "order": null,
            "_view_module_version": "1.2.0",
            "grid_template_areas": null,
            "object_position": null,
            "object_fit": null,
            "grid_auto_columns": null,
            "margin": null,
            "display": null,
            "left": null
          }
        },
        "1b6ba76c74894ef4b092066ea5b1ec4b": {
          "model_module": "@jupyter-widgets/controls",
          "model_name": "HTMLModel",
          "model_module_version": "1.5.0",
          "state": {
            "_view_name": "HTMLView",
            "style": "IPY_MODEL_9ec9485a3f864a33b0e4ac011be51e9d",
            "_dom_classes": [],
            "description": "",
            "_model_name": "HTMLModel",
            "placeholder": "​",
            "_view_module": "@jupyter-widgets/controls",
            "_model_module_version": "1.5.0",
            "value": "C&amp;W L_2: 100%",
            "_view_count": null,
            "_view_module_version": "1.5.0",
            "description_tooltip": null,
            "_model_module": "@jupyter-widgets/controls",
            "layout": "IPY_MODEL_24d739527c504bf78281bf77a14233c6"
          }
        },
        "94e2b28aa77e4f1c970ece0215c23888": {
          "model_module": "@jupyter-widgets/controls",
          "model_name": "FloatProgressModel",
          "model_module_version": "1.5.0",
          "state": {
            "_view_name": "ProgressView",
            "style": "IPY_MODEL_dc60750e7a4f469ea68209047391594c",
            "_dom_classes": [],
            "description": "",
            "_model_name": "FloatProgressModel",
            "bar_style": "success",
            "max": 10,
            "_view_module": "@jupyter-widgets/controls",
            "_model_module_version": "1.5.0",
            "value": 10,
            "_view_count": null,
            "_view_module_version": "1.5.0",
            "orientation": "horizontal",
            "min": 0,
            "description_tooltip": null,
            "_model_module": "@jupyter-widgets/controls",
            "layout": "IPY_MODEL_e709919478ce4e119d2b80019056f486"
          }
        },
        "79e1ba39ea5f4233a13d0c188594ca0b": {
          "model_module": "@jupyter-widgets/controls",
          "model_name": "HTMLModel",
          "model_module_version": "1.5.0",
          "state": {
            "_view_name": "HTMLView",
            "style": "IPY_MODEL_f400dd5338034f84bb7b7434d673d73d",
            "_dom_classes": [],
            "description": "",
            "_model_name": "HTMLModel",
            "placeholder": "​",
            "_view_module": "@jupyter-widgets/controls",
            "_model_module_version": "1.5.0",
            "value": " 10/10 [00:15&lt;00:00,  1.56s/it]",
            "_view_count": null,
            "_view_module_version": "1.5.0",
            "description_tooltip": null,
            "_model_module": "@jupyter-widgets/controls",
            "layout": "IPY_MODEL_af7918c1f0e54173814e40740ccfd0e6"
          }
        },
        "9ec9485a3f864a33b0e4ac011be51e9d": {
          "model_module": "@jupyter-widgets/controls",
          "model_name": "DescriptionStyleModel",
          "model_module_version": "1.5.0",
          "state": {
            "_view_name": "StyleView",
            "_model_name": "DescriptionStyleModel",
            "description_width": "",
            "_view_module": "@jupyter-widgets/base",
            "_model_module_version": "1.5.0",
            "_view_count": null,
            "_view_module_version": "1.2.0",
            "_model_module": "@jupyter-widgets/controls"
          }
        },
        "24d739527c504bf78281bf77a14233c6": {
          "model_module": "@jupyter-widgets/base",
          "model_name": "LayoutModel",
          "model_module_version": "1.2.0",
          "state": {
            "_view_name": "LayoutView",
            "grid_template_rows": null,
            "right": null,
            "justify_content": null,
            "_view_module": "@jupyter-widgets/base",
            "overflow": null,
            "_model_module_version": "1.2.0",
            "_view_count": null,
            "flex_flow": null,
            "width": null,
            "min_width": null,
            "border": null,
            "align_items": null,
            "bottom": null,
            "_model_module": "@jupyter-widgets/base",
            "top": null,
            "grid_column": null,
            "overflow_y": null,
            "overflow_x": null,
            "grid_auto_flow": null,
            "grid_area": null,
            "grid_template_columns": null,
            "flex": null,
            "_model_name": "LayoutModel",
            "justify_items": null,
            "grid_row": null,
            "max_height": null,
            "align_content": null,
            "visibility": null,
            "align_self": null,
            "height": null,
            "min_height": null,
            "padding": null,
            "grid_auto_rows": null,
            "grid_gap": null,
            "max_width": null,
            "order": null,
            "_view_module_version": "1.2.0",
            "grid_template_areas": null,
            "object_position": null,
            "object_fit": null,
            "grid_auto_columns": null,
            "margin": null,
            "display": null,
            "left": null
          }
        },
        "dc60750e7a4f469ea68209047391594c": {
          "model_module": "@jupyter-widgets/controls",
          "model_name": "ProgressStyleModel",
          "model_module_version": "1.5.0",
          "state": {
            "_view_name": "StyleView",
            "_model_name": "ProgressStyleModel",
            "description_width": "",
            "_view_module": "@jupyter-widgets/base",
            "_model_module_version": "1.5.0",
            "_view_count": null,
            "_view_module_version": "1.2.0",
            "bar_color": null,
            "_model_module": "@jupyter-widgets/controls"
          }
        },
        "e709919478ce4e119d2b80019056f486": {
          "model_module": "@jupyter-widgets/base",
          "model_name": "LayoutModel",
          "model_module_version": "1.2.0",
          "state": {
            "_view_name": "LayoutView",
            "grid_template_rows": null,
            "right": null,
            "justify_content": null,
            "_view_module": "@jupyter-widgets/base",
            "overflow": null,
            "_model_module_version": "1.2.0",
            "_view_count": null,
            "flex_flow": null,
            "width": null,
            "min_width": null,
            "border": null,
            "align_items": null,
            "bottom": null,
            "_model_module": "@jupyter-widgets/base",
            "top": null,
            "grid_column": null,
            "overflow_y": null,
            "overflow_x": null,
            "grid_auto_flow": null,
            "grid_area": null,
            "grid_template_columns": null,
            "flex": null,
            "_model_name": "LayoutModel",
            "justify_items": null,
            "grid_row": null,
            "max_height": null,
            "align_content": null,
            "visibility": null,
            "align_self": null,
            "height": null,
            "min_height": null,
            "padding": null,
            "grid_auto_rows": null,
            "grid_gap": null,
            "max_width": null,
            "order": null,
            "_view_module_version": "1.2.0",
            "grid_template_areas": null,
            "object_position": null,
            "object_fit": null,
            "grid_auto_columns": null,
            "margin": null,
            "display": null,
            "left": null
          }
        },
        "f400dd5338034f84bb7b7434d673d73d": {
          "model_module": "@jupyter-widgets/controls",
          "model_name": "DescriptionStyleModel",
          "model_module_version": "1.5.0",
          "state": {
            "_view_name": "StyleView",
            "_model_name": "DescriptionStyleModel",
            "description_width": "",
            "_view_module": "@jupyter-widgets/base",
            "_model_module_version": "1.5.0",
            "_view_count": null,
            "_view_module_version": "1.2.0",
            "_model_module": "@jupyter-widgets/controls"
          }
        },
        "af7918c1f0e54173814e40740ccfd0e6": {
          "model_module": "@jupyter-widgets/base",
          "model_name": "LayoutModel",
          "model_module_version": "1.2.0",
          "state": {
            "_view_name": "LayoutView",
            "grid_template_rows": null,
            "right": null,
            "justify_content": null,
            "_view_module": "@jupyter-widgets/base",
            "overflow": null,
            "_model_module_version": "1.2.0",
            "_view_count": null,
            "flex_flow": null,
            "width": null,
            "min_width": null,
            "border": null,
            "align_items": null,
            "bottom": null,
            "_model_module": "@jupyter-widgets/base",
            "top": null,
            "grid_column": null,
            "overflow_y": null,
            "overflow_x": null,
            "grid_auto_flow": null,
            "grid_area": null,
            "grid_template_columns": null,
            "flex": null,
            "_model_name": "LayoutModel",
            "justify_items": null,
            "grid_row": null,
            "max_height": null,
            "align_content": null,
            "visibility": null,
            "align_self": null,
            "height": null,
            "min_height": null,
            "padding": null,
            "grid_auto_rows": null,
            "grid_gap": null,
            "max_width": null,
            "order": null,
            "_view_module_version": "1.2.0",
            "grid_template_areas": null,
            "object_position": null,
            "object_fit": null,
            "grid_auto_columns": null,
            "margin": null,
            "display": null,
            "left": null
          }
        },
        "37153e918fde484b89e586ede3f2e012": {
          "model_module": "@jupyter-widgets/controls",
          "model_name": "HBoxModel",
          "model_module_version": "1.5.0",
          "state": {
            "_view_name": "HBoxView",
            "_dom_classes": [],
            "_model_name": "HBoxModel",
            "_view_module": "@jupyter-widgets/controls",
            "_model_module_version": "1.5.0",
            "_view_count": null,
            "_view_module_version": "1.5.0",
            "box_style": "",
            "layout": "IPY_MODEL_b39b6405c56b460fbe18893dc7d7df51",
            "_model_module": "@jupyter-widgets/controls",
            "children": [
              "IPY_MODEL_1ee674a9550043609135381a2b823209",
              "IPY_MODEL_386401d512124506b17d53334651172a",
              "IPY_MODEL_0b449eb5ea7c4763b86e4b3f4278a77d"
            ]
          }
        },
        "b39b6405c56b460fbe18893dc7d7df51": {
          "model_module": "@jupyter-widgets/base",
          "model_name": "LayoutModel",
          "model_module_version": "1.2.0",
          "state": {
            "_view_name": "LayoutView",
            "grid_template_rows": null,
            "right": null,
            "justify_content": null,
            "_view_module": "@jupyter-widgets/base",
            "overflow": null,
            "_model_module_version": "1.2.0",
            "_view_count": null,
            "flex_flow": null,
            "width": null,
            "min_width": null,
            "border": null,
            "align_items": null,
            "bottom": null,
            "_model_module": "@jupyter-widgets/base",
            "top": null,
            "grid_column": null,
            "overflow_y": null,
            "overflow_x": null,
            "grid_auto_flow": null,
            "grid_area": null,
            "grid_template_columns": null,
            "flex": null,
            "_model_name": "LayoutModel",
            "justify_items": null,
            "grid_row": null,
            "max_height": null,
            "align_content": null,
            "visibility": null,
            "align_self": null,
            "height": null,
            "min_height": null,
            "padding": null,
            "grid_auto_rows": null,
            "grid_gap": null,
            "max_width": null,
            "order": null,
            "_view_module_version": "1.2.0",
            "grid_template_areas": null,
            "object_position": null,
            "object_fit": null,
            "grid_auto_columns": null,
            "margin": null,
            "display": null,
            "left": null
          }
        },
        "1ee674a9550043609135381a2b823209": {
          "model_module": "@jupyter-widgets/controls",
          "model_name": "HTMLModel",
          "model_module_version": "1.5.0",
          "state": {
            "_view_name": "HTMLView",
            "style": "IPY_MODEL_721a39c33e5c461faf31e6dbfcba537d",
            "_dom_classes": [],
            "description": "",
            "_model_name": "HTMLModel",
            "placeholder": "​",
            "_view_module": "@jupyter-widgets/controls",
            "_model_module_version": "1.5.0",
            "value": "C&amp;W L_2: 100%",
            "_view_count": null,
            "_view_module_version": "1.5.0",
            "description_tooltip": null,
            "_model_module": "@jupyter-widgets/controls",
            "layout": "IPY_MODEL_6f16ad2b81774af28848ee5b1cfbb766"
          }
        },
        "386401d512124506b17d53334651172a": {
          "model_module": "@jupyter-widgets/controls",
          "model_name": "FloatProgressModel",
          "model_module_version": "1.5.0",
          "state": {
            "_view_name": "ProgressView",
            "style": "IPY_MODEL_d466cf70b7b14a98a07fb9c90f8b9a9f",
            "_dom_classes": [],
            "description": "",
            "_model_name": "FloatProgressModel",
            "bar_style": "success",
            "max": 100,
            "_view_module": "@jupyter-widgets/controls",
            "_model_module_version": "1.5.0",
            "value": 100,
            "_view_count": null,
            "_view_module_version": "1.5.0",
            "orientation": "horizontal",
            "min": 0,
            "description_tooltip": null,
            "_model_module": "@jupyter-widgets/controls",
            "layout": "IPY_MODEL_4cc2389f40634d44b5c79ebb859f64cd"
          }
        },
        "0b449eb5ea7c4763b86e4b3f4278a77d": {
          "model_module": "@jupyter-widgets/controls",
          "model_name": "HTMLModel",
          "model_module_version": "1.5.0",
          "state": {
            "_view_name": "HTMLView",
            "style": "IPY_MODEL_2e435e98fd064701b70349f1d0b6b1c3",
            "_dom_classes": [],
            "description": "",
            "_model_name": "HTMLModel",
            "placeholder": "​",
            "_view_module": "@jupyter-widgets/controls",
            "_model_module_version": "1.5.0",
            "value": " 100/100 [02:58&lt;00:00,  1.78s/it]",
            "_view_count": null,
            "_view_module_version": "1.5.0",
            "description_tooltip": null,
            "_model_module": "@jupyter-widgets/controls",
            "layout": "IPY_MODEL_2178afbdef3c419484886c78d63e33da"
          }
        },
        "721a39c33e5c461faf31e6dbfcba537d": {
          "model_module": "@jupyter-widgets/controls",
          "model_name": "DescriptionStyleModel",
          "model_module_version": "1.5.0",
          "state": {
            "_view_name": "StyleView",
            "_model_name": "DescriptionStyleModel",
            "description_width": "",
            "_view_module": "@jupyter-widgets/base",
            "_model_module_version": "1.5.0",
            "_view_count": null,
            "_view_module_version": "1.2.0",
            "_model_module": "@jupyter-widgets/controls"
          }
        },
        "6f16ad2b81774af28848ee5b1cfbb766": {
          "model_module": "@jupyter-widgets/base",
          "model_name": "LayoutModel",
          "model_module_version": "1.2.0",
          "state": {
            "_view_name": "LayoutView",
            "grid_template_rows": null,
            "right": null,
            "justify_content": null,
            "_view_module": "@jupyter-widgets/base",
            "overflow": null,
            "_model_module_version": "1.2.0",
            "_view_count": null,
            "flex_flow": null,
            "width": null,
            "min_width": null,
            "border": null,
            "align_items": null,
            "bottom": null,
            "_model_module": "@jupyter-widgets/base",
            "top": null,
            "grid_column": null,
            "overflow_y": null,
            "overflow_x": null,
            "grid_auto_flow": null,
            "grid_area": null,
            "grid_template_columns": null,
            "flex": null,
            "_model_name": "LayoutModel",
            "justify_items": null,
            "grid_row": null,
            "max_height": null,
            "align_content": null,
            "visibility": null,
            "align_self": null,
            "height": null,
            "min_height": null,
            "padding": null,
            "grid_auto_rows": null,
            "grid_gap": null,
            "max_width": null,
            "order": null,
            "_view_module_version": "1.2.0",
            "grid_template_areas": null,
            "object_position": null,
            "object_fit": null,
            "grid_auto_columns": null,
            "margin": null,
            "display": null,
            "left": null
          }
        },
        "d466cf70b7b14a98a07fb9c90f8b9a9f": {
          "model_module": "@jupyter-widgets/controls",
          "model_name": "ProgressStyleModel",
          "model_module_version": "1.5.0",
          "state": {
            "_view_name": "StyleView",
            "_model_name": "ProgressStyleModel",
            "description_width": "",
            "_view_module": "@jupyter-widgets/base",
            "_model_module_version": "1.5.0",
            "_view_count": null,
            "_view_module_version": "1.2.0",
            "bar_color": null,
            "_model_module": "@jupyter-widgets/controls"
          }
        },
        "4cc2389f40634d44b5c79ebb859f64cd": {
          "model_module": "@jupyter-widgets/base",
          "model_name": "LayoutModel",
          "model_module_version": "1.2.0",
          "state": {
            "_view_name": "LayoutView",
            "grid_template_rows": null,
            "right": null,
            "justify_content": null,
            "_view_module": "@jupyter-widgets/base",
            "overflow": null,
            "_model_module_version": "1.2.0",
            "_view_count": null,
            "flex_flow": null,
            "width": null,
            "min_width": null,
            "border": null,
            "align_items": null,
            "bottom": null,
            "_model_module": "@jupyter-widgets/base",
            "top": null,
            "grid_column": null,
            "overflow_y": null,
            "overflow_x": null,
            "grid_auto_flow": null,
            "grid_area": null,
            "grid_template_columns": null,
            "flex": null,
            "_model_name": "LayoutModel",
            "justify_items": null,
            "grid_row": null,
            "max_height": null,
            "align_content": null,
            "visibility": null,
            "align_self": null,
            "height": null,
            "min_height": null,
            "padding": null,
            "grid_auto_rows": null,
            "grid_gap": null,
            "max_width": null,
            "order": null,
            "_view_module_version": "1.2.0",
            "grid_template_areas": null,
            "object_position": null,
            "object_fit": null,
            "grid_auto_columns": null,
            "margin": null,
            "display": null,
            "left": null
          }
        },
        "2e435e98fd064701b70349f1d0b6b1c3": {
          "model_module": "@jupyter-widgets/controls",
          "model_name": "DescriptionStyleModel",
          "model_module_version": "1.5.0",
          "state": {
            "_view_name": "StyleView",
            "_model_name": "DescriptionStyleModel",
            "description_width": "",
            "_view_module": "@jupyter-widgets/base",
            "_model_module_version": "1.5.0",
            "_view_count": null,
            "_view_module_version": "1.2.0",
            "_model_module": "@jupyter-widgets/controls"
          }
        },
        "2178afbdef3c419484886c78d63e33da": {
          "model_module": "@jupyter-widgets/base",
          "model_name": "LayoutModel",
          "model_module_version": "1.2.0",
          "state": {
            "_view_name": "LayoutView",
            "grid_template_rows": null,
            "right": null,
            "justify_content": null,
            "_view_module": "@jupyter-widgets/base",
            "overflow": null,
            "_model_module_version": "1.2.0",
            "_view_count": null,
            "flex_flow": null,
            "width": null,
            "min_width": null,
            "border": null,
            "align_items": null,
            "bottom": null,
            "_model_module": "@jupyter-widgets/base",
            "top": null,
            "grid_column": null,
            "overflow_y": null,
            "overflow_x": null,
            "grid_auto_flow": null,
            "grid_area": null,
            "grid_template_columns": null,
            "flex": null,
            "_model_name": "LayoutModel",
            "justify_items": null,
            "grid_row": null,
            "max_height": null,
            "align_content": null,
            "visibility": null,
            "align_self": null,
            "height": null,
            "min_height": null,
            "padding": null,
            "grid_auto_rows": null,
            "grid_gap": null,
            "max_width": null,
            "order": null,
            "_view_module_version": "1.2.0",
            "grid_template_areas": null,
            "object_position": null,
            "object_fit": null,
            "grid_auto_columns": null,
            "margin": null,
            "display": null,
            "left": null
          }
        },
        "fe29371eb4ce4712864794c8e1e6304c": {
          "model_module": "@jupyter-widgets/controls",
          "model_name": "HBoxModel",
          "model_module_version": "1.5.0",
          "state": {
            "_view_name": "HBoxView",
            "_dom_classes": [],
            "_model_name": "HBoxModel",
            "_view_module": "@jupyter-widgets/controls",
            "_model_module_version": "1.5.0",
            "_view_count": null,
            "_view_module_version": "1.5.0",
            "box_style": "",
            "layout": "IPY_MODEL_e9260e0fdb384bb08371b54a44f40373",
            "_model_module": "@jupyter-widgets/controls",
            "children": [
              "IPY_MODEL_4b01b30b3b4f4e2ea74ba93fa44d90b9",
              "IPY_MODEL_c7298adda6f04ca2bcb94ed493dac402",
              "IPY_MODEL_a49e8b6d012848d2b8287f4c69ac371f"
            ]
          }
        },
        "e9260e0fdb384bb08371b54a44f40373": {
          "model_module": "@jupyter-widgets/base",
          "model_name": "LayoutModel",
          "model_module_version": "1.2.0",
          "state": {
            "_view_name": "LayoutView",
            "grid_template_rows": null,
            "right": null,
            "justify_content": null,
            "_view_module": "@jupyter-widgets/base",
            "overflow": null,
            "_model_module_version": "1.2.0",
            "_view_count": null,
            "flex_flow": null,
            "width": null,
            "min_width": null,
            "border": null,
            "align_items": null,
            "bottom": null,
            "_model_module": "@jupyter-widgets/base",
            "top": null,
            "grid_column": null,
            "overflow_y": null,
            "overflow_x": null,
            "grid_auto_flow": null,
            "grid_area": null,
            "grid_template_columns": null,
            "flex": null,
            "_model_name": "LayoutModel",
            "justify_items": null,
            "grid_row": null,
            "max_height": null,
            "align_content": null,
            "visibility": null,
            "align_self": null,
            "height": null,
            "min_height": null,
            "padding": null,
            "grid_auto_rows": null,
            "grid_gap": null,
            "max_width": null,
            "order": null,
            "_view_module_version": "1.2.0",
            "grid_template_areas": null,
            "object_position": null,
            "object_fit": null,
            "grid_auto_columns": null,
            "margin": null,
            "display": null,
            "left": null
          }
        },
        "4b01b30b3b4f4e2ea74ba93fa44d90b9": {
          "model_module": "@jupyter-widgets/controls",
          "model_name": "HTMLModel",
          "model_module_version": "1.5.0",
          "state": {
            "_view_name": "HTMLView",
            "style": "IPY_MODEL_644cc418935a4a75996d399fcb290070",
            "_dom_classes": [],
            "description": "",
            "_model_name": "HTMLModel",
            "placeholder": "​",
            "_view_module": "@jupyter-widgets/controls",
            "_model_module_version": "1.5.0",
            "value": "C&amp;W L_2: 100%",
            "_view_count": null,
            "_view_module_version": "1.5.0",
            "description_tooltip": null,
            "_model_module": "@jupyter-widgets/controls",
            "layout": "IPY_MODEL_8a369a8806294a2fa0820fa9974e12f3"
          }
        },
        "c7298adda6f04ca2bcb94ed493dac402": {
          "model_module": "@jupyter-widgets/controls",
          "model_name": "FloatProgressModel",
          "model_module_version": "1.5.0",
          "state": {
            "_view_name": "ProgressView",
            "style": "IPY_MODEL_a071f3581e1e4a429805124484be834a",
            "_dom_classes": [],
            "description": "",
            "_model_name": "FloatProgressModel",
            "bar_style": "success",
            "max": 100,
            "_view_module": "@jupyter-widgets/controls",
            "_model_module_version": "1.5.0",
            "value": 100,
            "_view_count": null,
            "_view_module_version": "1.5.0",
            "orientation": "horizontal",
            "min": 0,
            "description_tooltip": null,
            "_model_module": "@jupyter-widgets/controls",
            "layout": "IPY_MODEL_3b93283f989041259c5b487a46f02490"
          }
        },
        "a49e8b6d012848d2b8287f4c69ac371f": {
          "model_module": "@jupyter-widgets/controls",
          "model_name": "HTMLModel",
          "model_module_version": "1.5.0",
          "state": {
            "_view_name": "HTMLView",
            "style": "IPY_MODEL_faf22444242c4432b55ca3bc00f2db0f",
            "_dom_classes": [],
            "description": "",
            "_model_name": "HTMLModel",
            "placeholder": "​",
            "_view_module": "@jupyter-widgets/controls",
            "_model_module_version": "1.5.0",
            "value": " 100/100 [02:29&lt;00:00,  1.52s/it]",
            "_view_count": null,
            "_view_module_version": "1.5.0",
            "description_tooltip": null,
            "_model_module": "@jupyter-widgets/controls",
            "layout": "IPY_MODEL_05ba3338248a4912b47676601992f9f9"
          }
        },
        "644cc418935a4a75996d399fcb290070": {
          "model_module": "@jupyter-widgets/controls",
          "model_name": "DescriptionStyleModel",
          "model_module_version": "1.5.0",
          "state": {
            "_view_name": "StyleView",
            "_model_name": "DescriptionStyleModel",
            "description_width": "",
            "_view_module": "@jupyter-widgets/base",
            "_model_module_version": "1.5.0",
            "_view_count": null,
            "_view_module_version": "1.2.0",
            "_model_module": "@jupyter-widgets/controls"
          }
        },
        "8a369a8806294a2fa0820fa9974e12f3": {
          "model_module": "@jupyter-widgets/base",
          "model_name": "LayoutModel",
          "model_module_version": "1.2.0",
          "state": {
            "_view_name": "LayoutView",
            "grid_template_rows": null,
            "right": null,
            "justify_content": null,
            "_view_module": "@jupyter-widgets/base",
            "overflow": null,
            "_model_module_version": "1.2.0",
            "_view_count": null,
            "flex_flow": null,
            "width": null,
            "min_width": null,
            "border": null,
            "align_items": null,
            "bottom": null,
            "_model_module": "@jupyter-widgets/base",
            "top": null,
            "grid_column": null,
            "overflow_y": null,
            "overflow_x": null,
            "grid_auto_flow": null,
            "grid_area": null,
            "grid_template_columns": null,
            "flex": null,
            "_model_name": "LayoutModel",
            "justify_items": null,
            "grid_row": null,
            "max_height": null,
            "align_content": null,
            "visibility": null,
            "align_self": null,
            "height": null,
            "min_height": null,
            "padding": null,
            "grid_auto_rows": null,
            "grid_gap": null,
            "max_width": null,
            "order": null,
            "_view_module_version": "1.2.0",
            "grid_template_areas": null,
            "object_position": null,
            "object_fit": null,
            "grid_auto_columns": null,
            "margin": null,
            "display": null,
            "left": null
          }
        },
        "a071f3581e1e4a429805124484be834a": {
          "model_module": "@jupyter-widgets/controls",
          "model_name": "ProgressStyleModel",
          "model_module_version": "1.5.0",
          "state": {
            "_view_name": "StyleView",
            "_model_name": "ProgressStyleModel",
            "description_width": "",
            "_view_module": "@jupyter-widgets/base",
            "_model_module_version": "1.5.0",
            "_view_count": null,
            "_view_module_version": "1.2.0",
            "bar_color": null,
            "_model_module": "@jupyter-widgets/controls"
          }
        },
        "3b93283f989041259c5b487a46f02490": {
          "model_module": "@jupyter-widgets/base",
          "model_name": "LayoutModel",
          "model_module_version": "1.2.0",
          "state": {
            "_view_name": "LayoutView",
            "grid_template_rows": null,
            "right": null,
            "justify_content": null,
            "_view_module": "@jupyter-widgets/base",
            "overflow": null,
            "_model_module_version": "1.2.0",
            "_view_count": null,
            "flex_flow": null,
            "width": null,
            "min_width": null,
            "border": null,
            "align_items": null,
            "bottom": null,
            "_model_module": "@jupyter-widgets/base",
            "top": null,
            "grid_column": null,
            "overflow_y": null,
            "overflow_x": null,
            "grid_auto_flow": null,
            "grid_area": null,
            "grid_template_columns": null,
            "flex": null,
            "_model_name": "LayoutModel",
            "justify_items": null,
            "grid_row": null,
            "max_height": null,
            "align_content": null,
            "visibility": null,
            "align_self": null,
            "height": null,
            "min_height": null,
            "padding": null,
            "grid_auto_rows": null,
            "grid_gap": null,
            "max_width": null,
            "order": null,
            "_view_module_version": "1.2.0",
            "grid_template_areas": null,
            "object_position": null,
            "object_fit": null,
            "grid_auto_columns": null,
            "margin": null,
            "display": null,
            "left": null
          }
        },
        "faf22444242c4432b55ca3bc00f2db0f": {
          "model_module": "@jupyter-widgets/controls",
          "model_name": "DescriptionStyleModel",
          "model_module_version": "1.5.0",
          "state": {
            "_view_name": "StyleView",
            "_model_name": "DescriptionStyleModel",
            "description_width": "",
            "_view_module": "@jupyter-widgets/base",
            "_model_module_version": "1.5.0",
            "_view_count": null,
            "_view_module_version": "1.2.0",
            "_model_module": "@jupyter-widgets/controls"
          }
        },
        "05ba3338248a4912b47676601992f9f9": {
          "model_module": "@jupyter-widgets/base",
          "model_name": "LayoutModel",
          "model_module_version": "1.2.0",
          "state": {
            "_view_name": "LayoutView",
            "grid_template_rows": null,
            "right": null,
            "justify_content": null,
            "_view_module": "@jupyter-widgets/base",
            "overflow": null,
            "_model_module_version": "1.2.0",
            "_view_count": null,
            "flex_flow": null,
            "width": null,
            "min_width": null,
            "border": null,
            "align_items": null,
            "bottom": null,
            "_model_module": "@jupyter-widgets/base",
            "top": null,
            "grid_column": null,
            "overflow_y": null,
            "overflow_x": null,
            "grid_auto_flow": null,
            "grid_area": null,
            "grid_template_columns": null,
            "flex": null,
            "_model_name": "LayoutModel",
            "justify_items": null,
            "grid_row": null,
            "max_height": null,
            "align_content": null,
            "visibility": null,
            "align_self": null,
            "height": null,
            "min_height": null,
            "padding": null,
            "grid_auto_rows": null,
            "grid_gap": null,
            "max_width": null,
            "order": null,
            "_view_module_version": "1.2.0",
            "grid_template_areas": null,
            "object_position": null,
            "object_fit": null,
            "grid_auto_columns": null,
            "margin": null,
            "display": null,
            "left": null
          }
        },
        "5bfb1affa0f5441d8687f42f4c4a581b": {
          "model_module": "@jupyter-widgets/controls",
          "model_name": "HBoxModel",
          "model_module_version": "1.5.0",
          "state": {
            "_view_name": "HBoxView",
            "_dom_classes": [],
            "_model_name": "HBoxModel",
            "_view_module": "@jupyter-widgets/controls",
            "_model_module_version": "1.5.0",
            "_view_count": null,
            "_view_module_version": "1.5.0",
            "box_style": "",
            "layout": "IPY_MODEL_a2d5fd47f4e84558aa54ba45ab22e2d4",
            "_model_module": "@jupyter-widgets/controls",
            "children": [
              "IPY_MODEL_4ed51faf15334b519f52f843548b0097",
              "IPY_MODEL_fa943db376794acd9644f67d3cfe09b3",
              "IPY_MODEL_9aa742af8e7f43d3ad74e5b607e16bea"
            ]
          }
        },
        "a2d5fd47f4e84558aa54ba45ab22e2d4": {
          "model_module": "@jupyter-widgets/base",
          "model_name": "LayoutModel",
          "model_module_version": "1.2.0",
          "state": {
            "_view_name": "LayoutView",
            "grid_template_rows": null,
            "right": null,
            "justify_content": null,
            "_view_module": "@jupyter-widgets/base",
            "overflow": null,
            "_model_module_version": "1.2.0",
            "_view_count": null,
            "flex_flow": null,
            "width": null,
            "min_width": null,
            "border": null,
            "align_items": null,
            "bottom": null,
            "_model_module": "@jupyter-widgets/base",
            "top": null,
            "grid_column": null,
            "overflow_y": null,
            "overflow_x": null,
            "grid_auto_flow": null,
            "grid_area": null,
            "grid_template_columns": null,
            "flex": null,
            "_model_name": "LayoutModel",
            "justify_items": null,
            "grid_row": null,
            "max_height": null,
            "align_content": null,
            "visibility": null,
            "align_self": null,
            "height": null,
            "min_height": null,
            "padding": null,
            "grid_auto_rows": null,
            "grid_gap": null,
            "max_width": null,
            "order": null,
            "_view_module_version": "1.2.0",
            "grid_template_areas": null,
            "object_position": null,
            "object_fit": null,
            "grid_auto_columns": null,
            "margin": null,
            "display": null,
            "left": null
          }
        },
        "4ed51faf15334b519f52f843548b0097": {
          "model_module": "@jupyter-widgets/controls",
          "model_name": "HTMLModel",
          "model_module_version": "1.5.0",
          "state": {
            "_view_name": "HTMLView",
            "style": "IPY_MODEL_cd4a123e1aac4e6a9ac4d6fccc70bbb9",
            "_dom_classes": [],
            "description": "",
            "_model_name": "HTMLModel",
            "placeholder": "​",
            "_view_module": "@jupyter-widgets/controls",
            "_model_module_version": "1.5.0",
            "value": "C&amp;W L_2: 100%",
            "_view_count": null,
            "_view_module_version": "1.5.0",
            "description_tooltip": null,
            "_model_module": "@jupyter-widgets/controls",
            "layout": "IPY_MODEL_0723436a437644e69ec96b7db4215ccf"
          }
        },
        "fa943db376794acd9644f67d3cfe09b3": {
          "model_module": "@jupyter-widgets/controls",
          "model_name": "FloatProgressModel",
          "model_module_version": "1.5.0",
          "state": {
            "_view_name": "ProgressView",
            "style": "IPY_MODEL_bf1a31bdb2ce495e91cab1d87fdf51b0",
            "_dom_classes": [],
            "description": "",
            "_model_name": "FloatProgressModel",
            "bar_style": "success",
            "max": 100,
            "_view_module": "@jupyter-widgets/controls",
            "_model_module_version": "1.5.0",
            "value": 100,
            "_view_count": null,
            "_view_module_version": "1.5.0",
            "orientation": "horizontal",
            "min": 0,
            "description_tooltip": null,
            "_model_module": "@jupyter-widgets/controls",
            "layout": "IPY_MODEL_663aa0819edc4f59929722252c61f126"
          }
        },
        "9aa742af8e7f43d3ad74e5b607e16bea": {
          "model_module": "@jupyter-widgets/controls",
          "model_name": "HTMLModel",
          "model_module_version": "1.5.0",
          "state": {
            "_view_name": "HTMLView",
            "style": "IPY_MODEL_0dbf4d3cd9d3403ab7d07609f50f4104",
            "_dom_classes": [],
            "description": "",
            "_model_name": "HTMLModel",
            "placeholder": "​",
            "_view_module": "@jupyter-widgets/controls",
            "_model_module_version": "1.5.0",
            "value": " 100/100 [02:30&lt;00:00,  1.53s/it]",
            "_view_count": null,
            "_view_module_version": "1.5.0",
            "description_tooltip": null,
            "_model_module": "@jupyter-widgets/controls",
            "layout": "IPY_MODEL_626d89d8ee25406ebcb90abb9ea9b6bb"
          }
        },
        "cd4a123e1aac4e6a9ac4d6fccc70bbb9": {
          "model_module": "@jupyter-widgets/controls",
          "model_name": "DescriptionStyleModel",
          "model_module_version": "1.5.0",
          "state": {
            "_view_name": "StyleView",
            "_model_name": "DescriptionStyleModel",
            "description_width": "",
            "_view_module": "@jupyter-widgets/base",
            "_model_module_version": "1.5.0",
            "_view_count": null,
            "_view_module_version": "1.2.0",
            "_model_module": "@jupyter-widgets/controls"
          }
        },
        "0723436a437644e69ec96b7db4215ccf": {
          "model_module": "@jupyter-widgets/base",
          "model_name": "LayoutModel",
          "model_module_version": "1.2.0",
          "state": {
            "_view_name": "LayoutView",
            "grid_template_rows": null,
            "right": null,
            "justify_content": null,
            "_view_module": "@jupyter-widgets/base",
            "overflow": null,
            "_model_module_version": "1.2.0",
            "_view_count": null,
            "flex_flow": null,
            "width": null,
            "min_width": null,
            "border": null,
            "align_items": null,
            "bottom": null,
            "_model_module": "@jupyter-widgets/base",
            "top": null,
            "grid_column": null,
            "overflow_y": null,
            "overflow_x": null,
            "grid_auto_flow": null,
            "grid_area": null,
            "grid_template_columns": null,
            "flex": null,
            "_model_name": "LayoutModel",
            "justify_items": null,
            "grid_row": null,
            "max_height": null,
            "align_content": null,
            "visibility": null,
            "align_self": null,
            "height": null,
            "min_height": null,
            "padding": null,
            "grid_auto_rows": null,
            "grid_gap": null,
            "max_width": null,
            "order": null,
            "_view_module_version": "1.2.0",
            "grid_template_areas": null,
            "object_position": null,
            "object_fit": null,
            "grid_auto_columns": null,
            "margin": null,
            "display": null,
            "left": null
          }
        },
        "bf1a31bdb2ce495e91cab1d87fdf51b0": {
          "model_module": "@jupyter-widgets/controls",
          "model_name": "ProgressStyleModel",
          "model_module_version": "1.5.0",
          "state": {
            "_view_name": "StyleView",
            "_model_name": "ProgressStyleModel",
            "description_width": "",
            "_view_module": "@jupyter-widgets/base",
            "_model_module_version": "1.5.0",
            "_view_count": null,
            "_view_module_version": "1.2.0",
            "bar_color": null,
            "_model_module": "@jupyter-widgets/controls"
          }
        },
        "663aa0819edc4f59929722252c61f126": {
          "model_module": "@jupyter-widgets/base",
          "model_name": "LayoutModel",
          "model_module_version": "1.2.0",
          "state": {
            "_view_name": "LayoutView",
            "grid_template_rows": null,
            "right": null,
            "justify_content": null,
            "_view_module": "@jupyter-widgets/base",
            "overflow": null,
            "_model_module_version": "1.2.0",
            "_view_count": null,
            "flex_flow": null,
            "width": null,
            "min_width": null,
            "border": null,
            "align_items": null,
            "bottom": null,
            "_model_module": "@jupyter-widgets/base",
            "top": null,
            "grid_column": null,
            "overflow_y": null,
            "overflow_x": null,
            "grid_auto_flow": null,
            "grid_area": null,
            "grid_template_columns": null,
            "flex": null,
            "_model_name": "LayoutModel",
            "justify_items": null,
            "grid_row": null,
            "max_height": null,
            "align_content": null,
            "visibility": null,
            "align_self": null,
            "height": null,
            "min_height": null,
            "padding": null,
            "grid_auto_rows": null,
            "grid_gap": null,
            "max_width": null,
            "order": null,
            "_view_module_version": "1.2.0",
            "grid_template_areas": null,
            "object_position": null,
            "object_fit": null,
            "grid_auto_columns": null,
            "margin": null,
            "display": null,
            "left": null
          }
        },
        "0dbf4d3cd9d3403ab7d07609f50f4104": {
          "model_module": "@jupyter-widgets/controls",
          "model_name": "DescriptionStyleModel",
          "model_module_version": "1.5.0",
          "state": {
            "_view_name": "StyleView",
            "_model_name": "DescriptionStyleModel",
            "description_width": "",
            "_view_module": "@jupyter-widgets/base",
            "_model_module_version": "1.5.0",
            "_view_count": null,
            "_view_module_version": "1.2.0",
            "_model_module": "@jupyter-widgets/controls"
          }
        },
        "626d89d8ee25406ebcb90abb9ea9b6bb": {
          "model_module": "@jupyter-widgets/base",
          "model_name": "LayoutModel",
          "model_module_version": "1.2.0",
          "state": {
            "_view_name": "LayoutView",
            "grid_template_rows": null,
            "right": null,
            "justify_content": null,
            "_view_module": "@jupyter-widgets/base",
            "overflow": null,
            "_model_module_version": "1.2.0",
            "_view_count": null,
            "flex_flow": null,
            "width": null,
            "min_width": null,
            "border": null,
            "align_items": null,
            "bottom": null,
            "_model_module": "@jupyter-widgets/base",
            "top": null,
            "grid_column": null,
            "overflow_y": null,
            "overflow_x": null,
            "grid_auto_flow": null,
            "grid_area": null,
            "grid_template_columns": null,
            "flex": null,
            "_model_name": "LayoutModel",
            "justify_items": null,
            "grid_row": null,
            "max_height": null,
            "align_content": null,
            "visibility": null,
            "align_self": null,
            "height": null,
            "min_height": null,
            "padding": null,
            "grid_auto_rows": null,
            "grid_gap": null,
            "max_width": null,
            "order": null,
            "_view_module_version": "1.2.0",
            "grid_template_areas": null,
            "object_position": null,
            "object_fit": null,
            "grid_auto_columns": null,
            "margin": null,
            "display": null,
            "left": null
          }
        },
        "3bbf1fb010cb4fdd9c9709d65a80ebd8": {
          "model_module": "@jupyter-widgets/controls",
          "model_name": "HBoxModel",
          "model_module_version": "1.5.0",
          "state": {
            "_view_name": "HBoxView",
            "_dom_classes": [],
            "_model_name": "HBoxModel",
            "_view_module": "@jupyter-widgets/controls",
            "_model_module_version": "1.5.0",
            "_view_count": null,
            "_view_module_version": "1.5.0",
            "box_style": "",
            "layout": "IPY_MODEL_f054d1916bd2432ca50ba5e2569c36c6",
            "_model_module": "@jupyter-widgets/controls",
            "children": [
              "IPY_MODEL_084ecf9791654b1882dc2d4f2cd04c6e",
              "IPY_MODEL_dd7dc372f9db49de8866977df2d1e13d",
              "IPY_MODEL_e0413e356f80446fbf3e8effc3b2859c"
            ]
          }
        },
        "f054d1916bd2432ca50ba5e2569c36c6": {
          "model_module": "@jupyter-widgets/base",
          "model_name": "LayoutModel",
          "model_module_version": "1.2.0",
          "state": {
            "_view_name": "LayoutView",
            "grid_template_rows": null,
            "right": null,
            "justify_content": null,
            "_view_module": "@jupyter-widgets/base",
            "overflow": null,
            "_model_module_version": "1.2.0",
            "_view_count": null,
            "flex_flow": null,
            "width": null,
            "min_width": null,
            "border": null,
            "align_items": null,
            "bottom": null,
            "_model_module": "@jupyter-widgets/base",
            "top": null,
            "grid_column": null,
            "overflow_y": null,
            "overflow_x": null,
            "grid_auto_flow": null,
            "grid_area": null,
            "grid_template_columns": null,
            "flex": null,
            "_model_name": "LayoutModel",
            "justify_items": null,
            "grid_row": null,
            "max_height": null,
            "align_content": null,
            "visibility": null,
            "align_self": null,
            "height": null,
            "min_height": null,
            "padding": null,
            "grid_auto_rows": null,
            "grid_gap": null,
            "max_width": null,
            "order": null,
            "_view_module_version": "1.2.0",
            "grid_template_areas": null,
            "object_position": null,
            "object_fit": null,
            "grid_auto_columns": null,
            "margin": null,
            "display": null,
            "left": null
          }
        },
        "084ecf9791654b1882dc2d4f2cd04c6e": {
          "model_module": "@jupyter-widgets/controls",
          "model_name": "HTMLModel",
          "model_module_version": "1.5.0",
          "state": {
            "_view_name": "HTMLView",
            "style": "IPY_MODEL_1e713f2d5c094317946366845ec58423",
            "_dom_classes": [],
            "description": "",
            "_model_name": "HTMLModel",
            "placeholder": "​",
            "_view_module": "@jupyter-widgets/controls",
            "_model_module_version": "1.5.0",
            "value": "C&amp;W L_2: 100%",
            "_view_count": null,
            "_view_module_version": "1.5.0",
            "description_tooltip": null,
            "_model_module": "@jupyter-widgets/controls",
            "layout": "IPY_MODEL_bf99120ccc834be29f1b45aeab951616"
          }
        },
        "dd7dc372f9db49de8866977df2d1e13d": {
          "model_module": "@jupyter-widgets/controls",
          "model_name": "FloatProgressModel",
          "model_module_version": "1.5.0",
          "state": {
            "_view_name": "ProgressView",
            "style": "IPY_MODEL_2bbb8b4d7bd74d6f860a14b3c3428c1b",
            "_dom_classes": [],
            "description": "",
            "_model_name": "FloatProgressModel",
            "bar_style": "success",
            "max": 100,
            "_view_module": "@jupyter-widgets/controls",
            "_model_module_version": "1.5.0",
            "value": 100,
            "_view_count": null,
            "_view_module_version": "1.5.0",
            "orientation": "horizontal",
            "min": 0,
            "description_tooltip": null,
            "_model_module": "@jupyter-widgets/controls",
            "layout": "IPY_MODEL_36946b5f88f84f64bb3dcd76b8feb4f5"
          }
        },
        "e0413e356f80446fbf3e8effc3b2859c": {
          "model_module": "@jupyter-widgets/controls",
          "model_name": "HTMLModel",
          "model_module_version": "1.5.0",
          "state": {
            "_view_name": "HTMLView",
            "style": "IPY_MODEL_5cd84db1a999412eb1ae69aa0fcb30f9",
            "_dom_classes": [],
            "description": "",
            "_model_name": "HTMLModel",
            "placeholder": "​",
            "_view_module": "@jupyter-widgets/controls",
            "_model_module_version": "1.5.0",
            "value": " 100/100 [02:34&lt;00:00,  1.63s/it]",
            "_view_count": null,
            "_view_module_version": "1.5.0",
            "description_tooltip": null,
            "_model_module": "@jupyter-widgets/controls",
            "layout": "IPY_MODEL_0a1dbea52447496c8bc5541cbf452148"
          }
        },
        "1e713f2d5c094317946366845ec58423": {
          "model_module": "@jupyter-widgets/controls",
          "model_name": "DescriptionStyleModel",
          "model_module_version": "1.5.0",
          "state": {
            "_view_name": "StyleView",
            "_model_name": "DescriptionStyleModel",
            "description_width": "",
            "_view_module": "@jupyter-widgets/base",
            "_model_module_version": "1.5.0",
            "_view_count": null,
            "_view_module_version": "1.2.0",
            "_model_module": "@jupyter-widgets/controls"
          }
        },
        "bf99120ccc834be29f1b45aeab951616": {
          "model_module": "@jupyter-widgets/base",
          "model_name": "LayoutModel",
          "model_module_version": "1.2.0",
          "state": {
            "_view_name": "LayoutView",
            "grid_template_rows": null,
            "right": null,
            "justify_content": null,
            "_view_module": "@jupyter-widgets/base",
            "overflow": null,
            "_model_module_version": "1.2.0",
            "_view_count": null,
            "flex_flow": null,
            "width": null,
            "min_width": null,
            "border": null,
            "align_items": null,
            "bottom": null,
            "_model_module": "@jupyter-widgets/base",
            "top": null,
            "grid_column": null,
            "overflow_y": null,
            "overflow_x": null,
            "grid_auto_flow": null,
            "grid_area": null,
            "grid_template_columns": null,
            "flex": null,
            "_model_name": "LayoutModel",
            "justify_items": null,
            "grid_row": null,
            "max_height": null,
            "align_content": null,
            "visibility": null,
            "align_self": null,
            "height": null,
            "min_height": null,
            "padding": null,
            "grid_auto_rows": null,
            "grid_gap": null,
            "max_width": null,
            "order": null,
            "_view_module_version": "1.2.0",
            "grid_template_areas": null,
            "object_position": null,
            "object_fit": null,
            "grid_auto_columns": null,
            "margin": null,
            "display": null,
            "left": null
          }
        },
        "2bbb8b4d7bd74d6f860a14b3c3428c1b": {
          "model_module": "@jupyter-widgets/controls",
          "model_name": "ProgressStyleModel",
          "model_module_version": "1.5.0",
          "state": {
            "_view_name": "StyleView",
            "_model_name": "ProgressStyleModel",
            "description_width": "",
            "_view_module": "@jupyter-widgets/base",
            "_model_module_version": "1.5.0",
            "_view_count": null,
            "_view_module_version": "1.2.0",
            "bar_color": null,
            "_model_module": "@jupyter-widgets/controls"
          }
        },
        "36946b5f88f84f64bb3dcd76b8feb4f5": {
          "model_module": "@jupyter-widgets/base",
          "model_name": "LayoutModel",
          "model_module_version": "1.2.0",
          "state": {
            "_view_name": "LayoutView",
            "grid_template_rows": null,
            "right": null,
            "justify_content": null,
            "_view_module": "@jupyter-widgets/base",
            "overflow": null,
            "_model_module_version": "1.2.0",
            "_view_count": null,
            "flex_flow": null,
            "width": null,
            "min_width": null,
            "border": null,
            "align_items": null,
            "bottom": null,
            "_model_module": "@jupyter-widgets/base",
            "top": null,
            "grid_column": null,
            "overflow_y": null,
            "overflow_x": null,
            "grid_auto_flow": null,
            "grid_area": null,
            "grid_template_columns": null,
            "flex": null,
            "_model_name": "LayoutModel",
            "justify_items": null,
            "grid_row": null,
            "max_height": null,
            "align_content": null,
            "visibility": null,
            "align_self": null,
            "height": null,
            "min_height": null,
            "padding": null,
            "grid_auto_rows": null,
            "grid_gap": null,
            "max_width": null,
            "order": null,
            "_view_module_version": "1.2.0",
            "grid_template_areas": null,
            "object_position": null,
            "object_fit": null,
            "grid_auto_columns": null,
            "margin": null,
            "display": null,
            "left": null
          }
        },
        "5cd84db1a999412eb1ae69aa0fcb30f9": {
          "model_module": "@jupyter-widgets/controls",
          "model_name": "DescriptionStyleModel",
          "model_module_version": "1.5.0",
          "state": {
            "_view_name": "StyleView",
            "_model_name": "DescriptionStyleModel",
            "description_width": "",
            "_view_module": "@jupyter-widgets/base",
            "_model_module_version": "1.5.0",
            "_view_count": null,
            "_view_module_version": "1.2.0",
            "_model_module": "@jupyter-widgets/controls"
          }
        },
        "0a1dbea52447496c8bc5541cbf452148": {
          "model_module": "@jupyter-widgets/base",
          "model_name": "LayoutModel",
          "model_module_version": "1.2.0",
          "state": {
            "_view_name": "LayoutView",
            "grid_template_rows": null,
            "right": null,
            "justify_content": null,
            "_view_module": "@jupyter-widgets/base",
            "overflow": null,
            "_model_module_version": "1.2.0",
            "_view_count": null,
            "flex_flow": null,
            "width": null,
            "min_width": null,
            "border": null,
            "align_items": null,
            "bottom": null,
            "_model_module": "@jupyter-widgets/base",
            "top": null,
            "grid_column": null,
            "overflow_y": null,
            "overflow_x": null,
            "grid_auto_flow": null,
            "grid_area": null,
            "grid_template_columns": null,
            "flex": null,
            "_model_name": "LayoutModel",
            "justify_items": null,
            "grid_row": null,
            "max_height": null,
            "align_content": null,
            "visibility": null,
            "align_self": null,
            "height": null,
            "min_height": null,
            "padding": null,
            "grid_auto_rows": null,
            "grid_gap": null,
            "max_width": null,
            "order": null,
            "_view_module_version": "1.2.0",
            "grid_template_areas": null,
            "object_position": null,
            "object_fit": null,
            "grid_auto_columns": null,
            "margin": null,
            "display": null,
            "left": null
          }
        }
      }
    }
  },
  "cells": [
    {
      "cell_type": "markdown",
      "metadata": {
        "id": "M7TfHtuovDZ6"
      },
      "source": [
        "# Problem 1 [Evasion attacks with the ART library] - 30 points\n",
        "\n",
        "Train a CNN on MNIST using an architecture of your choice. Use the Adversarial Robustness Toolkit (ART)\n",
        "library (available at\n",
        "https://adversarial-robustness-toolbox.readthedocs.io/en/latest/)\n",
        "\n",
        "to evaluate the following evasion attacks. Let the targeted class be t = 7 as the target of the attack. You\n",
        "should evaluate the attacks on a fixed set of 100 testing examples chosen at random from the remaining 9\n",
        "classes.\n",
        "\n",
        "(a) Run the untargeted and the targeted FGSM attack with $L_{\\infty}$ norm. For each attack, compute the\n",
        "adversarial success as a function of perturbation $\\epsilon$ , for $\\epsilon$ $\\in$ {0.1, 0.2, 0.3}. You can also increase the\n",
        "value of $\\epsilon$ to increase the attack success.\n",
        "\n",
        "(b) Run the targeted Carlini and Wagner attack for the $L_2$ norm. Pick at least three values of constant c used in the optimization objective and compute for each the average $L_2$ distance of successful adversarial examples. Report the attack success for each value of c. Discuss your observations on the\n",
        "perturbations and attack success for different values of c.\n",
        "\n",
        "(c) Identify the following adversarial examples:\n",
        "\n",
        "– For each value of $\\epsilon$ in the targeted FGSM attack, select the adversarial example of highest confidence according to the model’s probability of prediction to the targeted class.\n",
        "– For the Carlini-Wagner attack, select the adversarial example of smallest, largest, and median L2 perturbation.\n",
        "\n",
        "For each of these adversarial examples, visualize: (1) the original image; (2) the perturbation; (3) the\n",
        "adversarial example and write down some observations"
      ]
    },
    {
      "cell_type": "code",
      "metadata": {
        "id": "5AOg7XuIwQaP"
      },
      "source": [
        "# step 1 traing a CNN on MNIST data"
      ],
      "execution_count": null,
      "outputs": []
    },
    {
      "cell_type": "code",
      "metadata": {
        "id": "V3ycJfd26gbI"
      },
      "source": [
        "import torch\n",
        "import torchvision\n",
        "import torch.nn as nn\n",
        "import torch.nn.functional as F\n",
        "import torch.optim as optim\n",
        "import numpy as np\n",
        "import pandas as pd\n",
        "from torch.optim.lr_scheduler import StepLR\n",
        "import warnings\n",
        "warnings.filterwarnings('ignore')"
      ],
      "execution_count": null,
      "outputs": []
    },
    {
      "cell_type": "code",
      "metadata": {
        "id": "JZCV3fk06jfS",
        "colab": {
          "base_uri": "https://localhost:8080/",
          "height": 411,
          "referenced_widgets": [
            "9477e375001a487c93fbab18fe2b7c6c",
            "38230c33d8b94d498652d01ceebfd9b6",
            "1ad867c23951477b8211d0f2ffbde800",
            "bf4ec0e42c9a45ddbfaf1f5b11a8358b",
            "b76474e8ad604206a3b16cb83c901eb1",
            "6394cb9ba0a6454eb5d6c850bf48c348",
            "167bd2c8654a4cf08ae9d90b89538479",
            "7f5a39c2d22c49ae8acc474422e6cfc6",
            "083bcdda753a44018ab4225fce3c2182",
            "c77ffbe15a884ff8b5fc98524ef9dc54",
            "ddce587a386a426e80fd319d38bec80a",
            "b44a19f28a3b41bd84365c8c41c7f267",
            "882723b300404879a77b637812ab3494",
            "3ad37207d23149b985073239e7ad3606",
            "edab6724252d419ebe2d8ee90644c5a9",
            "ea4b893d9171407783175a6bae21e67d",
            "d181ed43f059411cb3376ea36a0a5870",
            "c4ed5001d4424ce8ad0f16cb34e5b910",
            "e5ecc6cb7a5441a9bdd36f5776d586ee",
            "887742c2ee6548818d359fe6a05a3589",
            "19baa0c372f44b829057de9564b89d6a",
            "67de6be8c932442aa6a72fb79de49c1d",
            "3a3e69545fbe4641a37c44a5fd1cf953",
            "36ee28d5f742413e9e4890b4bbff1c07",
            "8fb4c50dc7724b1ba2837258d2857afc",
            "be19cf464f794c8a8c21ccae588c6928",
            "dd3f37073bc64359b297403488c10e71",
            "fd7705aa558a474c8a32b3f67283088d",
            "132f859f925b46df9b08ecdd7acbd6ef",
            "1b68e986a45f41d3b2d73bf015e4b865",
            "aff11c3f5ce6474498fa08fa3216a1d2",
            "04e8f3456f6044d49f3018290a32d085",
            "d050a90d9f0f46a2b61511d9ddd01c29",
            "73852439f5764bd8a367a03173e3fd24",
            "38eb56954e9a41b6bf70e80641b490fc",
            "45496dcd13b84295a8559183e07a77a4",
            "892c828a54ff424a920fb4e385b56493",
            "1fb3a31e148046c6b9c291845718aed1",
            "b7a9c22d0cc145688e9abe59cdf9e630",
            "5360eff096f74eebb3e8be3219d62a9d",
            "0a76f25deb2a4e51921ad0f0176f6483",
            "ea48fc2c6d414bcc858ece8261c23cf5",
            "3b0e120dec454d1aaf9a888481e3d6a5",
            "839a384c80dc4d68a15a216fdfd00c1f"
          ]
        },
        "outputId": "dd1eb921-a9cc-4130-eb2d-a431b16d18cb"
      },
      "source": [
        "# train and test data loaders\n",
        "batch_size_train = 64\n",
        "batch_size_test = 64\n",
        "\n",
        "train_data = torchvision.datasets.MNIST('/data/', train=True, download=True,\n",
        "                             transform=torchvision.transforms.Compose([\n",
        "                               torchvision.transforms.ToTensor(),\n",
        "                               torchvision.transforms.Normalize(\n",
        "                                 (0.1307,), (0.3081,))\n",
        "                             ]))\n",
        "test_data  = torchvision.datasets.MNIST('/data/', train=False, download=True,\n",
        "                             transform=torchvision.transforms.Compose([\n",
        "                               torchvision.transforms.ToTensor(),\n",
        "                               torchvision.transforms.Normalize(\n",
        "                                 (0.1307,), (0.3081,))\n",
        "                             ]))\n",
        "\n",
        "train_loader = torch.utils.data.DataLoader(train_data, batch_size=batch_size_train, shuffle=True)\n",
        "test_loader = torch.utils.data.DataLoader(test_data, batch_size=batch_size_test, shuffle=True)"
      ],
      "execution_count": null,
      "outputs": [
        {
          "output_type": "stream",
          "name": "stdout",
          "text": [
            "Downloading http://yann.lecun.com/exdb/mnist/train-images-idx3-ubyte.gz\n",
            "Downloading http://yann.lecun.com/exdb/mnist/train-images-idx3-ubyte.gz to /data/MNIST/raw/train-images-idx3-ubyte.gz\n"
          ]
        },
        {
          "output_type": "display_data",
          "data": {
            "application/vnd.jupyter.widget-view+json": {
              "model_id": "9477e375001a487c93fbab18fe2b7c6c",
              "version_minor": 0,
              "version_major": 2
            },
            "text/plain": [
              "  0%|          | 0/9912422 [00:00<?, ?it/s]"
            ]
          },
          "metadata": {}
        },
        {
          "output_type": "stream",
          "name": "stdout",
          "text": [
            "Extracting /data/MNIST/raw/train-images-idx3-ubyte.gz to /data/MNIST/raw\n",
            "\n",
            "Downloading http://yann.lecun.com/exdb/mnist/train-labels-idx1-ubyte.gz\n",
            "Downloading http://yann.lecun.com/exdb/mnist/train-labels-idx1-ubyte.gz to /data/MNIST/raw/train-labels-idx1-ubyte.gz\n"
          ]
        },
        {
          "output_type": "display_data",
          "data": {
            "application/vnd.jupyter.widget-view+json": {
              "model_id": "b44a19f28a3b41bd84365c8c41c7f267",
              "version_minor": 0,
              "version_major": 2
            },
            "text/plain": [
              "  0%|          | 0/28881 [00:00<?, ?it/s]"
            ]
          },
          "metadata": {}
        },
        {
          "output_type": "stream",
          "name": "stdout",
          "text": [
            "Extracting /data/MNIST/raw/train-labels-idx1-ubyte.gz to /data/MNIST/raw\n",
            "\n",
            "Downloading http://yann.lecun.com/exdb/mnist/t10k-images-idx3-ubyte.gz\n",
            "Downloading http://yann.lecun.com/exdb/mnist/t10k-images-idx3-ubyte.gz to /data/MNIST/raw/t10k-images-idx3-ubyte.gz\n"
          ]
        },
        {
          "output_type": "display_data",
          "data": {
            "application/vnd.jupyter.widget-view+json": {
              "model_id": "3a3e69545fbe4641a37c44a5fd1cf953",
              "version_minor": 0,
              "version_major": 2
            },
            "text/plain": [
              "  0%|          | 0/1648877 [00:00<?, ?it/s]"
            ]
          },
          "metadata": {}
        },
        {
          "output_type": "stream",
          "name": "stdout",
          "text": [
            "Extracting /data/MNIST/raw/t10k-images-idx3-ubyte.gz to /data/MNIST/raw\n",
            "\n",
            "Downloading http://yann.lecun.com/exdb/mnist/t10k-labels-idx1-ubyte.gz\n",
            "Downloading http://yann.lecun.com/exdb/mnist/t10k-labels-idx1-ubyte.gz to /data/MNIST/raw/t10k-labels-idx1-ubyte.gz\n"
          ]
        },
        {
          "output_type": "display_data",
          "data": {
            "application/vnd.jupyter.widget-view+json": {
              "model_id": "73852439f5764bd8a367a03173e3fd24",
              "version_minor": 0,
              "version_major": 2
            },
            "text/plain": [
              "  0%|          | 0/4542 [00:00<?, ?it/s]"
            ]
          },
          "metadata": {}
        },
        {
          "output_type": "stream",
          "name": "stdout",
          "text": [
            "Extracting /data/MNIST/raw/t10k-labels-idx1-ubyte.gz to /data/MNIST/raw\n",
            "\n"
          ]
        }
      ]
    },
    {
      "cell_type": "code",
      "metadata": {
        "colab": {
          "base_uri": "https://localhost:8080/",
          "height": 204
        },
        "id": "71ju5ZJt9TKR",
        "outputId": "6dac2f11-b7f8-4280-9e82-e657e32a5271"
      },
      "source": [
        "# get samples from train data \n",
        "\n",
        "samples = enumerate(test_loader)\n",
        "batch_idx, (samples_data, samples_targets) = next(samples)\n",
        "\n",
        "print(samples_data.shape)\n",
        "print(samples_targets.shape)\n",
        "\n",
        "# plot the samples \n",
        "import matplotlib.pyplot as plt\n",
        "\n",
        "figure = plt.figure()\n",
        "num_of_images = 40\n",
        "for index in range(1, num_of_images + 1):\n",
        "    plt.subplot(6, 10, index)\n",
        "    plt.axis('off')\n",
        "    plt.imshow(samples_data[index].numpy().squeeze(), cmap='gray_r')"
      ],
      "execution_count": null,
      "outputs": [
        {
          "output_type": "stream",
          "name": "stdout",
          "text": [
            "torch.Size([64, 1, 28, 28])\n",
            "torch.Size([64])\n"
          ]
        },
        {
          "output_type": "display_data",
          "data": {
            "image/png": "[encoded data removed]",
            "text/plain": [
              "<Figure size 432x288 with 40 Axes>"
            ]
          },
          "metadata": {
            "needs_background": "light"
          }
        }
      ]
    },
    {
      "cell_type": "markdown",
      "metadata": {
        "id": "AVcYFJAOdMax"
      },
      "source": [
        "## Adversarial attack using ART toolbox "
      ]
    },
    {
      "cell_type": "code",
      "metadata": {
        "id": "iwdaBJuVCYxc",
        "colab": {
          "base_uri": "https://localhost:8080/"
        },
        "outputId": "48cdf16d-dc89-4cf0-da37-9f41151a82ef"
      },
      "source": [
        "! pip install adversarial-robustness-toolbox"
      ],
      "execution_count": null,
      "outputs": [
        {
          "output_type": "stream",
          "name": "stdout",
          "text": [
            "Collecting adversarial-robustness-toolbox\n",
            "  Downloading adversarial_robustness_toolbox-1.8.1-py3-none-any.whl (1.1 MB)\n",
            "\u001b[?25l\r\u001b[K     |▎                               | 10 kB 29.5 MB/s eta 0:00:01\r\u001b[K     |▋                               | 20 kB 25.2 MB/s eta 0:00:01\r\u001b[K     |█                               | 30 kB 20.6 MB/s eta 0:00:01\r\u001b[K     |█▏                              | 40 kB 17.7 MB/s eta 0:00:01\r\u001b[K     |█▌                              | 51 kB 9.0 MB/s eta 0:00:01\r\u001b[K     |█▉                              | 61 kB 8.7 MB/s eta 0:00:01\r\u001b[K     |██                              | 71 kB 8.9 MB/s eta 0:00:01\r\u001b[K     |██▍                             | 81 kB 9.9 MB/s eta 0:00:01\r\u001b[K     |██▊                             | 92 kB 10.5 MB/s eta 0:00:01\r\u001b[K     |███                             | 102 kB 8.5 MB/s eta 0:00:01\r\u001b[K     |███▎                            | 112 kB 8.5 MB/s eta 0:00:01\r\u001b[K     |███▋                            | 122 kB 8.5 MB/s eta 0:00:01\r\u001b[K     |███▉                            | 133 kB 8.5 MB/s eta 0:00:01\r\u001b[K     |████▏                           | 143 kB 8.5 MB/s eta 0:00:01\r\u001b[K     |████▌                           | 153 kB 8.5 MB/s eta 0:00:01\r\u001b[K     |████▊                           | 163 kB 8.5 MB/s eta 0:00:01\r\u001b[K     |█████                           | 174 kB 8.5 MB/s eta 0:00:01\r\u001b[K     |█████▍                          | 184 kB 8.5 MB/s eta 0:00:01\r\u001b[K     |█████▋                          | 194 kB 8.5 MB/s eta 0:00:01\r\u001b[K     |██████                          | 204 kB 8.5 MB/s eta 0:00:01\r\u001b[K     |██████▎                         | 215 kB 8.5 MB/s eta 0:00:01\r\u001b[K     |██████▌                         | 225 kB 8.5 MB/s eta 0:00:01\r\u001b[K     |██████▉                         | 235 kB 8.5 MB/s eta 0:00:01\r\u001b[K     |███████▏                        | 245 kB 8.5 MB/s eta 0:00:01\r\u001b[K     |███████▍                        | 256 kB 8.5 MB/s eta 0:00:01\r\u001b[K     |███████▊                        | 266 kB 8.5 MB/s eta 0:00:01\r\u001b[K     |████████                        | 276 kB 8.5 MB/s eta 0:00:01\r\u001b[K     |████████▎                       | 286 kB 8.5 MB/s eta 0:00:01\r\u001b[K     |████████▋                       | 296 kB 8.5 MB/s eta 0:00:01\r\u001b[K     |█████████                       | 307 kB 8.5 MB/s eta 0:00:01\r\u001b[K     |█████████▏                      | 317 kB 8.5 MB/s eta 0:00:01\r\u001b[K     |█████████▌                      | 327 kB 8.5 MB/s eta 0:00:01\r\u001b[K     |█████████▉                      | 337 kB 8.5 MB/s eta 0:00:01\r\u001b[K     |██████████                      | 348 kB 8.5 MB/s eta 0:00:01\r\u001b[K     |██████████▍                     | 358 kB 8.5 MB/s eta 0:00:01\r\u001b[K     |██████████▊                     | 368 kB 8.5 MB/s eta 0:00:01\r\u001b[K     |███████████                     | 378 kB 8.5 MB/s eta 0:00:01\r\u001b[K     |███████████▎                    | 389 kB 8.5 MB/s eta 0:00:01\r\u001b[K     |███████████▋                    | 399 kB 8.5 MB/s eta 0:00:01\r\u001b[K     |███████████▉                    | 409 kB 8.5 MB/s eta 0:00:01\r\u001b[K     |████████████▏                   | 419 kB 8.5 MB/s eta 0:00:01\r\u001b[K     |████████████▌                   | 430 kB 8.5 MB/s eta 0:00:01\r\u001b[K     |████████████▊                   | 440 kB 8.5 MB/s eta 0:00:01\r\u001b[K     |█████████████                   | 450 kB 8.5 MB/s eta 0:00:01\r\u001b[K     |█████████████▍                  | 460 kB 8.5 MB/s eta 0:00:01\r\u001b[K     |█████████████▋                  | 471 kB 8.5 MB/s eta 0:00:01\r\u001b[K     |██████████████                  | 481 kB 8.5 MB/s eta 0:00:01\r\u001b[K     |██████████████▎                 | 491 kB 8.5 MB/s eta 0:00:01\r\u001b[K     |██████████████▌                 | 501 kB 8.5 MB/s eta 0:00:01\r\u001b[K     |██████████████▉                 | 512 kB 8.5 MB/s eta 0:00:01\r\u001b[K     |███████████████▏                | 522 kB 8.5 MB/s eta 0:00:01\r\u001b[K     |███████████████▍                | 532 kB 8.5 MB/s eta 0:00:01\r\u001b[K     |███████████████▊                | 542 kB 8.5 MB/s eta 0:00:01\r\u001b[K     |████████████████                | 552 kB 8.5 MB/s eta 0:00:01\r\u001b[K     |████████████████▎               | 563 kB 8.5 MB/s eta 0:00:01\r\u001b[K     |████████████████▋               | 573 kB 8.5 MB/s eta 0:00:01\r\u001b[K     |█████████████████               | 583 kB 8.5 MB/s eta 0:00:01\r\u001b[K     |█████████████████▏              | 593 kB 8.5 MB/s eta 0:00:01\r\u001b[K     |█████████████████▌              | 604 kB 8.5 MB/s eta 0:00:01\r\u001b[K     |█████████████████▉              | 614 kB 8.5 MB/s eta 0:00:01\r\u001b[K     |██████████████████              | 624 kB 8.5 MB/s eta 0:00:01\r\u001b[K     |██████████████████▍             | 634 kB 8.5 MB/s eta 0:00:01\r\u001b[K     |██████████████████▊             | 645 kB 8.5 MB/s eta 0:00:01\r\u001b[K     |███████████████████             | 655 kB 8.5 MB/s eta 0:00:01\r\u001b[K     |███████████████████▎            | 665 kB 8.5 MB/s eta 0:00:01\r\u001b[K     |███████████████████▋            | 675 kB 8.5 MB/s eta 0:00:01\r\u001b[K     |███████████████████▉            | 686 kB 8.5 MB/s eta 0:00:01\r\u001b[K     |████████████████████▏           | 696 kB 8.5 MB/s eta 0:00:01\r\u001b[K     |████████████████████▌           | 706 kB 8.5 MB/s eta 0:00:01\r\u001b[K     |████████████████████▊           | 716 kB 8.5 MB/s eta 0:00:01\r\u001b[K     |█████████████████████           | 727 kB 8.5 MB/s eta 0:00:01\r\u001b[K     |█████████████████████▍          | 737 kB 8.5 MB/s eta 0:00:01\r\u001b[K     |█████████████████████▋          | 747 kB 8.5 MB/s eta 0:00:01\r\u001b[K     |██████████████████████          | 757 kB 8.5 MB/s eta 0:00:01\r\u001b[K     |██████████████████████▎         | 768 kB 8.5 MB/s eta 0:00:01\r\u001b[K     |██████████████████████▌         | 778 kB 8.5 MB/s eta 0:00:01\r\u001b[K     |██████████████████████▉         | 788 kB 8.5 MB/s eta 0:00:01\r\u001b[K     |███████████████████████▏        | 798 kB 8.5 MB/s eta 0:00:01\r\u001b[K     |███████████████████████▍        | 808 kB 8.5 MB/s eta 0:00:01\r\u001b[K     |███████████████████████▊        | 819 kB 8.5 MB/s eta 0:00:01\r\u001b[K     |████████████████████████        | 829 kB 8.5 MB/s eta 0:00:01\r\u001b[K     |████████████████████████▎       | 839 kB 8.5 MB/s eta 0:00:01\r\u001b[K     |████████████████████████▋       | 849 kB 8.5 MB/s eta 0:00:01\r\u001b[K     |█████████████████████████       | 860 kB 8.5 MB/s eta 0:00:01\r\u001b[K     |█████████████████████████▏      | 870 kB 8.5 MB/s eta 0:00:01\r\u001b[K     |█████████████████████████▌      | 880 kB 8.5 MB/s eta 0:00:01\r\u001b[K     |█████████████████████████▉      | 890 kB 8.5 MB/s eta 0:00:01\r\u001b[K     |██████████████████████████      | 901 kB 8.5 MB/s eta 0:00:01\r\u001b[K     |██████████████████████████▍     | 911 kB 8.5 MB/s eta 0:00:01\r\u001b[K     |██████████████████████████▊     | 921 kB 8.5 MB/s eta 0:00:01\r\u001b[K     |███████████████████████████     | 931 kB 8.5 MB/s eta 0:00:01\r\u001b[K     |███████████████████████████▎    | 942 kB 8.5 MB/s eta 0:00:01\r\u001b[K     |███████████████████████████▋    | 952 kB 8.5 MB/s eta 0:00:01\r\u001b[K     |████████████████████████████    | 962 kB 8.5 MB/s eta 0:00:01\r\u001b[K     |████████████████████████████▏   | 972 kB 8.5 MB/s eta 0:00:01\r\u001b[K     |████████████████████████████▌   | 983 kB 8.5 MB/s eta 0:00:01\r\u001b[K     |████████████████████████████▉   | 993 kB 8.5 MB/s eta 0:00:01\r\u001b[K     |█████████████████████████████   | 1.0 MB 8.5 MB/s eta 0:00:01\r\u001b[K     |█████████████████████████████▍  | 1.0 MB 8.5 MB/s eta 0:00:01\r\u001b[K     |█████████████████████████████▊  | 1.0 MB 8.5 MB/s eta 0:00:01\r\u001b[K     |██████████████████████████████  | 1.0 MB 8.5 MB/s eta 0:00:01\r\u001b[K     |██████████████████████████████▎ | 1.0 MB 8.5 MB/s eta 0:00:01\r\u001b[K     |██████████████████████████████▋ | 1.1 MB 8.5 MB/s eta 0:00:01\r\u001b[K     |██████████████████████████████▉ | 1.1 MB 8.5 MB/s eta 0:00:01\r\u001b[K     |███████████████████████████████▏| 1.1 MB 8.5 MB/s eta 0:00:01\r\u001b[K     |███████████████████████████████▌| 1.1 MB 8.5 MB/s eta 0:00:01\r\u001b[K     |███████████████████████████████▊| 1.1 MB 8.5 MB/s eta 0:00:01\r\u001b[K     |████████████████████████████████| 1.1 MB 8.5 MB/s \n",
            "\u001b[?25hRequirement already satisfied: setuptools in /usr/local/lib/python3.7/dist-packages (from adversarial-robustness-toolbox) (57.4.0)\n",
            "Requirement already satisfied: scikit-learn<1.1.0,>=0.22.2 in /usr/local/lib/python3.7/dist-packages (from adversarial-robustness-toolbox) (0.22.2.post1)\n",
            "Requirement already satisfied: six in /usr/local/lib/python3.7/dist-packages (from adversarial-robustness-toolbox) (1.15.0)\n",
            "Requirement already satisfied: scipy>=1.4.1 in /usr/local/lib/python3.7/dist-packages (from adversarial-robustness-toolbox) (1.4.1)\n",
            "Requirement already satisfied: numpy>=1.18.0 in /usr/local/lib/python3.7/dist-packages (from adversarial-robustness-toolbox) (1.19.5)\n",
            "Requirement already satisfied: tqdm in /usr/local/lib/python3.7/dist-packages (from adversarial-robustness-toolbox) (4.62.3)\n",
            "Collecting numba>=0.53.1\n",
            "  Downloading numba-0.54.1-cp37-cp37m-manylinux2014_x86_64.manylinux_2_17_x86_64.whl (3.3 MB)\n",
            "\u001b[K     |████████████████████████████████| 3.3 MB 40.3 MB/s \n",
            "\u001b[?25hCollecting llvmlite<0.38,>=0.37.0rc1\n",
            "  Downloading llvmlite-0.37.0-cp37-cp37m-manylinux2014_x86_64.whl (26.3 MB)\n",
            "\u001b[K     |████████████████████████████████| 26.3 MB 57.3 MB/s \n",
            "\u001b[?25hRequirement already satisfied: joblib>=0.11 in /usr/local/lib/python3.7/dist-packages (from scikit-learn<1.1.0,>=0.22.2->adversarial-robustness-toolbox) (1.0.1)\n",
            "Installing collected packages: llvmlite, numba, adversarial-robustness-toolbox\n",
            "  Attempting uninstall: llvmlite\n",
            "    Found existing installation: llvmlite 0.34.0\n",
            "    Uninstalling llvmlite-0.34.0:\n",
            "      Successfully uninstalled llvmlite-0.34.0\n",
            "  Attempting uninstall: numba\n",
            "    Found existing installation: numba 0.51.2\n",
            "    Uninstalling numba-0.51.2:\n",
            "      Successfully uninstalled numba-0.51.2\n",
            "Successfully installed adversarial-robustness-toolbox-1.8.1 llvmlite-0.37.0 numba-0.54.1\n"
          ]
        }
      ]
    },
    {
      "cell_type": "code",
      "metadata": {
        "id": "FNUKxlEl4aPw"
      },
      "source": [
        "import tensorflow as tf\n",
        "\n",
        "tf.compat.v1.disable_eager_execution()\n",
        "\n",
        "from __future__ import absolute_import, division, print_function, unicode_literals\n",
        "from keras.models import Sequential\n",
        "from keras.layers import Dense, Flatten, Conv2D, MaxPooling2D, Dropout\n",
        "import numpy as np\n",
        "\n",
        "from art.attacks.evasion import FastGradientMethod\n",
        "from art.estimators.classification import KerasClassifier\n",
        "from art.utils import load_dataset"
      ],
      "execution_count": null,
      "outputs": []
    },
    {
      "cell_type": "code",
      "metadata": {
        "colab": {
          "base_uri": "https://localhost:8080/"
        },
        "id": "0XzE8Dg8b_xE",
        "outputId": "40aba3fd-1746-433f-8744-cdee01c074fd"
      },
      "source": [
        "# Read MNIST dataset\n",
        "(x_train, y_train), (x_test, y_test), min_, max_ = load_dataset(str(\"mnist\"))\n",
        "\n",
        "# create a test set of 100 randomly chosen examples such that one of them belong to the class 7 because 7 is the targeted class\n",
        "# the label is one hot encoded so get the actual labels\n",
        "y_test_label = np.argmax(y_test, axis = 1)\n",
        "indexes_without_label_7 = np.where(y_test_label != 7)[0]\n",
        "indexes_with_label_7 = np.where(y_test_label == 7)[0]\n",
        "\n",
        "# data without target\n",
        "x_test_non_7 = x_test[indexes_without_label_7]\n",
        "y_test_non_7 = y_test[indexes_without_label_7]\n",
        "\n",
        "# data with target\n",
        "x_test_7 = x_test[indexes_with_label_7]\n",
        "y_test_7 = y_test[indexes_with_label_7]\n",
        "\n",
        "# random 100 indexes (the test set)\n",
        "# for targeted\n",
        "random_indexs = np.random.randint(0, y_test_non_7.shape[0], 100)\n",
        "x_test_non_7_100 = x_test_non_7[random_indexs]\n",
        "y_test_non_7_100 = y_test_non_7[random_indexs]\n",
        "\n",
        "# for non targeted \n",
        "random_indexs = np.random.randint(0, y_test_7.shape[0], 100)\n",
        "x_test_7_100 = x_test_7[random_indexs]\n",
        "y_test_7_100 = y_test_7[random_indexs]\n",
        "\n",
        "print(x_test_non_7_100.shape)\n",
        "print(y_test_non_7_100.shape)\n",
        "print(x_test_7_100.shape)\n",
        "print(y_test_7_100.shape)"
      ],
      "execution_count": null,
      "outputs": [
        {
          "output_type": "stream",
          "name": "stdout",
          "text": [
            "(100, 28, 28, 1)\n",
            "(100, 10)\n",
            "(100, 28, 28, 1)\n",
            "(100, 10)\n"
          ]
        }
      ]
    },
    {
      "cell_type": "code",
      "metadata": {
        "id": "rk7VV6k0Sg-F"
      },
      "source": [
        "# train set \n",
        "y_train_label = np.argmax(y_train, axis = 1)\n",
        "indexes_without_label_7 = np.where(y_train_label != 7)[0]\n",
        "indexes_with_label_7 = np.where(y_train_label == 7)[0]\n",
        "\n",
        "# data without target\n",
        "x_train_non_7 = x_train[indexes_without_label_7]\n",
        "y_train_non_7 = y_train[indexes_without_label_7]\n",
        "\n",
        "# data with target\n",
        "x_train_7 = x_train[indexes_with_label_7]\n",
        "y_train_7 = y_train[indexes_with_label_7]"
      ],
      "execution_count": null,
      "outputs": []
    },
    {
      "cell_type": "code",
      "metadata": {
        "colab": {
          "base_uri": "https://localhost:8080/",
          "height": 282
        },
        "id": "s67NOe20gXwd",
        "outputId": "830baf0b-25d0-4124-defc-c029d361beea"
      },
      "source": [
        "# check random images from the test set - targeted \n",
        "import matplotlib.pyplot as plt\n",
        "\n",
        "random_index = np.random.randint(0, y_test_non_7_100.shape[0])\n",
        "print('Label: ', np.argmax(y_test_non_7_100[random_index], axis=0))\n",
        "plt.imshow(np.squeeze(x_test_non_7_100[random_index]), cmap='gray', interpolation='none')\n",
        "plt.show()"
      ],
      "execution_count": null,
      "outputs": [
        {
          "output_type": "stream",
          "name": "stdout",
          "text": [
            "Label:  6\n"
          ]
        },
        {
          "output_type": "display_data",
          "data": {
            "image/png": "[encoded data removed]",
            "text/plain": [
              "<Figure size 432x288 with 1 Axes>"
            ]
          },
          "metadata": {
            "needs_background": "light"
          }
        }
      ]
    },
    {
      "cell_type": "code",
      "metadata": {
        "colab": {
          "base_uri": "https://localhost:8080/",
          "height": 282
        },
        "id": "RQZHvgD1_kbw",
        "outputId": "b1ec384b-fa63-4039-d45a-c83a1e8228f3"
      },
      "source": [
        "# check random images from the test set - non targeted\n",
        "import matplotlib.pyplot as plt\n",
        "\n",
        "random_index = np.random.randint(0, y_test_7_100.shape[0])\n",
        "print('Label: ', np.argmax(y_test_7_100[random_index], axis=0))\n",
        "plt.imshow(np.squeeze(x_test_7_100[random_index]), cmap='gray', interpolation='none')\n",
        "plt.show()"
      ],
      "execution_count": null,
      "outputs": [
        {
          "output_type": "stream",
          "name": "stdout",
          "text": [
            "Label:  7\n"
          ]
        },
        {
          "output_type": "display_data",
          "data": {
            "image/png": "[encoded data removed]",
            "text/plain": [
              "<Figure size 432x288 with 1 Axes>"
            ]
          },
          "metadata": {
            "needs_background": "light"
          }
        }
      ]
    },
    {
      "cell_type": "code",
      "metadata": {
        "colab": {
          "base_uri": "https://localhost:8080/"
        },
        "id": "zAIf2A3aAz-K",
        "outputId": "95c1a3b6-6c0b-4a17-c06f-eb233202e617"
      },
      "source": [
        "# Create Keras convolutional neural network - basic architecture from Keras examples\n",
        "# Source here: https://github.com/keras-team/keras/blob/master/examples/mnist_cnn.py\n",
        "\n",
        "model = Sequential()\n",
        "model.add(Conv2D(32, kernel_size=(3, 3), activation=\"relu\", input_shape=x_train.shape[1:]))\n",
        "model.add(Conv2D(64, (3, 3), activation=\"relu\"))\n",
        "model.add(MaxPooling2D(pool_size=(2, 2)))\n",
        "model.add(Dropout(0.25))\n",
        "model.add(Flatten())\n",
        "model.add(Dense(128, activation=\"relu\"))\n",
        "model.add(Dropout(0.5))\n",
        "model.add(Dense(10, activation=\"softmax\"))\n",
        "\n",
        "model.compile(loss=\"categorical_crossentropy\", optimizer=\"adam\", metrics=[\"accuracy\"])\n",
        "\n",
        "classifier = KerasClassifier(model=model, clip_values=(min_, max_))\n",
        "classifier.fit(x_train, y_train, nb_epochs=5, batch_size=128)"
      ],
      "execution_count": null,
      "outputs": [
        {
          "output_type": "stream",
          "name": "stdout",
          "text": [
            "Train on 60000 samples\n",
            "Epoch 1/5\n",
            "60000/60000 [==============================] - 19s 324us/sample - loss: 0.2503 - accuracy: 0.9243\n",
            "Epoch 2/5\n",
            "60000/60000 [==============================] - 4s 65us/sample - loss: 0.0842 - accuracy: 0.9749\n",
            "Epoch 3/5\n",
            "60000/60000 [==============================] - 4s 65us/sample - loss: 0.0621 - accuracy: 0.9820\n",
            "Epoch 4/5\n",
            "60000/60000 [==============================] - 4s 64us/sample - loss: 0.0513 - accuracy: 0.9843\n",
            "Epoch 5/5\n",
            "60000/60000 [==============================] - 4s 64us/sample - loss: 0.0434 - accuracy: 0.9864\n"
          ]
        }
      ]
    },
    {
      "cell_type": "markdown",
      "metadata": {
        "id": "-gifD3YMs0Ci"
      },
      "source": [
        "## a) Untargeted FGSM attack"
      ]
    },
    {
      "cell_type": "code",
      "metadata": {
        "colab": {
          "base_uri": "https://localhost:8080/"
        },
        "id": "3zTtW7JnsxuK",
        "outputId": "df7115ab-679f-4965-9464-4234c3270be1"
      },
      "source": [
        "# Evaluate the classifier on the test set\n",
        "preds = np.argmax(classifier.predict(x_test_7_100), axis=1)\n",
        "acc = np.sum(preds == np.argmax(y_test_7_100, axis=1)) / y_test_7_100.shape[0]\n",
        "print(\"\\nTest accuracy on clean samples: %.2f%%\" % (acc * 100))\n",
        "\n",
        "# Craft adversarial samples with FGSM\n",
        "epsilons = [0.1, 0.2, 0.3]  # Maximum perturbation\n",
        "\n",
        "# try for different values of the epsilon\n",
        "for epsilon in epsilons:\n",
        "  adv_crafter = FastGradientMethod(classifier, norm='inf', eps=epsilon, targeted = False)\n",
        "  # since this is untargeted attack and we want to target class 7, we are passing 7 \n",
        "  x_test_adv = adv_crafter.generate(x=x_test_7_100)\n",
        "\n",
        "  # Evaluate the classifier on the adversarial examples\n",
        "  preds = np.argmax(classifier.predict(x_test_adv), axis=1)\n",
        "  acc = np.sum(preds == np.argmax(y_test_7_100, axis=1)) / y_test_7_100.shape[0]\n",
        "  #print(\"\\nTest accuracy on adversarial sample: %.2f%%\" % (acc * 100))\n",
        "  print(f\"Test accuracy on adversarial samples: {acc * 100}% with epsilon value: {epsilon}\")"
      ],
      "execution_count": null,
      "outputs": [
        {
          "output_type": "stream",
          "name": "stdout",
          "text": [
            "\n",
            "Test accuracy on clean samples: 99.00%\n",
            "Test accuracy on adversarial samples: 93.0% with epsilon value: 0.1\n",
            "Test accuracy on adversarial samples: 69.0% with epsilon value: 0.2\n",
            "Test accuracy on adversarial samples: 28.999999999999996% with epsilon value: 0.3\n"
          ]
        }
      ]
    },
    {
      "cell_type": "markdown",
      "metadata": {
        "id": "xLcoHB1KuWR6"
      },
      "source": [
        "## a) Targeted FGSM attack"
      ]
    },
    {
      "cell_type": "markdown",
      "metadata": {
        "id": "WrvahKvhpNBP"
      },
      "source": [
        "### metrics"
      ]
    },
    {
      "cell_type": "code",
      "metadata": {
        "colab": {
          "base_uri": "https://localhost:8080/"
        },
        "id": "vhLs5NFJY7Sm",
        "outputId": "41fe9c24-43b9-430c-8883-2f7e04f5692c"
      },
      "source": [
        "def _most_probable_adversary(temp):\n",
        "  metrics = {'model_label': [],\n",
        "            'model_probability': [],\n",
        "            'true_label': [],\n",
        "            'target_label':[]}\n",
        "  for idx,value in enumerate(temp):\n",
        "    metrics['model_label'].append(np.argmax(value))\n",
        "    metrics['model_probability'].append(np.amax(value))\n",
        "    metrics['true_label'].append(np.argmax(y_test_non_7_100[idx]))\n",
        "    metrics['target_label'].append(np.argmax(y_test_7_100[idx]))\n",
        "\n",
        "  # here we can see which sample has the model classified incorrectly with highest probability \n",
        "  model_output = pd.DataFrame(metrics)\n",
        "  # check out model output where true label is not 7 and model label is 7\n",
        "  idx_max_probability = model_output.query('model_label == 7 & true_label != 7')['model_probability'].idxmax()\n",
        "  max_probability = model_output.query('model_label == 7 & true_label != 7')['model_probability'].max()\n",
        "  return idx_max_probability, np.round(max_probability,2)*100\n",
        "\n",
        "\n",
        "temp = classifier.predict(x_test_adv)\n",
        "_most_probable_adversary(temp)"
      ],
      "execution_count": null,
      "outputs": [
        {
          "output_type": "execute_result",
          "data": {
            "text/plain": [
              "(15, 100.0)"
            ]
          },
          "metadata": {},
          "execution_count": 84
        }
      ]
    },
    {
      "cell_type": "code",
      "metadata": {
        "id": "rUIkiMQKY70b"
      },
      "source": [
        "def _plot(x, y, idx):\n",
        "  fig = plt.figure()\n",
        "  fig.add_subplot(1, 3, 1)\n",
        "  plt.imshow(x[idx].squeeze())\n",
        "  plt.xlabel('True Image')\n",
        "  fig.add_subplot(1, 3, 2)\n",
        "  plt.imshow(x[idx].squeeze() - y[idx].squeeze())\n",
        "  plt.xlabel('Perturbation')\n",
        "  fig.add_subplot(1, 3, 3)\n",
        "  plt.imshow(y[idx].squeeze())\n",
        "  plt.xlabel('Adversarial Image')\n",
        "  plt.show()"
      ],
      "execution_count": null,
      "outputs": []
    },
    {
      "cell_type": "code",
      "metadata": {
        "colab": {
          "base_uri": "https://localhost:8080/",
          "height": 589
        },
        "id": "vlt3w7yZuZ1x",
        "outputId": "495875f3-cd86-4af5-cbe6-2b5b47f12c8f"
      },
      "source": [
        "# Evaluate the classifier on the test set\n",
        "preds = np.argmax(classifier.predict(x_test_non_7_100), axis=1)\n",
        "acc = np.sum(preds == np.argmax(y_test_non_7_100, axis=1)) / y_test_non_7_100.shape[0]\n",
        "print(\"\\nTest accuracy on clean samples: %.2f%%\" % (acc * 100))\n",
        "\n",
        "# Craft adversarial samples with FGSM\n",
        "epsilons = [0.1, 0.2, 0.3]  # Maximum perturbation\n",
        "\n",
        "# try for different values of the epsilon\n",
        "for epsilon in epsilons:\n",
        "  adv_crafter = FastGradientMethod(classifier, norm='inf', eps=epsilon, targeted = True)\n",
        "  # since this is untargeted attack and we want to target class 7, we are passing 7 \n",
        "  x_test_adv = adv_crafter.generate(x=x_test_non_7_100, y=y_test_7_100)\n",
        "\n",
        "  # Evaluate the classifier on the adversarial examples\n",
        "  temp = classifier.predict(x_test_adv)\n",
        "  preds = np.argmax(temp, axis=1)\n",
        "  acc = np.sum(preds == np.argmax(y_test_7_100, axis=1)) / y_test_7_100.shape[0]\n",
        "  #print(\"\\nTest accuracy on adversarial sample: %.2f%%\" % (acc * 100))\n",
        "  print(f\"Test accuracy on adversarial samples: {acc * 100}% with epsilon value: {epsilon}\")\n",
        "  \n",
        "  idx_max_probability, max_probability = _most_probable_adversary(temp)\n",
        "  print(f'Adversary with highest probability is {max_probability}')\n",
        "  _plot(x_test_non_7_100, x_test_adv, idx_max_probability)"
      ],
      "execution_count": null,
      "outputs": [
        {
          "output_type": "stream",
          "name": "stdout",
          "text": [
            "\n",
            "Test accuracy on clean samples: 98.00%\n",
            "Test accuracy on adversarial samples: 3.0% with epsilon value: 0.1\n",
            "Adversary with highest probability is 95.0\n"
          ]
        },
        {
          "output_type": "display_data",
          "data": {
            "image/png": "[encoded data removed]",
            "text/plain": [
              "<Figure size 432x288 with 3 Axes>"
            ]
          },
          "metadata": {
            "needs_background": "light"
          }
        },
        {
          "output_type": "stream",
          "name": "stdout",
          "text": [
            "Test accuracy on adversarial samples: 15.0% with epsilon value: 0.2\n",
            "Adversary with highest probability is 99.0\n"
          ]
        },
        {
          "output_type": "display_data",
          "data": {
            "image/png": "[encoded data removed]",
            "text/plain": [
              "<Figure size 432x288 with 3 Axes>"
            ]
          },
          "metadata": {
            "needs_background": "light"
          }
        },
        {
          "output_type": "stream",
          "name": "stdout",
          "text": [
            "Test accuracy on adversarial samples: 24.0% with epsilon value: 0.3\n",
            "Adversary with highest probability is 99.0\n"
          ]
        },
        {
          "output_type": "display_data",
          "data": {
            "image/png": "[encoded data removed]",
            "text/plain": [
              "<Figure size 432x288 with 3 Axes>"
            ]
          },
          "metadata": {
            "needs_background": "light"
          }
        }
      ]
    },
    {
      "cell_type": "code",
      "metadata": {
        "colab": {
          "base_uri": "https://localhost:8080/"
        },
        "id": "cM8P0mWLl-2y",
        "outputId": "b12a1ca9-1006-4678-8981-fcd7d69a34a9"
      },
      "source": [
        "# Craft adversarial samples with FGSM\n",
        "epsilons = [0.1, 0.2, 0.3]  # Maximum perturbation\n",
        "\n",
        "# try for different values of the epsilon\n",
        "# for epsilon in epsilons:\n",
        "\n",
        "adv_crafter = FastGradientMethod(classifier, norm='inf', eps=0.3, targeted = True)\n",
        "# since this is untargeted attack and we want to target class 7, we are passing 7 \n",
        "x_test_adv = adv_crafter.generate(x=x_test_non_7_100, y=y_test_7_100)\n",
        "\n",
        "# Evaluate the classifier on the adversarial examples\n",
        "preds = np.argmax(classifier.predict(x_test_adv), axis=1)\n",
        "acc = np.sum(preds == np.argmax(y_test_7_100, axis=1)) / y_test_7_100.shape[0]\n",
        "#print(\"\\nTest accuracy on adversarial sample: %.2f%%\" % (acc * 100))\n",
        "print(f\"Test accuracy on adversarial samples: {acc * 100}% with epsilon value: {0.3}\")"
      ],
      "execution_count": null,
      "outputs": [
        {
          "output_type": "stream",
          "name": "stdout",
          "text": [
            "Test accuracy on adversarial samples: 24.0% with epsilon value: 0.3\n"
          ]
        }
      ]
    },
    {
      "cell_type": "markdown",
      "metadata": {
        "id": "SyMk3tarDjRj"
      },
      "source": [
        "## b) Carlini wagner attack"
      ]
    },
    {
      "cell_type": "code",
      "metadata": {
        "id": "wVUpr2zHAJ7D",
        "colab": {
          "base_uri": "https://localhost:8080/"
        },
        "outputId": "d287b157-3108-4a6d-badb-61b9e535768f"
      },
      "source": [
        "import tensorflow as tf\n",
        "tf.compat.v1.disable_eager_execution()\n",
        "from tensorflow import keras\n",
        "from art.estimators.classification import KerasClassifier\n",
        "from art.attacks.evasion import CarliniL2Method\n",
        "from tensorflow.keras.optimizers import SGD\n",
        "\n",
        "model = Sequential()\n",
        "model.add(Conv2D(32, kernel_size=(3, 3), activation=\"relu\", input_shape=x_train.shape[1:]))\n",
        "model.add(Conv2D(64, (3, 3), activation=\"relu\"))\n",
        "model.add(MaxPooling2D(pool_size=(2, 2)))\n",
        "model.add(Dropout(0.25))\n",
        "model.add(Flatten())\n",
        "model.add(Dense(128, activation=\"relu\"))\n",
        "model.add(Dropout(0.5))\n",
        "model.add(Dense(10, activation=\"softmax\"))\n",
        "\n",
        "opt = keras.optimizers.Adam(learning_rate=0.01)\n",
        "model.compile(loss=keras.losses.categorical_crossentropy,\n",
        "              optimizer=opt,\n",
        "              metrics=['accuracy'])\n",
        "\n",
        "model.fit(x_train, y_train,\n",
        "          batch_size=batch_size_train,\n",
        "          epochs=5,\n",
        "          verbose=1)\n",
        "score = model.evaluate(x_test, y_test, verbose=0)\n",
        "print('Test loss:', score[0])\n",
        "print('Test accuracy:', score[1])"
      ],
      "execution_count": null,
      "outputs": [
        {
          "output_type": "stream",
          "name": "stdout",
          "text": [
            "Train on 60000 samples\n",
            "Epoch 1/5\n",
            "60000/60000 [==============================] - 5s 90us/sample - loss: 0.2752 - accuracy: 0.9176\n",
            "Epoch 2/5\n",
            "60000/60000 [==============================] - 5s 88us/sample - loss: 0.1644 - accuracy: 0.9513\n",
            "Epoch 3/5\n",
            "60000/60000 [==============================] - 5s 88us/sample - loss: 0.1503 - accuracy: 0.9562\n",
            "Epoch 4/5\n",
            "60000/60000 [==============================] - 5s 88us/sample - loss: 0.1381 - accuracy: 0.9598\n",
            "Epoch 5/5\n",
            "60000/60000 [==============================] - 5s 88us/sample - loss: 0.1364 - accuracy: 0.9609\n",
            "Test loss: 0.055209676293987466\n",
            "Test accuracy: 0.9834\n"
          ]
        }
      ]
    },
    {
      "cell_type": "code",
      "metadata": {
        "id": "yDL6Hkt9Qe4C"
      },
      "source": [
        "# create a second model to get the weights \n",
        "\n",
        "model2 = Sequential()\n",
        "model2.add(Conv2D(32, kernel_size=(3, 3), activation=\"relu\", input_shape=x_train.shape[1:]))\n",
        "model2.add(Conv2D(64, (3, 3), activation=\"relu\"))\n",
        "model2.add(MaxPooling2D(pool_size=(2, 2)))\n",
        "model2.add(Dropout(0.25))\n",
        "model2.add(Flatten())\n",
        "model2.add(Dense(128, activation=\"relu\"))\n",
        "model2.add(Dropout(0.5))\n",
        "model2.add(Dense(10))\n",
        "model2.set_weights(model.get_weights())\n",
        "model2.compile(loss=\"categorical_crossentropy\", optimizer=\"adam\", metrics=[\"accuracy\"])"
      ],
      "execution_count": null,
      "outputs": []
    },
    {
      "cell_type": "code",
      "metadata": {
        "colab": {
          "base_uri": "https://localhost:8080/"
        },
        "id": "rEtQWb5nQuKy",
        "outputId": "5d8c996f-b5c7-4552-91a2-2ebde9098b38"
      },
      "source": [
        "# test to check if the accuracy is the same\n",
        "score = model2.evaluate(x_test, y_test, verbose=0)\n",
        "print('Test loss:', score[0])\n",
        "print('Test accuracy:', score[1])"
      ],
      "execution_count": null,
      "outputs": [
        {
          "output_type": "stream",
          "name": "stdout",
          "text": [
            "Test loss: 16.09825342102051\n",
            "Test accuracy: 0.9834\n"
          ]
        }
      ]
    },
    {
      "cell_type": "code",
      "metadata": {
        "id": "kxOixkxHHKFc"
      },
      "source": [
        "# Start attack section\n",
        "from art.estimators.classification import KerasClassifier\n",
        "from art.attacks.evasion import CarliniL2Method\n",
        "classifier = KerasClassifier(model2, use_logits=True)"
      ],
      "execution_count": null,
      "outputs": []
    },
    {
      "cell_type": "markdown",
      "metadata": {
        "id": "bxp01-SMm-3m"
      },
      "source": [
        "### metrics"
      ]
    },
    {
      "cell_type": "code",
      "metadata": {
        "id": "f9682pUDzMde"
      },
      "source": [
        "def _l2_perturbation1(x, y):\n",
        "  metrics = {'l2_dist': []}\n",
        "            \n",
        "  for i in range(x.shape[0]):\n",
        "    temp = np.sum((x[i] - y[i])**2)\n",
        "    metrics['l2_dist'].append(temp)\n",
        "\n",
        "  model_output = pd.DataFrame(metrics)\n",
        "  smallest_idx = model_output['l2_dist'].idxmin()\n",
        "  median_idx = model_output.loc[model_output.l2_dist == model_output.l2_dist.median()]\n",
        "  largest_idx = model_output['l2_dist'].idxmax()\n",
        "  return smallest_idx, median_idx, largest_idx"
      ],
      "execution_count": null,
      "outputs": []
    },
    {
      "cell_type": "code",
      "metadata": {
        "id": "4qR5l-RYemrs"
      },
      "source": [
        "def _l2_perturbation2(x, y, temp):\n",
        "  metrics = {'model_label': [],\n",
        "            'model_probability': [],\n",
        "            'true_label': [],\n",
        "            'target_label':[],\n",
        "            'l2_dist': []}\n",
        "\n",
        "  for idx,value in enumerate(temp):\n",
        "    metrics['model_label'].append(np.argmax(value))\n",
        "    metrics['model_probability'].append(np.amax(value))\n",
        "    metrics['true_label'].append(np.argmax(y_test_non_7_100[idx]))\n",
        "    metrics['target_label'].append(np.argmax(y_test_7_100[idx]))\n",
        "    temp = np.sum((x[idx] - y[idx])**2)\n",
        "    metrics['l2_dist'].append(temp)\n",
        "\n",
        "  model_output = pd.DataFrame(metrics)\n",
        "  # check out model output where true label is not 7 and model label is 7\n",
        "  smallest_idx = model_output.query('model_label == 7 & true_label != 7')['l2_dist'].idxmin()\n",
        "  smallest_v = model_output.query('model_label == 7 & true_label != 7')['l2_dist'].min()\n",
        "  #median_idx = model_output.loc[model_output.l2_dist == model_output.l2_dist.median()]\n",
        "  largest_idx = model_output.query('model_label == 7 & true_label != 7')['l2_dist'].idxmax()\n",
        "  largest_v = model_output.query('model_label == 7 & true_label != 7')['l2_dist'].max()\n",
        "\n",
        "  return smallest_idx, smallest_v, largest_idx, largest_v, metrics"
      ],
      "execution_count": null,
      "outputs": []
    },
    {
      "cell_type": "code",
      "metadata": {
        "colab": {
          "base_uri": "https://localhost:8080/",
          "height": 408,
          "referenced_widgets": [
            "97133a2a50de4bb496dc9cd35c95c60e",
            "f5a502b3edb04707860896a4d8ce24e6",
            "1b6ba76c74894ef4b092066ea5b1ec4b",
            "94e2b28aa77e4f1c970ece0215c23888",
            "79e1ba39ea5f4233a13d0c188594ca0b",
            "9ec9485a3f864a33b0e4ac011be51e9d",
            "24d739527c504bf78281bf77a14233c6",
            "dc60750e7a4f469ea68209047391594c",
            "e709919478ce4e119d2b80019056f486",
            "f400dd5338034f84bb7b7434d673d73d",
            "af7918c1f0e54173814e40740ccfd0e6"
          ]
        },
        "id": "7tUHB0MvH-5k",
        "outputId": "07777c91-bea6-4982-ea86-a2804c81df3f"
      },
      "source": [
        "# Craft adversarial samples with FGSM\n",
        "confidences = [10]\n",
        "\n",
        "# try for different values of the epsilon\n",
        "for confidence in confidences:\n",
        "  adv_crafter = CarliniL2Method(classifier, initial_const = confidence, targeted=True)\n",
        "  # since this is untargeted attack and we want to target class 7, we are passing 7 \n",
        "  x_test_adv = adv_crafter.generate(x=x_test_non_7_100[:10], y=y_test_7_100[:10])\n",
        "  score = model.evaluate(x_test_adv[:10], y_test_7_100[:10], verbose=0)\n",
        "\n",
        "  # Evaluate the classifier on the adversarial examples\n",
        "  l2_dist = np.round(np.sum((x_test_adv[:10] - x_test_non_7_100[:10])**2), 2)\n",
        "  print(\"L2 dist adv: \", l2_dist)\n",
        "  temp = classifier.predict(x_test_adv)\n",
        "  smallest_idx, smallest_v, largest_idx, largest_v, metrics = _l2_perturbation(x_test_adv[:10], x_test_non_7_100[:10], temp)\n",
        "  print(f\"Test accuracy on adversarial samples: {score[1] * 100}% with confidence value: {confidence}\")\n",
        "\n",
        "  print(f'Adversary with lowest perturnation having L2 dist: ', smallest_v)\n",
        "  _plot(x_test_non_7_100, x_test_adv, smallest_idx)\n",
        "\n",
        "  # print(f'Adversary with median perturnation')\n",
        "  # _plot(x_test_non_7_100, x_test_adv, median_idx)\n",
        "\n",
        "  print(f'Adversary with highest perturnation having L2 dist: ', largest_v)\n",
        "  _plot(x_test_non_7_100, x_test_adv, largest_idx)\n"
      ],
      "execution_count": null,
      "outputs": [
        {
          "output_type": "display_data",
          "data": {
            "application/vnd.jupyter.widget-view+json": {
              "model_id": "97133a2a50de4bb496dc9cd35c95c60e",
              "version_minor": 0,
              "version_major": 2
            },
            "text/plain": [
              "C&W L_2:   0%|          | 0/10 [00:00<?, ?it/s]"
            ]
          },
          "metadata": {}
        },
        {
          "output_type": "stream",
          "name": "stdout",
          "text": [
            "L2 dist adv:  279.71\n",
            "Test accuracy on adversarial samples: 80.0000011920929% with confidence value: 10\n",
            "Adversary with lowest perturnation having L2 dist:  2.8369221457471943\n"
          ]
        },
        {
          "output_type": "display_data",
          "data": {
            "image/png": "[encoded data removed]",
            "text/plain": [
              "<Figure size 432x288 with 3 Axes>"
            ]
          },
          "metadata": {
            "needs_background": "light"
          }
        },
        {
          "output_type": "stream",
          "name": "stdout",
          "text": [
            "Adversary with highest perturnation having L2 dist:  67.59865975612533\n"
          ]
        },
        {
          "output_type": "display_data",
          "data": {
            "image/png": "[encoded data removed]",
            "text/plain": [
              "<Figure size 432x288 with 3 Axes>"
            ]
          },
          "metadata": {
            "needs_background": "light"
          }
        }
      ]
    },
    {
      "cell_type": "code",
      "metadata": {
        "colab": {
          "base_uri": "https://localhost:8080/",
          "height": 1000,
          "referenced_widgets": [
            "37153e918fde484b89e586ede3f2e012",
            "b39b6405c56b460fbe18893dc7d7df51",
            "1ee674a9550043609135381a2b823209",
            "386401d512124506b17d53334651172a",
            "0b449eb5ea7c4763b86e4b3f4278a77d",
            "721a39c33e5c461faf31e6dbfcba537d",
            "6f16ad2b81774af28848ee5b1cfbb766",
            "d466cf70b7b14a98a07fb9c90f8b9a9f",
            "4cc2389f40634d44b5c79ebb859f64cd",
            "2e435e98fd064701b70349f1d0b6b1c3",
            "2178afbdef3c419484886c78d63e33da",
            "fe29371eb4ce4712864794c8e1e6304c",
            "e9260e0fdb384bb08371b54a44f40373",
            "4b01b30b3b4f4e2ea74ba93fa44d90b9",
            "c7298adda6f04ca2bcb94ed493dac402",
            "a49e8b6d012848d2b8287f4c69ac371f",
            "644cc418935a4a75996d399fcb290070",
            "8a369a8806294a2fa0820fa9974e12f3",
            "a071f3581e1e4a429805124484be834a",
            "3b93283f989041259c5b487a46f02490",
            "faf22444242c4432b55ca3bc00f2db0f",
            "05ba3338248a4912b47676601992f9f9",
            "5bfb1affa0f5441d8687f42f4c4a581b",
            "a2d5fd47f4e84558aa54ba45ab22e2d4",
            "4ed51faf15334b519f52f843548b0097",
            "fa943db376794acd9644f67d3cfe09b3",
            "9aa742af8e7f43d3ad74e5b607e16bea",
            "cd4a123e1aac4e6a9ac4d6fccc70bbb9",
            "0723436a437644e69ec96b7db4215ccf",
            "bf1a31bdb2ce495e91cab1d87fdf51b0",
            "663aa0819edc4f59929722252c61f126",
            "0dbf4d3cd9d3403ab7d07609f50f4104",
            "626d89d8ee25406ebcb90abb9ea9b6bb",
            "3bbf1fb010cb4fdd9c9709d65a80ebd8",
            "f054d1916bd2432ca50ba5e2569c36c6",
            "084ecf9791654b1882dc2d4f2cd04c6e",
            "dd7dc372f9db49de8866977df2d1e13d",
            "e0413e356f80446fbf3e8effc3b2859c",
            "1e713f2d5c094317946366845ec58423",
            "bf99120ccc834be29f1b45aeab951616",
            "2bbb8b4d7bd74d6f860a14b3c3428c1b",
            "36946b5f88f84f64bb3dcd76b8feb4f5",
            "5cd84db1a999412eb1ae69aa0fcb30f9",
            "0a1dbea52447496c8bc5541cbf452148"
          ]
        },
        "id": "VN6DCypXwVrF",
        "outputId": "9feb5b8c-c7be-4979-867e-c7db84cee323"
      },
      "source": [
        "# Craft adversarial samples with FGSM\n",
        "confidences = [0, 0.5, 1, 10]\n",
        "\n",
        "# try for different values of the epsilon\n",
        "for confidence in confidences:\n",
        "  adv_crafter = CarliniL2Method(classifier, initial_const = confidence, targeted=True)\n",
        "  # since this is untargeted attack and we want to target class 7, we are passing 7 \n",
        "  x_test_adv = adv_crafter.generate(x=x_test_non_7_100, y=y_test_7_100)\n",
        "  score = model.evaluate(x_test_adv, y_test_7_100, verbose=0)\n",
        "\n",
        "  # Evaluate the classifier on the adversarial examples\n",
        "  l2_dist = np.round(np.sum((x_test_adv - x_test_non_7_100)**2), 2)\n",
        "  print(\"L2 dist adv: \", l2_dist)\n",
        "  smallest_idx, median_idx, largest_idx = _l2_perturbation1(x_test_adv, x_test_non_7_100)\n",
        "  print(f\"Test accuracy on adversarial samples: {score[1] * 100}% with confidence value: {confidence}\")\n",
        "\n",
        "  print(f'Adversary with lowest perturnation')\n",
        "  _plot(x_test_non_7_100, x_test_adv, smallest_idx)\n",
        "\n",
        "  # print(f'Adversary with median perturnation')\n",
        "  # _plot(x_test_non_7_100, x_test_adv, median_idx)\n",
        "\n",
        "  print(f'Adversary with highest perturnation')\n",
        "  _plot(x_test_non_7_100, x_test_adv, largest_idx)\n"
      ],
      "execution_count": null,
      "outputs": [
        {
          "output_type": "display_data",
          "data": {
            "application/vnd.jupyter.widget-view+json": {
              "model_id": "37153e918fde484b89e586ede3f2e012",
              "version_minor": 0,
              "version_major": 2
            },
            "text/plain": [
              "C&W L_2:   0%|          | 0/100 [00:00<?, ?it/s]"
            ]
          },
          "metadata": {}
        },
        {
          "output_type": "stream",
          "name": "stdout",
          "text": [
            "L2 dist adv:  0.0\n",
            "Test accuracy on adversarial samples: 0.9999999776482582% with confidence value: 0\n",
            "Adversary with lowest perturnation\n"
          ]
        },
        {
          "output_type": "display_data",
          "data": {
            "image/png": "[encoded data removed]",
            "text/plain": [
              "<Figure size 432x288 with 3 Axes>"
            ]
          },
          "metadata": {
            "needs_background": "light"
          }
        },
        {
          "output_type": "stream",
          "name": "stdout",
          "text": [
            "Adversary with highest perturnation\n"
          ]
        },
        {
          "output_type": "display_data",
          "data": {
            "image/png": "[encoded data removed]",
            "text/plain": [
              "<Figure size 432x288 with 3 Axes>"
            ]
          },
          "metadata": {
            "needs_background": "light"
          }
        },
        {
          "output_type": "display_data",
          "data": {
            "application/vnd.jupyter.widget-view+json": {
              "model_id": "fe29371eb4ce4712864794c8e1e6304c",
              "version_minor": 0,
              "version_major": 2
            },
            "text/plain": [
              "C&W L_2:   0%|          | 0/100 [00:00<?, ?it/s]"
            ]
          },
          "metadata": {}
        },
        {
          "output_type": "stream",
          "name": "stdout",
          "text": [
            "L2 dist adv:  1402.96\n",
            "Test accuracy on adversarial samples: 67.00000166893005% with confidence value: 0.5\n",
            "Adversary with lowest perturnation\n"
          ]
        },
        {
          "output_type": "display_data",
          "data": {
            "image/png": "[encoded data removed]",
            "text/plain": [
              "<Figure size 432x288 with 3 Axes>"
            ]
          },
          "metadata": {
            "needs_background": "light"
          }
        },
        {
          "output_type": "stream",
          "name": "stdout",
          "text": [
            "Adversary with highest perturnation\n"
          ]
        },
        {
          "output_type": "display_data",
          "data": {
            "image/png": "[encoded data removed]",
            "text/plain": [
              "<Figure size 432x288 with 3 Axes>"
            ]
          },
          "metadata": {
            "needs_background": "light"
          }
        },
        {
          "output_type": "display_data",
          "data": {
            "application/vnd.jupyter.widget-view+json": {
              "model_id": "5bfb1affa0f5441d8687f42f4c4a581b",
              "version_minor": 0,
              "version_major": 2
            },
            "text/plain": [
              "C&W L_2:   0%|          | 0/100 [00:00<?, ?it/s]"
            ]
          },
          "metadata": {}
        },
        {
          "output_type": "stream",
          "name": "stdout",
          "text": [
            "L2 dist adv:  1662.09\n",
            "Test accuracy on adversarial samples: 70.99999785423279% with confidence value: 1\n",
            "Adversary with lowest perturnation\n"
          ]
        },
        {
          "output_type": "display_data",
          "data": {
            "image/png": "[encoded data removed]",
            "text/plain": [
              "<Figure size 432x288 with 3 Axes>"
            ]
          },
          "metadata": {
            "needs_background": "light"
          }
        },
        {
          "output_type": "stream",
          "name": "stdout",
          "text": [
            "Adversary with highest perturnation\n"
          ]
        },
        {
          "output_type": "display_data",
          "data": {
            "image/png": "[encoded data removed]",
            "text/plain": [
              "<Figure size 432x288 with 3 Axes>"
            ]
          },
          "metadata": {
            "needs_background": "light"
          }
        },
        {
          "output_type": "display_data",
          "data": {
            "application/vnd.jupyter.widget-view+json": {
              "model_id": "3bbf1fb010cb4fdd9c9709d65a80ebd8",
              "version_minor": 0,
              "version_major": 2
            },
            "text/plain": [
              "C&W L_2:   0%|          | 0/100 [00:00<?, ?it/s]"
            ]
          },
          "metadata": {}
        },
        {
          "output_type": "stream",
          "name": "stdout",
          "text": [
            "L2 dist adv:  2165.0\n",
            "Test accuracy on adversarial samples: 75.0% with confidence value: 10\n",
            "Adversary with lowest perturnation\n"
          ]
        },
        {
          "output_type": "display_data",
          "data": {
            "image/png": "[encoded data removed]",
            "text/plain": [
              "<Figure size 432x288 with 3 Axes>"
            ]
          },
          "metadata": {
            "needs_background": "light"
          }
        },
        {
          "output_type": "stream",
          "name": "stdout",
          "text": [
            "Adversary with highest perturnation\n"
          ]
        },
        {
          "output_type": "display_data",
          "data": {
            "image/png": "[encoded data removed]",
            "text/plain": [
              "<Figure size 432x288 with 3 Axes>"
            ]
          },
          "metadata": {
            "needs_background": "light"
          }
        }
      ]
    },
    {
      "cell_type": "markdown",
      "metadata": {
        "id": "7IeLUx28w8MC"
      },
      "source": [
        "#Problem 2 [Evasion Attack Implementation] - 35 points\n",
        "\n",
        "You will implement the Carlini-Wagner attack for L2 norm, with 2 objectives: (1) the objective defined by\n",
        "Szedegy et al.; (2) the objective f6 introduced in the paper. Fix constant c to a value that performed well in\n",
        "Problem 1.\n",
        "\n",
        "You can use a package for Adam optimizer, such as tf.keras.optimizers.Adam from Keras.\n",
        "\n",
        "(a) For each objective, show the adversarial success as a function of perturbation $\\epsilon$ for the same values of $\\epsilon$ from Problem 1. Compare the two objectives and discuss your observations.\n",
        "\n",
        "(b) For three values of $\\epsilon$, select adversarial examples of highest confidence for each objective and visualize\n",
        "the images as in Problem 1, part (c).\n",
        "\n",
        "(c) Compare your results with those obtained with the ART library."
      ]
    },
    {
      "cell_type": "code",
      "metadata": {
        "id": "G29eCmxdQjxs"
      },
      "source": [
        "# create a simple CNN \n",
        "class Simple_CNN(nn.Module):\n",
        "    def __init__(self):\n",
        "        super(Simple_CNN, self).__init__()\n",
        "        self.conv1 = nn.Conv2d(1, 32, 3, 1)\n",
        "        self.conv2 = nn.Conv2d(32, 64, 3, 1)\n",
        "        self.dropout1 = nn.Dropout(0.25)\n",
        "        self.dropout2 = nn.Dropout(0.5)\n",
        "        self.fc1 = nn.Linear(9216, 128)\n",
        "        self.fc2 = nn.Linear(128, 10)\n",
        "\n",
        "    def forward(self, x):\n",
        "        x = self.conv1(x)\n",
        "        x = F.relu(x)\n",
        "        x = self.conv2(x)\n",
        "        x = F.relu(x)\n",
        "        x = F.max_pool2d(x, 2)\n",
        "        x = self.dropout1(x)\n",
        "        x = torch.flatten(x, 1)\n",
        "        x = self.fc1(x)\n",
        "        x = F.relu(x)\n",
        "        x = self.dropout2(x)\n",
        "        x = self.fc2(x)\n",
        "        #output = F.log_softmax(x, dim=1)\n",
        "        output = x # need logits carlini attack\n",
        "        return output"
      ],
      "execution_count": null,
      "outputs": []
    },
    {
      "cell_type": "code",
      "metadata": {
        "id": "Jxhxmka-Qoaz"
      },
      "source": [
        "# training loop \n",
        "def train(epoch, model, device, train_loader, optimizer, criterion):\n",
        "  model.train()\n",
        "  for batch_idx, (data, target) in enumerate(train_loader):\n",
        "    data, target = data.to(device), target.to(device)\n",
        "\n",
        "    # reset gradients \n",
        "    optimizer.zero_grad()\n",
        "    # forward pass\n",
        "    output = model(data)\n",
        "    # loss\n",
        "    loss = criterion(output , target)\n",
        "    # backward pass\n",
        "    loss.backward()\n",
        "    # update the weights \n",
        "    optimizer.step()\n",
        "    \n",
        "    if batch_idx % log_interval == 0:\n",
        "      print('Train Epoch: {} [{}/{} ({:.0f}%)]\\tLoss: {:.6f}'.format(\n",
        "        epoch, batch_idx * len(data), len(train_loader.dataset),\n",
        "        100. * batch_idx / len(train_loader), loss.item()))"
      ],
      "execution_count": null,
      "outputs": []
    },
    {
      "cell_type": "code",
      "metadata": {
        "id": "LZqus0LmQs9d"
      },
      "source": [
        "# testing loop \n",
        "def test(model, device, test_loader, criterion):\n",
        "  model.eval()\n",
        "  test_loss = 0\n",
        "  correct = 0\n",
        "  with torch.no_grad():\n",
        "    for data, target in test_loader:\n",
        "      data, target = data.to(device), target.to(device)\n",
        "      output = model(data)\n",
        "      test_loss += criterion(output, target).item()\n",
        "      pred = output.data.max(1, keepdim=True)[1]\n",
        "      correct += pred.eq(target.data.view_as(pred)).sum()\n",
        "  test_loss /= len(test_loader.dataset)\n",
        "  print('\\nTest set: Avg. loss: {:.4f}, Accuracy: {}/{} ({:.0f}%)\\n'.format(\n",
        "    test_loss, correct, len(test_loader.dataset),\n",
        "    100. * correct / len(test_loader.dataset)))"
      ],
      "execution_count": null,
      "outputs": []
    },
    {
      "cell_type": "code",
      "metadata": {
        "id": "lP2DyepIQy5v",
        "colab": {
          "base_uri": "https://localhost:8080/"
        },
        "outputId": "672c5ca4-5093-44e3-d3ba-ee4722e6cdde"
      },
      "source": [
        "# hyper parameters \n",
        "n_epochs = 5\n",
        "learning_rate = 0.01\n",
        "log_interval = 50\n",
        "\n",
        "random_seed = 47\n",
        "torch.backends.cudnn.enabled = False\n",
        "torch.manual_seed(random_seed)\n",
        "\n",
        "# check if cuda is available\n",
        "device = torch.device(\"cuda\" if torch.cuda.is_available() else \"cpu\")\n",
        "print(device)\n",
        "\n",
        "# intialize the model\n",
        "model = Simple_CNN().to(device)\n",
        "#optimizer = optim.Adam(model.parameters(), lr=learning_rate)\n",
        "#criterion = nn.NLLLoss()\n",
        "# this works for logits\n",
        "optimizer = optim.SGD(model.parameters(), lr=learning_rate)\n",
        "criterion = nn.CrossEntropyLoss()"
      ],
      "execution_count": null,
      "outputs": [
        {
          "output_type": "stream",
          "name": "stdout",
          "text": [
            "cuda\n"
          ]
        }
      ]
    },
    {
      "cell_type": "code",
      "metadata": {
        "id": "8DN7x4JtQ5M3",
        "colab": {
          "base_uri": "https://localhost:8080/"
        },
        "outputId": "5f729f87-c17b-4b5a-e542-cb334bbdc4be"
      },
      "source": [
        "%%time\n",
        "# training and testing loop \n",
        "scheduler = StepLR(optimizer, step_size=1, gamma=0.7)\n",
        "for epoch in range(1, n_epochs + 1):\n",
        "  train(epoch, model, device, train_loader, optimizer, criterion)\n",
        "  test(model, device, test_loader, criterion)\n",
        "  scheduler.step()"
      ],
      "execution_count": null,
      "outputs": [
        {
          "output_type": "stream",
          "name": "stdout",
          "text": [
            "Train Epoch: 1 [0/60000 (0%)]\tLoss: 2.298876\n",
            "Train Epoch: 1 [3200/60000 (5%)]\tLoss: 1.354188\n",
            "Train Epoch: 1 [6400/60000 (11%)]\tLoss: 0.773201\n",
            "Train Epoch: 1 [9600/60000 (16%)]\tLoss: 0.601243\n",
            "Train Epoch: 1 [12800/60000 (21%)]\tLoss: 0.645797\n",
            "Train Epoch: 1 [16000/60000 (27%)]\tLoss: 0.795598\n",
            "Train Epoch: 1 [19200/60000 (32%)]\tLoss: 0.554220\n",
            "Train Epoch: 1 [22400/60000 (37%)]\tLoss: 0.605775\n",
            "Train Epoch: 1 [25600/60000 (43%)]\tLoss: 0.401300\n",
            "Train Epoch: 1 [28800/60000 (48%)]\tLoss: 0.456374\n",
            "Train Epoch: 1 [32000/60000 (53%)]\tLoss: 0.346841\n",
            "Train Epoch: 1 [35200/60000 (59%)]\tLoss: 0.263227\n",
            "Train Epoch: 1 [38400/60000 (64%)]\tLoss: 0.210571\n",
            "Train Epoch: 1 [41600/60000 (69%)]\tLoss: 0.333862\n",
            "Train Epoch: 1 [44800/60000 (75%)]\tLoss: 0.436525\n",
            "Train Epoch: 1 [48000/60000 (80%)]\tLoss: 0.303912\n",
            "Train Epoch: 1 [51200/60000 (85%)]\tLoss: 0.312687\n",
            "Train Epoch: 1 [54400/60000 (91%)]\tLoss: 0.391542\n",
            "Train Epoch: 1 [57600/60000 (96%)]\tLoss: 0.295703\n",
            "\n",
            "Test set: Avg. loss: 0.0034, Accuracy: 9312/10000 (93%)\n",
            "\n",
            "Train Epoch: 2 [0/60000 (0%)]\tLoss: 0.466219\n",
            "Train Epoch: 2 [3200/60000 (5%)]\tLoss: 0.249570\n",
            "Train Epoch: 2 [6400/60000 (11%)]\tLoss: 0.209298\n",
            "Train Epoch: 2 [9600/60000 (16%)]\tLoss: 0.287536\n",
            "Train Epoch: 2 [12800/60000 (21%)]\tLoss: 0.344304\n",
            "Train Epoch: 2 [16000/60000 (27%)]\tLoss: 0.286277\n",
            "Train Epoch: 2 [19200/60000 (32%)]\tLoss: 0.234011\n",
            "Train Epoch: 2 [22400/60000 (37%)]\tLoss: 0.354978\n",
            "Train Epoch: 2 [25600/60000 (43%)]\tLoss: 0.224774\n",
            "Train Epoch: 2 [28800/60000 (48%)]\tLoss: 0.118529\n",
            "Train Epoch: 2 [32000/60000 (53%)]\tLoss: 0.274177\n",
            "Train Epoch: 2 [35200/60000 (59%)]\tLoss: 0.246401\n",
            "Train Epoch: 2 [38400/60000 (64%)]\tLoss: 0.185276\n",
            "Train Epoch: 2 [41600/60000 (69%)]\tLoss: 0.161291\n",
            "Train Epoch: 2 [44800/60000 (75%)]\tLoss: 0.200014\n",
            "Train Epoch: 2 [48000/60000 (80%)]\tLoss: 0.240598\n",
            "Train Epoch: 2 [51200/60000 (85%)]\tLoss: 0.353157\n",
            "Train Epoch: 2 [54400/60000 (91%)]\tLoss: 0.246026\n",
            "Train Epoch: 2 [57600/60000 (96%)]\tLoss: 0.222394\n",
            "\n",
            "Test set: Avg. loss: 0.0024, Accuracy: 9523/10000 (95%)\n",
            "\n",
            "Train Epoch: 3 [0/60000 (0%)]\tLoss: 0.297471\n",
            "Train Epoch: 3 [3200/60000 (5%)]\tLoss: 0.467125\n",
            "Train Epoch: 3 [6400/60000 (11%)]\tLoss: 0.164876\n",
            "Train Epoch: 3 [9600/60000 (16%)]\tLoss: 0.256739\n",
            "Train Epoch: 3 [12800/60000 (21%)]\tLoss: 0.344173\n",
            "Train Epoch: 3 [16000/60000 (27%)]\tLoss: 0.168527\n",
            "Train Epoch: 3 [19200/60000 (32%)]\tLoss: 0.322406\n",
            "Train Epoch: 3 [22400/60000 (37%)]\tLoss: 0.329970\n",
            "Train Epoch: 3 [25600/60000 (43%)]\tLoss: 0.171844\n",
            "Train Epoch: 3 [28800/60000 (48%)]\tLoss: 0.380502\n",
            "Train Epoch: 3 [32000/60000 (53%)]\tLoss: 0.337919\n",
            "Train Epoch: 3 [35200/60000 (59%)]\tLoss: 0.200271\n",
            "Train Epoch: 3 [38400/60000 (64%)]\tLoss: 0.383866\n",
            "Train Epoch: 3 [41600/60000 (69%)]\tLoss: 0.161823\n",
            "Train Epoch: 3 [44800/60000 (75%)]\tLoss: 0.294756\n",
            "Train Epoch: 3 [48000/60000 (80%)]\tLoss: 0.174878\n",
            "Train Epoch: 3 [51200/60000 (85%)]\tLoss: 0.180633\n",
            "Train Epoch: 3 [54400/60000 (91%)]\tLoss: 0.181198\n",
            "Train Epoch: 3 [57600/60000 (96%)]\tLoss: 0.111659\n",
            "\n",
            "Test set: Avg. loss: 0.0021, Accuracy: 9598/10000 (96%)\n",
            "\n",
            "Train Epoch: 4 [0/60000 (0%)]\tLoss: 0.141153\n",
            "Train Epoch: 4 [3200/60000 (5%)]\tLoss: 0.174968\n",
            "Train Epoch: 4 [6400/60000 (11%)]\tLoss: 0.278541\n",
            "Train Epoch: 4 [9600/60000 (16%)]\tLoss: 0.203682\n",
            "Train Epoch: 4 [12800/60000 (21%)]\tLoss: 0.273064\n",
            "Train Epoch: 4 [16000/60000 (27%)]\tLoss: 0.302389\n",
            "Train Epoch: 4 [19200/60000 (32%)]\tLoss: 0.080926\n",
            "Train Epoch: 4 [22400/60000 (37%)]\tLoss: 0.196026\n",
            "Train Epoch: 4 [25600/60000 (43%)]\tLoss: 0.144703\n",
            "Train Epoch: 4 [28800/60000 (48%)]\tLoss: 0.235494\n",
            "Train Epoch: 4 [32000/60000 (53%)]\tLoss: 0.213187\n",
            "Train Epoch: 4 [35200/60000 (59%)]\tLoss: 0.348383\n",
            "Train Epoch: 4 [38400/60000 (64%)]\tLoss: 0.349970\n",
            "Train Epoch: 4 [41600/60000 (69%)]\tLoss: 0.253355\n",
            "Train Epoch: 4 [44800/60000 (75%)]\tLoss: 0.165505\n",
            "Train Epoch: 4 [48000/60000 (80%)]\tLoss: 0.250629\n",
            "Train Epoch: 4 [51200/60000 (85%)]\tLoss: 0.468001\n",
            "Train Epoch: 4 [54400/60000 (91%)]\tLoss: 0.153679\n",
            "Train Epoch: 4 [57600/60000 (96%)]\tLoss: 0.229853\n",
            "\n",
            "Test set: Avg. loss: 0.0019, Accuracy: 9639/10000 (96%)\n",
            "\n",
            "Train Epoch: 5 [0/60000 (0%)]\tLoss: 0.205101\n",
            "Train Epoch: 5 [3200/60000 (5%)]\tLoss: 0.148315\n",
            "Train Epoch: 5 [6400/60000 (11%)]\tLoss: 0.239493\n",
            "Train Epoch: 5 [9600/60000 (16%)]\tLoss: 0.560317\n",
            "Train Epoch: 5 [12800/60000 (21%)]\tLoss: 0.190852\n",
            "Train Epoch: 5 [16000/60000 (27%)]\tLoss: 0.091058\n",
            "Train Epoch: 5 [19200/60000 (32%)]\tLoss: 0.132814\n",
            "Train Epoch: 5 [22400/60000 (37%)]\tLoss: 0.399973\n",
            "Train Epoch: 5 [25600/60000 (43%)]\tLoss: 0.248046\n",
            "Train Epoch: 5 [28800/60000 (48%)]\tLoss: 0.060091\n",
            "Train Epoch: 5 [32000/60000 (53%)]\tLoss: 0.125209\n",
            "Train Epoch: 5 [35200/60000 (59%)]\tLoss: 0.188803\n",
            "Train Epoch: 5 [38400/60000 (64%)]\tLoss: 0.105650\n",
            "Train Epoch: 5 [41600/60000 (69%)]\tLoss: 0.282551\n",
            "Train Epoch: 5 [44800/60000 (75%)]\tLoss: 0.107620\n",
            "Train Epoch: 5 [48000/60000 (80%)]\tLoss: 0.335179\n",
            "Train Epoch: 5 [51200/60000 (85%)]\tLoss: 0.159359\n",
            "Train Epoch: 5 [54400/60000 (91%)]\tLoss: 0.298271\n",
            "Train Epoch: 5 [57600/60000 (96%)]\tLoss: 0.128676\n",
            "\n",
            "Test set: Avg. loss: 0.0018, Accuracy: 9674/10000 (97%)\n",
            "\n",
            "CPU times: user 1min 42s, sys: 487 ms, total: 1min 43s\n",
            "Wall time: 1min 42s\n"
          ]
        }
      ]
    },
    {
      "cell_type": "code",
      "metadata": {
        "colab": {
          "base_uri": "https://localhost:8080/"
        },
        "id": "fZ4_5uuAmUqR",
        "outputId": "e07ea47d-60a3-4788-eb76-ac167eadfefe"
      },
      "source": [
        "# model performance on the test data set \n",
        "test(model, device, test_loader, criterion)"
      ],
      "execution_count": null,
      "outputs": [
        {
          "output_type": "stream",
          "name": "stdout",
          "text": [
            "\n",
            "Test set: Avg. loss: 0.0018, Accuracy: 9674/10000 (97%)\n",
            "\n"
          ]
        }
      ]
    },
    {
      "cell_type": "code",
      "metadata": {
        "id": "Gekyv6c3RAbL",
        "colab": {
          "base_uri": "https://localhost:8080/",
          "height": 123
        },
        "outputId": "f84d0d82-cdaf-4e3c-d530-aab1302bfcc9"
      },
      "source": [
        "# testing model output on 4 samples \n",
        "with torch.no_grad():\n",
        "  output = model(samples_data[0:4].to(device))\n",
        "\n",
        "fig = plt.figure()\n",
        "for i in range(4):\n",
        "  plt.subplot(1,4, i+1)\n",
        "  plt.imshow(samples_data[i][0], cmap='gray', interpolation='none')\n",
        "  plt.title(\"Prediction: {}\".format(output.cpu().data.max(1, keepdim=True)[1][i].item()))\n",
        "  plt.xticks([])\n",
        "  plt.yticks([])"
      ],
      "execution_count": null,
      "outputs": [
        {
          "output_type": "display_data",
          "data": {
            "image/png": "[encoded data removed]",
            "text/plain": [
              "<Figure size 432x288 with 4 Axes>"
            ]
          },
          "metadata": {}
        }
      ]
    },
    {
      "cell_type": "markdown",
      "metadata": {
        "id": "fJs1-eqOmqcB"
      },
      "source": [
        "## Carlini wagner scratch attack"
      ]
    },
    {
      "cell_type": "markdown",
      "metadata": {
        "id": "scLbsiCZRTUn"
      },
      "source": [
        "## objective function 1 "
      ]
    },
    {
      "cell_type": "code",
      "metadata": {
        "id": "jHFMII2kPZCd"
      },
      "source": [
        "# carlini wagner attack implementation \n",
        "# objectiive function f1 szegedy et al  \n",
        "\n",
        "INF = float(\"inf\")\n",
        "\n",
        "def carlini_wagner_l2_f1(\n",
        "    model_fn,\n",
        "    x,\n",
        "    n_classes,\n",
        "    criterion,\n",
        "    y=None,\n",
        "    targeted=False,    \n",
        "    lr=5e-3,\n",
        "    confidence=0,\n",
        "    clip_min=0,\n",
        "    clip_max=1,\n",
        "    initial_const=1e-2,\n",
        "    binary_search_steps=10,\n",
        "    max_iterations=1000\n",
        "):\n",
        "\n",
        "  def compare(pred, label, is_logits=False):\n",
        "      if is_logits:\n",
        "          pred_copy = pred.clone().detach()\n",
        "          pred_copy[label] += -confidence if targeted else confidence\n",
        "          pred = torch.argmax(pred_copy)\n",
        "\n",
        "      return pred == label if targeted else pred != label\n",
        "  \n",
        "  if y is None:    \n",
        "    pred = model_fn(x)\n",
        "    y = torch.argmax(pred, 1)\n",
        "  \n",
        "  # constants \n",
        "  lower_bound = [0.0] * len(x)\n",
        "  upper_bound = [1e10] * len(x)\n",
        "  const = x.new_ones(len(x), 1) * initial_const\n",
        "\n",
        "  # original data for tracking \n",
        "  o_bestl2 = [INF] * len(x)\n",
        "  o_bestscore = [-1.0] * len(x)\n",
        "  x = torch.clamp(x, clip_min, clip_max)\n",
        "  ox = x.clone().detach()  # save the original x\n",
        "  o_bestattack = x.clone().detach()\n",
        "  \n",
        "  # input x \n",
        "  x = (x - clip_min) / (clip_max - clip_min)\n",
        "  x = torch.clamp(x, 0, 1)\n",
        "  x = x * 2 - 1\n",
        "  x = torch.arctanh(x * 0.999999)\n",
        "\n",
        "  # perturbation\n",
        "  modifier = torch.zeros_like(x, requires_grad=True)\n",
        "  y_onehot = torch.nn.functional.one_hot(y, n_classes).to(torch.float)\n",
        "\n",
        "  l2dist_fn = lambda x, y: torch.pow(x - y, 2).sum(list(range(len(x.size())))[1:])\n",
        "  optimizer = torch.optim.Adam([modifier], lr=lr)\n",
        "\n",
        "  for outer_step in range(binary_search_steps):\n",
        "      bestl2 = [INF] * len(x)\n",
        "      bestscore = [-1.0] * len(x)\n",
        "      for i in range(max_iterations):\n",
        "        new_x = (torch.tanh(modifier + x) + 1) / 2\n",
        "        new_x = new_x * (clip_max - clip_min) + clip_min\n",
        "        logits = model_fn(new_x)\n",
        "        \n",
        "        optimizer.zero_grad()\n",
        "        f = - criterion(logits, y) + 1 # THIS is similar to Szegedy et al \n",
        "        l2 = l2dist_fn(new_x, ox)\n",
        "        loss = (const * f + l2).sum()\n",
        "        loss.backward()\n",
        "        optimizer.step()\n",
        "        for n, (l2_n, logits_n, new_x_n) in enumerate(zip(l2, logits, new_x)):\n",
        "            y_n = y[n]\n",
        "            succeeded = compare(logits_n, y_n, is_logits=True)\n",
        "            if l2_n < o_bestl2[n] and succeeded:\n",
        "                pred_n = torch.argmax(logits_n)\n",
        "                o_bestl2[n] = l2_n\n",
        "                o_bestscore[n] = pred_n\n",
        "                o_bestattack[n] = new_x_n\n",
        "                bestl2[n] = l2_n\n",
        "                bestscore[n] = pred_n\n",
        "            elif l2_n < bestl2[n] and succeeded:\n",
        "                bestl2[n] = l2_n\n",
        "                bestscore[n] = torch.argmax(logits_n)\n",
        "\n",
        "        # binary search to find optimal const value \n",
        "        for n in range(len(x)):\n",
        "            y_n = y[n]\n",
        "            if compare(bestscore[n], y_n) and bestscore[n] != -1:\n",
        "                upper_bound[n] = min(upper_bound[n], const[n])\n",
        "                if upper_bound[n] < 1e9:\n",
        "                    const[n] = (lower_bound[n] + upper_bound[n]) / 2\n",
        "            else:\n",
        "                lower_bound[n] = max(lower_bound[n], const[n])\n",
        "                if upper_bound[n] < 1e9:\n",
        "                    const[n] = (lower_bound[n] + upper_bound[n]) / 2\n",
        "                else:\n",
        "                    const[n] *= 10\n",
        "  return o_bestattack.detach()"
      ],
      "execution_count": null,
      "outputs": []
    },
    {
      "cell_type": "code",
      "metadata": {
        "colab": {
          "base_uri": "https://localhost:8080/"
        },
        "id": "o-d7nz3lV775",
        "outputId": "bd8c56bd-fd45-4d66-f9d5-d1fe30cbc08d"
      },
      "source": [
        "%%time\n",
        "# test the carlini wagner attack \n",
        "# confidence value that worked above is 10 \n",
        "\n",
        "x = torch.from_numpy(np.transpose(x_test_non_7_100, (0,3,1,2)).astype(np.float32)).to(device)\n",
        "y = torch.from_numpy(np.argmax(y_test_7_100, axis=1)).to(device)\n",
        "\n",
        "x_test_adv = carlini_wagner_l2_f1(model, x, 10, criterion, confidence=10, targeted=True, y=y)\n",
        "x_test_adv_pred = model(x_test_adv)\n",
        "x_test_adv_pred = torch.argmax(x_test_adv_pred, 1)\n",
        "\n",
        "n = x_test_adv_pred.cpu().size(0)\n",
        "how_many_equal = torch.eq(x_test_adv_pred, y).sum().item() # if attack is success all need be unequal\n",
        "print(f'Attack success: { (how_many_equal)*100/n}%')"
      ],
      "execution_count": null,
      "outputs": [
        {
          "output_type": "stream",
          "name": "stdout",
          "text": [
            "Attack success: 1.0%\n",
            "CPU times: user 4min 54s, sys: 1.16 s, total: 4min 55s\n",
            "Wall time: 4min 54s\n"
          ]
        }
      ]
    },
    {
      "cell_type": "code",
      "metadata": {
        "colab": {
          "base_uri": "https://localhost:8080/"
        },
        "id": "MCmm4fC_kqJO",
        "outputId": "2b032236-a59b-4cea-dd6f-b19cf48318ee"
      },
      "source": [
        "%%time\n",
        "# test the carlini wagner attack \n",
        "# confidence value that worked above is 20 \n",
        "\n",
        "x = torch.from_numpy(np.transpose(x_test_non_7_100, (0,3,1,2)).astype(np.float32)).to(device)\n",
        "y = torch.from_numpy(np.argmax(y_test_7_100, axis=1)).to(device)\n",
        "\n",
        "x_test_adv = carlini_wagner_l2_f1(model, x, 10, criterion, confidence=20, targeted=True, y=y)\n",
        "x_test_adv_pred = model(x_test_adv)\n",
        "x_test_adv_pred = torch.argmax(x_test_adv_pred, 1)\n",
        "\n",
        "n = x_test_adv_pred.cpu().size(0)\n",
        "how_many_equal = torch.eq(x_test_adv_pred, y).sum().item() # if attack is success all need be equal\n",
        "print(f'Attack success: { (how_many_equal)*100/n}%')"
      ],
      "execution_count": null,
      "outputs": [
        {
          "output_type": "stream",
          "name": "stdout",
          "text": [
            "Attack success: 1.0%\n",
            "CPU times: user 4min 53s, sys: 1.24 s, total: 4min 54s\n",
            "Wall time: 4min 53s\n"
          ]
        }
      ]
    },
    {
      "cell_type": "markdown",
      "metadata": {
        "id": "0ODGf1XwqMph"
      },
      "source": [
        "### metrics"
      ]
    },
    {
      "cell_type": "code",
      "metadata": {
        "id": "M51ZoSSimtvt"
      },
      "source": [
        "temp = model(x_test_adv.to(device))\n",
        "temp = temp.detach().cpu()\n",
        "temp = temp.numpy()\n",
        "\n",
        "smallest_idx, largest_idx, metrics = _l2_perturbation(x_test_non_7_100, x_test_adv.detach().cpu().numpy(), temp)"
      ],
      "execution_count": null,
      "outputs": []
    },
    {
      "cell_type": "code",
      "metadata": {
        "colab": {
          "base_uri": "https://localhost:8080/",
          "height": 163
        },
        "id": "KYNeyCXSpzdK",
        "outputId": "79c82e9e-e197-416f-dc26-694d8f4aa2f8"
      },
      "source": [
        "_plot(x_test_non_7_100, x_test_adv.detach().cpu().numpy(), smallest_idx)"
      ],
      "execution_count": null,
      "outputs": [
        {
          "output_type": "display_data",
          "data": {
            "image/png": "[encoded data removed]",
            "text/plain": [
              "<Figure size 432x288 with 3 Axes>"
            ]
          },
          "metadata": {
            "needs_background": "light"
          }
        }
      ]
    },
    {
      "cell_type": "code",
      "metadata": {
        "colab": {
          "base_uri": "https://localhost:8080/"
        },
        "id": "e2DyZPOEuqtb",
        "outputId": "06bf6895-9b88-415b-e6d4-647fc1015677"
      },
      "source": [
        "temp = pd.DataFrame(metrics)\n",
        "temp.loc[smallest_idx]"
      ],
      "execution_count": null,
      "outputs": [
        {
          "output_type": "execute_result",
          "data": {
            "text/plain": [
              "model_label             7.00000\n",
              "model_probability       0.97323\n",
              "true_label              9.00000\n",
              "target_label            7.00000\n",
              "l2_dist              1294.32303\n",
              "Name: 31, dtype: float64"
            ]
          },
          "metadata": {},
          "execution_count": 81
        }
      ]
    },
    {
      "cell_type": "code",
      "metadata": {
        "colab": {
          "base_uri": "https://localhost:8080/"
        },
        "id": "KtO8RNLcgzbC",
        "outputId": "3d218d89-24a7-4245-f5aa-0f85f8ebe347"
      },
      "source": [
        "y"
      ],
      "execution_count": null,
      "outputs": [
        {
          "output_type": "execute_result",
          "data": {
            "text/plain": [
              "tensor([7, 7, 7, 7, 7, 7, 7, 7, 7, 7, 7, 7, 7, 7, 7, 7, 7, 7, 7, 7, 7, 7, 7, 7,\n",
              "        7, 7, 7, 7, 7, 7, 7, 7, 7, 7, 7, 7, 7, 7, 7, 7, 7, 7, 7, 7, 7, 7, 7, 7,\n",
              "        7, 7, 7, 7, 7, 7, 7, 7, 7, 7, 7, 7, 7, 7, 7, 7, 7, 7, 7, 7, 7, 7, 7, 7,\n",
              "        7, 7, 7, 7, 7, 7, 7, 7, 7, 7, 7, 7, 7, 7, 7, 7, 7, 7, 7, 7, 7, 7, 7, 7,\n",
              "        7, 7, 7, 7], device='cuda:0')"
            ]
          },
          "metadata": {},
          "execution_count": 28
        }
      ]
    },
    {
      "cell_type": "code",
      "metadata": {
        "colab": {
          "base_uri": "https://localhost:8080/"
        },
        "id": "3--0gvf_gIT1",
        "outputId": "5b40180c-b36d-432e-e328-80d53947d046"
      },
      "source": [
        "x_test_adv_pred"
      ],
      "execution_count": null,
      "outputs": [
        {
          "output_type": "execute_result",
          "data": {
            "text/plain": [
              "tensor([1, 6, 0, 6, 5, 6, 9, 5, 8, 1, 4, 0, 1, 4, 1, 9, 9, 6, 6, 1, 9, 0, 8, 3,\n",
              "        0, 3, 2, 6, 4, 9, 2, 7, 9, 0, 6, 4, 3, 2, 2, 0, 9, 3, 6, 3, 8, 9, 8, 5,\n",
              "        8, 1, 4, 8, 5, 6, 6, 6, 3, 2, 1, 3, 1, 6, 0, 6, 1, 4, 8, 9, 5, 6, 4, 6,\n",
              "        6, 9, 5, 0, 6, 2, 4, 8, 2, 0, 2, 4, 2, 1, 9, 1, 8, 2, 2, 1, 2, 4, 6, 6,\n",
              "        3, 8, 5, 6], device='cuda:0')"
            ]
          },
          "metadata": {},
          "execution_count": 29
        }
      ]
    },
    {
      "cell_type": "code",
      "metadata": {
        "colab": {
          "base_uri": "https://localhost:8080/"
        },
        "id": "PaFvsso4gL-q",
        "outputId": "b6e12b1d-1b8e-4d8e-9d48-e2df7b3b9b0a"
      },
      "source": [
        "np.argmax(y_test_non_7_100, axis=1)"
      ],
      "execution_count": null,
      "outputs": [
        {
          "output_type": "execute_result",
          "data": {
            "text/plain": [
              "array([1, 6, 0, 6, 5, 6, 9, 5, 8, 1, 4, 0, 1, 4, 1, 9, 9, 6, 6, 1, 9, 0,\n",
              "       8, 3, 0, 3, 2, 6, 4, 4, 2, 9, 9, 0, 6, 4, 3, 2, 2, 0, 9, 3, 6, 3,\n",
              "       5, 9, 8, 0, 8, 1, 4, 6, 5, 6, 6, 6, 3, 2, 1, 3, 1, 6, 0, 6, 1, 4,\n",
              "       8, 9, 5, 6, 4, 6, 6, 9, 5, 0, 6, 2, 4, 8, 2, 0, 2, 4, 2, 1, 9, 1,\n",
              "       8, 2, 2, 1, 2, 4, 5, 6, 3, 4, 5, 6])"
            ]
          },
          "metadata": {},
          "execution_count": 30
        }
      ]
    },
    {
      "cell_type": "markdown",
      "metadata": {
        "id": "hwsFd4VDRXq3"
      },
      "source": [
        "## objective function 6"
      ]
    },
    {
      "cell_type": "code",
      "metadata": {
        "id": "cqdrdYGGxYq_"
      },
      "source": [
        "# carlini wagner attack implementation \n",
        "# objectiive function f6 \n",
        "\n",
        "INF = float(\"inf\")\n",
        "\n",
        "def carlini_wagner_l2_f6(\n",
        "    model_fn,\n",
        "    x,\n",
        "    n_classes,\n",
        "    y=None,\n",
        "    targeted=False,\n",
        "    lr=5e-3,\n",
        "    confidence=0,\n",
        "    clip_min=0,\n",
        "    clip_max=1,\n",
        "    initial_const=1e-2,\n",
        "    binary_search_steps=5,\n",
        "    max_iterations=1000,\n",
        "):\n",
        "\n",
        "  def compare(pred, label, is_logits=False):\n",
        "      if is_logits:\n",
        "          pred_copy = pred.clone().detach()\n",
        "          pred_copy[label] += -confidence if targeted else confidence\n",
        "          pred = torch.argmax(pred_copy)\n",
        "\n",
        "      return pred == label if targeted else pred != label\n",
        "  \n",
        "  if y is None:    \n",
        "    pred = model_fn(x)\n",
        "    y = torch.argmax(pred, 1)\n",
        "  \n",
        "  # constants \n",
        "  lower_bound = [0.0] * len(x)\n",
        "  upper_bound = [1e10] * len(x)\n",
        "  const = x.new_ones(len(x), 1) * initial_const\n",
        "\n",
        "  # original data \n",
        "  o_bestl2 = [INF] * len(x)\n",
        "  o_bestscore = [-1.0] * len(x)\n",
        "  x = torch.clamp(x, clip_min, clip_max)\n",
        "  ox = x.clone().detach()  # save the original x\n",
        "  o_bestattack = x.clone().detach()\n",
        "  \n",
        "  # input x \n",
        "  x = (x - clip_min) / (clip_max - clip_min)\n",
        "  x = torch.clamp(x, 0, 1)\n",
        "  x = x * 2 - 1\n",
        "  x = torch.arctanh(x * 0.999999)\n",
        "\n",
        "  # perturbation\n",
        "  modifier = torch.zeros_like(x, requires_grad=True)\n",
        "  y_onehot = torch.nn.functional.one_hot(y, n_classes).to(torch.float)\n",
        "\n",
        "  # loss function f_6 from the carlini wagner paper \n",
        "  # this is like a relu max(0, (other - real)/(real - other)), all the neagtive terms will be zeroed out \n",
        "  f_fn = lambda real, other, targeted: torch.max(\n",
        "    ((other - real) if targeted else (real - other)) + confidence,\n",
        "    torch.tensor(0.0).to(real.device),)\n",
        "\n",
        "  l2dist_fn = lambda x, y: torch.pow(x - y, 2).sum(list(range(len(x.size())))[1:])\n",
        "  optimizer = torch.optim.Adam([modifier], lr=lr)\n",
        "\n",
        "  for outer_step in range(binary_search_steps):\n",
        "      bestl2 = [INF] * len(x)\n",
        "      bestscore = [-1.0] * len(x)\n",
        "      for i in range(max_iterations):\n",
        "        new_x = (torch.tanh(modifier + x) + 1) / 2\n",
        "        new_x = new_x * (clip_max - clip_min) + clip_min\n",
        "        logits = model_fn(new_x)\n",
        "        real = torch.sum(y_onehot * logits, 1)\n",
        "        other, _ = torch.max((1 - y_onehot) * logits - y_onehot * 1e4, 1)\n",
        "\n",
        "        optimizer.zero_grad()\n",
        "        f = f_fn(real, other, targeted)\n",
        "        l2 = l2dist_fn(new_x, ox)\n",
        "        loss = (const * f + l2).sum()\n",
        "        loss.backward()\n",
        "        optimizer.step()\n",
        "        for n, (l2_n, logits_n, new_x_n) in enumerate(zip(l2, logits, new_x)):\n",
        "            y_n = y[n]\n",
        "            succeeded = compare(logits_n, y_n, is_logits=True)\n",
        "            if l2_n < o_bestl2[n] and succeeded:\n",
        "                pred_n = torch.argmax(logits_n)\n",
        "                o_bestl2[n] = l2_n\n",
        "                o_bestscore[n] = pred_n\n",
        "                o_bestattack[n] = new_x_n\n",
        "                bestl2[n] = l2_n\n",
        "                bestscore[n] = pred_n\n",
        "            elif l2_n < bestl2[n] and succeeded:\n",
        "                bestl2[n] = l2_n\n",
        "                bestscore[n] = torch.argmax(logits_n)\n",
        "\n",
        "        for n in range(len(x)):\n",
        "            y_n = y[n]\n",
        "            if compare(bestscore[n], y_n) and bestscore[n] != -1:\n",
        "                upper_bound[n] = min(upper_bound[n], const[n])\n",
        "                if upper_bound[n] < 1e9:\n",
        "                    const[n] = (lower_bound[n] + upper_bound[n]) / 2\n",
        "            else:\n",
        "                lower_bound[n] = max(lower_bound[n], const[n])\n",
        "                if upper_bound[n] < 1e9:\n",
        "                    const[n] = (lower_bound[n] + upper_bound[n]) / 2\n",
        "                else:\n",
        "                    const[n] *= 10\n",
        "  return o_bestattack.detach()"
      ],
      "execution_count": null,
      "outputs": []
    },
    {
      "cell_type": "code",
      "metadata": {
        "colab": {
          "base_uri": "https://localhost:8080/"
        },
        "id": "r_Je4NHhmJXs",
        "outputId": "88c9b413-0b3c-4b1a-cf91-9699962d1864"
      },
      "source": [
        "# test the carlini wagner attack \n",
        "\n",
        "x = torch.from_numpy(np.transpose(x_test_non_7_100, (0,3,1,2)).astype(np.float32)).to(device)\n",
        "y = torch.from_numpy(np.argmax(y_test_7_100, axis=1)).to(device)\n",
        "\n",
        "x_test_adv = carlini_wagner_l2_f6(model, x, 10, confidence=20, targeted=True, y=y)\n",
        "x_test_adv_pred = model(x_test_adv)\n",
        "x_test_adv_pred = torch.argmax(x_test_adv_pred, 1)\n",
        "\n",
        "n = x_test_adv_pred.cpu().size(0)\n",
        "how_many_equal = torch.eq(x_test_adv_pred, y).sum().item() # if attack is success all need be equal\n",
        "print(f'Attack success: { (how_many_equal)*100/n}%')"
      ],
      "execution_count": null,
      "outputs": [
        {
          "output_type": "stream",
          "name": "stdout",
          "text": [
            "Attack success: 1.0%\n"
          ]
        }
      ]
    },
    {
      "cell_type": "code",
      "metadata": {
        "id": "456lRXWe6LIn"
      },
      "source": [
        "temp = model(x_test_adv.to(device))\n",
        "temp = temp.detach().cpu()\n",
        "temp = temp.numpy()\n",
        "\n",
        "smallest_idx, smallest_v, largest_idx, largest_v, metrics = _l2_perturbation(x_test_non_7_100, x_test_adv.detach().cpu().numpy(), temp)"
      ],
      "execution_count": null,
      "outputs": []
    },
    {
      "cell_type": "code",
      "metadata": {
        "colab": {
          "base_uri": "https://localhost:8080/",
          "height": 163
        },
        "id": "onCgZM9d7wqP",
        "outputId": "d279dbaa-5d87-4520-98b5-fe7b5d55ec67"
      },
      "source": [
        "_plot(x_test_non_7_100, x_test_adv.detach().cpu().numpy(), smallest_idx)"
      ],
      "execution_count": null,
      "outputs": [
        {
          "output_type": "display_data",
          "data": {
            "image/png": "[encoded data removed]",
            "text/plain": [
              "<Figure size 432x288 with 3 Axes>"
            ]
          },
          "metadata": {
            "needs_background": "light"
          }
        }
      ]
    },
    {
      "cell_type": "code",
      "metadata": {
        "colab": {
          "base_uri": "https://localhost:8080/",
          "height": 163
        },
        "id": "doJAtJG98A1u",
        "outputId": "812e3860-668a-4ebf-e400-a71620666569"
      },
      "source": [
        "_plot(x_test_non_7_100, x_test_adv.detach().cpu().numpy(), largest_idx)"
      ],
      "execution_count": null,
      "outputs": [
        {
          "output_type": "display_data",
          "data": {
            "image/png": "[encoded data removed]",
            "text/plain": [
              "<Figure size 432x288 with 3 Axes>"
            ]
          },
          "metadata": {
            "needs_background": "light"
          }
        }
      ]
    },
    {
      "cell_type": "code",
      "metadata": {
        "colab": {
          "base_uri": "https://localhost:8080/"
        },
        "id": "MVBqdl5-8EGZ",
        "outputId": "420526f2-058d-4bc8-878a-6d070b2cb1d8"
      },
      "source": [
        "temp = pd.DataFrame(metrics)\n",
        "temp.loc[smallest_idx]"
      ],
      "execution_count": null,
      "outputs": [
        {
          "output_type": "execute_result",
          "data": {
            "text/plain": [
              "model_label             7.00000\n",
              "model_probability       0.97323\n",
              "true_label              9.00000\n",
              "target_label            7.00000\n",
              "l2_dist              1294.32303\n",
              "Name: 31, dtype: float64"
            ]
          },
          "metadata": {},
          "execution_count": 118
        }
      ]
    },
    {
      "cell_type": "markdown",
      "metadata": {
        "id": "BQSqTLJlxZNo"
      },
      "source": [
        "# Problem 3 [Backdoor attacks] 35 points\n",
        "\n",
        "(a) Implement the BadNets attack from the paper by Gu et al. 2017 on the MNIST data. We describe the\n",
        "basic backdoor poisoning algorithm during training below. Let the backdoor size be fixed at b pixels.\n",
        "\n",
        "1. Select the target class t = 7.\n",
        "2. Select b fixed pixel positions for the backdoor (you will use square backdoor patterns).\n",
        "3. Select values for the pixels (usually, the attack selects values of the pixels significantly different\n",
        "from those of the original class). The set of b pixels and their values represent the backdoor\n",
        "pattern.\n",
        "4. Select a percentage p of training samples from classes other than t and poison them by adding\n",
        "the backdoor pattern. Change their label to the target class t.\n",
        "5. Train the model with the poisoned data.\n",
        "\n",
        "The goal of the backdoor poisoning attack is to classify correctly clean data at testing, but classify as\n",
        "target t any testing point with the backdoor pattern. There are two metrics used to evaluate backdoor\n",
        "attacks: (1) accuracy on the original test set; (2) accuracy on backdoored images from the test set\n",
        "(using the same backdoor pattern as in training).\n",
        "\n",
        "(b) For a fixed setting (b = 4; p = 1%), experiment with several positions of the backdoor (at least 3)\n",
        "and report results according to two metrics: (1) the poisoned model’s accuracy on clean test samples;\n",
        "(2) the poisoned model’s accuracy on test samples poisoned with the same pattern. You should try to\n",
        "use one position close to the center of the image, and another one close to one of the image corners.\n",
        "Visualize several backdoored images that are still classified as the correct class (for which the attack\n",
        "does not work), and several backdoored images for which the attack works.\n",
        "\n",
        "(c) Run the attack with the best pattern from the previous experiment for backdoor size: b $\\in$ {1, 4, 9} and p $\\in$ {0.5%,1%,5%} and report for each value of b and p the same two metrics as above.\n",
        "Discuss and interpret the results."
      ]
    },
    {
      "cell_type": "markdown",
      "metadata": {
        "id": "IxxiUf1K5gIo"
      },
      "source": [
        "## Create Backdoor data"
      ]
    },
    {
      "cell_type": "code",
      "metadata": {
        "id": "pDtf-CY4yRqF"
      },
      "source": [
        "# create backdoor on the data \n",
        "from torch.utils.data import Dataset\n",
        "\n",
        "class BackdoorDataset(Dataset):\n",
        "\n",
        "    def __init__(self, dataset, targets, trigger_label, fraction_to_alter, position):\n",
        "        self.class_num = len(dataset)        \n",
        "        self.data, self.targets = self.add_trigger(self.reshape(dataset), targets, trigger_label, fraction_to_alter, position)\n",
        "        self.channels, self.width, self.height = 1, 28, 28 # standard for MNIST\n",
        "\n",
        "    def __getitem__(self, item):\n",
        "        img = self.data[item]\n",
        "        label_idx = self.targets[item]\n",
        "        return torch.from_numpy(img.astype(np.float32)), torch.tensor(label_idx)\n",
        "\n",
        "    def __len__(self):\n",
        "        return len(self.data)\n",
        "\n",
        "    def reshape(self, data):\n",
        "        new_data = data.reshape(len(data),1,28,28)\n",
        "        return np.array(new_data)\n",
        "\n",
        "    def add_trigger(self, data, targets, trigger_label, fraction_to_alter, position):\n",
        "        new_data = np.copy(data)\n",
        "        new_targets = np.copy(targets)\n",
        "        perm = np.random.permutation(len(new_data))[0: int(len(new_data) * fraction_to_alter)]\n",
        "        channels, width, height = new_data.shape[1:]\n",
        "        for idx in perm: # if image in the random permutation then add the trigger to the image and add the target label\n",
        "            new_targets[idx] = trigger_label\n",
        "            for c in range(channels):\n",
        "                new_data[idx, c, width-position, height-position] = 1\n",
        "                new_data[idx, c, width-position, height-position-1] = 1\n",
        "                new_data[idx, c, width-position-1, height-position] = 1\n",
        "                new_data[idx, c, width-position-1, height-position-1] = 1        \n",
        "        return new_data, new_targets"
      ],
      "execution_count": null,
      "outputs": []
    },
    {
      "cell_type": "code",
      "metadata": {
        "id": "dNOGI4qRB5fk"
      },
      "source": [
        "class BackdoorDataset_one(Dataset):\n",
        "\n",
        "    def __init__(self, dataset, targets, trigger_label, fraction_to_alter, position):\n",
        "        self.class_num = len(dataset)        \n",
        "        self.data, self.targets = self.add_trigger(self.reshape(dataset), targets, trigger_label, fraction_to_alter, position)\n",
        "        self.channels, self.width, self.height = 1, 28, 28 # standard for MNIST\n",
        "\n",
        "    def __getitem__(self, item):\n",
        "        img = self.data[item]\n",
        "        label_idx = self.targets[item]\n",
        "        return torch.from_numpy(img.astype(np.float32)), torch.tensor(label_idx)\n",
        "\n",
        "    def __len__(self):\n",
        "        return len(self.data)\n",
        "\n",
        "    def reshape(self, data):\n",
        "        new_data = data.reshape(len(data),1,28,28)\n",
        "        return np.array(new_data)\n",
        "\n",
        "    def add_trigger(self, data, targets, trigger_label, fraction_to_alter, position):\n",
        "        new_data = np.copy(data)\n",
        "        new_targets = np.copy(targets)\n",
        "        perm = np.random.permutation(len(new_data))[0: int(len(new_data) * fraction_to_alter)]\n",
        "        channels, width, height = new_data.shape[1:]\n",
        "        for idx in perm: # if image in the random permutation then add the trigger to the image and add the target label\n",
        "            new_targets[idx] = trigger_label\n",
        "            for c in range(channels):\n",
        "                new_data[idx, c, width-position, height-position] = 1     \n",
        "        return new_data, new_targets"
      ],
      "execution_count": null,
      "outputs": []
    },
    {
      "cell_type": "code",
      "metadata": {
        "id": "oqaELCgSCCme"
      },
      "source": [
        "class BackdoorDataset_nine(Dataset):\n",
        "\n",
        "    def __init__(self, dataset, targets, trigger_label, fraction_to_alter, position):\n",
        "        self.class_num = len(dataset)        \n",
        "        self.data, self.targets = self.add_trigger(self.reshape(dataset), targets, trigger_label, fraction_to_alter, position)\n",
        "        self.channels, self.width, self.height = 1, 28, 28 # standard for MNIST\n",
        "\n",
        "    def __getitem__(self, item):\n",
        "        img = self.data[item]\n",
        "        label_idx = self.targets[item]\n",
        "        return torch.from_numpy(img.astype(np.float32)), torch.tensor(label_idx)\n",
        "\n",
        "    def __len__(self):\n",
        "        return len(self.data)\n",
        "\n",
        "    def reshape(self, data):\n",
        "        new_data = data.reshape(len(data),1,28,28)\n",
        "        return np.array(new_data)\n",
        "\n",
        "    def add_trigger(self, data, targets, trigger_label, fraction_to_alter, position):\n",
        "        new_data = np.copy(data)\n",
        "        new_targets = np.copy(targets)\n",
        "        perm = np.random.permutation(len(new_data))[0: int(len(new_data) * fraction_to_alter)]\n",
        "        channels, width, height = new_data.shape[1:]\n",
        "        for idx in perm: # if image in the random permutation then add the trigger to the image and add the target label\n",
        "            new_targets[idx] = trigger_label\n",
        "            for c in range(channels):\n",
        "                new_data[idx, c, width-position:, height-position:] = 1     \n",
        "        return new_data, new_targets"
      ],
      "execution_count": null,
      "outputs": []
    },
    {
      "cell_type": "code",
      "metadata": {
        "colab": {
          "base_uri": "https://localhost:8080/"
        },
        "id": "p0G9Qx4PDYqf",
        "outputId": "590f9251-772a-4f7a-c601-7dfdc61ab148"
      },
      "source": [
        "temp = np.random.randint(100, size=(9,9))\n",
        "temp"
      ],
      "execution_count": null,
      "outputs": [
        {
          "output_type": "execute_result",
          "data": {
            "text/plain": [
              "array([[15, 10, 76, 99, 25, 76,  5, 82, 94],\n",
              "       [64, 51, 97, 92, 58, 96,  6, 44, 52],\n",
              "       [99, 73, 27, 38, 61, 85, 78, 74, 30],\n",
              "       [95, 82, 64,  7, 98, 70, 55, 21, 26],\n",
              "       [92, 70, 54, 92, 72, 43, 46, 22, 57],\n",
              "       [40, 69, 84, 63, 15, 69, 80,  8, 58],\n",
              "       [ 9, 77, 49,  7, 59, 15, 64, 25,  5],\n",
              "       [68,  7, 72, 25, 58, 74, 75, 34, 33],\n",
              "       [15, 83, 40, 83, 62, 38, 45, 70, 40]])"
            ]
          },
          "metadata": {},
          "execution_count": 146
        }
      ]
    },
    {
      "cell_type": "code",
      "metadata": {
        "colab": {
          "base_uri": "https://localhost:8080/"
        },
        "id": "uK8GsCu9Dhf9",
        "outputId": "99fff182-54bf-49d4-8edd-ca5cee040495"
      },
      "source": [
        "temp[5:, 5:]"
      ],
      "execution_count": null,
      "outputs": [
        {
          "output_type": "execute_result",
          "data": {
            "text/plain": [
              "array([[69, 80,  8, 58],\n",
              "       [15, 64, 25,  5],\n",
              "       [74, 75, 34, 33],\n",
              "       [38, 45, 70, 40]])"
            ]
          },
          "metadata": {},
          "execution_count": 147
        }
      ]
    },
    {
      "cell_type": "code",
      "metadata": {
        "id": "01mDIIaRsI5x",
        "colab": {
          "base_uri": "https://localhost:8080/",
          "height": 109
        },
        "outputId": "ce83e8e6-e18c-41a7-c773-6acd2e52d0ab"
      },
      "source": [
        "# create the backdoor data set having 7 as the target \n",
        "# here b = 4 because 4 pixels are altered in the trigger function above \n",
        "# p = 0.01% which is the amount of training data to be modified by the trigger \n",
        "\n",
        "target_label = 7\n",
        "position = 3 # 3 means bottom right corner \n",
        "backdoor_train_data = BackdoorDataset(x_train_non_7[:5], np.argmax(y_train_non_7[:5], axis=1), target_label, fraction_to_alter=0.5, position=3)\n",
        "\n",
        "# view the sample images with backdoor\n",
        "figure = plt.figure()\n",
        "num_of_images = 5\n",
        "for index in range(1, num_of_images):\n",
        "  plt.subplot(1, 5, index)    \n",
        "  plt.imshow(backdoor_train_data[index][0].numpy().squeeze(), cmap='Greys')"
      ],
      "execution_count": null,
      "outputs": [
        {
          "output_type": "display_data",
          "data": {
            "image/png": "[encoded data removed]",
            "text/plain": [
              "<Figure size 432x288 with 4 Axes>"
            ]
          },
          "metadata": {
            "needs_background": "light"
          }
        }
      ]
    },
    {
      "cell_type": "code",
      "metadata": {
        "id": "a36N9ofklVHy"
      },
      "source": [
        "# create backdoor dataset\n",
        "target_label = 7\n",
        "position = 3 # 3 means bottom right corner\n",
        "backdoor_train_data = BackdoorDataset(x_train_non_7, np.argmax(y_train_non_7, axis=1), target_label, fraction_to_alter = 0.01, position = 3)\n",
        "train_data_original = BackdoorDataset(x_train_non_7,  np.argmax(y_train_non_7, axis=1), target_label, fraction_to_alter = 0.0, position = 3)\n",
        "backdoortest_data = BackdoorDataset(x_test_non_7,  np.argmax(y_test_non_7, axis=1), target_label, fraction_to_alter = 1, position = 3)\n",
        "\n",
        "backdoor_train_data_dataloader = torch.utils.data.DataLoader(dataset=backdoor_train_data, batch_size=64, shuffle=True)\n",
        "train_data_original_dataloader = torch.utils.data.DataLoader(dataset=train_data_original, batch_size=64, shuffle=True)\n",
        "backdoortest_data_dataloader = torch.utils.data.DataLoader(dataset=backdoortest_data, batch_size=64, shuffle=True)"
      ],
      "execution_count": null,
      "outputs": []
    },
    {
      "cell_type": "code",
      "metadata": {
        "colab": {
          "base_uri": "https://localhost:8080/"
        },
        "id": "Yhdpa_Z0zDMO",
        "outputId": "0da58b57-5582-4664-fa20-b9764217d3bf"
      },
      "source": [
        "# performance on original dataset \n",
        "# model performance on the test data set \n",
        "test(model, device, train_data_original_dataloader, criterion)"
      ],
      "execution_count": null,
      "outputs": [
        {
          "output_type": "stream",
          "name": "stdout",
          "text": [
            "\n",
            "Test set: Avg. loss: 0.0094, Accuracy: 51230/53735 (95%)\n",
            "\n"
          ]
        }
      ]
    },
    {
      "cell_type": "code",
      "metadata": {
        "colab": {
          "base_uri": "https://localhost:8080/"
        },
        "id": "0FUer_0rzbM7",
        "outputId": "6137050e-4ddf-4c5b-a054-546c7a0f0780"
      },
      "source": [
        "# train the model with backdoor data \n",
        "# training and testing loop \n",
        "\n",
        "model = Simple_CNN().to(device)\n",
        "optimizer = optim.SGD(model.parameters(), lr=learning_rate)\n",
        "criterion = nn.CrossEntropyLoss()\n",
        "\n",
        "scheduler = StepLR(optimizer, step_size=1, gamma=0.7)\n",
        "for epoch in range(1, n_epochs + 1):\n",
        "  train(epoch, model, device, backdoor_train_data_dataloader, optimizer, criterion)\n",
        "  test(model, device, train_data_original_dataloader, criterion)\n",
        "  scheduler.step()"
      ],
      "execution_count": null,
      "outputs": [
        {
          "output_type": "stream",
          "name": "stdout",
          "text": [
            "Train Epoch: 1 [0/53735 (0%)]\tLoss: 2.292269\n",
            "Train Epoch: 1 [3200/53735 (6%)]\tLoss: 2.094158\n",
            "Train Epoch: 1 [6400/53735 (12%)]\tLoss: 1.467531\n",
            "Train Epoch: 1 [9600/53735 (18%)]\tLoss: 0.865116\n",
            "Train Epoch: 1 [12800/53735 (24%)]\tLoss: 0.893566\n",
            "Train Epoch: 1 [16000/53735 (30%)]\tLoss: 0.737043\n",
            "Train Epoch: 1 [19200/53735 (36%)]\tLoss: 0.611145\n",
            "Train Epoch: 1 [22400/53735 (42%)]\tLoss: 0.668238\n",
            "Train Epoch: 1 [25600/53735 (48%)]\tLoss: 0.356550\n",
            "Train Epoch: 1 [28800/53735 (54%)]\tLoss: 0.562852\n",
            "Train Epoch: 1 [32000/53735 (60%)]\tLoss: 0.615632\n",
            "Train Epoch: 1 [35200/53735 (65%)]\tLoss: 0.375625\n",
            "Train Epoch: 1 [38400/53735 (71%)]\tLoss: 0.446057\n",
            "Train Epoch: 1 [41600/53735 (77%)]\tLoss: 0.561879\n",
            "Train Epoch: 1 [44800/53735 (83%)]\tLoss: 0.563996\n",
            "Train Epoch: 1 [48000/53735 (89%)]\tLoss: 0.401784\n",
            "Train Epoch: 1 [51200/53735 (95%)]\tLoss: 0.379308\n",
            "\n",
            "Test set: Avg. loss: 0.0042, Accuracy: 49652/53735 (92%)\n",
            "\n",
            "Train Epoch: 2 [0/53735 (0%)]\tLoss: 0.386630\n",
            "Train Epoch: 2 [3200/53735 (6%)]\tLoss: 0.470500\n",
            "Train Epoch: 2 [6400/53735 (12%)]\tLoss: 0.309054\n",
            "Train Epoch: 2 [9600/53735 (18%)]\tLoss: 0.441601\n",
            "Train Epoch: 2 [12800/53735 (24%)]\tLoss: 0.339277\n",
            "Train Epoch: 2 [16000/53735 (30%)]\tLoss: 0.457725\n",
            "Train Epoch: 2 [19200/53735 (36%)]\tLoss: 0.760258\n",
            "Train Epoch: 2 [22400/53735 (42%)]\tLoss: 0.322442\n",
            "Train Epoch: 2 [25600/53735 (48%)]\tLoss: 0.397754\n",
            "Train Epoch: 2 [28800/53735 (54%)]\tLoss: 0.409593\n",
            "Train Epoch: 2 [32000/53735 (60%)]\tLoss: 0.448583\n",
            "Train Epoch: 2 [35200/53735 (65%)]\tLoss: 0.397996\n",
            "Train Epoch: 2 [38400/53735 (71%)]\tLoss: 0.400362\n",
            "Train Epoch: 2 [41600/53735 (77%)]\tLoss: 0.234866\n",
            "Train Epoch: 2 [44800/53735 (83%)]\tLoss: 0.308195\n",
            "Train Epoch: 2 [48000/53735 (89%)]\tLoss: 0.310930\n",
            "Train Epoch: 2 [51200/53735 (95%)]\tLoss: 0.252811\n",
            "\n",
            "Test set: Avg. loss: 0.0032, Accuracy: 50605/53735 (94%)\n",
            "\n",
            "Train Epoch: 3 [0/53735 (0%)]\tLoss: 0.329358\n",
            "Train Epoch: 3 [3200/53735 (6%)]\tLoss: 0.323278\n",
            "Train Epoch: 3 [6400/53735 (12%)]\tLoss: 0.657281\n",
            "Train Epoch: 3 [9600/53735 (18%)]\tLoss: 0.535950\n",
            "Train Epoch: 3 [12800/53735 (24%)]\tLoss: 0.383349\n",
            "Train Epoch: 3 [16000/53735 (30%)]\tLoss: 0.281229\n",
            "Train Epoch: 3 [19200/53735 (36%)]\tLoss: 0.295672\n",
            "Train Epoch: 3 [22400/53735 (42%)]\tLoss: 0.259258\n",
            "Train Epoch: 3 [25600/53735 (48%)]\tLoss: 0.492263\n",
            "Train Epoch: 3 [28800/53735 (54%)]\tLoss: 0.398962\n",
            "Train Epoch: 3 [32000/53735 (60%)]\tLoss: 0.339340\n",
            "Train Epoch: 3 [35200/53735 (65%)]\tLoss: 0.421187\n",
            "Train Epoch: 3 [38400/53735 (71%)]\tLoss: 0.502457\n",
            "Train Epoch: 3 [41600/53735 (77%)]\tLoss: 0.305396\n",
            "Train Epoch: 3 [44800/53735 (83%)]\tLoss: 0.340517\n",
            "Train Epoch: 3 [48000/53735 (89%)]\tLoss: 0.270569\n",
            "Train Epoch: 3 [51200/53735 (95%)]\tLoss: 0.339253\n",
            "\n",
            "Test set: Avg. loss: 0.0027, Accuracy: 50997/53735 (95%)\n",
            "\n",
            "Train Epoch: 4 [0/53735 (0%)]\tLoss: 0.465754\n",
            "Train Epoch: 4 [3200/53735 (6%)]\tLoss: 0.421203\n",
            "Train Epoch: 4 [6400/53735 (12%)]\tLoss: 0.459169\n",
            "Train Epoch: 4 [9600/53735 (18%)]\tLoss: 0.432061\n",
            "Train Epoch: 4 [12800/53735 (24%)]\tLoss: 0.278353\n",
            "Train Epoch: 4 [16000/53735 (30%)]\tLoss: 0.321028\n",
            "Train Epoch: 4 [19200/53735 (36%)]\tLoss: 0.284572\n",
            "Train Epoch: 4 [22400/53735 (42%)]\tLoss: 0.278912\n",
            "Train Epoch: 4 [25600/53735 (48%)]\tLoss: 0.462701\n",
            "Train Epoch: 4 [28800/53735 (54%)]\tLoss: 0.236556\n",
            "Train Epoch: 4 [32000/53735 (60%)]\tLoss: 0.354999\n",
            "Train Epoch: 4 [35200/53735 (65%)]\tLoss: 0.200416\n",
            "Train Epoch: 4 [38400/53735 (71%)]\tLoss: 0.391186\n",
            "Train Epoch: 4 [41600/53735 (77%)]\tLoss: 0.124575\n",
            "Train Epoch: 4 [44800/53735 (83%)]\tLoss: 0.348759\n",
            "Train Epoch: 4 [48000/53735 (89%)]\tLoss: 0.456954\n",
            "Train Epoch: 4 [51200/53735 (95%)]\tLoss: 0.181618\n",
            "\n",
            "Test set: Avg. loss: 0.0025, Accuracy: 51244/53735 (95%)\n",
            "\n",
            "Train Epoch: 5 [0/53735 (0%)]\tLoss: 0.333351\n",
            "Train Epoch: 5 [3200/53735 (6%)]\tLoss: 0.265224\n",
            "Train Epoch: 5 [6400/53735 (12%)]\tLoss: 0.207368\n",
            "Train Epoch: 5 [9600/53735 (18%)]\tLoss: 0.129651\n",
            "Train Epoch: 5 [12800/53735 (24%)]\tLoss: 0.205930\n",
            "Train Epoch: 5 [16000/53735 (30%)]\tLoss: 0.252368\n",
            "Train Epoch: 5 [19200/53735 (36%)]\tLoss: 0.470633\n",
            "Train Epoch: 5 [22400/53735 (42%)]\tLoss: 0.373564\n",
            "Train Epoch: 5 [25600/53735 (48%)]\tLoss: 0.325962\n",
            "Train Epoch: 5 [28800/53735 (54%)]\tLoss: 0.201115\n",
            "Train Epoch: 5 [32000/53735 (60%)]\tLoss: 0.337676\n",
            "Train Epoch: 5 [35200/53735 (65%)]\tLoss: 0.433938\n",
            "Train Epoch: 5 [38400/53735 (71%)]\tLoss: 0.236471\n",
            "Train Epoch: 5 [41600/53735 (77%)]\tLoss: 0.361586\n",
            "Train Epoch: 5 [44800/53735 (83%)]\tLoss: 0.186525\n",
            "Train Epoch: 5 [48000/53735 (89%)]\tLoss: 0.335050\n",
            "Train Epoch: 5 [51200/53735 (95%)]\tLoss: 0.214949\n",
            "\n",
            "Test set: Avg. loss: 0.0024, Accuracy: 51377/53735 (96%)\n",
            "\n"
          ]
        }
      ]
    },
    {
      "cell_type": "code",
      "metadata": {
        "colab": {
          "base_uri": "https://localhost:8080/"
        },
        "id": "8-hncGEQ0hJ0",
        "outputId": "0649b376-aa99-470d-99d4-848108930e27"
      },
      "source": [
        "# performance on original dataset \n",
        "# model performance on the test data set \n",
        "test(model, device, train_data_original_dataloader, criterion)"
      ],
      "execution_count": null,
      "outputs": [
        {
          "output_type": "stream",
          "name": "stdout",
          "text": [
            "\n",
            "Test set: Avg. loss: 0.0024, Accuracy: 51377/53735 (96%)\n",
            "\n"
          ]
        }
      ]
    },
    {
      "cell_type": "markdown",
      "metadata": {
        "id": "IbkYDwH51a-I"
      },
      "source": [
        "We saw above that the accuracy on the original dataset was 95% and the model trained with poisoned data also has similar accuracy of 96%"
      ]
    },
    {
      "cell_type": "code",
      "metadata": {
        "colab": {
          "base_uri": "https://localhost:8080/"
        },
        "id": "nfWEilKi1p7T",
        "outputId": "05e10a6e-3f14-4369-ea21-4b6ea44283b6"
      },
      "source": [
        "# poisoned model on poisoned data \n",
        "# we expect the model to have low accuracy if the poisoning has worked \n",
        "test(model, device, backdoortest_data_dataloader, criterion)"
      ],
      "execution_count": null,
      "outputs": [
        {
          "output_type": "stream",
          "name": "stdout",
          "text": [
            "\n",
            "Test set: Avg. loss: 0.0426, Accuracy: 737/8972 (8%)\n",
            "\n"
          ]
        }
      ]
    },
    {
      "cell_type": "code",
      "metadata": {
        "colab": {
          "base_uri": "https://localhost:8080/"
        },
        "id": "sSHNehVj2Gle",
        "outputId": "5ed4233f-9163-4fc5-9c5f-0e1c0696eafb"
      },
      "source": [
        "# we can see from above that the model does well on original test data but performs really poorly on the\n",
        "# backdoor data \n",
        "test(model, device, test_loader, criterion)"
      ],
      "execution_count": null,
      "outputs": [
        {
          "output_type": "stream",
          "name": "stdout",
          "text": [
            "\n",
            "Test set: Avg. loss: 0.0265, Accuracy: 8551/10000 (86%)\n",
            "\n"
          ]
        }
      ]
    },
    {
      "cell_type": "markdown",
      "metadata": {
        "id": "H7IA25yO7GHv"
      },
      "source": [
        "Now trying two different positions for the backdoor"
      ]
    },
    {
      "cell_type": "code",
      "metadata": {
        "colab": {
          "base_uri": "https://localhost:8080/",
          "height": 109
        },
        "id": "1UdLhVOo7K14",
        "outputId": "5a2ffb6c-cb32-41d0-9e1f-5f23f83c5336"
      },
      "source": [
        "target_label = 7\n",
        "position = 25 # 3 means top left corner \n",
        "backdoor_train_data = BackdoorDataset(x_train_non_7[:5], np.argmax(y_train_non_7[:5], axis=1), target_label, fraction_to_alter=0.5, position=position)\n",
        "\n",
        "# view the sample images with backdoor\n",
        "figure = plt.figure()\n",
        "num_of_images = 5\n",
        "for index in range(1, num_of_images):\n",
        "  plt.subplot(1, 5, index)    \n",
        "  plt.imshow(backdoor_train_data[index][0].numpy().squeeze(), cmap='Greys')"
      ],
      "execution_count": null,
      "outputs": [
        {
          "output_type": "display_data",
          "data": {
            "image/png": "[encoded data removed]",
            "text/plain": [
              "<Figure size 432x288 with 4 Axes>"
            ]
          },
          "metadata": {
            "needs_background": "light"
          }
        }
      ]
    },
    {
      "cell_type": "code",
      "metadata": {
        "id": "pegwZN5H7gFq"
      },
      "source": [
        "# create backdoor dataset\n",
        "target_label = 7\n",
        "position = 25 # 3 means top left corner \n",
        "backdoor_train_data = BackdoorDataset(x_train_non_7, np.argmax(y_train_non_7, axis=1), target_label, fraction_to_alter = 0.01, position = position)\n",
        "train_data_original = BackdoorDataset(x_train_non_7,  np.argmax(y_train_non_7, axis=1), target_label, fraction_to_alter = 0.0, position = position)\n",
        "backdoortest_data = BackdoorDataset(x_test_non_7,  np.argmax(y_test_non_7, axis=1), target_label, fraction_to_alter = 1, position = position)\n",
        "\n",
        "backdoor_train_data_dataloader = torch.utils.data.DataLoader(dataset=backdoor_train_data, batch_size=64, shuffle=True)\n",
        "train_data_original_dataloader = torch.utils.data.DataLoader(dataset=train_data_original, batch_size=64, shuffle=True)\n",
        "backdoortest_data_dataloader = torch.utils.data.DataLoader(dataset=backdoortest_data, batch_size=64, shuffle=True)"
      ],
      "execution_count": null,
      "outputs": []
    },
    {
      "cell_type": "code",
      "metadata": {
        "colab": {
          "base_uri": "https://localhost:8080/"
        },
        "id": "XiVFe5U07t0A",
        "outputId": "bfbdf53a-9643-4872-d079-76bc5e767f89"
      },
      "source": [
        "# train the model with backdoor data \n",
        "# training and testing loop \n",
        "\n",
        "model = Simple_CNN().to(device)\n",
        "optimizer = optim.SGD(model.parameters(), lr=learning_rate)\n",
        "criterion = nn.CrossEntropyLoss()\n",
        "\n",
        "scheduler = StepLR(optimizer, step_size=1, gamma=0.7)\n",
        "for epoch in range(1, n_epochs + 1):\n",
        "  train(epoch, model, device, backdoor_train_data_dataloader, optimizer, criterion)\n",
        "  test(model, device, train_data_original_dataloader, criterion)\n",
        "  scheduler.step()"
      ],
      "execution_count": null,
      "outputs": [
        {
          "output_type": "stream",
          "name": "stdout",
          "text": [
            "Train Epoch: 1 [0/53735 (0%)]\tLoss: 2.303103\n",
            "Train Epoch: 1 [3200/53735 (6%)]\tLoss: 2.185470\n",
            "Train Epoch: 1 [6400/53735 (12%)]\tLoss: 1.805909\n",
            "Train Epoch: 1 [9600/53735 (18%)]\tLoss: 1.159940\n",
            "Train Epoch: 1 [12800/53735 (24%)]\tLoss: 0.829063\n",
            "Train Epoch: 1 [16000/53735 (30%)]\tLoss: 0.784669\n",
            "Train Epoch: 1 [19200/53735 (36%)]\tLoss: 0.547386\n",
            "Train Epoch: 1 [22400/53735 (42%)]\tLoss: 0.418372\n",
            "Train Epoch: 1 [25600/53735 (48%)]\tLoss: 0.440372\n",
            "Train Epoch: 1 [28800/53735 (54%)]\tLoss: 0.570642\n",
            "Train Epoch: 1 [32000/53735 (60%)]\tLoss: 0.518543\n",
            "Train Epoch: 1 [35200/53735 (65%)]\tLoss: 0.370021\n",
            "Train Epoch: 1 [38400/53735 (71%)]\tLoss: 0.529931\n",
            "Train Epoch: 1 [41600/53735 (77%)]\tLoss: 0.614601\n",
            "Train Epoch: 1 [44800/53735 (83%)]\tLoss: 0.416444\n",
            "Train Epoch: 1 [48000/53735 (89%)]\tLoss: 0.420041\n",
            "Train Epoch: 1 [51200/53735 (95%)]\tLoss: 0.585389\n",
            "\n",
            "Test set: Avg. loss: 0.0044, Accuracy: 49486/53735 (92%)\n",
            "\n",
            "Train Epoch: 2 [0/53735 (0%)]\tLoss: 0.463574\n",
            "Train Epoch: 2 [3200/53735 (6%)]\tLoss: 0.655308\n",
            "Train Epoch: 2 [6400/53735 (12%)]\tLoss: 0.611723\n",
            "Train Epoch: 2 [9600/53735 (18%)]\tLoss: 0.447308\n",
            "Train Epoch: 2 [12800/53735 (24%)]\tLoss: 0.278026\n",
            "Train Epoch: 2 [16000/53735 (30%)]\tLoss: 0.197185\n",
            "Train Epoch: 2 [19200/53735 (36%)]\tLoss: 0.688752\n",
            "Train Epoch: 2 [22400/53735 (42%)]\tLoss: 0.447772\n",
            "Train Epoch: 2 [25600/53735 (48%)]\tLoss: 0.303687\n",
            "Train Epoch: 2 [28800/53735 (54%)]\tLoss: 0.272185\n",
            "Train Epoch: 2 [32000/53735 (60%)]\tLoss: 0.408410\n",
            "Train Epoch: 2 [35200/53735 (65%)]\tLoss: 0.343964\n",
            "Train Epoch: 2 [38400/53735 (71%)]\tLoss: 0.428905\n",
            "Train Epoch: 2 [41600/53735 (77%)]\tLoss: 0.414085\n",
            "Train Epoch: 2 [44800/53735 (83%)]\tLoss: 0.323075\n",
            "Train Epoch: 2 [48000/53735 (89%)]\tLoss: 0.311425\n",
            "Train Epoch: 2 [51200/53735 (95%)]\tLoss: 0.354976\n",
            "\n",
            "Test set: Avg. loss: 0.0033, Accuracy: 50449/53735 (94%)\n",
            "\n",
            "Train Epoch: 3 [0/53735 (0%)]\tLoss: 0.435922\n",
            "Train Epoch: 3 [3200/53735 (6%)]\tLoss: 0.188178\n",
            "Train Epoch: 3 [6400/53735 (12%)]\tLoss: 0.302851\n",
            "Train Epoch: 3 [9600/53735 (18%)]\tLoss: 0.167605\n",
            "Train Epoch: 3 [12800/53735 (24%)]\tLoss: 0.295061\n",
            "Train Epoch: 3 [16000/53735 (30%)]\tLoss: 0.183735\n",
            "Train Epoch: 3 [19200/53735 (36%)]\tLoss: 0.250925\n",
            "Train Epoch: 3 [22400/53735 (42%)]\tLoss: 0.480012\n",
            "Train Epoch: 3 [25600/53735 (48%)]\tLoss: 0.375338\n",
            "Train Epoch: 3 [28800/53735 (54%)]\tLoss: 0.258682\n",
            "Train Epoch: 3 [32000/53735 (60%)]\tLoss: 0.274856\n",
            "Train Epoch: 3 [35200/53735 (65%)]\tLoss: 0.366008\n",
            "Train Epoch: 3 [38400/53735 (71%)]\tLoss: 0.430842\n",
            "Train Epoch: 3 [41600/53735 (77%)]\tLoss: 0.291591\n",
            "Train Epoch: 3 [44800/53735 (83%)]\tLoss: 0.251337\n",
            "Train Epoch: 3 [48000/53735 (89%)]\tLoss: 0.188194\n",
            "Train Epoch: 3 [51200/53735 (95%)]\tLoss: 0.336601\n",
            "\n",
            "Test set: Avg. loss: 0.0027, Accuracy: 50997/53735 (95%)\n",
            "\n",
            "Train Epoch: 4 [0/53735 (0%)]\tLoss: 0.201886\n",
            "Train Epoch: 4 [3200/53735 (6%)]\tLoss: 0.222690\n",
            "Train Epoch: 4 [6400/53735 (12%)]\tLoss: 0.514591\n",
            "Train Epoch: 4 [9600/53735 (18%)]\tLoss: 0.324602\n",
            "Train Epoch: 4 [12800/53735 (24%)]\tLoss: 0.241755\n",
            "Train Epoch: 4 [16000/53735 (30%)]\tLoss: 0.210448\n",
            "Train Epoch: 4 [19200/53735 (36%)]\tLoss: 0.302568\n",
            "Train Epoch: 4 [22400/53735 (42%)]\tLoss: 0.345665\n",
            "Train Epoch: 4 [25600/53735 (48%)]\tLoss: 0.220063\n",
            "Train Epoch: 4 [28800/53735 (54%)]\tLoss: 0.256019\n",
            "Train Epoch: 4 [32000/53735 (60%)]\tLoss: 0.185574\n",
            "Train Epoch: 4 [35200/53735 (65%)]\tLoss: 0.238714\n",
            "Train Epoch: 4 [38400/53735 (71%)]\tLoss: 0.323168\n",
            "Train Epoch: 4 [41600/53735 (77%)]\tLoss: 0.128871\n",
            "Train Epoch: 4 [44800/53735 (83%)]\tLoss: 0.352530\n",
            "Train Epoch: 4 [48000/53735 (89%)]\tLoss: 0.303062\n",
            "Train Epoch: 4 [51200/53735 (95%)]\tLoss: 0.401984\n",
            "\n",
            "Test set: Avg. loss: 0.0024, Accuracy: 51368/53735 (96%)\n",
            "\n",
            "Train Epoch: 5 [0/53735 (0%)]\tLoss: 0.522470\n",
            "Train Epoch: 5 [3200/53735 (6%)]\tLoss: 0.349698\n",
            "Train Epoch: 5 [6400/53735 (12%)]\tLoss: 0.307857\n",
            "Train Epoch: 5 [9600/53735 (18%)]\tLoss: 0.256466\n",
            "Train Epoch: 5 [12800/53735 (24%)]\tLoss: 0.231548\n",
            "Train Epoch: 5 [16000/53735 (30%)]\tLoss: 0.400823\n",
            "Train Epoch: 5 [19200/53735 (36%)]\tLoss: 0.390140\n",
            "Train Epoch: 5 [22400/53735 (42%)]\tLoss: 0.231708\n",
            "Train Epoch: 5 [25600/53735 (48%)]\tLoss: 0.382251\n",
            "Train Epoch: 5 [28800/53735 (54%)]\tLoss: 0.214646\n",
            "Train Epoch: 5 [32000/53735 (60%)]\tLoss: 0.148512\n",
            "Train Epoch: 5 [35200/53735 (65%)]\tLoss: 0.251342\n",
            "Train Epoch: 5 [38400/53735 (71%)]\tLoss: 0.193878\n",
            "Train Epoch: 5 [41600/53735 (77%)]\tLoss: 0.257160\n",
            "Train Epoch: 5 [44800/53735 (83%)]\tLoss: 0.279801\n",
            "Train Epoch: 5 [48000/53735 (89%)]\tLoss: 0.273213\n",
            "Train Epoch: 5 [51200/53735 (95%)]\tLoss: 0.208960\n",
            "\n",
            "Test set: Avg. loss: 0.0022, Accuracy: 51449/53735 (96%)\n",
            "\n"
          ]
        }
      ]
    },
    {
      "cell_type": "code",
      "metadata": {
        "colab": {
          "base_uri": "https://localhost:8080/"
        },
        "id": "8VBOTNx973Pp",
        "outputId": "bdd44cb7-79bd-4d87-8a24-cf2824724204"
      },
      "source": [
        "# performance on original dataset \n",
        "# model performance on the test data set \n",
        "test(model, device, train_data_original_dataloader, criterion)"
      ],
      "execution_count": null,
      "outputs": [
        {
          "output_type": "stream",
          "name": "stdout",
          "text": [
            "\n",
            "Test set: Avg. loss: 0.0023, Accuracy: 51449/53735 (96%)\n",
            "\n"
          ]
        }
      ]
    },
    {
      "cell_type": "code",
      "metadata": {
        "colab": {
          "base_uri": "https://localhost:8080/"
        },
        "id": "oqAXfWkp78qB",
        "outputId": "7b7f0f1f-7bb0-4ae8-bd97-08de69680e2c"
      },
      "source": [
        "# poisoned model on poisoned data \n",
        "# we expect the model to have low accuracy if the poisoning has worked \n",
        "test(model, device, backdoortest_data_dataloader, criterion)"
      ],
      "execution_count": null,
      "outputs": [
        {
          "output_type": "stream",
          "name": "stdout",
          "text": [
            "\n",
            "Test set: Avg. loss: 0.0321, Accuracy: 1589/8972 (18%)\n",
            "\n"
          ]
        }
      ]
    },
    {
      "cell_type": "code",
      "metadata": {
        "colab": {
          "base_uri": "https://localhost:8080/",
          "height": 109
        },
        "id": "zB5qxRVP7_X0",
        "outputId": "79a97403-c75d-44df-a02d-8982248327d4"
      },
      "source": [
        "target_label = 7\n",
        "position = 14 # 3 means the middle\n",
        "backdoor_train_data = BackdoorDataset(x_train_non_7[:5], np.argmax(y_train_non_7[:5], axis=1), target_label, fraction_to_alter=0.5, position=position)\n",
        "\n",
        "# view the sample images with backdoor\n",
        "figure = plt.figure()\n",
        "num_of_images = 5\n",
        "for index in range(1, num_of_images):\n",
        "  plt.subplot(1, 5, index)    \n",
        "  plt.imshow(backdoor_train_data[index][0].numpy().squeeze(), cmap='Greys')"
      ],
      "execution_count": null,
      "outputs": [
        {
          "output_type": "display_data",
          "data": {
            "image/png": "[encoded data removed]",
            "text/plain": [
              "<Figure size 432x288 with 4 Axes>"
            ]
          },
          "metadata": {
            "needs_background": "light"
          }
        }
      ]
    },
    {
      "cell_type": "code",
      "metadata": {
        "id": "yiI53sX88GBp"
      },
      "source": [
        "# create backdoor dataset\n",
        "target_label = 7\n",
        "position = 14 # 3 means top left corner \n",
        "backdoor_train_data = BackdoorDataset(x_train_non_7, np.argmax(y_train_non_7, axis=1), target_label, fraction_to_alter = 0.01, position = position)\n",
        "train_data_original = BackdoorDataset(x_train_non_7,  np.argmax(y_train_non_7, axis=1), target_label, fraction_to_alter = 0.0, position = position)\n",
        "backdoortest_data = BackdoorDataset(x_test_non_7,  np.argmax(y_test_non_7, axis=1), target_label, fraction_to_alter = 1, position = position)\n",
        "\n",
        "backdoor_train_data_dataloader = torch.utils.data.DataLoader(dataset=backdoor_train_data, batch_size=64, shuffle=True)\n",
        "train_data_original_dataloader = torch.utils.data.DataLoader(dataset=train_data_original, batch_size=64, shuffle=True)\n",
        "backdoortest_data_dataloader = torch.utils.data.DataLoader(dataset=backdoortest_data, batch_size=64, shuffle=True)"
      ],
      "execution_count": null,
      "outputs": []
    },
    {
      "cell_type": "code",
      "metadata": {
        "colab": {
          "base_uri": "https://localhost:8080/"
        },
        "id": "AQu9uKBV8KFu",
        "outputId": "576dec8d-d82e-4603-cb59-750bf72bec90"
      },
      "source": [
        "# train the model with backdoor data \n",
        "# training and testing loop \n",
        "\n",
        "model = Simple_CNN().to(device)\n",
        "optimizer = optim.SGD(model.parameters(), lr=learning_rate)\n",
        "criterion = nn.CrossEntropyLoss()\n",
        "\n",
        "scheduler = StepLR(optimizer, step_size=1, gamma=0.7)\n",
        "for epoch in range(1, n_epochs + 1):\n",
        "  train(epoch, model, device, backdoor_train_data_dataloader, optimizer, criterion)\n",
        "  test(model, device, train_data_original_dataloader, criterion)\n",
        "  scheduler.step()"
      ],
      "execution_count": null,
      "outputs": [
        {
          "output_type": "stream",
          "name": "stdout",
          "text": [
            "Train Epoch: 1 [0/53735 (0%)]\tLoss: 2.291737\n",
            "Train Epoch: 1 [3200/53735 (6%)]\tLoss: 2.230861\n",
            "Train Epoch: 1 [6400/53735 (12%)]\tLoss: 2.152911\n",
            "Train Epoch: 1 [9600/53735 (18%)]\tLoss: 1.762374\n",
            "Train Epoch: 1 [12800/53735 (24%)]\tLoss: 1.304620\n",
            "Train Epoch: 1 [16000/53735 (30%)]\tLoss: 1.012983\n",
            "Train Epoch: 1 [19200/53735 (36%)]\tLoss: 0.777614\n",
            "Train Epoch: 1 [22400/53735 (42%)]\tLoss: 0.613362\n",
            "Train Epoch: 1 [25600/53735 (48%)]\tLoss: 0.590538\n",
            "Train Epoch: 1 [28800/53735 (54%)]\tLoss: 0.651502\n",
            "Train Epoch: 1 [32000/53735 (60%)]\tLoss: 0.560401\n",
            "Train Epoch: 1 [35200/53735 (65%)]\tLoss: 0.612448\n",
            "Train Epoch: 1 [38400/53735 (71%)]\tLoss: 0.615067\n",
            "Train Epoch: 1 [41600/53735 (77%)]\tLoss: 0.610100\n",
            "Train Epoch: 1 [44800/53735 (83%)]\tLoss: 0.239572\n",
            "Train Epoch: 1 [48000/53735 (89%)]\tLoss: 0.505861\n",
            "Train Epoch: 1 [51200/53735 (95%)]\tLoss: 0.588230\n",
            "\n",
            "Test set: Avg. loss: 0.0046, Accuracy: 49140/53735 (91%)\n",
            "\n",
            "Train Epoch: 2 [0/53735 (0%)]\tLoss: 0.489035\n",
            "Train Epoch: 2 [3200/53735 (6%)]\tLoss: 0.511238\n",
            "Train Epoch: 2 [6400/53735 (12%)]\tLoss: 0.222706\n",
            "Train Epoch: 2 [9600/53735 (18%)]\tLoss: 0.313989\n",
            "Train Epoch: 2 [12800/53735 (24%)]\tLoss: 0.361254\n",
            "Train Epoch: 2 [16000/53735 (30%)]\tLoss: 0.558437\n",
            "Train Epoch: 2 [19200/53735 (36%)]\tLoss: 0.277618\n",
            "Train Epoch: 2 [22400/53735 (42%)]\tLoss: 0.452370\n",
            "Train Epoch: 2 [25600/53735 (48%)]\tLoss: 0.188919\n",
            "Train Epoch: 2 [28800/53735 (54%)]\tLoss: 0.415318\n",
            "Train Epoch: 2 [32000/53735 (60%)]\tLoss: 0.236748\n",
            "Train Epoch: 2 [35200/53735 (65%)]\tLoss: 0.421875\n",
            "Train Epoch: 2 [38400/53735 (71%)]\tLoss: 0.424949\n",
            "Train Epoch: 2 [41600/53735 (77%)]\tLoss: 0.444620\n",
            "Train Epoch: 2 [44800/53735 (83%)]\tLoss: 0.857165\n",
            "Train Epoch: 2 [48000/53735 (89%)]\tLoss: 0.415311\n",
            "Train Epoch: 2 [51200/53735 (95%)]\tLoss: 0.355349\n",
            "\n",
            "Test set: Avg. loss: 0.0035, Accuracy: 50401/53735 (94%)\n",
            "\n",
            "Train Epoch: 3 [0/53735 (0%)]\tLoss: 0.344785\n",
            "Train Epoch: 3 [3200/53735 (6%)]\tLoss: 0.332636\n",
            "Train Epoch: 3 [6400/53735 (12%)]\tLoss: 0.467079\n",
            "Train Epoch: 3 [9600/53735 (18%)]\tLoss: 0.397175\n",
            "Train Epoch: 3 [12800/53735 (24%)]\tLoss: 0.206556\n",
            "Train Epoch: 3 [16000/53735 (30%)]\tLoss: 0.439406\n",
            "Train Epoch: 3 [19200/53735 (36%)]\tLoss: 0.277818\n",
            "Train Epoch: 3 [22400/53735 (42%)]\tLoss: 0.180386\n",
            "Train Epoch: 3 [25600/53735 (48%)]\tLoss: 0.497604\n",
            "Train Epoch: 3 [28800/53735 (54%)]\tLoss: 0.608517\n",
            "Train Epoch: 3 [32000/53735 (60%)]\tLoss: 0.277104\n",
            "Train Epoch: 3 [35200/53735 (65%)]\tLoss: 0.377504\n",
            "Train Epoch: 3 [38400/53735 (71%)]\tLoss: 0.325040\n",
            "Train Epoch: 3 [41600/53735 (77%)]\tLoss: 0.285728\n",
            "Train Epoch: 3 [44800/53735 (83%)]\tLoss: 0.495016\n",
            "Train Epoch: 3 [48000/53735 (89%)]\tLoss: 0.530666\n",
            "Train Epoch: 3 [51200/53735 (95%)]\tLoss: 0.592772\n",
            "\n",
            "Test set: Avg. loss: 0.0030, Accuracy: 50697/53735 (94%)\n",
            "\n",
            "Train Epoch: 4 [0/53735 (0%)]\tLoss: 0.171978\n",
            "Train Epoch: 4 [3200/53735 (6%)]\tLoss: 0.312399\n",
            "Train Epoch: 4 [6400/53735 (12%)]\tLoss: 0.243881\n",
            "Train Epoch: 4 [9600/53735 (18%)]\tLoss: 0.151193\n",
            "Train Epoch: 4 [12800/53735 (24%)]\tLoss: 0.412193\n",
            "Train Epoch: 4 [16000/53735 (30%)]\tLoss: 0.095894\n",
            "Train Epoch: 4 [19200/53735 (36%)]\tLoss: 0.225850\n",
            "Train Epoch: 4 [22400/53735 (42%)]\tLoss: 0.383660\n",
            "Train Epoch: 4 [25600/53735 (48%)]\tLoss: 0.463243\n",
            "Train Epoch: 4 [28800/53735 (54%)]\tLoss: 0.459794\n",
            "Train Epoch: 4 [32000/53735 (60%)]\tLoss: 0.475530\n",
            "Train Epoch: 4 [35200/53735 (65%)]\tLoss: 0.273828\n",
            "Train Epoch: 4 [38400/53735 (71%)]\tLoss: 0.343558\n",
            "Train Epoch: 4 [41600/53735 (77%)]\tLoss: 0.321765\n",
            "Train Epoch: 4 [44800/53735 (83%)]\tLoss: 0.253420\n",
            "Train Epoch: 4 [48000/53735 (89%)]\tLoss: 0.315538\n",
            "Train Epoch: 4 [51200/53735 (95%)]\tLoss: 0.311347\n",
            "\n",
            "Test set: Avg. loss: 0.0026, Accuracy: 51193/53735 (95%)\n",
            "\n",
            "Train Epoch: 5 [0/53735 (0%)]\tLoss: 0.119374\n",
            "Train Epoch: 5 [3200/53735 (6%)]\tLoss: 0.429982\n",
            "Train Epoch: 5 [6400/53735 (12%)]\tLoss: 0.327347\n",
            "Train Epoch: 5 [9600/53735 (18%)]\tLoss: 0.199525\n",
            "Train Epoch: 5 [12800/53735 (24%)]\tLoss: 0.192966\n",
            "Train Epoch: 5 [16000/53735 (30%)]\tLoss: 0.135470\n",
            "Train Epoch: 5 [19200/53735 (36%)]\tLoss: 0.239163\n",
            "Train Epoch: 5 [22400/53735 (42%)]\tLoss: 0.498135\n",
            "Train Epoch: 5 [25600/53735 (48%)]\tLoss: 0.404331\n",
            "Train Epoch: 5 [28800/53735 (54%)]\tLoss: 0.438927\n",
            "Train Epoch: 5 [32000/53735 (60%)]\tLoss: 0.251276\n",
            "Train Epoch: 5 [35200/53735 (65%)]\tLoss: 0.266614\n",
            "Train Epoch: 5 [38400/53735 (71%)]\tLoss: 0.259198\n",
            "Train Epoch: 5 [41600/53735 (77%)]\tLoss: 0.380144\n",
            "Train Epoch: 5 [44800/53735 (83%)]\tLoss: 0.311676\n",
            "Train Epoch: 5 [48000/53735 (89%)]\tLoss: 0.157053\n",
            "Train Epoch: 5 [51200/53735 (95%)]\tLoss: 0.264931\n",
            "\n",
            "Test set: Avg. loss: 0.0025, Accuracy: 51307/53735 (95%)\n",
            "\n"
          ]
        }
      ]
    },
    {
      "cell_type": "code",
      "metadata": {
        "colab": {
          "base_uri": "https://localhost:8080/"
        },
        "id": "wHYQAvNp8QCO",
        "outputId": "051c4f11-434d-43dd-ce06-8c08368fbcea"
      },
      "source": [
        "# performance on original dataset \n",
        "# model performance on the test data set \n",
        "test(model, device, train_data_original_dataloader,criterion)"
      ],
      "execution_count": null,
      "outputs": [
        {
          "output_type": "stream",
          "name": "stdout",
          "text": [
            "\n",
            "Test set: Avg. loss: 0.0025, Accuracy: 51307/53735 (95%)\n",
            "\n"
          ]
        }
      ]
    },
    {
      "cell_type": "code",
      "metadata": {
        "colab": {
          "base_uri": "https://localhost:8080/"
        },
        "id": "XlQjXtoN8ShX",
        "outputId": "7d40cc0e-4f81-4355-d7b6-47b9de6c03bd"
      },
      "source": [
        "# poisoned model on poisoned data \n",
        "# we expect the model to have low accuracy if the poisoning has worked \n",
        "test(model, device, backdoortest_data_dataloader, criterion)"
      ],
      "execution_count": null,
      "outputs": [
        {
          "output_type": "stream",
          "name": "stdout",
          "text": [
            "\n",
            "Test set: Avg. loss: 0.0887, Accuracy: 0/8972 (0%)\n",
            "\n"
          ]
        }
      ]
    },
    {
      "cell_type": "markdown",
      "metadata": {
        "id": "AXViBhCoDxYO"
      },
      "source": [
        "## c"
      ]
    },
    {
      "cell_type": "code",
      "metadata": {
        "id": "qIZDSxiD8VKO",
        "colab": {
          "base_uri": "https://localhost:8080/"
        },
        "outputId": "704c2aff-ae23-4c9a-9ab2-7a5a85a8c741"
      },
      "source": [
        "# create backdoor dataset\n",
        "target_label = 7\n",
        "position = 3 # 3 means bottom right corner\n",
        "backdoor_train_data = BackdoorDataset_one(x_train_non_7, np.argmax(y_train_non_7, axis=1), target_label, fraction_to_alter = 0.01, position = 14)\n",
        "train_data_original = BackdoorDataset_one(x_train_non_7,  np.argmax(y_train_non_7, axis=1), target_label, fraction_to_alter = 0.0, position = 14)\n",
        "backdoortest_data = BackdoorDataset_one(x_test_non_7,  np.argmax(y_test_non_7, axis=1), target_label, fraction_to_alter = 1, position = 14)\n",
        "\n",
        "backdoor_train_data_dataloader = torch.utils.data.DataLoader(dataset=backdoor_train_data, batch_size=64, shuffle=True)\n",
        "train_data_original_dataloader = torch.utils.data.DataLoader(dataset=train_data_original, batch_size=64, shuffle=True)\n",
        "backdoortest_data_dataloader = torch.utils.data.DataLoader(dataset=backdoortest_data, batch_size=64, shuffle=True)\n",
        "\n",
        "# train the model with backdoor data \n",
        "# training and testing loop \n",
        "\n",
        "model = Simple_CNN().to(device)\n",
        "optimizer = optim.SGD(model.parameters(), lr=learning_rate)\n",
        "criterion = nn.CrossEntropyLoss()\n",
        "\n",
        "scheduler = StepLR(optimizer, step_size=1, gamma=0.7)\n",
        "for epoch in range(1, n_epochs + 1):\n",
        "  train(epoch, model, device, backdoor_train_data_dataloader, optimizer, criterion)\n",
        "  test(model, device, train_data_original_dataloader, criterion)\n",
        "  scheduler.step()"
      ],
      "execution_count": null,
      "outputs": [
        {
          "output_type": "stream",
          "name": "stdout",
          "text": [
            "Train Epoch: 1 [0/53735 (0%)]\tLoss: 2.285486\n",
            "Train Epoch: 1 [3200/53735 (6%)]\tLoss: 2.154977\n",
            "Train Epoch: 1 [6400/53735 (12%)]\tLoss: 1.823821\n",
            "Train Epoch: 1 [9600/53735 (18%)]\tLoss: 1.101768\n",
            "Train Epoch: 1 [12800/53735 (24%)]\tLoss: 0.743393\n",
            "Train Epoch: 1 [16000/53735 (30%)]\tLoss: 0.798050\n",
            "Train Epoch: 1 [19200/53735 (36%)]\tLoss: 0.866163\n",
            "Train Epoch: 1 [22400/53735 (42%)]\tLoss: 0.650689\n",
            "Train Epoch: 1 [25600/53735 (48%)]\tLoss: 0.390447\n",
            "Train Epoch: 1 [28800/53735 (54%)]\tLoss: 0.212494\n",
            "Train Epoch: 1 [32000/53735 (60%)]\tLoss: 0.499839\n",
            "Train Epoch: 1 [35200/53735 (65%)]\tLoss: 0.587911\n",
            "Train Epoch: 1 [38400/53735 (71%)]\tLoss: 0.520439\n",
            "Train Epoch: 1 [41600/53735 (77%)]\tLoss: 0.365985\n",
            "Train Epoch: 1 [44800/53735 (83%)]\tLoss: 0.221076\n",
            "Train Epoch: 1 [48000/53735 (89%)]\tLoss: 0.467998\n",
            "Train Epoch: 1 [51200/53735 (95%)]\tLoss: 0.345627\n",
            "\n",
            "Test set: Avg. loss: 0.0044, Accuracy: 49514/53735 (92%)\n",
            "\n",
            "Train Epoch: 2 [0/53735 (0%)]\tLoss: 0.814812\n",
            "Train Epoch: 2 [3200/53735 (6%)]\tLoss: 0.496154\n",
            "Train Epoch: 2 [6400/53735 (12%)]\tLoss: 0.385889\n",
            "Train Epoch: 2 [9600/53735 (18%)]\tLoss: 0.340145\n",
            "Train Epoch: 2 [12800/53735 (24%)]\tLoss: 0.384784\n",
            "Train Epoch: 2 [16000/53735 (30%)]\tLoss: 0.528530\n",
            "Train Epoch: 2 [19200/53735 (36%)]\tLoss: 0.358335\n",
            "Train Epoch: 2 [22400/53735 (42%)]\tLoss: 0.396703\n",
            "Train Epoch: 2 [25600/53735 (48%)]\tLoss: 0.167900\n",
            "Train Epoch: 2 [28800/53735 (54%)]\tLoss: 0.508761\n",
            "Train Epoch: 2 [32000/53735 (60%)]\tLoss: 0.396194\n",
            "Train Epoch: 2 [35200/53735 (65%)]\tLoss: 0.338537\n",
            "Train Epoch: 2 [38400/53735 (71%)]\tLoss: 0.340873\n",
            "Train Epoch: 2 [41600/53735 (77%)]\tLoss: 0.526042\n",
            "Train Epoch: 2 [44800/53735 (83%)]\tLoss: 0.546189\n",
            "Train Epoch: 2 [48000/53735 (89%)]\tLoss: 0.325905\n",
            "Train Epoch: 2 [51200/53735 (95%)]\tLoss: 0.231097\n",
            "\n",
            "Test set: Avg. loss: 0.0033, Accuracy: 50342/53735 (94%)\n",
            "\n",
            "Train Epoch: 3 [0/53735 (0%)]\tLoss: 0.364573\n",
            "Train Epoch: 3 [3200/53735 (6%)]\tLoss: 0.639365\n",
            "Train Epoch: 3 [6400/53735 (12%)]\tLoss: 0.352356\n",
            "Train Epoch: 3 [9600/53735 (18%)]\tLoss: 0.428469\n",
            "Train Epoch: 3 [12800/53735 (24%)]\tLoss: 0.480615\n",
            "Train Epoch: 3 [16000/53735 (30%)]\tLoss: 0.439299\n",
            "Train Epoch: 3 [19200/53735 (36%)]\tLoss: 0.177377\n",
            "Train Epoch: 3 [22400/53735 (42%)]\tLoss: 0.415985\n",
            "Train Epoch: 3 [25600/53735 (48%)]\tLoss: 0.424621\n",
            "Train Epoch: 3 [28800/53735 (54%)]\tLoss: 0.480279\n",
            "Train Epoch: 3 [32000/53735 (60%)]\tLoss: 0.372913\n",
            "Train Epoch: 3 [35200/53735 (65%)]\tLoss: 0.207287\n",
            "Train Epoch: 3 [38400/53735 (71%)]\tLoss: 0.470618\n",
            "Train Epoch: 3 [41600/53735 (77%)]\tLoss: 0.377777\n",
            "Train Epoch: 3 [44800/53735 (83%)]\tLoss: 0.173018\n",
            "Train Epoch: 3 [48000/53735 (89%)]\tLoss: 0.249530\n",
            "Train Epoch: 3 [51200/53735 (95%)]\tLoss: 0.393193\n",
            "\n",
            "Test set: Avg. loss: 0.0028, Accuracy: 50997/53735 (95%)\n",
            "\n",
            "Train Epoch: 4 [0/53735 (0%)]\tLoss: 0.156172\n",
            "Train Epoch: 4 [3200/53735 (6%)]\tLoss: 0.219484\n",
            "Train Epoch: 4 [6400/53735 (12%)]\tLoss: 0.301016\n",
            "Train Epoch: 4 [9600/53735 (18%)]\tLoss: 0.381149\n",
            "Train Epoch: 4 [12800/53735 (24%)]\tLoss: 0.282711\n",
            "Train Epoch: 4 [16000/53735 (30%)]\tLoss: 0.285949\n",
            "Train Epoch: 4 [19200/53735 (36%)]\tLoss: 0.360670\n",
            "Train Epoch: 4 [22400/53735 (42%)]\tLoss: 0.357631\n",
            "Train Epoch: 4 [25600/53735 (48%)]\tLoss: 0.413904\n",
            "Train Epoch: 4 [28800/53735 (54%)]\tLoss: 0.238970\n",
            "Train Epoch: 4 [32000/53735 (60%)]\tLoss: 0.438797\n",
            "Train Epoch: 4 [35200/53735 (65%)]\tLoss: 0.308704\n",
            "Train Epoch: 4 [38400/53735 (71%)]\tLoss: 0.681710\n",
            "Train Epoch: 4 [41600/53735 (77%)]\tLoss: 0.386540\n",
            "Train Epoch: 4 [44800/53735 (83%)]\tLoss: 0.397037\n",
            "Train Epoch: 4 [48000/53735 (89%)]\tLoss: 0.199239\n",
            "Train Epoch: 4 [51200/53735 (95%)]\tLoss: 0.273579\n",
            "\n",
            "Test set: Avg. loss: 0.0026, Accuracy: 51227/53735 (95%)\n",
            "\n",
            "Train Epoch: 5 [0/53735 (0%)]\tLoss: 0.162445\n",
            "Train Epoch: 5 [3200/53735 (6%)]\tLoss: 0.492220\n",
            "Train Epoch: 5 [6400/53735 (12%)]\tLoss: 0.260219\n",
            "Train Epoch: 5 [9600/53735 (18%)]\tLoss: 0.241201\n",
            "Train Epoch: 5 [12800/53735 (24%)]\tLoss: 0.285815\n",
            "Train Epoch: 5 [16000/53735 (30%)]\tLoss: 0.417545\n",
            "Train Epoch: 5 [19200/53735 (36%)]\tLoss: 0.173316\n",
            "Train Epoch: 5 [22400/53735 (42%)]\tLoss: 0.356308\n",
            "Train Epoch: 5 [25600/53735 (48%)]\tLoss: 0.327708\n",
            "Train Epoch: 5 [28800/53735 (54%)]\tLoss: 0.230422\n",
            "Train Epoch: 5 [32000/53735 (60%)]\tLoss: 0.166736\n",
            "Train Epoch: 5 [35200/53735 (65%)]\tLoss: 0.292428\n",
            "Train Epoch: 5 [38400/53735 (71%)]\tLoss: 0.129289\n",
            "Train Epoch: 5 [41600/53735 (77%)]\tLoss: 0.221540\n",
            "Train Epoch: 5 [44800/53735 (83%)]\tLoss: 0.290792\n",
            "Train Epoch: 5 [48000/53735 (89%)]\tLoss: 0.204833\n",
            "Train Epoch: 5 [51200/53735 (95%)]\tLoss: 0.238076\n",
            "\n",
            "Test set: Avg. loss: 0.0025, Accuracy: 51335/53735 (96%)\n",
            "\n"
          ]
        }
      ]
    },
    {
      "cell_type": "code",
      "metadata": {
        "colab": {
          "base_uri": "https://localhost:8080/"
        },
        "id": "P0G8LmeWEPte",
        "outputId": "4ccd90f6-9018-4275-dcb5-1972be55a033"
      },
      "source": [
        "# performance on original dataset \n",
        "# model performance on the test data set \n",
        "test(model, device, train_data_original_dataloader,criterion)\n",
        "# poisoned model on poisoned data \n",
        "# we expect the model to have low accuracy if the poisoning has worked \n",
        "test(model, device, backdoortest_data_dataloader, criterion)"
      ],
      "execution_count": null,
      "outputs": [
        {
          "output_type": "stream",
          "name": "stdout",
          "text": [
            "\n",
            "Test set: Avg. loss: 0.0025, Accuracy: 51335/53735 (96%)\n",
            "\n",
            "\n",
            "Test set: Avg. loss: 0.0915, Accuracy: 0/8972 (0%)\n",
            "\n"
          ]
        }
      ]
    },
    {
      "cell_type": "code",
      "metadata": {
        "colab": {
          "base_uri": "https://localhost:8080/"
        },
        "id": "j3M8rblFEJZo",
        "outputId": "6e2780f9-339b-4dcd-d056-3b07631c8459"
      },
      "source": [
        "# create backdoor dataset\n",
        "target_label = 7\n",
        "position = 3 # 3 means bottom right corner\n",
        "backdoor_train_data = BackdoorDataset_one(x_train_non_7, np.argmax(y_train_non_7, axis=1), target_label, fraction_to_alter = 0.005, position = 14)\n",
        "train_data_original = BackdoorDataset_one(x_train_non_7,  np.argmax(y_train_non_7, axis=1), target_label, fraction_to_alter = 0.0, position = 14)\n",
        "backdoortest_data = BackdoorDataset_one(x_test_non_7,  np.argmax(y_test_non_7, axis=1), target_label, fraction_to_alter = 1, position = 14)\n",
        "\n",
        "backdoor_train_data_dataloader = torch.utils.data.DataLoader(dataset=backdoor_train_data, batch_size=64, shuffle=True)\n",
        "train_data_original_dataloader = torch.utils.data.DataLoader(dataset=train_data_original, batch_size=64, shuffle=True)\n",
        "backdoortest_data_dataloader = torch.utils.data.DataLoader(dataset=backdoortest_data, batch_size=64, shuffle=True)\n",
        "\n",
        "# train the model with backdoor data \n",
        "# training and testing loop \n",
        "\n",
        "model = Simple_CNN().to(device)\n",
        "optimizer = optim.SGD(model.parameters(), lr=learning_rate)\n",
        "criterion = nn.CrossEntropyLoss()\n",
        "\n",
        "scheduler = StepLR(optimizer, step_size=1, gamma=0.7)\n",
        "for epoch in range(1, n_epochs + 1):\n",
        "  train(epoch, model, device, backdoor_train_data_dataloader, optimizer, criterion)\n",
        "  test(model, device, train_data_original_dataloader, criterion)\n",
        "  scheduler.step()"
      ],
      "execution_count": null,
      "outputs": [
        {
          "output_type": "stream",
          "name": "stdout",
          "text": [
            "Train Epoch: 1 [0/53735 (0%)]\tLoss: 2.296440\n",
            "Train Epoch: 1 [3200/53735 (6%)]\tLoss: 2.209270\n",
            "Train Epoch: 1 [6400/53735 (12%)]\tLoss: 2.052111\n",
            "Train Epoch: 1 [9600/53735 (18%)]\tLoss: 1.700942\n",
            "Train Epoch: 1 [12800/53735 (24%)]\tLoss: 1.042583\n",
            "Train Epoch: 1 [16000/53735 (30%)]\tLoss: 0.723555\n",
            "Train Epoch: 1 [19200/53735 (36%)]\tLoss: 0.595732\n",
            "Train Epoch: 1 [22400/53735 (42%)]\tLoss: 0.545124\n",
            "Train Epoch: 1 [25600/53735 (48%)]\tLoss: 0.591372\n",
            "Train Epoch: 1 [28800/53735 (54%)]\tLoss: 0.538888\n",
            "Train Epoch: 1 [32000/53735 (60%)]\tLoss: 0.531651\n",
            "Train Epoch: 1 [35200/53735 (65%)]\tLoss: 0.418361\n",
            "Train Epoch: 1 [38400/53735 (71%)]\tLoss: 0.426008\n",
            "Train Epoch: 1 [41600/53735 (77%)]\tLoss: 0.662793\n",
            "Train Epoch: 1 [44800/53735 (83%)]\tLoss: 0.335110\n",
            "Train Epoch: 1 [48000/53735 (89%)]\tLoss: 0.245545\n",
            "Train Epoch: 1 [51200/53735 (95%)]\tLoss: 0.308903\n",
            "\n",
            "Test set: Avg. loss: 0.0045, Accuracy: 49362/53735 (92%)\n",
            "\n",
            "Train Epoch: 2 [0/53735 (0%)]\tLoss: 0.267250\n",
            "Train Epoch: 2 [3200/53735 (6%)]\tLoss: 0.414165\n",
            "Train Epoch: 2 [6400/53735 (12%)]\tLoss: 0.490668\n",
            "Train Epoch: 2 [9600/53735 (18%)]\tLoss: 0.267441\n",
            "Train Epoch: 2 [12800/53735 (24%)]\tLoss: 0.495107\n",
            "Train Epoch: 2 [16000/53735 (30%)]\tLoss: 0.560132\n",
            "Train Epoch: 2 [19200/53735 (36%)]\tLoss: 0.369750\n",
            "Train Epoch: 2 [22400/53735 (42%)]\tLoss: 0.592827\n",
            "Train Epoch: 2 [25600/53735 (48%)]\tLoss: 0.221403\n",
            "Train Epoch: 2 [28800/53735 (54%)]\tLoss: 0.262424\n",
            "Train Epoch: 2 [32000/53735 (60%)]\tLoss: 0.487220\n",
            "Train Epoch: 2 [35200/53735 (65%)]\tLoss: 0.299365\n",
            "Train Epoch: 2 [38400/53735 (71%)]\tLoss: 0.330586\n",
            "Train Epoch: 2 [41600/53735 (77%)]\tLoss: 0.447936\n",
            "Train Epoch: 2 [44800/53735 (83%)]\tLoss: 0.614728\n",
            "Train Epoch: 2 [48000/53735 (89%)]\tLoss: 0.309000\n",
            "Train Epoch: 2 [51200/53735 (95%)]\tLoss: 0.279758\n",
            "\n",
            "Test set: Avg. loss: 0.0032, Accuracy: 50515/53735 (94%)\n",
            "\n",
            "Train Epoch: 3 [0/53735 (0%)]\tLoss: 0.389682\n",
            "Train Epoch: 3 [3200/53735 (6%)]\tLoss: 0.256084\n",
            "Train Epoch: 3 [6400/53735 (12%)]\tLoss: 0.330732\n",
            "Train Epoch: 3 [9600/53735 (18%)]\tLoss: 0.658245\n",
            "Train Epoch: 3 [12800/53735 (24%)]\tLoss: 0.158553\n",
            "Train Epoch: 3 [16000/53735 (30%)]\tLoss: 0.287956\n",
            "Train Epoch: 3 [19200/53735 (36%)]\tLoss: 0.199124\n",
            "Train Epoch: 3 [22400/53735 (42%)]\tLoss: 0.212557\n",
            "Train Epoch: 3 [25600/53735 (48%)]\tLoss: 0.245069\n",
            "Train Epoch: 3 [28800/53735 (54%)]\tLoss: 0.142413\n",
            "Train Epoch: 3 [32000/53735 (60%)]\tLoss: 0.310684\n",
            "Train Epoch: 3 [35200/53735 (65%)]\tLoss: 0.547721\n",
            "Train Epoch: 3 [38400/53735 (71%)]\tLoss: 0.226114\n",
            "Train Epoch: 3 [41600/53735 (77%)]\tLoss: 0.325943\n",
            "Train Epoch: 3 [44800/53735 (83%)]\tLoss: 0.217269\n",
            "Train Epoch: 3 [48000/53735 (89%)]\tLoss: 0.215207\n",
            "Train Epoch: 3 [51200/53735 (95%)]\tLoss: 0.388850\n",
            "\n",
            "Test set: Avg. loss: 0.0028, Accuracy: 50943/53735 (95%)\n",
            "\n",
            "Train Epoch: 4 [0/53735 (0%)]\tLoss: 0.209159\n",
            "Train Epoch: 4 [3200/53735 (6%)]\tLoss: 0.124879\n",
            "Train Epoch: 4 [6400/53735 (12%)]\tLoss: 0.548802\n",
            "Train Epoch: 4 [9600/53735 (18%)]\tLoss: 0.309983\n",
            "Train Epoch: 4 [12800/53735 (24%)]\tLoss: 0.271290\n",
            "Train Epoch: 4 [16000/53735 (30%)]\tLoss: 0.337951\n",
            "Train Epoch: 4 [19200/53735 (36%)]\tLoss: 0.295242\n",
            "Train Epoch: 4 [22400/53735 (42%)]\tLoss: 0.408691\n",
            "Train Epoch: 4 [25600/53735 (48%)]\tLoss: 0.338528\n",
            "Train Epoch: 4 [28800/53735 (54%)]\tLoss: 0.143914\n",
            "Train Epoch: 4 [32000/53735 (60%)]\tLoss: 0.331865\n",
            "Train Epoch: 4 [35200/53735 (65%)]\tLoss: 0.181299\n",
            "Train Epoch: 4 [38400/53735 (71%)]\tLoss: 0.295811\n",
            "Train Epoch: 4 [41600/53735 (77%)]\tLoss: 0.257787\n",
            "Train Epoch: 4 [44800/53735 (83%)]\tLoss: 0.193016\n",
            "Train Epoch: 4 [48000/53735 (89%)]\tLoss: 0.341792\n",
            "Train Epoch: 4 [51200/53735 (95%)]\tLoss: 0.278427\n",
            "\n",
            "Test set: Avg. loss: 0.0026, Accuracy: 51062/53735 (95%)\n",
            "\n",
            "Train Epoch: 5 [0/53735 (0%)]\tLoss: 0.339059\n",
            "Train Epoch: 5 [3200/53735 (6%)]\tLoss: 0.348498\n",
            "Train Epoch: 5 [6400/53735 (12%)]\tLoss: 0.335541\n",
            "Train Epoch: 5 [9600/53735 (18%)]\tLoss: 0.140614\n",
            "Train Epoch: 5 [12800/53735 (24%)]\tLoss: 0.197113\n",
            "Train Epoch: 5 [16000/53735 (30%)]\tLoss: 0.878418\n",
            "Train Epoch: 5 [19200/53735 (36%)]\tLoss: 0.340364\n",
            "Train Epoch: 5 [22400/53735 (42%)]\tLoss: 0.111130\n",
            "Train Epoch: 5 [25600/53735 (48%)]\tLoss: 0.182027\n",
            "Train Epoch: 5 [28800/53735 (54%)]\tLoss: 0.327769\n",
            "Train Epoch: 5 [32000/53735 (60%)]\tLoss: 0.107575\n",
            "Train Epoch: 5 [35200/53735 (65%)]\tLoss: 0.255365\n",
            "Train Epoch: 5 [38400/53735 (71%)]\tLoss: 0.224211\n",
            "Train Epoch: 5 [41600/53735 (77%)]\tLoss: 0.251350\n",
            "Train Epoch: 5 [44800/53735 (83%)]\tLoss: 0.276519\n",
            "Train Epoch: 5 [48000/53735 (89%)]\tLoss: 0.299302\n",
            "Train Epoch: 5 [51200/53735 (95%)]\tLoss: 0.246788\n",
            "\n",
            "Test set: Avg. loss: 0.0024, Accuracy: 51404/53735 (96%)\n",
            "\n"
          ]
        }
      ]
    },
    {
      "cell_type": "code",
      "metadata": {
        "colab": {
          "base_uri": "https://localhost:8080/"
        },
        "id": "IQMWwIvZEhgZ",
        "outputId": "3d23fd7c-89e2-410e-f232-e794c8c5c601"
      },
      "source": [
        "# performance on original dataset \n",
        "# model performance on the test data set \n",
        "test(model, device, train_data_original_dataloader,criterion)\n",
        "# poisoned model on poisoned data \n",
        "# we expect the model to have low accuracy if the poisoning has worked \n",
        "test(model, device, backdoortest_data_dataloader, criterion)"
      ],
      "execution_count": null,
      "outputs": [
        {
          "output_type": "stream",
          "name": "stdout",
          "text": [
            "\n",
            "Test set: Avg. loss: 0.0024, Accuracy: 51404/53735 (96%)\n",
            "\n",
            "\n",
            "Test set: Avg. loss: 0.1135, Accuracy: 0/8972 (0%)\n",
            "\n"
          ]
        }
      ]
    },
    {
      "cell_type": "code",
      "metadata": {
        "colab": {
          "base_uri": "https://localhost:8080/"
        },
        "id": "Fc9yamsWEjqR",
        "outputId": "050bb3a7-d05e-4a97-e55f-08ff74565d97"
      },
      "source": [
        "# create backdoor dataset\n",
        "target_label = 7\n",
        "position = 3 # 3 means bottom right corner\n",
        "backdoor_train_data = BackdoorDataset_one(x_train_non_7, np.argmax(y_train_non_7, axis=1), target_label, fraction_to_alter = 0.05, position = 14)\n",
        "train_data_original = BackdoorDataset_one(x_train_non_7,  np.argmax(y_train_non_7, axis=1), target_label, fraction_to_alter = 0.0, position = 14)\n",
        "backdoortest_data = BackdoorDataset_one(x_test_non_7,  np.argmax(y_test_non_7, axis=1), target_label, fraction_to_alter = 1, position = 14)\n",
        "\n",
        "backdoor_train_data_dataloader = torch.utils.data.DataLoader(dataset=backdoor_train_data, batch_size=64, shuffle=True)\n",
        "train_data_original_dataloader = torch.utils.data.DataLoader(dataset=train_data_original, batch_size=64, shuffle=True)\n",
        "backdoortest_data_dataloader = torch.utils.data.DataLoader(dataset=backdoortest_data, batch_size=64, shuffle=True)\n",
        "\n",
        "# train the model with backdoor data \n",
        "# training and testing loop \n",
        "\n",
        "model = Simple_CNN().to(device)\n",
        "optimizer = optim.SGD(model.parameters(), lr=learning_rate)\n",
        "criterion = nn.CrossEntropyLoss()\n",
        "\n",
        "scheduler = StepLR(optimizer, step_size=1, gamma=0.7)\n",
        "for epoch in range(1, n_epochs + 1):\n",
        "  train(epoch, model, device, backdoor_train_data_dataloader, optimizer, criterion)\n",
        "  test(model, device, train_data_original_dataloader, criterion)\n",
        "  scheduler.step()"
      ],
      "execution_count": null,
      "outputs": [
        {
          "output_type": "stream",
          "name": "stdout",
          "text": [
            "Train Epoch: 1 [0/53735 (0%)]\tLoss: 2.306012\n",
            "Train Epoch: 1 [3200/53735 (6%)]\tLoss: 2.245540\n",
            "Train Epoch: 1 [6400/53735 (12%)]\tLoss: 2.177309\n",
            "Train Epoch: 1 [9600/53735 (18%)]\tLoss: 1.812542\n",
            "Train Epoch: 1 [12800/53735 (24%)]\tLoss: 1.238276\n",
            "Train Epoch: 1 [16000/53735 (30%)]\tLoss: 1.168122\n",
            "Train Epoch: 1 [19200/53735 (36%)]\tLoss: 1.042410\n",
            "Train Epoch: 1 [22400/53735 (42%)]\tLoss: 0.928784\n",
            "Train Epoch: 1 [25600/53735 (48%)]\tLoss: 0.880017\n",
            "Train Epoch: 1 [28800/53735 (54%)]\tLoss: 0.509209\n",
            "Train Epoch: 1 [32000/53735 (60%)]\tLoss: 0.742462\n",
            "Train Epoch: 1 [35200/53735 (65%)]\tLoss: 0.687193\n",
            "Train Epoch: 1 [38400/53735 (71%)]\tLoss: 0.810696\n",
            "Train Epoch: 1 [41600/53735 (77%)]\tLoss: 0.512558\n",
            "Train Epoch: 1 [44800/53735 (83%)]\tLoss: 0.508029\n",
            "Train Epoch: 1 [48000/53735 (89%)]\tLoss: 0.581732\n",
            "Train Epoch: 1 [51200/53735 (95%)]\tLoss: 0.766842\n",
            "\n",
            "Test set: Avg. loss: 0.0054, Accuracy: 49053/53735 (91%)\n",
            "\n",
            "Train Epoch: 2 [0/53735 (0%)]\tLoss: 0.613222\n",
            "Train Epoch: 2 [3200/53735 (6%)]\tLoss: 0.468179\n",
            "Train Epoch: 2 [6400/53735 (12%)]\tLoss: 0.596714\n",
            "Train Epoch: 2 [9600/53735 (18%)]\tLoss: 0.628142\n",
            "Train Epoch: 2 [12800/53735 (24%)]\tLoss: 0.638338\n",
            "Train Epoch: 2 [16000/53735 (30%)]\tLoss: 0.558031\n",
            "Train Epoch: 2 [19200/53735 (36%)]\tLoss: 0.674076\n",
            "Train Epoch: 2 [22400/53735 (42%)]\tLoss: 0.466530\n",
            "Train Epoch: 2 [25600/53735 (48%)]\tLoss: 0.407590\n",
            "Train Epoch: 2 [28800/53735 (54%)]\tLoss: 0.422757\n",
            "Train Epoch: 2 [32000/53735 (60%)]\tLoss: 0.382410\n",
            "Train Epoch: 2 [35200/53735 (65%)]\tLoss: 0.569679\n",
            "Train Epoch: 2 [38400/53735 (71%)]\tLoss: 0.640622\n",
            "Train Epoch: 2 [41600/53735 (77%)]\tLoss: 0.576807\n",
            "Train Epoch: 2 [44800/53735 (83%)]\tLoss: 0.609073\n",
            "Train Epoch: 2 [48000/53735 (89%)]\tLoss: 0.696355\n",
            "Train Epoch: 2 [51200/53735 (95%)]\tLoss: 0.467803\n",
            "\n",
            "Test set: Avg. loss: 0.0042, Accuracy: 50253/53735 (94%)\n",
            "\n",
            "Train Epoch: 3 [0/53735 (0%)]\tLoss: 0.398297\n",
            "Train Epoch: 3 [3200/53735 (6%)]\tLoss: 0.631140\n",
            "Train Epoch: 3 [6400/53735 (12%)]\tLoss: 0.537667\n",
            "Train Epoch: 3 [9600/53735 (18%)]\tLoss: 0.509312\n",
            "Train Epoch: 3 [12800/53735 (24%)]\tLoss: 0.558411\n",
            "Train Epoch: 3 [16000/53735 (30%)]\tLoss: 0.609534\n",
            "Train Epoch: 3 [19200/53735 (36%)]\tLoss: 0.541177\n",
            "Train Epoch: 3 [22400/53735 (42%)]\tLoss: 0.247222\n",
            "Train Epoch: 3 [25600/53735 (48%)]\tLoss: 0.471198\n",
            "Train Epoch: 3 [28800/53735 (54%)]\tLoss: 0.443545\n",
            "Train Epoch: 3 [32000/53735 (60%)]\tLoss: 0.437892\n",
            "Train Epoch: 3 [35200/53735 (65%)]\tLoss: 0.544589\n",
            "Train Epoch: 3 [38400/53735 (71%)]\tLoss: 0.545809\n",
            "Train Epoch: 3 [41600/53735 (77%)]\tLoss: 0.420146\n",
            "Train Epoch: 3 [44800/53735 (83%)]\tLoss: 0.643589\n",
            "Train Epoch: 3 [48000/53735 (89%)]\tLoss: 0.327591\n",
            "Train Epoch: 3 [51200/53735 (95%)]\tLoss: 0.503356\n",
            "\n",
            "Test set: Avg. loss: 0.0038, Accuracy: 50830/53735 (95%)\n",
            "\n",
            "Train Epoch: 4 [0/53735 (0%)]\tLoss: 0.291706\n",
            "Train Epoch: 4 [3200/53735 (6%)]\tLoss: 0.549187\n",
            "Train Epoch: 4 [6400/53735 (12%)]\tLoss: 0.493301\n",
            "Train Epoch: 4 [9600/53735 (18%)]\tLoss: 0.525352\n",
            "Train Epoch: 4 [12800/53735 (24%)]\tLoss: 0.492550\n",
            "Train Epoch: 4 [16000/53735 (30%)]\tLoss: 0.316119\n",
            "Train Epoch: 4 [19200/53735 (36%)]\tLoss: 0.534811\n",
            "Train Epoch: 4 [22400/53735 (42%)]\tLoss: 0.607954\n",
            "Train Epoch: 4 [25600/53735 (48%)]\tLoss: 0.398361\n",
            "Train Epoch: 4 [28800/53735 (54%)]\tLoss: 0.459230\n",
            "Train Epoch: 4 [32000/53735 (60%)]\tLoss: 0.454482\n",
            "Train Epoch: 4 [35200/53735 (65%)]\tLoss: 0.415631\n",
            "Train Epoch: 4 [38400/53735 (71%)]\tLoss: 0.429695\n",
            "Train Epoch: 4 [41600/53735 (77%)]\tLoss: 0.496759\n",
            "Train Epoch: 4 [44800/53735 (83%)]\tLoss: 0.574275\n",
            "Train Epoch: 4 [48000/53735 (89%)]\tLoss: 0.377950\n",
            "Train Epoch: 4 [51200/53735 (95%)]\tLoss: 0.530266\n",
            "\n",
            "Test set: Avg. loss: 0.0036, Accuracy: 51058/53735 (95%)\n",
            "\n",
            "Train Epoch: 5 [0/53735 (0%)]\tLoss: 0.793804\n",
            "Train Epoch: 5 [3200/53735 (6%)]\tLoss: 0.281193\n",
            "Train Epoch: 5 [6400/53735 (12%)]\tLoss: 0.377062\n",
            "Train Epoch: 5 [9600/53735 (18%)]\tLoss: 0.337926\n",
            "Train Epoch: 5 [12800/53735 (24%)]\tLoss: 0.628322\n",
            "Train Epoch: 5 [16000/53735 (30%)]\tLoss: 0.375099\n",
            "Train Epoch: 5 [19200/53735 (36%)]\tLoss: 0.350042\n",
            "Train Epoch: 5 [22400/53735 (42%)]\tLoss: 0.449499\n",
            "Train Epoch: 5 [25600/53735 (48%)]\tLoss: 0.206480\n",
            "Train Epoch: 5 [28800/53735 (54%)]\tLoss: 0.463476\n",
            "Train Epoch: 5 [32000/53735 (60%)]\tLoss: 0.347737\n",
            "Train Epoch: 5 [35200/53735 (65%)]\tLoss: 0.591963\n",
            "Train Epoch: 5 [38400/53735 (71%)]\tLoss: 0.302669\n",
            "Train Epoch: 5 [41600/53735 (77%)]\tLoss: 0.435173\n",
            "Train Epoch: 5 [44800/53735 (83%)]\tLoss: 0.455436\n",
            "Train Epoch: 5 [48000/53735 (89%)]\tLoss: 0.227614\n",
            "Train Epoch: 5 [51200/53735 (95%)]\tLoss: 0.373264\n",
            "\n",
            "Test set: Avg. loss: 0.0033, Accuracy: 51182/53735 (95%)\n",
            "\n"
          ]
        }
      ]
    },
    {
      "cell_type": "code",
      "metadata": {
        "colab": {
          "base_uri": "https://localhost:8080/"
        },
        "id": "BXQuopN9EsYm",
        "outputId": "df70f01a-14d9-4339-c04e-c77cae0bcbfd"
      },
      "source": [
        "# performance on original dataset \n",
        "# model performance on the test data set \n",
        "test(model, device, train_data_original_dataloader,criterion)\n",
        "# poisoned model on poisoned data \n",
        "# we expect the model to have low accuracy if the poisoning has worked \n",
        "test(model, device, backdoortest_data_dataloader, criterion)"
      ],
      "execution_count": null,
      "outputs": [
        {
          "output_type": "stream",
          "name": "stdout",
          "text": [
            "\n",
            "Test set: Avg. loss: 0.0033, Accuracy: 51182/53735 (95%)\n",
            "\n",
            "\n",
            "Test set: Avg. loss: 0.0525, Accuracy: 17/8972 (0%)\n",
            "\n"
          ]
        }
      ]
    },
    {
      "cell_type": "code",
      "metadata": {
        "colab": {
          "base_uri": "https://localhost:8080/"
        },
        "id": "vh6Dyx-wEuRM",
        "outputId": "244bbc1e-26bc-4104-eb83-1ac9aec44bb5"
      },
      "source": [
        "# create backdoor dataset\n",
        "target_label = 7\n",
        "position = 3 # 3 means bottom right corner\n",
        "backdoor_train_data = BackdoorDataset_nine(x_train_non_7, np.argmax(y_train_non_7, axis=1), target_label, fraction_to_alter = 0.05, position = 14)\n",
        "train_data_original = BackdoorDataset_nine(x_train_non_7,  np.argmax(y_train_non_7, axis=1), target_label, fraction_to_alter = 0.0, position = 14)\n",
        "backdoortest_data = BackdoorDataset_nine(x_test_non_7,  np.argmax(y_test_non_7, axis=1), target_label, fraction_to_alter = 1, position = 14)\n",
        "\n",
        "backdoor_train_data_dataloader = torch.utils.data.DataLoader(dataset=backdoor_train_data, batch_size=64, shuffle=True)\n",
        "train_data_original_dataloader = torch.utils.data.DataLoader(dataset=train_data_original, batch_size=64, shuffle=True)\n",
        "backdoortest_data_dataloader = torch.utils.data.DataLoader(dataset=backdoortest_data, batch_size=64, shuffle=True)\n",
        "\n",
        "# train the model with backdoor data \n",
        "# training and testing loop \n",
        "\n",
        "model = Simple_CNN().to(device)\n",
        "optimizer = optim.SGD(model.parameters(), lr=learning_rate)\n",
        "criterion = nn.CrossEntropyLoss()\n",
        "\n",
        "scheduler = StepLR(optimizer, step_size=1, gamma=0.7)\n",
        "for epoch in range(1, n_epochs + 1):\n",
        "  train(epoch, model, device, backdoor_train_data_dataloader, optimizer, criterion)\n",
        "  test(model, device, train_data_original_dataloader, criterion)\n",
        "  scheduler.step()"
      ],
      "execution_count": null,
      "outputs": [
        {
          "output_type": "stream",
          "name": "stdout",
          "text": [
            "Train Epoch: 1 [0/53735 (0%)]\tLoss: 2.317481\n",
            "Train Epoch: 1 [3200/53735 (6%)]\tLoss: 2.179396\n",
            "Train Epoch: 1 [6400/53735 (12%)]\tLoss: 1.975281\n",
            "Train Epoch: 1 [9600/53735 (18%)]\tLoss: 1.245870\n",
            "Train Epoch: 1 [12800/53735 (24%)]\tLoss: 0.814802\n",
            "Train Epoch: 1 [16000/53735 (30%)]\tLoss: 0.557098\n",
            "Train Epoch: 1 [19200/53735 (36%)]\tLoss: 0.554156\n",
            "Train Epoch: 1 [22400/53735 (42%)]\tLoss: 0.539128\n",
            "Train Epoch: 1 [25600/53735 (48%)]\tLoss: 0.612604\n",
            "Train Epoch: 1 [28800/53735 (54%)]\tLoss: 0.583912\n",
            "Train Epoch: 1 [32000/53735 (60%)]\tLoss: 0.291753\n",
            "Train Epoch: 1 [35200/53735 (65%)]\tLoss: 0.477172\n",
            "Train Epoch: 1 [38400/53735 (71%)]\tLoss: 0.327303\n",
            "Train Epoch: 1 [41600/53735 (77%)]\tLoss: 0.381842\n",
            "Train Epoch: 1 [44800/53735 (83%)]\tLoss: 0.340557\n",
            "Train Epoch: 1 [48000/53735 (89%)]\tLoss: 0.280143\n",
            "Train Epoch: 1 [51200/53735 (95%)]\tLoss: 0.493604\n",
            "\n",
            "Test set: Avg. loss: 0.0041, Accuracy: 49587/53735 (92%)\n",
            "\n",
            "Train Epoch: 2 [0/53735 (0%)]\tLoss: 0.240003\n",
            "Train Epoch: 2 [3200/53735 (6%)]\tLoss: 0.264465\n",
            "Train Epoch: 2 [6400/53735 (12%)]\tLoss: 0.256332\n",
            "Train Epoch: 2 [9600/53735 (18%)]\tLoss: 0.370260\n",
            "Train Epoch: 2 [12800/53735 (24%)]\tLoss: 0.373303\n",
            "Train Epoch: 2 [16000/53735 (30%)]\tLoss: 0.327271\n",
            "Train Epoch: 2 [19200/53735 (36%)]\tLoss: 0.337072\n",
            "Train Epoch: 2 [22400/53735 (42%)]\tLoss: 0.188332\n",
            "Train Epoch: 2 [25600/53735 (48%)]\tLoss: 0.236883\n",
            "Train Epoch: 2 [28800/53735 (54%)]\tLoss: 0.246835\n",
            "Train Epoch: 2 [32000/53735 (60%)]\tLoss: 0.199526\n",
            "Train Epoch: 2 [35200/53735 (65%)]\tLoss: 0.323074\n",
            "Train Epoch: 2 [38400/53735 (71%)]\tLoss: 0.330785\n",
            "Train Epoch: 2 [41600/53735 (77%)]\tLoss: 0.249536\n",
            "Train Epoch: 2 [44800/53735 (83%)]\tLoss: 0.308044\n",
            "Train Epoch: 2 [48000/53735 (89%)]\tLoss: 0.238412\n",
            "Train Epoch: 2 [51200/53735 (95%)]\tLoss: 0.345672\n",
            "\n",
            "Test set: Avg. loss: 0.0030, Accuracy: 50631/53735 (94%)\n",
            "\n",
            "Train Epoch: 3 [0/53735 (0%)]\tLoss: 0.276242\n",
            "Train Epoch: 3 [3200/53735 (6%)]\tLoss: 0.220967\n",
            "Train Epoch: 3 [6400/53735 (12%)]\tLoss: 0.168713\n",
            "Train Epoch: 3 [9600/53735 (18%)]\tLoss: 0.204591\n",
            "Train Epoch: 3 [12800/53735 (24%)]\tLoss: 0.331921\n",
            "Train Epoch: 3 [16000/53735 (30%)]\tLoss: 0.138712\n",
            "Train Epoch: 3 [19200/53735 (36%)]\tLoss: 0.147516\n",
            "Train Epoch: 3 [22400/53735 (42%)]\tLoss: 0.189543\n",
            "Train Epoch: 3 [25600/53735 (48%)]\tLoss: 0.309961\n",
            "Train Epoch: 3 [28800/53735 (54%)]\tLoss: 0.183889\n",
            "Train Epoch: 3 [32000/53735 (60%)]\tLoss: 0.195368\n",
            "Train Epoch: 3 [35200/53735 (65%)]\tLoss: 0.284503\n",
            "Train Epoch: 3 [38400/53735 (71%)]\tLoss: 0.200384\n",
            "Train Epoch: 3 [41600/53735 (77%)]\tLoss: 0.191171\n",
            "Train Epoch: 3 [44800/53735 (83%)]\tLoss: 0.147748\n",
            "Train Epoch: 3 [48000/53735 (89%)]\tLoss: 0.286866\n",
            "Train Epoch: 3 [51200/53735 (95%)]\tLoss: 0.199551\n",
            "\n",
            "Test set: Avg. loss: 0.0027, Accuracy: 50903/53735 (95%)\n",
            "\n",
            "Train Epoch: 4 [0/53735 (0%)]\tLoss: 0.286466\n",
            "Train Epoch: 4 [3200/53735 (6%)]\tLoss: 0.252123\n",
            "Train Epoch: 4 [6400/53735 (12%)]\tLoss: 0.186041\n",
            "Train Epoch: 4 [9600/53735 (18%)]\tLoss: 0.424054\n",
            "Train Epoch: 4 [12800/53735 (24%)]\tLoss: 0.293470\n",
            "Train Epoch: 4 [16000/53735 (30%)]\tLoss: 0.319909\n",
            "Train Epoch: 4 [19200/53735 (36%)]\tLoss: 0.157788\n",
            "Train Epoch: 4 [22400/53735 (42%)]\tLoss: 0.234536\n",
            "Train Epoch: 4 [25600/53735 (48%)]\tLoss: 0.129667\n",
            "Train Epoch: 4 [28800/53735 (54%)]\tLoss: 0.191420\n",
            "Train Epoch: 4 [32000/53735 (60%)]\tLoss: 0.138827\n",
            "Train Epoch: 4 [35200/53735 (65%)]\tLoss: 0.389304\n",
            "Train Epoch: 4 [38400/53735 (71%)]\tLoss: 0.189593\n",
            "Train Epoch: 4 [41600/53735 (77%)]\tLoss: 0.191946\n",
            "Train Epoch: 4 [44800/53735 (83%)]\tLoss: 0.160658\n",
            "Train Epoch: 4 [48000/53735 (89%)]\tLoss: 0.151680\n",
            "Train Epoch: 4 [51200/53735 (95%)]\tLoss: 0.143100\n",
            "\n",
            "Test set: Avg. loss: 0.0024, Accuracy: 51297/53735 (95%)\n",
            "\n",
            "Train Epoch: 5 [0/53735 (0%)]\tLoss: 0.240532\n",
            "Train Epoch: 5 [3200/53735 (6%)]\tLoss: 0.305800\n",
            "Train Epoch: 5 [6400/53735 (12%)]\tLoss: 0.243626\n",
            "Train Epoch: 5 [9600/53735 (18%)]\tLoss: 0.320587\n",
            "Train Epoch: 5 [12800/53735 (24%)]\tLoss: 0.118354\n",
            "Train Epoch: 5 [16000/53735 (30%)]\tLoss: 0.087324\n",
            "Train Epoch: 5 [19200/53735 (36%)]\tLoss: 0.242487\n",
            "Train Epoch: 5 [22400/53735 (42%)]\tLoss: 0.170012\n",
            "Train Epoch: 5 [25600/53735 (48%)]\tLoss: 0.198110\n",
            "Train Epoch: 5 [28800/53735 (54%)]\tLoss: 0.140981\n",
            "Train Epoch: 5 [32000/53735 (60%)]\tLoss: 0.210407\n",
            "Train Epoch: 5 [35200/53735 (65%)]\tLoss: 0.163719\n",
            "Train Epoch: 5 [38400/53735 (71%)]\tLoss: 0.325764\n",
            "Train Epoch: 5 [41600/53735 (77%)]\tLoss: 0.085671\n",
            "Train Epoch: 5 [44800/53735 (83%)]\tLoss: 0.207036\n",
            "Train Epoch: 5 [48000/53735 (89%)]\tLoss: 0.250287\n",
            "Train Epoch: 5 [51200/53735 (95%)]\tLoss: 0.260414\n",
            "\n",
            "Test set: Avg. loss: 0.0022, Accuracy: 51480/53735 (96%)\n",
            "\n"
          ]
        }
      ]
    },
    {
      "cell_type": "code",
      "metadata": {
        "colab": {
          "base_uri": "https://localhost:8080/"
        },
        "id": "W1IM1g1UF19C",
        "outputId": "abf1f8b2-06fc-4e15-be02-a987d193010b"
      },
      "source": [
        "# performance on original dataset \n",
        "# model performance on the test data set \n",
        "test(model, device, train_data_original_dataloader,criterion)\n",
        "# poisoned model on poisoned data \n",
        "# we expect the model to have low accuracy if the poisoning has worked \n",
        "test(model, device, backdoortest_data_dataloader, criterion)"
      ],
      "execution_count": null,
      "outputs": [
        {
          "output_type": "stream",
          "name": "stdout",
          "text": [
            "\n",
            "Test set: Avg. loss: 0.0022, Accuracy: 51480/53735 (96%)\n",
            "\n",
            "\n",
            "Test set: Avg. loss: 0.0000, Accuracy: 8972/8972 (100%)\n",
            "\n"
          ]
        }
      ]
    },
    {
      "cell_type": "code",
      "metadata": {
        "id": "Ui34XT7e1X1q",
        "colab": {
          "base_uri": "https://localhost:8080/"
        },
        "outputId": "9bf0adbc-df5d-45d9-87db-c7c3c9dbe842"
      },
      "source": [
        "# create backdoor dataset\n",
        "target_label = 7\n",
        "position = 3 # 3 means bottom right corner\n",
        "backdoor_train_data = BackdoorDataset_nine(x_train_non_7, np.argmax(y_train_non_7, axis=1), target_label, fraction_to_alter = 0.01, position = 14)\n",
        "train_data_original = BackdoorDataset_nine(x_train_non_7,  np.argmax(y_train_non_7, axis=1), target_label, fraction_to_alter = 0.0, position = 14)\n",
        "backdoortest_data = BackdoorDataset_nine(x_test_non_7,  np.argmax(y_test_non_7, axis=1), target_label, fraction_to_alter = 1, position = 14)\n",
        "\n",
        "backdoor_train_data_dataloader = torch.utils.data.DataLoader(dataset=backdoor_train_data, batch_size=64, shuffle=True)\n",
        "train_data_original_dataloader = torch.utils.data.DataLoader(dataset=train_data_original, batch_size=64, shuffle=True)\n",
        "backdoortest_data_dataloader = torch.utils.data.DataLoader(dataset=backdoortest_data, batch_size=64, shuffle=True)\n",
        "\n",
        "# train the model with backdoor data \n",
        "# training and testing loop \n",
        "\n",
        "model = Simple_CNN().to(device)\n",
        "optimizer = optim.SGD(model.parameters(), lr=learning_rate)\n",
        "criterion = nn.CrossEntropyLoss()\n",
        "\n",
        "scheduler = StepLR(optimizer, step_size=1, gamma=0.7)\n",
        "for epoch in range(1, n_epochs + 1):\n",
        "  train(epoch, model, device, backdoor_train_data_dataloader, optimizer, criterion)\n",
        "  test(model, device, train_data_original_dataloader, criterion)\n",
        "  scheduler.step()"
      ],
      "execution_count": null,
      "outputs": [
        {
          "output_type": "stream",
          "name": "stdout",
          "text": [
            "Train Epoch: 1 [0/53735 (0%)]\tLoss: 2.298560\n",
            "Train Epoch: 1 [3200/53735 (6%)]\tLoss: 2.214661\n",
            "Train Epoch: 1 [6400/53735 (12%)]\tLoss: 2.029511\n",
            "Train Epoch: 1 [9600/53735 (18%)]\tLoss: 1.524387\n",
            "Train Epoch: 1 [12800/53735 (24%)]\tLoss: 0.853578\n",
            "Train Epoch: 1 [16000/53735 (30%)]\tLoss: 0.637994\n",
            "Train Epoch: 1 [19200/53735 (36%)]\tLoss: 0.666973\n",
            "Train Epoch: 1 [22400/53735 (42%)]\tLoss: 0.709128\n",
            "Train Epoch: 1 [25600/53735 (48%)]\tLoss: 0.421645\n",
            "Train Epoch: 1 [28800/53735 (54%)]\tLoss: 0.296091\n",
            "Train Epoch: 1 [32000/53735 (60%)]\tLoss: 0.469183\n",
            "Train Epoch: 1 [35200/53735 (65%)]\tLoss: 0.315979\n",
            "Train Epoch: 1 [38400/53735 (71%)]\tLoss: 0.258051\n",
            "Train Epoch: 1 [41600/53735 (77%)]\tLoss: 0.397728\n",
            "Train Epoch: 1 [44800/53735 (83%)]\tLoss: 0.336772\n",
            "Train Epoch: 1 [48000/53735 (89%)]\tLoss: 0.330305\n",
            "Train Epoch: 1 [51200/53735 (95%)]\tLoss: 0.212547\n",
            "\n",
            "Test set: Avg. loss: 0.0042, Accuracy: 49267/53735 (92%)\n",
            "\n",
            "Train Epoch: 2 [0/53735 (0%)]\tLoss: 0.230161\n",
            "Train Epoch: 2 [3200/53735 (6%)]\tLoss: 0.409435\n",
            "Train Epoch: 2 [6400/53735 (12%)]\tLoss: 0.547778\n",
            "Train Epoch: 2 [9600/53735 (18%)]\tLoss: 0.376209\n",
            "Train Epoch: 2 [12800/53735 (24%)]\tLoss: 0.363302\n",
            "Train Epoch: 2 [16000/53735 (30%)]\tLoss: 0.449446\n",
            "Train Epoch: 2 [19200/53735 (36%)]\tLoss: 0.296060\n",
            "Train Epoch: 2 [22400/53735 (42%)]\tLoss: 0.376060\n",
            "Train Epoch: 2 [25600/53735 (48%)]\tLoss: 0.249717\n",
            "Train Epoch: 2 [28800/53735 (54%)]\tLoss: 0.143774\n",
            "Train Epoch: 2 [32000/53735 (60%)]\tLoss: 0.379743\n",
            "Train Epoch: 2 [35200/53735 (65%)]\tLoss: 0.470720\n",
            "Train Epoch: 2 [38400/53735 (71%)]\tLoss: 0.137080\n",
            "Train Epoch: 2 [41600/53735 (77%)]\tLoss: 0.299652\n",
            "Train Epoch: 2 [44800/53735 (83%)]\tLoss: 0.154506\n",
            "Train Epoch: 2 [48000/53735 (89%)]\tLoss: 0.374294\n",
            "Train Epoch: 2 [51200/53735 (95%)]\tLoss: 0.278782\n",
            "\n",
            "Test set: Avg. loss: 0.0032, Accuracy: 50355/53735 (94%)\n",
            "\n",
            "Train Epoch: 3 [0/53735 (0%)]\tLoss: 0.226461\n",
            "Train Epoch: 3 [3200/53735 (6%)]\tLoss: 0.399759\n",
            "Train Epoch: 3 [6400/53735 (12%)]\tLoss: 0.385161\n",
            "Train Epoch: 3 [9600/53735 (18%)]\tLoss: 0.263307\n",
            "Train Epoch: 3 [12800/53735 (24%)]\tLoss: 0.321992\n",
            "Train Epoch: 3 [16000/53735 (30%)]\tLoss: 0.224250\n",
            "Train Epoch: 3 [19200/53735 (36%)]\tLoss: 0.312811\n",
            "Train Epoch: 3 [22400/53735 (42%)]\tLoss: 0.259062\n",
            "Train Epoch: 3 [25600/53735 (48%)]\tLoss: 0.223435\n",
            "Train Epoch: 3 [28800/53735 (54%)]\tLoss: 0.272473\n",
            "Train Epoch: 3 [32000/53735 (60%)]\tLoss: 0.318194\n",
            "Train Epoch: 3 [35200/53735 (65%)]\tLoss: 0.208682\n",
            "Train Epoch: 3 [38400/53735 (71%)]\tLoss: 0.259702\n",
            "Train Epoch: 3 [41600/53735 (77%)]\tLoss: 0.168487\n",
            "Train Epoch: 3 [44800/53735 (83%)]\tLoss: 0.269018\n",
            "Train Epoch: 3 [48000/53735 (89%)]\tLoss: 0.411466\n",
            "Train Epoch: 3 [51200/53735 (95%)]\tLoss: 0.167225\n",
            "\n",
            "Test set: Avg. loss: 0.0026, Accuracy: 51013/53735 (95%)\n",
            "\n",
            "Train Epoch: 4 [0/53735 (0%)]\tLoss: 0.624615\n",
            "Train Epoch: 4 [3200/53735 (6%)]\tLoss: 0.168945\n",
            "Train Epoch: 4 [6400/53735 (12%)]\tLoss: 0.275659\n",
            "Train Epoch: 4 [9600/53735 (18%)]\tLoss: 0.161101\n",
            "Train Epoch: 4 [12800/53735 (24%)]\tLoss: 0.409173\n",
            "Train Epoch: 4 [16000/53735 (30%)]\tLoss: 0.262147\n",
            "Train Epoch: 4 [19200/53735 (36%)]\tLoss: 0.276947\n",
            "Train Epoch: 4 [22400/53735 (42%)]\tLoss: 0.164386\n",
            "Train Epoch: 4 [25600/53735 (48%)]\tLoss: 0.223487\n",
            "Train Epoch: 4 [28800/53735 (54%)]\tLoss: 0.214280\n",
            "Train Epoch: 4 [32000/53735 (60%)]\tLoss: 0.269620\n",
            "Train Epoch: 4 [35200/53735 (65%)]\tLoss: 0.151111\n",
            "Train Epoch: 4 [38400/53735 (71%)]\tLoss: 0.188951\n",
            "Train Epoch: 4 [41600/53735 (77%)]\tLoss: 0.398296\n",
            "Train Epoch: 4 [44800/53735 (83%)]\tLoss: 0.260996\n",
            "Train Epoch: 4 [48000/53735 (89%)]\tLoss: 0.199766\n",
            "Train Epoch: 4 [51200/53735 (95%)]\tLoss: 0.314370\n",
            "\n",
            "Test set: Avg. loss: 0.0024, Accuracy: 51241/53735 (95%)\n",
            "\n",
            "Train Epoch: 5 [0/53735 (0%)]\tLoss: 0.277069\n",
            "Train Epoch: 5 [3200/53735 (6%)]\tLoss: 0.204172\n",
            "Train Epoch: 5 [6400/53735 (12%)]\tLoss: 0.237712\n",
            "Train Epoch: 5 [9600/53735 (18%)]\tLoss: 0.228859\n",
            "Train Epoch: 5 [12800/53735 (24%)]\tLoss: 0.217066\n",
            "Train Epoch: 5 [16000/53735 (30%)]\tLoss: 0.383816\n",
            "Train Epoch: 5 [19200/53735 (36%)]\tLoss: 0.208537\n",
            "Train Epoch: 5 [22400/53735 (42%)]\tLoss: 0.489171\n",
            "Train Epoch: 5 [25600/53735 (48%)]\tLoss: 0.243032\n",
            "Train Epoch: 5 [28800/53735 (54%)]\tLoss: 0.185609\n",
            "Train Epoch: 5 [32000/53735 (60%)]\tLoss: 0.343965\n",
            "Train Epoch: 5 [35200/53735 (65%)]\tLoss: 0.141975\n",
            "Train Epoch: 5 [38400/53735 (71%)]\tLoss: 0.137202\n",
            "Train Epoch: 5 [41600/53735 (77%)]\tLoss: 0.169224\n",
            "Train Epoch: 5 [44800/53735 (83%)]\tLoss: 0.315722\n",
            "Train Epoch: 5 [48000/53735 (89%)]\tLoss: 0.311545\n",
            "Train Epoch: 5 [51200/53735 (95%)]\tLoss: 0.354941\n",
            "\n",
            "Test set: Avg. loss: 0.0022, Accuracy: 51416/53735 (96%)\n",
            "\n"
          ]
        }
      ]
    },
    {
      "cell_type": "code",
      "metadata": {
        "colab": {
          "base_uri": "https://localhost:8080/"
        },
        "id": "zQJwiz1vGEZG",
        "outputId": "6cfee755-7818-4f71-ef87-e915aa4002ce"
      },
      "source": [
        "# performance on original dataset \n",
        "# model performance on the test data set \n",
        "test(model, device, train_data_original_dataloader,criterion)\n",
        "# poisoned model on poisoned data \n",
        "# we expect the model to have low accuracy if the poisoning has worked \n",
        "test(model, device, backdoortest_data_dataloader, criterion)"
      ],
      "execution_count": null,
      "outputs": [
        {
          "output_type": "stream",
          "name": "stdout",
          "text": [
            "\n",
            "Test set: Avg. loss: 0.0022, Accuracy: 51416/53735 (96%)\n",
            "\n",
            "\n",
            "Test set: Avg. loss: 0.0001, Accuracy: 8965/8972 (100%)\n",
            "\n"
          ]
        }
      ]
    },
    {
      "cell_type": "code",
      "metadata": {
        "colab": {
          "base_uri": "https://localhost:8080/"
        },
        "id": "ElN_LpWEGF-8",
        "outputId": "a5c6b2d1-752e-4be2-b9c6-b634cb6d4ea0"
      },
      "source": [
        "# create backdoor dataset\n",
        "target_label = 7\n",
        "position = 3 # 3 means bottom right corner\n",
        "backdoor_train_data = BackdoorDataset_nine(x_train_non_7, np.argmax(y_train_non_7, axis=1), target_label, fraction_to_alter = 0.005, position = 14)\n",
        "train_data_original = BackdoorDataset_nine(x_train_non_7,  np.argmax(y_train_non_7, axis=1), target_label, fraction_to_alter = 0.0, position = 14)\n",
        "backdoortest_data = BackdoorDataset_nine(x_test_non_7,  np.argmax(y_test_non_7, axis=1), target_label, fraction_to_alter = 1, position = 14)\n",
        "\n",
        "backdoor_train_data_dataloader = torch.utils.data.DataLoader(dataset=backdoor_train_data, batch_size=64, shuffle=True)\n",
        "train_data_original_dataloader = torch.utils.data.DataLoader(dataset=train_data_original, batch_size=64, shuffle=True)\n",
        "backdoortest_data_dataloader = torch.utils.data.DataLoader(dataset=backdoortest_data, batch_size=64, shuffle=True)\n",
        "\n",
        "# train the model with backdoor data \n",
        "# training and testing loop \n",
        "\n",
        "model = Simple_CNN().to(device)\n",
        "optimizer = optim.SGD(model.parameters(), lr=learning_rate)\n",
        "criterion = nn.CrossEntropyLoss()\n",
        "\n",
        "scheduler = StepLR(optimizer, step_size=1, gamma=0.7)\n",
        "for epoch in range(1, n_epochs + 1):\n",
        "  train(epoch, model, device, backdoor_train_data_dataloader, optimizer, criterion)\n",
        "  test(model, device, train_data_original_dataloader, criterion)\n",
        "  scheduler.step()"
      ],
      "execution_count": null,
      "outputs": [
        {
          "output_type": "stream",
          "name": "stdout",
          "text": [
            "Train Epoch: 1 [0/53735 (0%)]\tLoss: 2.305202\n",
            "Train Epoch: 1 [3200/53735 (6%)]\tLoss: 2.226003\n",
            "Train Epoch: 1 [6400/53735 (12%)]\tLoss: 2.079652\n",
            "Train Epoch: 1 [9600/53735 (18%)]\tLoss: 1.486345\n",
            "Train Epoch: 1 [12800/53735 (24%)]\tLoss: 1.144609\n",
            "Train Epoch: 1 [16000/53735 (30%)]\tLoss: 0.507135\n",
            "Train Epoch: 1 [19200/53735 (36%)]\tLoss: 0.544406\n",
            "Train Epoch: 1 [22400/53735 (42%)]\tLoss: 0.585726\n",
            "Train Epoch: 1 [25600/53735 (48%)]\tLoss: 0.504710\n",
            "Train Epoch: 1 [28800/53735 (54%)]\tLoss: 0.498016\n",
            "Train Epoch: 1 [32000/53735 (60%)]\tLoss: 0.418130\n",
            "Train Epoch: 1 [35200/53735 (65%)]\tLoss: 0.403241\n",
            "Train Epoch: 1 [38400/53735 (71%)]\tLoss: 0.403523\n",
            "Train Epoch: 1 [41600/53735 (77%)]\tLoss: 0.424561\n",
            "Train Epoch: 1 [44800/53735 (83%)]\tLoss: 0.251364\n",
            "Train Epoch: 1 [48000/53735 (89%)]\tLoss: 0.471047\n",
            "Train Epoch: 1 [51200/53735 (95%)]\tLoss: 0.341553\n",
            "\n",
            "Test set: Avg. loss: 0.0043, Accuracy: 49346/53735 (92%)\n",
            "\n",
            "Train Epoch: 2 [0/53735 (0%)]\tLoss: 0.512655\n",
            "Train Epoch: 2 [3200/53735 (6%)]\tLoss: 0.278819\n",
            "Train Epoch: 2 [6400/53735 (12%)]\tLoss: 0.329458\n",
            "Train Epoch: 2 [9600/53735 (18%)]\tLoss: 0.671630\n",
            "Train Epoch: 2 [12800/53735 (24%)]\tLoss: 0.203697\n",
            "Train Epoch: 2 [16000/53735 (30%)]\tLoss: 0.184399\n",
            "Train Epoch: 2 [19200/53735 (36%)]\tLoss: 0.331572\n",
            "Train Epoch: 2 [22400/53735 (42%)]\tLoss: 0.179779\n",
            "Train Epoch: 2 [25600/53735 (48%)]\tLoss: 0.381924\n",
            "Train Epoch: 2 [28800/53735 (54%)]\tLoss: 0.159043\n",
            "Train Epoch: 2 [32000/53735 (60%)]\tLoss: 0.327264\n",
            "Train Epoch: 2 [35200/53735 (65%)]\tLoss: 0.202514\n",
            "Train Epoch: 2 [38400/53735 (71%)]\tLoss: 0.297483\n",
            "Train Epoch: 2 [41600/53735 (77%)]\tLoss: 0.185421\n",
            "Train Epoch: 2 [44800/53735 (83%)]\tLoss: 0.226556\n",
            "Train Epoch: 2 [48000/53735 (89%)]\tLoss: 0.465277\n",
            "Train Epoch: 2 [51200/53735 (95%)]\tLoss: 0.320924\n",
            "\n",
            "Test set: Avg. loss: 0.0031, Accuracy: 50470/53735 (94%)\n",
            "\n",
            "Train Epoch: 3 [0/53735 (0%)]\tLoss: 0.215917\n",
            "Train Epoch: 3 [3200/53735 (6%)]\tLoss: 0.097353\n",
            "Train Epoch: 3 [6400/53735 (12%)]\tLoss: 0.455840\n",
            "Train Epoch: 3 [9600/53735 (18%)]\tLoss: 0.296640\n",
            "Train Epoch: 3 [12800/53735 (24%)]\tLoss: 0.182690\n",
            "Train Epoch: 3 [16000/53735 (30%)]\tLoss: 0.277579\n",
            "Train Epoch: 3 [19200/53735 (36%)]\tLoss: 0.276813\n",
            "Train Epoch: 3 [22400/53735 (42%)]\tLoss: 0.197391\n",
            "Train Epoch: 3 [25600/53735 (48%)]\tLoss: 0.197200\n",
            "Train Epoch: 3 [28800/53735 (54%)]\tLoss: 0.141740\n",
            "Train Epoch: 3 [32000/53735 (60%)]\tLoss: 0.325319\n",
            "Train Epoch: 3 [35200/53735 (65%)]\tLoss: 0.252188\n",
            "Train Epoch: 3 [38400/53735 (71%)]\tLoss: 0.311764\n",
            "Train Epoch: 3 [41600/53735 (77%)]\tLoss: 0.297017\n",
            "Train Epoch: 3 [44800/53735 (83%)]\tLoss: 0.284673\n",
            "Train Epoch: 3 [48000/53735 (89%)]\tLoss: 0.238544\n",
            "Train Epoch: 3 [51200/53735 (95%)]\tLoss: 0.415369\n",
            "\n",
            "Test set: Avg. loss: 0.0025, Accuracy: 51112/53735 (95%)\n",
            "\n",
            "Train Epoch: 4 [0/53735 (0%)]\tLoss: 0.349868\n",
            "Train Epoch: 4 [3200/53735 (6%)]\tLoss: 0.205318\n",
            "Train Epoch: 4 [6400/53735 (12%)]\tLoss: 0.626277\n",
            "Train Epoch: 4 [9600/53735 (18%)]\tLoss: 0.350273\n",
            "Train Epoch: 4 [12800/53735 (24%)]\tLoss: 0.099995\n",
            "Train Epoch: 4 [16000/53735 (30%)]\tLoss: 0.205829\n",
            "Train Epoch: 4 [19200/53735 (36%)]\tLoss: 0.177810\n",
            "Train Epoch: 4 [22400/53735 (42%)]\tLoss: 0.201734\n",
            "Train Epoch: 4 [25600/53735 (48%)]\tLoss: 0.314033\n",
            "Train Epoch: 4 [28800/53735 (54%)]\tLoss: 0.339589\n",
            "Train Epoch: 4 [32000/53735 (60%)]\tLoss: 0.310725\n",
            "Train Epoch: 4 [35200/53735 (65%)]\tLoss: 0.175979\n",
            "Train Epoch: 4 [38400/53735 (71%)]\tLoss: 0.156180\n",
            "Train Epoch: 4 [41600/53735 (77%)]\tLoss: 0.268244\n",
            "Train Epoch: 4 [44800/53735 (83%)]\tLoss: 0.330890\n",
            "Train Epoch: 4 [48000/53735 (89%)]\tLoss: 0.156172\n",
            "Train Epoch: 4 [51200/53735 (95%)]\tLoss: 0.308752\n",
            "\n",
            "Test set: Avg. loss: 0.0024, Accuracy: 51262/53735 (95%)\n",
            "\n",
            "Train Epoch: 5 [0/53735 (0%)]\tLoss: 0.173787\n",
            "Train Epoch: 5 [3200/53735 (6%)]\tLoss: 0.152876\n",
            "Train Epoch: 5 [6400/53735 (12%)]\tLoss: 0.298477\n",
            "Train Epoch: 5 [9600/53735 (18%)]\tLoss: 0.111196\n",
            "Train Epoch: 5 [12800/53735 (24%)]\tLoss: 0.248444\n",
            "Train Epoch: 5 [16000/53735 (30%)]\tLoss: 0.346269\n",
            "Train Epoch: 5 [19200/53735 (36%)]\tLoss: 0.242853\n",
            "Train Epoch: 5 [22400/53735 (42%)]\tLoss: 0.241789\n",
            "Train Epoch: 5 [25600/53735 (48%)]\tLoss: 0.124747\n",
            "Train Epoch: 5 [28800/53735 (54%)]\tLoss: 0.118355\n",
            "Train Epoch: 5 [32000/53735 (60%)]\tLoss: 0.237645\n",
            "Train Epoch: 5 [35200/53735 (65%)]\tLoss: 0.510152\n",
            "Train Epoch: 5 [38400/53735 (71%)]\tLoss: 0.141090\n",
            "Train Epoch: 5 [41600/53735 (77%)]\tLoss: 0.275133\n",
            "Train Epoch: 5 [44800/53735 (83%)]\tLoss: 0.246390\n",
            "Train Epoch: 5 [48000/53735 (89%)]\tLoss: 0.326820\n",
            "Train Epoch: 5 [51200/53735 (95%)]\tLoss: 0.211762\n",
            "\n",
            "Test set: Avg. loss: 0.0022, Accuracy: 51505/53735 (96%)\n",
            "\n"
          ]
        }
      ]
    },
    {
      "cell_type": "code",
      "metadata": {
        "id": "ZIZvNb0VHBPF",
        "colab": {
          "base_uri": "https://localhost:8080/",
          "height": 109
        },
        "outputId": "ebb8261b-e3af-4e5d-e3eb-4f13b8ce6c37"
      },
      "source": [
        "target_label = 7\n",
        "position = 14 # 3 means the middle\n",
        "#backdoor_train_data = BackdoorDataset_nine(x_train_non_7[:5], np.argmax(y_train_non_7[:5], axis=1), target_label, fraction_to_alter=0.5, position=position)\n",
        "\n",
        "# view the sample images with backdoor\n",
        "figure = plt.figure()\n",
        "num_of_images = 5\n",
        "for index in range(1, num_of_images):\n",
        "  plt.subplot(1, 5, index)    \n",
        "  plt.imshow(backdoor_train_data[index][0].numpy().squeeze(), cmap='Greys')"
      ],
      "execution_count": null,
      "outputs": [
        {
          "output_type": "display_data",
          "data": {
            "image/png": "[encoded data removed]",
            "text/plain": [
              "<Figure size 432x288 with 4 Axes>"
            ]
          },
          "metadata": {
            "needs_background": "light"
          }
        }
      ]
    },
    {
      "cell_type": "code",
      "metadata": {
        "colab": {
          "base_uri": "https://localhost:8080/"
        },
        "id": "IgroIk4rGItl",
        "outputId": "c44a2e6b-c642-4ded-c0a1-9ee839a9ae02"
      },
      "source": [
        "# performance on original dataset \n",
        "# model performance on the test data set \n",
        "test(model, device, train_data_original_dataloader,criterion)\n",
        "# poisoned model on poisoned data \n",
        "# we expect the model to have low accuracy if the poisoning has worked \n",
        "test(model, device, backdoortest_data_dataloader, criterion)"
      ],
      "execution_count": null,
      "outputs": [
        {
          "output_type": "stream",
          "name": "stdout",
          "text": [
            "\n",
            "Test set: Avg. loss: 0.0022, Accuracy: 51505/53735 (96%)\n",
            "\n",
            "\n",
            "Test set: Avg. loss: 0.0001, Accuracy: 8960/8972 (100%)\n",
            "\n"
          ]
        }
      ]
    },
    {
      "cell_type": "code",
      "metadata": {
        "id": "8QMUafFoy8KR"
      },
      "source": [
        ""
      ],
      "execution_count": null,
      "outputs": []
    }
  ]
}